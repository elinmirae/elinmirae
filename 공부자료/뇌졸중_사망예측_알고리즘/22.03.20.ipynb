{
 "cells": [
  {
   "cell_type": "markdown",
   "metadata": {},
   "source": [
    "# 1. 라이브러리 구성"
   ]
  },
  {
   "cell_type": "code",
   "execution_count": 1,
   "metadata": {},
   "outputs": [],
   "source": [
    "# 패키지 불러오기\n",
    "import pandas as pd\n",
    "import seaborn as sns\n",
    "import matplotlib.pyplot as plt\n",
    "import numpy as np\n",
    "from datetime import datetime\n",
    "from datetime import datetime, timedelta\n",
    "from category_encoders.ordinal import OrdinalEncoder"
   ]
  },
  {
   "cell_type": "code",
   "execution_count": 2,
   "metadata": {},
   "outputs": [],
   "source": [
    "# 데이터 불러오기 \n",
    "# 한글 설정\n",
    "import matplotlib\n",
    "from matplotlib import font_manager, rc\n",
    "import platform\n",
    "\n",
    "if platform.system() == 'Windows':\n",
    "# windows 인 경우\n",
    "    font_name = font_manager.FontProperties(fname=\"c:\\Windows\\Fonts\\malgun.ttf\").get_name()\n",
    "    rc('font', family=font_name)"
   ]
  },
  {
   "cell_type": "markdown",
   "metadata": {},
   "source": [
    "# 2. 데이터 불러오기"
   ]
  },
  {
   "cell_type": "code",
   "execution_count": 102,
   "metadata": {},
   "outputs": [],
   "source": [
    "# 데이터 불러오기\n",
    "train = pd.read_excel('train.xlsx')\n",
    "test = pd.read_excel('test.xlsx')"
   ]
  },
  {
   "cell_type": "markdown",
   "metadata": {},
   "source": [
    "# 4. EDA"
   ]
  },
  {
   "cell_type": "markdown",
   "metadata": {},
   "source": [
    "## 1) 데이터 파악하기"
   ]
  },
  {
   "cell_type": "code",
   "execution_count": 4,
   "metadata": {},
   "outputs": [
    {
     "data": {
      "text/html": [
       "<div>\n",
       "<style scoped>\n",
       "    .dataframe tbody tr th:only-of-type {\n",
       "        vertical-align: middle;\n",
       "    }\n",
       "\n",
       "    .dataframe tbody tr th {\n",
       "        vertical-align: top;\n",
       "    }\n",
       "\n",
       "    .dataframe thead th {\n",
       "        text-align: right;\n",
       "    }\n",
       "</style>\n",
       "<table border=\"1\" class=\"dataframe\">\n",
       "  <thead>\n",
       "    <tr style=\"text-align: right;\">\n",
       "      <th></th>\n",
       "      <th>pt_id</th>\n",
       "      <th>modality_ivtpa</th>\n",
       "      <th>modality_iauk</th>\n",
       "      <th>modality_mechanical</th>\n",
       "      <th>modality_etc</th>\n",
       "      <th>pt_birth</th>\n",
       "      <th>sex</th>\n",
       "      <th>body_height</th>\n",
       "      <th>body_weight</th>\n",
       "      <th>waist</th>\n",
       "      <th>...</th>\n",
       "      <th>com_connective_dz</th>\n",
       "      <th>com_anemia</th>\n",
       "      <th>com_dm</th>\n",
       "      <th>com_dm_end_organ</th>\n",
       "      <th>com_hiv</th>\n",
       "      <th>com_solid_tumor</th>\n",
       "      <th>com_leukemia</th>\n",
       "      <th>com_lymphoma</th>\n",
       "      <th>com_metastatic_tumor</th>\n",
       "      <th>active_cancer</th>\n",
       "    </tr>\n",
       "  </thead>\n",
       "  <tbody>\n",
       "    <tr>\n",
       "      <th>0</th>\n",
       "      <td>1</td>\n",
       "      <td>0</td>\n",
       "      <td>0</td>\n",
       "      <td>1</td>\n",
       "      <td>0</td>\n",
       "      <td>1969-03-28</td>\n",
       "      <td>1</td>\n",
       "      <td>177.0</td>\n",
       "      <td>87.0</td>\n",
       "      <td>98.0</td>\n",
       "      <td>...</td>\n",
       "      <td>2.0</td>\n",
       "      <td>2.0</td>\n",
       "      <td>2</td>\n",
       "      <td>2</td>\n",
       "      <td>2</td>\n",
       "      <td>2</td>\n",
       "      <td>2</td>\n",
       "      <td>2</td>\n",
       "      <td>2</td>\n",
       "      <td>2.0</td>\n",
       "    </tr>\n",
       "    <tr>\n",
       "      <th>1</th>\n",
       "      <td>2</td>\n",
       "      <td>1</td>\n",
       "      <td>0</td>\n",
       "      <td>1</td>\n",
       "      <td>0</td>\n",
       "      <td>1944-10-31</td>\n",
       "      <td>2</td>\n",
       "      <td>152.0</td>\n",
       "      <td>61.0</td>\n",
       "      <td>NaN</td>\n",
       "      <td>...</td>\n",
       "      <td>2.0</td>\n",
       "      <td>2.0</td>\n",
       "      <td>2</td>\n",
       "      <td>2</td>\n",
       "      <td>2</td>\n",
       "      <td>1</td>\n",
       "      <td>2</td>\n",
       "      <td>2</td>\n",
       "      <td>2</td>\n",
       "      <td>2.0</td>\n",
       "    </tr>\n",
       "    <tr>\n",
       "      <th>2</th>\n",
       "      <td>3</td>\n",
       "      <td>1</td>\n",
       "      <td>0</td>\n",
       "      <td>0</td>\n",
       "      <td>0</td>\n",
       "      <td>1953-05-01</td>\n",
       "      <td>1</td>\n",
       "      <td>170.0</td>\n",
       "      <td>70.0</td>\n",
       "      <td>92.0</td>\n",
       "      <td>...</td>\n",
       "      <td>2.0</td>\n",
       "      <td>2.0</td>\n",
       "      <td>1</td>\n",
       "      <td>2</td>\n",
       "      <td>2</td>\n",
       "      <td>2</td>\n",
       "      <td>2</td>\n",
       "      <td>2</td>\n",
       "      <td>2</td>\n",
       "      <td>2.0</td>\n",
       "    </tr>\n",
       "    <tr>\n",
       "      <th>3</th>\n",
       "      <td>4</td>\n",
       "      <td>0</td>\n",
       "      <td>0</td>\n",
       "      <td>1</td>\n",
       "      <td>0</td>\n",
       "      <td>1957-12-20</td>\n",
       "      <td>2</td>\n",
       "      <td>153.0</td>\n",
       "      <td>62.0</td>\n",
       "      <td>NaN</td>\n",
       "      <td>...</td>\n",
       "      <td>2.0</td>\n",
       "      <td>2.0</td>\n",
       "      <td>1</td>\n",
       "      <td>2</td>\n",
       "      <td>2</td>\n",
       "      <td>2</td>\n",
       "      <td>2</td>\n",
       "      <td>2</td>\n",
       "      <td>2</td>\n",
       "      <td>2.0</td>\n",
       "    </tr>\n",
       "    <tr>\n",
       "      <th>4</th>\n",
       "      <td>5</td>\n",
       "      <td>1</td>\n",
       "      <td>0</td>\n",
       "      <td>0</td>\n",
       "      <td>0</td>\n",
       "      <td>1941-02-06</td>\n",
       "      <td>1</td>\n",
       "      <td>177.0</td>\n",
       "      <td>74.0</td>\n",
       "      <td>NaN</td>\n",
       "      <td>...</td>\n",
       "      <td>2.0</td>\n",
       "      <td>2.0</td>\n",
       "      <td>2</td>\n",
       "      <td>2</td>\n",
       "      <td>2</td>\n",
       "      <td>2</td>\n",
       "      <td>2</td>\n",
       "      <td>2</td>\n",
       "      <td>2</td>\n",
       "      <td>2.0</td>\n",
       "    </tr>\n",
       "  </tbody>\n",
       "</table>\n",
       "<p>5 rows × 104 columns</p>\n",
       "</div>"
      ],
      "text/plain": [
       "   pt_id  modality_ivtpa  modality_iauk  modality_mechanical  modality_etc  \\\n",
       "0      1               0              0                    1             0   \n",
       "1      2               1              0                    1             0   \n",
       "2      3               1              0                    0             0   \n",
       "3      4               0              0                    1             0   \n",
       "4      5               1              0                    0             0   \n",
       "\n",
       "     pt_birth  sex  body_height  body_weight  waist  ... com_connective_dz  \\\n",
       "0  1969-03-28    1        177.0         87.0   98.0  ...               2.0   \n",
       "1  1944-10-31    2        152.0         61.0    NaN  ...               2.0   \n",
       "2  1953-05-01    1        170.0         70.0   92.0  ...               2.0   \n",
       "3  1957-12-20    2        153.0         62.0    NaN  ...               2.0   \n",
       "4  1941-02-06    1        177.0         74.0    NaN  ...               2.0   \n",
       "\n",
       "  com_anemia com_dm  com_dm_end_organ  com_hiv  com_solid_tumor  com_leukemia  \\\n",
       "0        2.0      2                 2        2                2             2   \n",
       "1        2.0      2                 2        2                1             2   \n",
       "2        2.0      1                 2        2                2             2   \n",
       "3        2.0      1                 2        2                2             2   \n",
       "4        2.0      2                 2        2                2             2   \n",
       "\n",
       "   com_lymphoma  com_metastatic_tumor  active_cancer  \n",
       "0             2                     2            2.0  \n",
       "1             2                     2            2.0  \n",
       "2             2                     2            2.0  \n",
       "3             2                     2            2.0  \n",
       "4             2                     2            2.0  \n",
       "\n",
       "[5 rows x 104 columns]"
      ]
     },
     "execution_count": 4,
     "metadata": {},
     "output_type": "execute_result"
    }
   ],
   "source": [
    "# 데이터 프레임 확인\n",
    "train.head()"
   ]
  },
  {
   "cell_type": "code",
   "execution_count": 5,
   "metadata": {},
   "outputs": [
    {
     "data": {
      "text/html": [
       "<div>\n",
       "<style scoped>\n",
       "    .dataframe tbody tr th:only-of-type {\n",
       "        vertical-align: middle;\n",
       "    }\n",
       "\n",
       "    .dataframe tbody tr th {\n",
       "        vertical-align: top;\n",
       "    }\n",
       "\n",
       "    .dataframe thead th {\n",
       "        text-align: right;\n",
       "    }\n",
       "</style>\n",
       "<table border=\"1\" class=\"dataframe\">\n",
       "  <thead>\n",
       "    <tr style=\"text-align: right;\">\n",
       "      <th></th>\n",
       "      <th>pt_id</th>\n",
       "      <th>modality_ivtpa</th>\n",
       "      <th>modality_iauk</th>\n",
       "      <th>modality_mechanical</th>\n",
       "      <th>modality_etc</th>\n",
       "      <th>pt_birth</th>\n",
       "      <th>sex</th>\n",
       "      <th>body_height</th>\n",
       "      <th>body_weight</th>\n",
       "      <th>waist</th>\n",
       "      <th>...</th>\n",
       "      <th>com_connective_dz</th>\n",
       "      <th>com_anemia</th>\n",
       "      <th>com_dm</th>\n",
       "      <th>com_dm_end_organ</th>\n",
       "      <th>com_hiv</th>\n",
       "      <th>com_solid_tumor</th>\n",
       "      <th>com_leukemia</th>\n",
       "      <th>com_lymphoma</th>\n",
       "      <th>com_metastatic_tumor</th>\n",
       "      <th>active_cancer</th>\n",
       "    </tr>\n",
       "  </thead>\n",
       "  <tbody>\n",
       "    <tr>\n",
       "      <th>0</th>\n",
       "      <td>1</td>\n",
       "      <td>0</td>\n",
       "      <td>0</td>\n",
       "      <td>1</td>\n",
       "      <td>0</td>\n",
       "      <td>1969-03-28</td>\n",
       "      <td>1</td>\n",
       "      <td>177.0</td>\n",
       "      <td>87.0</td>\n",
       "      <td>98.0</td>\n",
       "      <td>...</td>\n",
       "      <td>2.0</td>\n",
       "      <td>2.0</td>\n",
       "      <td>2</td>\n",
       "      <td>2</td>\n",
       "      <td>2</td>\n",
       "      <td>2</td>\n",
       "      <td>2</td>\n",
       "      <td>2</td>\n",
       "      <td>2</td>\n",
       "      <td>2.0</td>\n",
       "    </tr>\n",
       "    <tr>\n",
       "      <th>1</th>\n",
       "      <td>2</td>\n",
       "      <td>1</td>\n",
       "      <td>0</td>\n",
       "      <td>1</td>\n",
       "      <td>0</td>\n",
       "      <td>1944-10-31</td>\n",
       "      <td>2</td>\n",
       "      <td>152.0</td>\n",
       "      <td>61.0</td>\n",
       "      <td>NaN</td>\n",
       "      <td>...</td>\n",
       "      <td>2.0</td>\n",
       "      <td>2.0</td>\n",
       "      <td>2</td>\n",
       "      <td>2</td>\n",
       "      <td>2</td>\n",
       "      <td>1</td>\n",
       "      <td>2</td>\n",
       "      <td>2</td>\n",
       "      <td>2</td>\n",
       "      <td>2.0</td>\n",
       "    </tr>\n",
       "    <tr>\n",
       "      <th>2</th>\n",
       "      <td>3</td>\n",
       "      <td>1</td>\n",
       "      <td>0</td>\n",
       "      <td>0</td>\n",
       "      <td>0</td>\n",
       "      <td>1953-05-01</td>\n",
       "      <td>1</td>\n",
       "      <td>170.0</td>\n",
       "      <td>70.0</td>\n",
       "      <td>92.0</td>\n",
       "      <td>...</td>\n",
       "      <td>2.0</td>\n",
       "      <td>2.0</td>\n",
       "      <td>1</td>\n",
       "      <td>2</td>\n",
       "      <td>2</td>\n",
       "      <td>2</td>\n",
       "      <td>2</td>\n",
       "      <td>2</td>\n",
       "      <td>2</td>\n",
       "      <td>2.0</td>\n",
       "    </tr>\n",
       "    <tr>\n",
       "      <th>3</th>\n",
       "      <td>4</td>\n",
       "      <td>0</td>\n",
       "      <td>0</td>\n",
       "      <td>1</td>\n",
       "      <td>0</td>\n",
       "      <td>1957-12-20</td>\n",
       "      <td>2</td>\n",
       "      <td>153.0</td>\n",
       "      <td>62.0</td>\n",
       "      <td>NaN</td>\n",
       "      <td>...</td>\n",
       "      <td>2.0</td>\n",
       "      <td>2.0</td>\n",
       "      <td>1</td>\n",
       "      <td>2</td>\n",
       "      <td>2</td>\n",
       "      <td>2</td>\n",
       "      <td>2</td>\n",
       "      <td>2</td>\n",
       "      <td>2</td>\n",
       "      <td>2.0</td>\n",
       "    </tr>\n",
       "    <tr>\n",
       "      <th>4</th>\n",
       "      <td>5</td>\n",
       "      <td>1</td>\n",
       "      <td>0</td>\n",
       "      <td>0</td>\n",
       "      <td>0</td>\n",
       "      <td>1941-02-06</td>\n",
       "      <td>1</td>\n",
       "      <td>177.0</td>\n",
       "      <td>74.0</td>\n",
       "      <td>NaN</td>\n",
       "      <td>...</td>\n",
       "      <td>2.0</td>\n",
       "      <td>2.0</td>\n",
       "      <td>2</td>\n",
       "      <td>2</td>\n",
       "      <td>2</td>\n",
       "      <td>2</td>\n",
       "      <td>2</td>\n",
       "      <td>2</td>\n",
       "      <td>2</td>\n",
       "      <td>2.0</td>\n",
       "    </tr>\n",
       "  </tbody>\n",
       "</table>\n",
       "<p>5 rows × 103 columns</p>\n",
       "</div>"
      ],
      "text/plain": [
       "   pt_id  modality_ivtpa  modality_iauk  modality_mechanical  modality_etc  \\\n",
       "0      1               0              0                    1             0   \n",
       "1      2               1              0                    1             0   \n",
       "2      3               1              0                    0             0   \n",
       "3      4               0              0                    1             0   \n",
       "4      5               1              0                    0             0   \n",
       "\n",
       "     pt_birth  sex  body_height  body_weight  waist  ... com_connective_dz  \\\n",
       "0  1969-03-28    1        177.0         87.0   98.0  ...               2.0   \n",
       "1  1944-10-31    2        152.0         61.0    NaN  ...               2.0   \n",
       "2  1953-05-01    1        170.0         70.0   92.0  ...               2.0   \n",
       "3  1957-12-20    2        153.0         62.0    NaN  ...               2.0   \n",
       "4  1941-02-06    1        177.0         74.0    NaN  ...               2.0   \n",
       "\n",
       "  com_anemia com_dm  com_dm_end_organ  com_hiv  com_solid_tumor  com_leukemia  \\\n",
       "0        2.0      2                 2        2                2             2   \n",
       "1        2.0      2                 2        2                1             2   \n",
       "2        2.0      1                 2        2                2             2   \n",
       "3        2.0      1                 2        2                2             2   \n",
       "4        2.0      2                 2        2                2             2   \n",
       "\n",
       "   com_lymphoma  com_metastatic_tumor  active_cancer  \n",
       "0             2                     2            2.0  \n",
       "1             2                     2            2.0  \n",
       "2             2                     2            2.0  \n",
       "3             2                     2            2.0  \n",
       "4             2                     2            2.0  \n",
       "\n",
       "[5 rows x 103 columns]"
      ]
     },
     "execution_count": 5,
     "metadata": {},
     "output_type": "execute_result"
    }
   ],
   "source": [
    "test.head()"
   ]
  },
  {
   "cell_type": "code",
   "execution_count": 6,
   "metadata": {},
   "outputs": [
    {
     "name": "stdout",
     "output_type": "stream",
     "text": [
      "(2318, 104)\n",
      "(2318, 103)\n"
     ]
    }
   ],
   "source": [
    "# 데이터 프레임 속성 파악(행,열 개수)\n",
    "print(train.shape)\n",
    "print(test.shape)"
   ]
  },
  {
   "cell_type": "code",
   "execution_count": 7,
   "metadata": {
    "scrolled": true
   },
   "outputs": [
    {
     "name": "stdout",
     "output_type": "stream",
     "text": [
      "<class 'pandas.core.frame.DataFrame'>\n",
      "RangeIndex: 2318 entries, 0 to 2317\n",
      "Columns: 104 entries, pt_id to active_cancer\n",
      "dtypes: float64(26), int64(71), object(7)\n",
      "memory usage: 1.8+ MB\n",
      "<class 'pandas.core.frame.DataFrame'>\n",
      "RangeIndex: 2318 entries, 0 to 2317\n",
      "Columns: 103 entries, pt_id to active_cancer\n",
      "dtypes: float64(26), int64(70), object(7)\n",
      "memory usage: 1.8+ MB\n"
     ]
    }
   ],
   "source": [
    "# 데이터 프레임 속성 파악(열별 정보, 결측값, 열값 타입)\n",
    "train.info()\n",
    "test.info()"
   ]
  },
  {
   "cell_type": "markdown",
   "metadata": {},
   "source": [
    "### index\n",
    "- pt_id : 환자 id\n",
    "- modality_ivtpa : 환자구분1 - 다중선택가능(intravenous tissue plasminogen activator  : 정맥내의 조직 플라스미노젠 활성인자)\n",
    "- modality_iauk : 환자구분2 - 다중선택가능(intra-arterial urokinase : 동맥내의 응혈)\n",
    "- modality_mechanical : 환자구분3 - 다중선택가능(mechanical : 기계로 작동되는)\n",
    "- modality_etc : 환자구분4 - 다중선택가능(etc : 기타 등등)\n",
    "- pt_birth :생년월일\n",
    "- sex : 성별 (1=남, 2=녀)\n",
    "- body_height : 키\n",
    "- body_weight :몸무게\n",
    "- waist :허리둘레\n",
    "- adm_date : 입원일\n",
    "- dc_date : 퇴원일\n",
    "- pt_dc_route :퇴원경로\n",
    "- initial_sbp_cal : 수축기 혈압(SBP)\n",
    "- initial_dbp_cal : 이완기 혈압(DBP)\n",
    "- htn_cal : 질환력1 - 고혈압\n",
    "- dm_cal : 질환력2 - 당뇨\n",
    "- hichol_cal : 질환력3 - 고콜레스테롤혈증\n",
    "- smoking_cur : 현재흡연여부\n",
    "- smoking_ex : 과거흡연여부\n",
    "- coronary : 심혈관 질환력1 - 관상 동맥 질환\n",
    "- vhd : 심혈관 질환력2 - 심장 판막 질환\n",
    "- A_fib_cal : 심혈관 질환력3\n",
    "- CHF_all : 심혈관 질환력4 - 울혈성 심마비 질환\n",
    "- A_flutter : 심혈관 질환력5 - 심방 질환\n",
    "- paod : 심혈관 질환력6 - 말초동맥 질환\n",
    "- other_cardiac : 심혈관 질환력7 - 기타 심장 질환\n",
    "- vhd_mechnical : 심혈관 질환력8 - 판막성 심장병 질환\n",
    "- vhd_ms : 심혈관질환력9 - 다발성 경화증 질환\n",
    "- prev_tia : 뇌졸중 질환력1 (재발여부) - 일과성허혈 발작증세\n",
    "- prev_infarction : 뇌졸중 질환력2 (재발여부) - 경색증\n",
    "- prev_hemorrhage : 뇌졸중 질환력3 (재발여부) - 출혈\n",
    "- prev_unspecified : 뇌졸중 질환력4 (재발여부) - 비특이성\n",
    "- smoking_none : 비흡연여부\n",
    "- pre_aspirin : 심혈관 약물력1\n",
    "- pre_plavix : 심혈관 약물력2\n",
    "- pre_ticlid : 심혈관 약물력3\n",
    "- pre_disgren : 심혈관 약물력4\n",
    "- pre_cilostazol : 심혈관 약물력5\n",
    "- pre_sarpogrelate : 심혈관 약물력6\n",
    "- pre_aggrenox : 심혈관 약물력7\n",
    "- pre_warfarin : 심혈관 약물력10\n",
    "- pre_dabigatran : 심혈관 약물력11\n",
    "- apixaban : 심혈관 약물력12\n",
    "- rivaroxaban : 심혈관 약물력13\n",
    "- pre_edoxavan : 심혈관 약물력14\n",
    "- pre_statin : 심혈관 약물력15\n",
    "- pre_ACE_inhibitor : 심혈관 약물력16\n",
    "- pre_ARB : 심혈관 약물력17\n",
    "- pre_CCB : 심혈관 약물력18\n",
    "- pre_beta_blocker : 심혈관 약물력19\n",
    "- pre_diuretics : 심혈관 약물력20\n",
    "- hgb_cal : 혈색소(hgb) 검사결과\n",
    "- hct_cal : 혈구용적(hct) 검사결과 \n",
    "- wbc_cal : 백혈구(wbc) 검사결과\n",
    "- platelet_cal : 혈소한(platelet) 검사결과\n",
    "- pt : 프로트롬빈시간(pt) 검사결과\n",
    "- ptt : 부분트롬보플라스틴시간(ptt) 검사결과\n",
    "- ysr_bun : 혈중요소질소(bun) 검사결과 \n",
    "- ysr_creatine : 크레아티닌(creatine) 검사결과\n",
    "- glucose_fasting_cal : 공복혈당(fasting glucose) 검사결과\n",
    "- tchol : 총콜레스테롤(tchol) 검사결과\n",
    "- tg : 중성지방(tg) 검사결과\n",
    "- hdl : 콜레스테롤(hdl) 검사결과\n",
    "- ldl : 저밀도지질단백(ldl) 검사결과\n",
    "- toast_tissue : TOAST tissue 구분 (급성 뇌졸중 치료에서의 재판 조직)\n",
    "- pre_mrs : MRS 점수 - 최초 (수정랭킹척도)\n",
    "- rankin3 : MRS 점수 - 3개월 후 \n",
    "- alive_date : 생존확인 일자\n",
    "- death_date : 사망확인 일자\n",
    "- death_infarc : 사망원인1 - 경색 혈전\n",
    "- death_hemorr : 사망원인2 - 치핵\n",
    "- death_mi : 사망원인3 - 심근 경색증\n",
    "- death_infect : 사망이유4 - 감염\n",
    "- death_other : 사망이유5 - 기타\n",
    "- death_ass_tl : 사망이유6\n",
    "- c_death_cancer : 사망이유7\n",
    "- c_death_6mo : 뇌졸중 환자 사망 여부 (6개월 이내)\n",
    "- tl_onset_clear : Onset 시점 명확/불명확 여부\n",
    "- tl_in_hospital : 원내 발병 여부\n",
    "- tl_life_bleeding : 치료중 합병증1 - 출혈\n",
    "- tl_herniation : 치료중 합병증2 - 탈장, 피막\n",
    "- tl_infection : 치료중 합병증3 - 감염\n",
    "- com_mi : 동반질환1 - 심근 경색증\n",
    "- com_chf : 동반질환2 - 울혈성심장기능상실\n",
    "- com_paod : 동반질환3 - 말초 동맥 폐쇄성 질환\n",
    "- com_cva_tia : 동반질환4 - 갈비척추각\n",
    "- com_af : 동반질환5\n",
    "- com_dementia : 동반질환6 - 치매\n",
    "- com_depression : 동반질환7 - 우울증\n",
    "- com_pulm_dz : 동반질환8 - 폐 질환\n",
    "- com_ulcer : 동반질환9 - 궤양 질환\n",
    "- com_liver_dz : 동반질환10 - 간 질환\n",
    "- com_renal_dz : 동반질환11 - 콩팥 질환\n",
    "- com_connective_dz : 동반질환12 - 결합조직 질환\n",
    "- com_anemia : 동반질환13 - 빈혈\n",
    "- com_dm : 동반질환14 - 당뇨병\n",
    "- com_dm_end_organ : 동반질환15 - 장기\n",
    "- com_hiv : 동반질환16 - 면역결핍바이러스\n",
    "- com_solid_tumor : 동반질환17 - 종양\n",
    "- com_leukemia : 동반질환18 - 피부백혈병\n",
    "- com_lymphoma : 동반질환19 - 림프종 질환\n",
    "- com_metastatic_tumor : 동반질환20 - 전이 종양\n",
    "- active_cancer : 동반질환21 - 활성암"
   ]
  },
  {
   "cell_type": "code",
   "execution_count": 8,
   "metadata": {},
   "outputs": [
    {
     "name": "stdout",
     "output_type": "stream",
     "text": [
      "pt_id : 0\n",
      "modality_ivtpa : 0\n",
      "modality_iauk : 0\n",
      "modality_mechanical : 0\n",
      "modality_etc : 0\n",
      "pt_birth : 0\n",
      "sex : 0\n",
      "body_height : 39\n",
      "body_weight : 32\n",
      "waist : 585\n",
      "adm_date : 0\n",
      "dc_date : 0\n",
      "pt_dc_route : 3\n",
      "initial_sbp_cal : 0\n",
      "initial_dbp_cal : 0\n",
      "htn_cal : 0\n",
      "dm_cal : 0\n",
      "hichol_cal : 0\n",
      "smoking_cur : 0\n",
      "smoking_ex : 0\n",
      "coronary : 0\n",
      "vhd : 0\n",
      "A_fib_cal : 0\n",
      "CHF_all : 0\n",
      "A_flutter : 0\n",
      "paod : 0\n",
      "other_cardiac : 0\n",
      "vhd_mechnical : 0\n",
      "vhd_ms : 0\n",
      "prev_tia : 0\n",
      "prev_infarction : 0\n",
      "prev_hemorrhage : 0\n",
      "prev_unspecified : 0\n",
      "smoking_none : 0\n",
      "pre_aspirin : 0\n",
      "pre_plavix : 0\n",
      "pre_ticlid : 0\n",
      "pre_disgren : 0\n",
      "pre_cilostazol : 0\n",
      "pre_sarpogrelate : 0\n",
      "pre_aggrenox : 0\n",
      "pre_warfarin : 0\n",
      "pre_dabigatran : 0\n",
      "apixaban : 0\n",
      "rivaroxaban : 0\n",
      "pre_edoxavan : 0\n",
      "pre_statin : 0\n",
      "pre_ACE_inhibitor : 0\n",
      "pre_ARB : 0\n",
      "pre_CCB : 0\n",
      "pre_beta_blocker : 0\n",
      "pre_diuretics : 0\n",
      "hgb_cal : 0\n",
      "hct_cal : 0\n",
      "wbc_cal : 0\n",
      "platelet_cal : 0\n",
      "pt : 3\n",
      "ptt : 3\n",
      "ysr_bun : 8\n",
      "ysr_creatine : 9\n",
      "glucose_fasting_cal : 179\n",
      "tchol : 22\n",
      "tg : 44\n",
      "hdl : 47\n",
      "ldl : 51\n",
      "toast_tissue : 42\n",
      "pre_mrs : 2\n",
      "rankin3 : 311\n",
      "alive_date : 308\n",
      "death_date : 2010\n",
      "death_infarc : 0\n",
      "death_hemorr : 0\n",
      "death_mi : 0\n",
      "death_infect : 0\n",
      "death_other : 0\n",
      "death_ass_tl : 2011\n",
      "c_death_cancer : 0\n",
      "c_death_6mo : 0\n",
      "tl_onset_clear : 0\n",
      "tl_in_hospital : 0\n",
      "tl_life_bleeding : 0\n",
      "tl_herniation : 0\n",
      "tl_infection : 0\n",
      "com_mi : 0\n",
      "com_chf : 0\n",
      "com_paod : 1\n",
      "com_cva_tia : 0\n",
      "com_af : 0\n",
      "com_dementia : 0\n",
      "com_depression : 0\n",
      "com_pulm_dz : 0\n",
      "com_ulcer : 1\n",
      "com_liver_dz : 1\n",
      "com_renal_dz : 1\n",
      "com_connective_dz : 1\n",
      "com_anemia : 2\n",
      "com_dm : 0\n",
      "com_dm_end_organ : 0\n",
      "com_hiv : 0\n",
      "com_solid_tumor : 0\n",
      "com_leukemia : 0\n",
      "com_lymphoma : 0\n",
      "com_metastatic_tumor : 0\n",
      "active_cancer : 3\n"
     ]
    }
   ],
   "source": [
    "#결측치 값이 포함된 칼럼과 개수 확인(train)\n",
    "for index, value in zip(train.isnull().sum().index, train.isnull().sum()):\n",
    "    print(f\"{index} : {value}\")"
   ]
  },
  {
   "cell_type": "code",
   "execution_count": 9,
   "metadata": {},
   "outputs": [
    {
     "name": "stdout",
     "output_type": "stream",
     "text": [
      "pt_id : 0\n",
      "modality_ivtpa : 0\n",
      "modality_iauk : 0\n",
      "modality_mechanical : 0\n",
      "modality_etc : 0\n",
      "pt_birth : 0\n",
      "sex : 0\n",
      "body_height : 39\n",
      "body_weight : 32\n",
      "waist : 585\n",
      "adm_date : 0\n",
      "dc_date : 0\n",
      "pt_dc_route : 3\n",
      "initial_sbp_cal : 0\n",
      "initial_dbp_cal : 0\n",
      "htn_cal : 0\n",
      "dm_cal : 0\n",
      "hichol_cal : 0\n",
      "smoking_cur : 0\n",
      "smoking_ex : 0\n",
      "coronary : 0\n",
      "vhd : 0\n",
      "A_fib_cal : 0\n",
      "CHF_all : 0\n",
      "A_flutter : 0\n",
      "paod : 0\n",
      "other_cardiac : 0\n",
      "vhd_mechnical : 0\n",
      "vhd_ms : 0\n",
      "prev_tia : 0\n",
      "prev_infarction : 0\n",
      "prev_hemorrhage : 0\n",
      "prev_unspecified : 0\n",
      "smoking_none : 0\n",
      "pre_aspirin : 0\n",
      "pre_plavix : 0\n",
      "pre_ticlid : 0\n",
      "pre_disgren : 0\n",
      "pre_cilostazol : 0\n",
      "pre_sarpogrelate : 0\n",
      "pre_aggrenox : 0\n",
      "pre_warfarin : 0\n",
      "pre_dabigatran : 0\n",
      "apixaban : 0\n",
      "rivaroxaban : 0\n",
      "pre_edoxavan : 0\n",
      "pre_statin : 0\n",
      "pre_ACE_inhibitor : 0\n",
      "pre_ARB : 0\n",
      "pre_CCB : 0\n",
      "pre_beta_blocker : 0\n",
      "pre_diuretics : 0\n",
      "hgb_cal : 0\n",
      "hct_cal : 0\n",
      "wbc_cal : 0\n",
      "platelet_cal : 0\n",
      "pt : 3\n",
      "ptt : 3\n",
      "ysr_bun : 8\n",
      "ysr_creatine : 9\n",
      "glucose_fasting_cal : 179\n",
      "tchol : 22\n",
      "tg : 44\n",
      "hdl : 47\n",
      "ldl : 51\n",
      "toast_tissue : 42\n",
      "pre_mrs : 2\n",
      "rankin3 : 311\n",
      "alive_date : 308\n",
      "death_date : 2010\n",
      "death_infarc : 0\n",
      "death_hemorr : 0\n",
      "death_mi : 0\n",
      "death_infect : 0\n",
      "death_other : 0\n",
      "death_ass_tl : 2011\n",
      "c_death_cancer : 0\n",
      "tl_onset_clear : 0\n",
      "tl_in_hospital : 0\n",
      "tl_life_bleeding : 0\n",
      "tl_herniation : 0\n",
      "tl_infection : 0\n",
      "com_mi : 0\n",
      "com_chf : 0\n",
      "com_paod : 0\n",
      "com_cva_tia : 1\n",
      "com_af : 0\n",
      "com_dementia : 0\n",
      "com_depression : 0\n",
      "com_pulm_dz : 0\n",
      "com_ulcer : 0\n",
      "com_liver_dz : 1\n",
      "com_renal_dz : 1\n",
      "com_connective_dz : 1\n",
      "com_anemia : 1\n",
      "com_dm : 2\n",
      "com_dm_end_organ : 0\n",
      "com_hiv : 0\n",
      "com_solid_tumor : 0\n",
      "com_leukemia : 0\n",
      "com_lymphoma : 0\n",
      "com_metastatic_tumor : 0\n",
      "active_cancer : 0\n"
     ]
    }
   ],
   "source": [
    "#결측치 값이 포함된 칼럼과 개수 확인(train)\n",
    "for index, value in zip(test.isnull().sum().index, train.isnull().sum()):\n",
    "    print(f\"{index} : {value}\")"
   ]
  },
  {
   "cell_type": "code",
   "execution_count": 9,
   "metadata": {},
   "outputs": [
    {
     "data": {
      "text/html": [
       "<div>\n",
       "<style scoped>\n",
       "    .dataframe tbody tr th:only-of-type {\n",
       "        vertical-align: middle;\n",
       "    }\n",
       "\n",
       "    .dataframe tbody tr th {\n",
       "        vertical-align: top;\n",
       "    }\n",
       "\n",
       "    .dataframe thead th {\n",
       "        text-align: right;\n",
       "    }\n",
       "</style>\n",
       "<table border=\"1\" class=\"dataframe\">\n",
       "  <thead>\n",
       "    <tr style=\"text-align: right;\">\n",
       "      <th></th>\n",
       "      <th>body_height</th>\n",
       "      <th>body_weight</th>\n",
       "      <th>waist</th>\n",
       "      <th>initial_sbp_cal</th>\n",
       "      <th>initial_dbp_cal</th>\n",
       "      <th>hgb_cal</th>\n",
       "      <th>hct_cal</th>\n",
       "      <th>wbc_cal</th>\n",
       "      <th>platelet_cal</th>\n",
       "      <th>pt</th>\n",
       "      <th>ptt</th>\n",
       "      <th>ysr_bun</th>\n",
       "      <th>ysr_creatine</th>\n",
       "      <th>glucose_fasting_cal</th>\n",
       "      <th>tchol</th>\n",
       "      <th>tg</th>\n",
       "      <th>hdl</th>\n",
       "      <th>ldl</th>\n",
       "    </tr>\n",
       "  </thead>\n",
       "  <tbody>\n",
       "    <tr>\n",
       "      <th>count</th>\n",
       "      <td>2279.000000</td>\n",
       "      <td>2286.000000</td>\n",
       "      <td>1733.000000</td>\n",
       "      <td>2318.000000</td>\n",
       "      <td>2318.000000</td>\n",
       "      <td>2318.000000</td>\n",
       "      <td>2318.000000</td>\n",
       "      <td>2318.000000</td>\n",
       "      <td>2318.000000</td>\n",
       "      <td>2315.00000</td>\n",
       "      <td>2315.000000</td>\n",
       "      <td>2310.000000</td>\n",
       "      <td>2309.000000</td>\n",
       "      <td>2139.000000</td>\n",
       "      <td>2296.000000</td>\n",
       "      <td>2274.000000</td>\n",
       "      <td>2271.000000</td>\n",
       "      <td>2267.000000</td>\n",
       "    </tr>\n",
       "    <tr>\n",
       "      <th>mean</th>\n",
       "      <td>163.049144</td>\n",
       "      <td>62.537275</td>\n",
       "      <td>85.001731</td>\n",
       "      <td>149.163072</td>\n",
       "      <td>83.816221</td>\n",
       "      <td>13.547390</td>\n",
       "      <td>40.045082</td>\n",
       "      <td>8.381405</td>\n",
       "      <td>222.512554</td>\n",
       "      <td>1.05835</td>\n",
       "      <td>30.116873</td>\n",
       "      <td>17.887203</td>\n",
       "      <td>0.994898</td>\n",
       "      <td>124.972978</td>\n",
       "      <td>166.048955</td>\n",
       "      <td>114.228320</td>\n",
       "      <td>45.287010</td>\n",
       "      <td>100.419762</td>\n",
       "    </tr>\n",
       "    <tr>\n",
       "      <th>std</th>\n",
       "      <td>8.888651</td>\n",
       "      <td>11.603529</td>\n",
       "      <td>9.679417</td>\n",
       "      <td>28.608503</td>\n",
       "      <td>16.604903</td>\n",
       "      <td>1.930709</td>\n",
       "      <td>5.284958</td>\n",
       "      <td>3.251573</td>\n",
       "      <td>69.219099</td>\n",
       "      <td>0.54688</td>\n",
       "      <td>12.533714</td>\n",
       "      <td>8.349901</td>\n",
       "      <td>0.644311</td>\n",
       "      <td>48.699425</td>\n",
       "      <td>40.637578</td>\n",
       "      <td>74.747785</td>\n",
       "      <td>12.483853</td>\n",
       "      <td>35.555931</td>\n",
       "    </tr>\n",
       "    <tr>\n",
       "      <th>min</th>\n",
       "      <td>131.000000</td>\n",
       "      <td>30.000000</td>\n",
       "      <td>54.000000</td>\n",
       "      <td>57.000000</td>\n",
       "      <td>30.000000</td>\n",
       "      <td>4.000000</td>\n",
       "      <td>11.500000</td>\n",
       "      <td>1.120000</td>\n",
       "      <td>38.000000</td>\n",
       "      <td>0.76000</td>\n",
       "      <td>1.040000</td>\n",
       "      <td>0.000000</td>\n",
       "      <td>0.000000</td>\n",
       "      <td>47.500000</td>\n",
       "      <td>66.000000</td>\n",
       "      <td>21.100000</td>\n",
       "      <td>5.000000</td>\n",
       "      <td>10.300000</td>\n",
       "    </tr>\n",
       "    <tr>\n",
       "      <th>25%</th>\n",
       "      <td>156.000000</td>\n",
       "      <td>55.000000</td>\n",
       "      <td>78.000000</td>\n",
       "      <td>130.000000</td>\n",
       "      <td>72.000000</td>\n",
       "      <td>12.400000</td>\n",
       "      <td>36.800000</td>\n",
       "      <td>6.330000</td>\n",
       "      <td>178.000000</td>\n",
       "      <td>0.94000</td>\n",
       "      <td>26.300000</td>\n",
       "      <td>13.000000</td>\n",
       "      <td>0.720000</td>\n",
       "      <td>96.000000</td>\n",
       "      <td>135.075000</td>\n",
       "      <td>69.000000</td>\n",
       "      <td>37.000000</td>\n",
       "      <td>73.000000</td>\n",
       "    </tr>\n",
       "    <tr>\n",
       "      <th>50%</th>\n",
       "      <td>163.000000</td>\n",
       "      <td>62.000000</td>\n",
       "      <td>85.000000</td>\n",
       "      <td>148.000000</td>\n",
       "      <td>81.000000</td>\n",
       "      <td>13.700000</td>\n",
       "      <td>40.200000</td>\n",
       "      <td>7.860000</td>\n",
       "      <td>215.500000</td>\n",
       "      <td>0.99000</td>\n",
       "      <td>29.200000</td>\n",
       "      <td>16.400000</td>\n",
       "      <td>0.900000</td>\n",
       "      <td>112.000000</td>\n",
       "      <td>163.500000</td>\n",
       "      <td>96.000000</td>\n",
       "      <td>44.000000</td>\n",
       "      <td>98.000000</td>\n",
       "    </tr>\n",
       "    <tr>\n",
       "      <th>75%</th>\n",
       "      <td>170.000000</td>\n",
       "      <td>70.000000</td>\n",
       "      <td>91.000000</td>\n",
       "      <td>166.000000</td>\n",
       "      <td>94.000000</td>\n",
       "      <td>14.900000</td>\n",
       "      <td>43.775000</td>\n",
       "      <td>9.750000</td>\n",
       "      <td>258.000000</td>\n",
       "      <td>1.06000</td>\n",
       "      <td>32.200000</td>\n",
       "      <td>20.700000</td>\n",
       "      <td>1.060000</td>\n",
       "      <td>139.000000</td>\n",
       "      <td>193.000000</td>\n",
       "      <td>136.000000</td>\n",
       "      <td>52.900000</td>\n",
       "      <td>123.000000</td>\n",
       "    </tr>\n",
       "    <tr>\n",
       "      <th>max</th>\n",
       "      <td>188.000000</td>\n",
       "      <td>120.000000</td>\n",
       "      <td>150.000000</td>\n",
       "      <td>270.000000</td>\n",
       "      <td>210.000000</td>\n",
       "      <td>21.400000</td>\n",
       "      <td>59.900000</td>\n",
       "      <td>47.400000</td>\n",
       "      <td>692.000000</td>\n",
       "      <td>12.30000</td>\n",
       "      <td>365.000000</td>\n",
       "      <td>97.000000</td>\n",
       "      <td>8.700000</td>\n",
       "      <td>999.000000</td>\n",
       "      <td>366.000000</td>\n",
       "      <td>856.000000</td>\n",
       "      <td>114.000000</td>\n",
       "      <td>234.000000</td>\n",
       "    </tr>\n",
       "  </tbody>\n",
       "</table>\n",
       "</div>"
      ],
      "text/plain": [
       "       body_height  body_weight        waist  initial_sbp_cal  \\\n",
       "count  2279.000000  2286.000000  1733.000000      2318.000000   \n",
       "mean    163.049144    62.537275    85.001731       149.163072   \n",
       "std       8.888651    11.603529     9.679417        28.608503   \n",
       "min     131.000000    30.000000    54.000000        57.000000   \n",
       "25%     156.000000    55.000000    78.000000       130.000000   \n",
       "50%     163.000000    62.000000    85.000000       148.000000   \n",
       "75%     170.000000    70.000000    91.000000       166.000000   \n",
       "max     188.000000   120.000000   150.000000       270.000000   \n",
       "\n",
       "       initial_dbp_cal      hgb_cal      hct_cal      wbc_cal  platelet_cal  \\\n",
       "count      2318.000000  2318.000000  2318.000000  2318.000000   2318.000000   \n",
       "mean         83.816221    13.547390    40.045082     8.381405    222.512554   \n",
       "std          16.604903     1.930709     5.284958     3.251573     69.219099   \n",
       "min          30.000000     4.000000    11.500000     1.120000     38.000000   \n",
       "25%          72.000000    12.400000    36.800000     6.330000    178.000000   \n",
       "50%          81.000000    13.700000    40.200000     7.860000    215.500000   \n",
       "75%          94.000000    14.900000    43.775000     9.750000    258.000000   \n",
       "max         210.000000    21.400000    59.900000    47.400000    692.000000   \n",
       "\n",
       "               pt          ptt      ysr_bun  ysr_creatine  \\\n",
       "count  2315.00000  2315.000000  2310.000000   2309.000000   \n",
       "mean      1.05835    30.116873    17.887203      0.994898   \n",
       "std       0.54688    12.533714     8.349901      0.644311   \n",
       "min       0.76000     1.040000     0.000000      0.000000   \n",
       "25%       0.94000    26.300000    13.000000      0.720000   \n",
       "50%       0.99000    29.200000    16.400000      0.900000   \n",
       "75%       1.06000    32.200000    20.700000      1.060000   \n",
       "max      12.30000   365.000000    97.000000      8.700000   \n",
       "\n",
       "       glucose_fasting_cal        tchol           tg          hdl          ldl  \n",
       "count          2139.000000  2296.000000  2274.000000  2271.000000  2267.000000  \n",
       "mean            124.972978   166.048955   114.228320    45.287010   100.419762  \n",
       "std              48.699425    40.637578    74.747785    12.483853    35.555931  \n",
       "min              47.500000    66.000000    21.100000     5.000000    10.300000  \n",
       "25%              96.000000   135.075000    69.000000    37.000000    73.000000  \n",
       "50%             112.000000   163.500000    96.000000    44.000000    98.000000  \n",
       "75%             139.000000   193.000000   136.000000    52.900000   123.000000  \n",
       "max             999.000000   366.000000   856.000000   114.000000   234.000000  "
      ]
     },
     "execution_count": 9,
     "metadata": {},
     "output_type": "execute_result"
    }
   ],
   "source": [
    "# 데이터 프레임 속성 파악(기술 통계량)\n",
    "train.describe()\n",
    "train[['body_height', 'body_weight', 'waist', 'initial_sbp_cal', 'initial_dbp_cal', 'hgb_cal', 'hct_cal', 'wbc_cal', 'platelet_cal', 'pt', 'ptt', 'ysr_bun', 'ysr_creatine', 'glucose_fasting_cal', 'tchol', 'tg', 'hdl', 'ldl']].describe()"
   ]
  },
  {
   "cell_type": "markdown",
   "metadata": {},
   "source": [
    "#### 키, 몸무게, 허리둘레, 혈압 - SBP, 혈압 - DBP, 실험실검사결과 - hgb, 실험실검사결과 - hct, 실험실검사결과 - wbc, 실험실검사결과 - platelet, 실험실검사결과 - pt, 실험실검사결과 - ptt, 실험실검사결과 - bun, 실험실검사결과 - creatine, 실험실검사결과 - fasting glucose, 실험실검사결과 - tchol, 실험실검사결과 - tg, 실험실검사결과 - hdl, 실험실검사결과 - ldl의 기술통계량"
   ]
  },
  {
   "cell_type": "code",
   "execution_count": 11,
   "metadata": {
    "scrolled": true
   },
   "outputs": [
    {
     "name": "stdout",
     "output_type": "stream",
     "text": [
      "count    2318.000000\n",
      "mean      149.163072\n",
      "std        28.608503\n",
      "min        57.000000\n",
      "25%       130.000000\n",
      "50%       148.000000\n",
      "75%       166.000000\n",
      "max       270.000000\n",
      "Name: initial_sbp_cal, dtype: float64\n"
     ]
    },
    {
     "data": {
      "text/plain": [
       "<matplotlib.axes._subplots.AxesSubplot at 0x2bf434998b0>"
      ]
     },
     "execution_count": 11,
     "metadata": {},
     "output_type": "execute_result"
    },
    {
     "data": {
      "image/png": "[encoded data removed]",
      "text/plain": [
       "<Figure size 432x288 with 1 Axes>"
      ]
     },
     "metadata": {
      "needs_background": "light"
     },
     "output_type": "display_data"
    }
   ],
   "source": [
    "# initial_sbp_cal(혈압 - SBP)의 기술통계량과 분포 확인\n",
    "train_body_height = train.dropna(subset=['initial_sbp_cal'])\n",
    "\n",
    "print(train_body_height['initial_sbp_cal'].astype('int').describe())\n",
    "\n",
    "train_body_height['initial_sbp_cal'].astype('int').plot.hist(bins = 7, title = \"initial_sbp_cal\")"
   ]
  },
  {
   "cell_type": "code",
   "execution_count": 12,
   "metadata": {},
   "outputs": [
    {
     "data": {
      "text/plain": [
       "Text(0.5, 0, 'SBP(수축기혈압)')"
      ]
     },
     "execution_count": 12,
     "metadata": {},
     "output_type": "execute_result"
    },
    {
     "data": {
      "image/png": "[encoded data removed]",
      "text/plain": [
       "<Figure size 432x288 with 1 Axes>"
      ]
     },
     "metadata": {
      "needs_background": "light"
     },
     "output_type": "display_data"
    }
   ],
   "source": [
    "# initial_sbp_cal(혈압 - SBP)의 극단치 확인\n",
    "train_body_sbp = train.dropna(subset=['initial_sbp_cal'])\n",
    "\n",
    "fig, ax = plt.subplots()\n",
    "\n",
    "ax.boxplot(train_body_sbp['initial_sbp_cal'])\n",
    "ax.set_xlabel('SBP(수축기혈압)')"
   ]
  },
  {
   "cell_type": "code",
   "execution_count": 13,
   "metadata": {},
   "outputs": [
    {
     "name": "stdout",
     "output_type": "stream",
     "text": [
      "count    2139.000000\n",
      "mean      124.952314\n",
      "std        48.715930\n",
      "min        47.000000\n",
      "25%        96.000000\n",
      "50%       112.000000\n",
      "75%       139.000000\n",
      "max       999.000000\n",
      "Name: glucose_fasting_cal, dtype: float64\n"
     ]
    },
    {
     "data": {
      "text/plain": [
       "<matplotlib.axes._subplots.AxesSubplot at 0x2bf43daa580>"
      ]
     },
     "execution_count": 13,
     "metadata": {},
     "output_type": "execute_result"
    },
    {
     "data": {
      "image/png": "[encoded data removed]",
      "text/plain": [
       "<Figure size 432x288 with 1 Axes>"
      ]
     },
     "metadata": {
      "needs_background": "light"
     },
     "output_type": "display_data"
    }
   ],
   "source": [
    "# 'glucose_fasting_cal'(공복혈당)의 기술통계량과 분포 확인\n",
    "train_body_glucose = train.dropna(subset=['glucose_fasting_cal'])\n",
    "\n",
    "print(train_body_glucose['glucose_fasting_cal'].astype('int').describe())\n",
    "\n",
    "train_body_glucose['glucose_fasting_cal'].astype('int').plot.hist(bins = 7, title = \"glucose_fasting_cal\")"
   ]
  },
  {
   "cell_type": "code",
   "execution_count": 14,
   "metadata": {},
   "outputs": [
    {
     "data": {
      "text/plain": [
       "Text(0.5, 0, 'glucose(공복혈당)')"
      ]
     },
     "execution_count": 14,
     "metadata": {},
     "output_type": "execute_result"
    },
    {
     "data": {
      "image/png": "[encoded data removed]",
      "text/plain": [
       "<Figure size 432x288 with 1 Axes>"
      ]
     },
     "metadata": {
      "needs_background": "light"
     },
     "output_type": "display_data"
    }
   ],
   "source": [
    "# 'glucose_fasting_cal'(공복혈당)의 극단치 확인\n",
    "train_body_glucose = train.dropna(subset=['glucose_fasting_cal'])\n",
    "\n",
    "fig, ax = plt.subplots()\n",
    "\n",
    "ax.boxplot(train_body_glucose['glucose_fasting_cal'])\n",
    "ax.set_xlabel('glucose(공복혈당)')"
   ]
  },
  {
   "cell_type": "code",
   "execution_count": 15,
   "metadata": {},
   "outputs": [
    {
     "name": "stdout",
     "output_type": "stream",
     "text": [
      "count    2318.000000\n",
      "mean        0.132873\n",
      "std         0.339511\n",
      "min         0.000000\n",
      "25%         0.000000\n",
      "50%         0.000000\n",
      "75%         0.000000\n",
      "max         1.000000\n",
      "Name: c_death_6mo, dtype: float64\n"
     ]
    },
    {
     "data": {
      "text/plain": [
       "<matplotlib.axes._subplots.AxesSubplot at 0x2bf42fcca60>"
      ]
     },
     "execution_count": 15,
     "metadata": {},
     "output_type": "execute_result"
    },
    {
     "data": {
      "image/png": "[encoded data removed]",
      "text/plain": [
       "<Figure size 432x288 with 1 Axes>"
      ]
     },
     "metadata": {
      "needs_background": "light"
     },
     "output_type": "display_data"
    }
   ],
   "source": [
    "# c_death_6mo(6개월 이내 사망)의 기술통계량과 분포 확인\n",
    "train_death = train.dropna(subset=['c_death_6mo'])\n",
    "\n",
    "print(train_death['c_death_6mo'].astype('int').describe())\n",
    "\n",
    "train_death['c_death_6mo'].astype('int').plot.hist(bins = 3,title = \"뇌졸중 환자 사망 빈도\")"
   ]
  },
  {
   "cell_type": "code",
   "execution_count": 16,
   "metadata": {},
   "outputs": [
    {
     "data": {
      "text/html": [
       "<div>\n",
       "<style scoped>\n",
       "    .dataframe tbody tr th:only-of-type {\n",
       "        vertical-align: middle;\n",
       "    }\n",
       "\n",
       "    .dataframe tbody tr th {\n",
       "        vertical-align: top;\n",
       "    }\n",
       "\n",
       "    .dataframe thead th {\n",
       "        text-align: right;\n",
       "    }\n",
       "</style>\n",
       "<table border=\"1\" class=\"dataframe\">\n",
       "  <thead>\n",
       "    <tr style=\"text-align: right;\">\n",
       "      <th></th>\n",
       "      <th>(6개월 이내)사망</th>\n",
       "    </tr>\n",
       "    <tr>\n",
       "      <th>sex</th>\n",
       "      <th></th>\n",
       "    </tr>\n",
       "  </thead>\n",
       "  <tbody>\n",
       "    <tr>\n",
       "      <th>남성</th>\n",
       "      <td>162</td>\n",
       "    </tr>\n",
       "    <tr>\n",
       "      <th>여성</th>\n",
       "      <td>146</td>\n",
       "    </tr>\n",
       "  </tbody>\n",
       "</table>\n",
       "</div>"
      ],
      "text/plain": [
       "     (6개월 이내)사망\n",
       "sex            \n",
       "남성          162\n",
       "여성          146"
      ]
     },
     "execution_count": 16,
     "metadata": {},
     "output_type": "execute_result"
    }
   ],
   "source": [
    "# 성별에 따른 결과변수 (6개월 이내 사망) 합 시각화\n",
    "train_sex = train.groupby(['sex'])['c_death_6mo'].sum().reset_index()\n",
    "train_sex.set_index('sex', inplace = True)\n",
    "train_sex = train_sex.rename(columns={\"c_death_6mo\":'(6개월 이내)사망'},index = {1:'남성', 2:'여성'})\n",
    "train_sex"
   ]
  },
  {
   "cell_type": "code",
   "execution_count": 17,
   "metadata": {},
   "outputs": [
    {
     "data": {
      "text/plain": [
       "<matplotlib.axes._subplots.AxesSubplot at 0x2bf42fff100>"
      ]
     },
     "execution_count": 17,
     "metadata": {},
     "output_type": "execute_result"
    },
    {
     "data": {
      "image/png": "[encoded data removed]",
      "text/plain": [
       "<Figure size 720x720 with 1 Axes>"
      ]
     },
     "metadata": {
      "needs_background": "light"
     },
     "output_type": "display_data"
    }
   ],
   "source": [
    "train_sex.plot.bar(rot=0, figsize=(10, 10))"
   ]
  },
  {
   "cell_type": "code",
   "execution_count": 18,
   "metadata": {},
   "outputs": [
    {
     "data": {
      "text/html": [
       "<div>\n",
       "<style scoped>\n",
       "    .dataframe tbody tr th:only-of-type {\n",
       "        vertical-align: middle;\n",
       "    }\n",
       "\n",
       "    .dataframe tbody tr th {\n",
       "        vertical-align: top;\n",
       "    }\n",
       "\n",
       "    .dataframe thead th {\n",
       "        text-align: right;\n",
       "    }\n",
       "</style>\n",
       "<table border=\"1\" class=\"dataframe\">\n",
       "  <thead>\n",
       "    <tr style=\"text-align: right;\">\n",
       "      <th></th>\n",
       "      <th>(6개월 이내)사망</th>\n",
       "    </tr>\n",
       "    <tr>\n",
       "      <th>pt_dc_route</th>\n",
       "      <th></th>\n",
       "    </tr>\n",
       "  </thead>\n",
       "  <tbody>\n",
       "    <tr>\n",
       "      <th>사망</th>\n",
       "      <td>158</td>\n",
       "    </tr>\n",
       "    <tr>\n",
       "      <th>자가 퇴원</th>\n",
       "      <td>27</td>\n",
       "    </tr>\n",
       "    <tr>\n",
       "      <th>재활의학과 전과</th>\n",
       "      <td>22</td>\n",
       "    </tr>\n",
       "    <tr>\n",
       "      <th>타병원/타과 전과</th>\n",
       "      <td>101</td>\n",
       "    </tr>\n",
       "  </tbody>\n",
       "</table>\n",
       "</div>"
      ],
      "text/plain": [
       "             (6개월 이내)사망\n",
       "pt_dc_route            \n",
       "사망                  158\n",
       "자가 퇴원                27\n",
       "재활의학과 전과             22\n",
       "타병원/타과 전과           101"
      ]
     },
     "execution_count": 18,
     "metadata": {},
     "output_type": "execute_result"
    }
   ],
   "source": [
    "# 퇴원경로에 따른 결과변수 (6개월 이내 사망) 합 시각화\n",
    "train_pt_dc_route = train.groupby(['pt_dc_route'])['c_death_6mo'].sum().reset_index()\n",
    "train_pt_dc_route.set_index('pt_dc_route', inplace = True)\n",
    "train_pt_dc_route = train_pt_dc_route.rename(columns={\"c_death_6mo\":'(6개월 이내)사망'})\n",
    "train_pt_dc_route"
   ]
  },
  {
   "cell_type": "code",
   "execution_count": 19,
   "metadata": {},
   "outputs": [
    {
     "data": {
      "text/plain": [
       "<matplotlib.axes._subplots.AxesSubplot at 0x2bf42f7f700>"
      ]
     },
     "execution_count": 19,
     "metadata": {},
     "output_type": "execute_result"
    },
    {
     "data": {
      "image/png": "[encoded data removed]",
      "text/plain": [
       "<Figure size 720x720 with 1 Axes>"
      ]
     },
     "metadata": {
      "needs_background": "light"
     },
     "output_type": "display_data"
    }
   ],
   "source": [
    "train_pt_dc_route.plot.bar(rot=0, figsize=(10, 10))"
   ]
  },
  {
   "cell_type": "code",
   "execution_count": 20,
   "metadata": {},
   "outputs": [
    {
     "data": {
      "text/html": [
       "<div>\n",
       "<style scoped>\n",
       "    .dataframe tbody tr th:only-of-type {\n",
       "        vertical-align: middle;\n",
       "    }\n",
       "\n",
       "    .dataframe tbody tr th {\n",
       "        vertical-align: top;\n",
       "    }\n",
       "\n",
       "    .dataframe thead th {\n",
       "        text-align: right;\n",
       "    }\n",
       "</style>\n",
       "<table border=\"1\" class=\"dataframe\">\n",
       "  <thead>\n",
       "    <tr style=\"text-align: right;\">\n",
       "      <th></th>\n",
       "      <th>(6개월 이내)사망</th>\n",
       "    </tr>\n",
       "    <tr>\n",
       "      <th>smoking_none</th>\n",
       "      <th></th>\n",
       "    </tr>\n",
       "  </thead>\n",
       "  <tbody>\n",
       "    <tr>\n",
       "      <th>비흡연</th>\n",
       "      <td>90</td>\n",
       "    </tr>\n",
       "    <tr>\n",
       "      <th>흡연</th>\n",
       "      <td>218</td>\n",
       "    </tr>\n",
       "  </tbody>\n",
       "</table>\n",
       "</div>"
      ],
      "text/plain": [
       "              (6개월 이내)사망\n",
       "smoking_none            \n",
       "비흡연                   90\n",
       "흡연                   218"
      ]
     },
     "execution_count": 20,
     "metadata": {},
     "output_type": "execute_result"
    }
   ],
   "source": [
    "# 비흡연여부에 따른 결과변수 (6개월 이내 사망) 합 시각화\n",
    "train_smoking_none = train.groupby(['smoking_none'])['c_death_6mo'].sum().reset_index()\n",
    "train_smoking_none.set_index('smoking_none', inplace = True)\n",
    "train_smoking_none = train_smoking_none.rename(columns={\"c_death_6mo\":'(6개월 이내)사망'},index={0:'비흡연', 1:'흡연'})\n",
    "train_smoking_none"
   ]
  },
  {
   "cell_type": "code",
   "execution_count": 21,
   "metadata": {
    "scrolled": true
   },
   "outputs": [
    {
     "data": {
      "text/plain": [
       "<matplotlib.axes._subplots.AxesSubplot at 0x2bf430535b0>"
      ]
     },
     "execution_count": 21,
     "metadata": {},
     "output_type": "execute_result"
    },
    {
     "data": {
      "image/png": "[encoded data removed]",
      "text/plain": [
       "<Figure size 720x720 with 1 Axes>"
      ]
     },
     "metadata": {
      "needs_background": "light"
     },
     "output_type": "display_data"
    }
   ],
   "source": [
    "train_smoking_none.plot.bar(rot=0, figsize=(10, 10))"
   ]
  },
  {
   "cell_type": "markdown",
   "metadata": {},
   "source": [
    "# 5. 데이터 전처리"
   ]
  },
  {
   "cell_type": "markdown",
   "metadata": {},
   "source": [
    "## 1) 결측치 처리"
   ]
  },
  {
   "cell_type": "markdown",
   "metadata": {},
   "source": [
    "- 몸무게,키(body_weight, body_height) : 결측 겹치는거 29명 확인(데이터 프레임 코드) -> 그대로 유지"
   ]
  },
  {
   "cell_type": "code",
   "execution_count": 10,
   "metadata": {},
   "outputs": [
    {
     "name": "stdout",
     "output_type": "stream",
     "text": [
      "    pt_id  body_height  body_weight\n",
      "0     855          NaN          NaN\n",
      "1     857          NaN          NaN\n",
      "2     871          NaN          NaN\n",
      "3     878          NaN          NaN\n",
      "4     994          NaN          NaN\n",
      "5    1051          NaN          NaN\n",
      "6    1077          NaN          NaN\n",
      "7    1079          NaN          NaN\n",
      "8    1181          NaN          NaN\n",
      "9    1225          NaN          NaN\n",
      "10   1229          NaN          NaN\n",
      "11   1302          NaN          NaN\n",
      "12   1322          NaN          NaN\n",
      "13   1323          NaN          NaN\n",
      "14   1328          NaN          NaN\n",
      "15   1330          NaN          NaN\n",
      "16   1331          NaN          NaN\n",
      "17   1333          NaN          NaN\n",
      "18   1334          NaN          NaN\n",
      "19   1335          NaN          NaN\n",
      "20   1336          NaN          NaN\n",
      "21   1369          NaN          NaN\n",
      "22   1375          NaN          NaN\n",
      "23   1377          NaN          NaN\n",
      "24   1399          NaN          NaN\n",
      "25   1419          NaN          NaN\n",
      "26   1593          NaN          NaN\n",
      "27   1612          NaN          NaN\n",
      "28   1635          NaN          NaN\n",
      "29   1636          NaN          NaN\n"
     ]
    }
   ],
   "source": [
    "DF1 = train.loc[train['body_height'].isna(), ['pt_id', 'body_height']]\n",
    "DF2 = train.loc[train['body_weight'].isna(), ['pt_id', 'body_weight']]\n",
    "print(pd.merge(DF1, DF2, on='pt_id'))"
   ]
  },
  {
   "cell_type": "code",
   "execution_count": 23,
   "metadata": {},
   "outputs": [
    {
     "data": {
      "text/html": [
       "<div>\n",
       "<style scoped>\n",
       "    .dataframe tbody tr th:only-of-type {\n",
       "        vertical-align: middle;\n",
       "    }\n",
       "\n",
       "    .dataframe tbody tr th {\n",
       "        vertical-align: top;\n",
       "    }\n",
       "\n",
       "    .dataframe thead th {\n",
       "        text-align: right;\n",
       "    }\n",
       "</style>\n",
       "<table border=\"1\" class=\"dataframe\">\n",
       "  <thead>\n",
       "    <tr style=\"text-align: right;\">\n",
       "      <th></th>\n",
       "      <th>body_weight</th>\n",
       "      <th>body_height</th>\n",
       "    </tr>\n",
       "  </thead>\n",
       "  <tbody>\n",
       "    <tr>\n",
       "      <th>854</th>\n",
       "      <td>NaN</td>\n",
       "      <td>NaN</td>\n",
       "    </tr>\n",
       "    <tr>\n",
       "      <th>855</th>\n",
       "      <td>65.0</td>\n",
       "      <td>NaN</td>\n",
       "    </tr>\n",
       "    <tr>\n",
       "      <th>856</th>\n",
       "      <td>NaN</td>\n",
       "      <td>NaN</td>\n",
       "    </tr>\n",
       "    <tr>\n",
       "      <th>870</th>\n",
       "      <td>NaN</td>\n",
       "      <td>NaN</td>\n",
       "    </tr>\n",
       "    <tr>\n",
       "      <th>877</th>\n",
       "      <td>NaN</td>\n",
       "      <td>NaN</td>\n",
       "    </tr>\n",
       "    <tr>\n",
       "      <th>993</th>\n",
       "      <td>NaN</td>\n",
       "      <td>NaN</td>\n",
       "    </tr>\n",
       "    <tr>\n",
       "      <th>1028</th>\n",
       "      <td>72.0</td>\n",
       "      <td>NaN</td>\n",
       "    </tr>\n",
       "    <tr>\n",
       "      <th>1047</th>\n",
       "      <td>54.0</td>\n",
       "      <td>NaN</td>\n",
       "    </tr>\n",
       "    <tr>\n",
       "      <th>1050</th>\n",
       "      <td>NaN</td>\n",
       "      <td>NaN</td>\n",
       "    </tr>\n",
       "    <tr>\n",
       "      <th>1069</th>\n",
       "      <td>42.8</td>\n",
       "      <td>NaN</td>\n",
       "    </tr>\n",
       "    <tr>\n",
       "      <th>1076</th>\n",
       "      <td>NaN</td>\n",
       "      <td>NaN</td>\n",
       "    </tr>\n",
       "    <tr>\n",
       "      <th>1078</th>\n",
       "      <td>NaN</td>\n",
       "      <td>NaN</td>\n",
       "    </tr>\n",
       "    <tr>\n",
       "      <th>1113</th>\n",
       "      <td>NaN</td>\n",
       "      <td>163.0</td>\n",
       "    </tr>\n",
       "    <tr>\n",
       "      <th>1180</th>\n",
       "      <td>NaN</td>\n",
       "      <td>NaN</td>\n",
       "    </tr>\n",
       "    <tr>\n",
       "      <th>1224</th>\n",
       "      <td>NaN</td>\n",
       "      <td>NaN</td>\n",
       "    </tr>\n",
       "    <tr>\n",
       "      <th>1228</th>\n",
       "      <td>NaN</td>\n",
       "      <td>NaN</td>\n",
       "    </tr>\n",
       "    <tr>\n",
       "      <th>1301</th>\n",
       "      <td>NaN</td>\n",
       "      <td>NaN</td>\n",
       "    </tr>\n",
       "    <tr>\n",
       "      <th>1321</th>\n",
       "      <td>NaN</td>\n",
       "      <td>NaN</td>\n",
       "    </tr>\n",
       "    <tr>\n",
       "      <th>1322</th>\n",
       "      <td>NaN</td>\n",
       "      <td>NaN</td>\n",
       "    </tr>\n",
       "    <tr>\n",
       "      <th>1324</th>\n",
       "      <td>NaN</td>\n",
       "      <td>178.0</td>\n",
       "    </tr>\n",
       "    <tr>\n",
       "      <th>1325</th>\n",
       "      <td>70.0</td>\n",
       "      <td>NaN</td>\n",
       "    </tr>\n",
       "    <tr>\n",
       "      <th>1327</th>\n",
       "      <td>NaN</td>\n",
       "      <td>NaN</td>\n",
       "    </tr>\n",
       "    <tr>\n",
       "      <th>1329</th>\n",
       "      <td>NaN</td>\n",
       "      <td>NaN</td>\n",
       "    </tr>\n",
       "    <tr>\n",
       "      <th>1330</th>\n",
       "      <td>NaN</td>\n",
       "      <td>NaN</td>\n",
       "    </tr>\n",
       "    <tr>\n",
       "      <th>1332</th>\n",
       "      <td>NaN</td>\n",
       "      <td>NaN</td>\n",
       "    </tr>\n",
       "    <tr>\n",
       "      <th>1333</th>\n",
       "      <td>NaN</td>\n",
       "      <td>NaN</td>\n",
       "    </tr>\n",
       "    <tr>\n",
       "      <th>1334</th>\n",
       "      <td>NaN</td>\n",
       "      <td>NaN</td>\n",
       "    </tr>\n",
       "    <tr>\n",
       "      <th>1335</th>\n",
       "      <td>NaN</td>\n",
       "      <td>NaN</td>\n",
       "    </tr>\n",
       "    <tr>\n",
       "      <th>1336</th>\n",
       "      <td>68.0</td>\n",
       "      <td>NaN</td>\n",
       "    </tr>\n",
       "    <tr>\n",
       "      <th>1366</th>\n",
       "      <td>48.0</td>\n",
       "      <td>NaN</td>\n",
       "    </tr>\n",
       "    <tr>\n",
       "      <th>1368</th>\n",
       "      <td>NaN</td>\n",
       "      <td>NaN</td>\n",
       "    </tr>\n",
       "    <tr>\n",
       "      <th>1374</th>\n",
       "      <td>NaN</td>\n",
       "      <td>NaN</td>\n",
       "    </tr>\n",
       "    <tr>\n",
       "      <th>1376</th>\n",
       "      <td>NaN</td>\n",
       "      <td>NaN</td>\n",
       "    </tr>\n",
       "    <tr>\n",
       "      <th>1378</th>\n",
       "      <td>60.0</td>\n",
       "      <td>NaN</td>\n",
       "    </tr>\n",
       "    <tr>\n",
       "      <th>1398</th>\n",
       "      <td>NaN</td>\n",
       "      <td>NaN</td>\n",
       "    </tr>\n",
       "    <tr>\n",
       "      <th>1418</th>\n",
       "      <td>NaN</td>\n",
       "      <td>NaN</td>\n",
       "    </tr>\n",
       "    <tr>\n",
       "      <th>1592</th>\n",
       "      <td>NaN</td>\n",
       "      <td>NaN</td>\n",
       "    </tr>\n",
       "    <tr>\n",
       "      <th>1611</th>\n",
       "      <td>NaN</td>\n",
       "      <td>NaN</td>\n",
       "    </tr>\n",
       "    <tr>\n",
       "      <th>1634</th>\n",
       "      <td>NaN</td>\n",
       "      <td>NaN</td>\n",
       "    </tr>\n",
       "    <tr>\n",
       "      <th>1635</th>\n",
       "      <td>NaN</td>\n",
       "      <td>NaN</td>\n",
       "    </tr>\n",
       "    <tr>\n",
       "      <th>1858</th>\n",
       "      <td>65.0</td>\n",
       "      <td>NaN</td>\n",
       "    </tr>\n",
       "  </tbody>\n",
       "</table>\n",
       "</div>"
      ],
      "text/plain": [
       "      body_weight  body_height\n",
       "854           NaN          NaN\n",
       "855          65.0          NaN\n",
       "856           NaN          NaN\n",
       "870           NaN          NaN\n",
       "877           NaN          NaN\n",
       "993           NaN          NaN\n",
       "1028         72.0          NaN\n",
       "1047         54.0          NaN\n",
       "1050          NaN          NaN\n",
       "1069         42.8          NaN\n",
       "1076          NaN          NaN\n",
       "1078          NaN          NaN\n",
       "1113          NaN        163.0\n",
       "1180          NaN          NaN\n",
       "1224          NaN          NaN\n",
       "1228          NaN          NaN\n",
       "1301          NaN          NaN\n",
       "1321          NaN          NaN\n",
       "1322          NaN          NaN\n",
       "1324          NaN        178.0\n",
       "1325         70.0          NaN\n",
       "1327          NaN          NaN\n",
       "1329          NaN          NaN\n",
       "1330          NaN          NaN\n",
       "1332          NaN          NaN\n",
       "1333          NaN          NaN\n",
       "1334          NaN          NaN\n",
       "1335          NaN          NaN\n",
       "1336         68.0          NaN\n",
       "1366         48.0          NaN\n",
       "1368          NaN          NaN\n",
       "1374          NaN          NaN\n",
       "1376          NaN          NaN\n",
       "1378         60.0          NaN\n",
       "1398          NaN          NaN\n",
       "1418          NaN          NaN\n",
       "1592          NaN          NaN\n",
       "1611          NaN          NaN\n",
       "1634          NaN          NaN\n",
       "1635          NaN          NaN\n",
       "1858         65.0          NaN"
      ]
     },
     "execution_count": 23,
     "metadata": {},
     "output_type": "execute_result"
    }
   ],
   "source": [
    "condition = ((train['body_weight'].isna()==True) | (train['body_height'].isna()==True))\n",
    "train.loc[condition, ['body_weight','body_height']]"
   ]
  },
  {
   "cell_type": "markdown",
   "metadata": {},
   "source": [
    "- 퇴원경로(pt_dc_route) : 3명 6개월 이내 사망 결과 변수 확인시 0으로 6개월 이상 입원을 한다고 가정해 입원중 추가 (데이터 프레임 코드)"
   ]
  },
  {
   "cell_type": "code",
   "execution_count": 64,
   "metadata": {},
   "outputs": [
    {
     "data": {
      "text/html": [
       "<div>\n",
       "<style scoped>\n",
       "    .dataframe tbody tr th:only-of-type {\n",
       "        vertical-align: middle;\n",
       "    }\n",
       "\n",
       "    .dataframe tbody tr th {\n",
       "        vertical-align: top;\n",
       "    }\n",
       "\n",
       "    .dataframe thead th {\n",
       "        text-align: right;\n",
       "    }\n",
       "</style>\n",
       "<table border=\"1\" class=\"dataframe\">\n",
       "  <thead>\n",
       "    <tr style=\"text-align: right;\">\n",
       "      <th></th>\n",
       "      <th>c_death_6mo</th>\n",
       "    </tr>\n",
       "  </thead>\n",
       "  <tbody>\n",
       "    <tr>\n",
       "      <th>4</th>\n",
       "      <td>0</td>\n",
       "    </tr>\n",
       "    <tr>\n",
       "      <th>10</th>\n",
       "      <td>0</td>\n",
       "    </tr>\n",
       "    <tr>\n",
       "      <th>11</th>\n",
       "      <td>0</td>\n",
       "    </tr>\n",
       "  </tbody>\n",
       "</table>\n",
       "</div>"
      ],
      "text/plain": [
       "    c_death_6mo\n",
       "4             0\n",
       "10            0\n",
       "11            0"
      ]
     },
     "execution_count": 64,
     "metadata": {},
     "output_type": "execute_result"
    }
   ],
   "source": [
    "train.loc[test['pt_dc_route'].isna(),['c_death_6mo']]"
   ]
  },
  {
   "cell_type": "code",
   "execution_count": 65,
   "metadata": {},
   "outputs": [
    {
     "data": {
      "text/plain": [
       "array(['자가 퇴원', '재활의학과 전과', '입원중', '사망', '타병원/타과 전과'], dtype=object)"
      ]
     },
     "execution_count": 65,
     "metadata": {},
     "output_type": "execute_result"
    }
   ],
   "source": [
    "train['pt_dc_route']=train['pt_dc_route'].fillna('입원중')\n",
    "test['pt_dc_route']=test['pt_dc_route'].fillna('입원중')\n",
    "train['pt_dc_route'].unique()"
   ]
  },
  {
   "cell_type": "markdown",
   "metadata": {},
   "source": [
    "- 실험실검사결과 : 검사X -> 행 삭제"
   ]
  },
  {
   "cell_type": "code",
   "execution_count": 66,
   "metadata": {},
   "outputs": [],
   "source": [
    "train = train.dropna(subset=['pt','ptt','ysr_bun','ysr_creatine','glucose_fasting_cal','tchol','tg','hdl','ldl'])\n",
    "test = test.dropna(subset=['pt','ptt','ysr_bun','ysr_creatine','glucose_fasting_cal','tchol','tg','hdl','ldl'])"
   ]
  },
  {
   "cell_type": "code",
   "execution_count": 67,
   "metadata": {},
   "outputs": [
    {
     "data": {
      "text/plain": [
       "pt                     0\n",
       "ptt                    0\n",
       "ysr_bun                0\n",
       "ysr_creatine           0\n",
       "glucose_fasting_cal    0\n",
       "tchol                  0\n",
       "tg                     0\n",
       "hdl                    0\n",
       "ldl                    0\n",
       "dtype: int64"
      ]
     },
     "execution_count": 67,
     "metadata": {},
     "output_type": "execute_result"
    }
   ],
   "source": [
    "train[['pt','ptt','ysr_bun','ysr_creatine','glucose_fasting_cal','tchol','tg','hdl','ldl']].isnull().sum()"
   ]
  },
  {
   "cell_type": "markdown",
   "metadata": {},
   "source": [
    "- MRS 점수 - 3개월 후(rankin3) : 일찍 퇴원한 경우 7 입력"
   ]
  },
  {
   "cell_type": "code",
   "execution_count": 68,
   "metadata": {
    "scrolled": false
   },
   "outputs": [
    {
     "data": {
      "text/html": [
       "<div>\n",
       "<style scoped>\n",
       "    .dataframe tbody tr th:only-of-type {\n",
       "        vertical-align: middle;\n",
       "    }\n",
       "\n",
       "    .dataframe tbody tr th {\n",
       "        vertical-align: top;\n",
       "    }\n",
       "\n",
       "    .dataframe thead th {\n",
       "        text-align: right;\n",
       "    }\n",
       "</style>\n",
       "<table border=\"1\" class=\"dataframe\">\n",
       "  <thead>\n",
       "    <tr style=\"text-align: right;\">\n",
       "      <th></th>\n",
       "      <th>adm_date</th>\n",
       "      <th>dc_date</th>\n",
       "      <th>c_death_6mo</th>\n",
       "    </tr>\n",
       "  </thead>\n",
       "  <tbody>\n",
       "    <tr>\n",
       "      <th>6</th>\n",
       "      <td>2019-06-06</td>\n",
       "      <td>2019-06-19</td>\n",
       "      <td>0</td>\n",
       "    </tr>\n",
       "    <tr>\n",
       "      <th>188</th>\n",
       "      <td>2009-10-11</td>\n",
       "      <td>2009-10-19</td>\n",
       "      <td>0</td>\n",
       "    </tr>\n",
       "    <tr>\n",
       "      <th>354</th>\n",
       "      <td>2011-11-12</td>\n",
       "      <td>2011-11-15</td>\n",
       "      <td>0</td>\n",
       "    </tr>\n",
       "    <tr>\n",
       "      <th>385</th>\n",
       "      <td>2012-04-13</td>\n",
       "      <td>2012-04-20</td>\n",
       "      <td>0</td>\n",
       "    </tr>\n",
       "    <tr>\n",
       "      <th>441</th>\n",
       "      <td>2013-01-01</td>\n",
       "      <td>2013-01-03</td>\n",
       "      <td>0</td>\n",
       "    </tr>\n",
       "    <tr>\n",
       "      <th>...</th>\n",
       "      <td>...</td>\n",
       "      <td>...</td>\n",
       "      <td>...</td>\n",
       "    </tr>\n",
       "    <tr>\n",
       "      <th>2282</th>\n",
       "      <td>2019-06-30</td>\n",
       "      <td>2019-07-10</td>\n",
       "      <td>0</td>\n",
       "    </tr>\n",
       "    <tr>\n",
       "      <th>2312</th>\n",
       "      <td>2019-07-13</td>\n",
       "      <td>2019-07-24</td>\n",
       "      <td>0</td>\n",
       "    </tr>\n",
       "    <tr>\n",
       "      <th>2313</th>\n",
       "      <td>2019-07-31</td>\n",
       "      <td>2019-08-20</td>\n",
       "      <td>0</td>\n",
       "    </tr>\n",
       "    <tr>\n",
       "      <th>2314</th>\n",
       "      <td>2019-08-05</td>\n",
       "      <td>2019-08-15</td>\n",
       "      <td>0</td>\n",
       "    </tr>\n",
       "    <tr>\n",
       "      <th>2316</th>\n",
       "      <td>2019-08-27</td>\n",
       "      <td>2019-09-06</td>\n",
       "      <td>0</td>\n",
       "    </tr>\n",
       "  </tbody>\n",
       "</table>\n",
       "<p>283 rows × 3 columns</p>\n",
       "</div>"
      ],
      "text/plain": [
       "        adm_date     dc_date  c_death_6mo\n",
       "6     2019-06-06  2019-06-19            0\n",
       "188   2009-10-11  2009-10-19            0\n",
       "354   2011-11-12  2011-11-15            0\n",
       "385   2012-04-13  2012-04-20            0\n",
       "441   2013-01-01  2013-01-03            0\n",
       "...          ...         ...          ...\n",
       "2282  2019-06-30  2019-07-10            0\n",
       "2312  2019-07-13  2019-07-24            0\n",
       "2313  2019-07-31  2019-08-20            0\n",
       "2314  2019-08-05  2019-08-15            0\n",
       "2316  2019-08-27  2019-09-06            0\n",
       "\n",
       "[283 rows x 3 columns]"
      ]
     },
     "execution_count": 68,
     "metadata": {},
     "output_type": "execute_result"
    }
   ],
   "source": [
    "train.loc[test['rankin3'].isna(),['adm_date','dc_date','c_death_6mo']]"
   ]
  },
  {
   "cell_type": "code",
   "execution_count": 69,
   "metadata": {},
   "outputs": [],
   "source": [
    "train['rankin3']=train['rankin3'].fillna(7)"
   ]
  },
  {
   "cell_type": "code",
   "execution_count": 70,
   "metadata": {},
   "outputs": [],
   "source": [
    "test['rankin3']=test['rankin3'].fillna(7)"
   ]
  },
  {
   "cell_type": "code",
   "execution_count": 71,
   "metadata": {},
   "outputs": [
    {
     "data": {
      "text/plain": [
       "array([2., 0., 7., 6., 5., 4., 1., 3.])"
      ]
     },
     "execution_count": 71,
     "metadata": {},
     "output_type": "execute_result"
    }
   ],
   "source": [
    "train['rankin3'].unique()"
   ]
  },
  {
   "cell_type": "code",
   "execution_count": 72,
   "metadata": {},
   "outputs": [
    {
     "data": {
      "text/html": [
       "<div>\n",
       "<style scoped>\n",
       "    .dataframe tbody tr th:only-of-type {\n",
       "        vertical-align: middle;\n",
       "    }\n",
       "\n",
       "    .dataframe tbody tr th {\n",
       "        vertical-align: top;\n",
       "    }\n",
       "\n",
       "    .dataframe thead th {\n",
       "        text-align: right;\n",
       "    }\n",
       "</style>\n",
       "<table border=\"1\" class=\"dataframe\">\n",
       "  <thead>\n",
       "    <tr style=\"text-align: right;\">\n",
       "      <th></th>\n",
       "      <th>rankin3</th>\n",
       "      <th>c_death_6mo</th>\n",
       "    </tr>\n",
       "  </thead>\n",
       "  <tbody>\n",
       "    <tr>\n",
       "      <th>2</th>\n",
       "      <td>2.0</td>\n",
       "      <td>0</td>\n",
       "    </tr>\n",
       "    <tr>\n",
       "      <th>3</th>\n",
       "      <td>2.0</td>\n",
       "      <td>0</td>\n",
       "    </tr>\n",
       "    <tr>\n",
       "      <th>5</th>\n",
       "      <td>0.0</td>\n",
       "      <td>0</td>\n",
       "    </tr>\n",
       "    <tr>\n",
       "      <th>6</th>\n",
       "      <td>7.0</td>\n",
       "      <td>0</td>\n",
       "    </tr>\n",
       "    <tr>\n",
       "      <th>7</th>\n",
       "      <td>6.0</td>\n",
       "      <td>1</td>\n",
       "    </tr>\n",
       "    <tr>\n",
       "      <th>...</th>\n",
       "      <td>...</td>\n",
       "      <td>...</td>\n",
       "    </tr>\n",
       "    <tr>\n",
       "      <th>2313</th>\n",
       "      <td>7.0</td>\n",
       "      <td>0</td>\n",
       "    </tr>\n",
       "    <tr>\n",
       "      <th>2314</th>\n",
       "      <td>7.0</td>\n",
       "      <td>0</td>\n",
       "    </tr>\n",
       "    <tr>\n",
       "      <th>2315</th>\n",
       "      <td>4.0</td>\n",
       "      <td>0</td>\n",
       "    </tr>\n",
       "    <tr>\n",
       "      <th>2316</th>\n",
       "      <td>7.0</td>\n",
       "      <td>0</td>\n",
       "    </tr>\n",
       "    <tr>\n",
       "      <th>2317</th>\n",
       "      <td>5.0</td>\n",
       "      <td>0</td>\n",
       "    </tr>\n",
       "  </tbody>\n",
       "</table>\n",
       "<p>2092 rows × 2 columns</p>\n",
       "</div>"
      ],
      "text/plain": [
       "      rankin3  c_death_6mo\n",
       "2         2.0            0\n",
       "3         2.0            0\n",
       "5         0.0            0\n",
       "6         7.0            0\n",
       "7         6.0            1\n",
       "...       ...          ...\n",
       "2313      7.0            0\n",
       "2314      7.0            0\n",
       "2315      4.0            0\n",
       "2316      7.0            0\n",
       "2317      5.0            0\n",
       "\n",
       "[2092 rows x 2 columns]"
      ]
     },
     "execution_count": 72,
     "metadata": {},
     "output_type": "execute_result"
    }
   ],
   "source": [
    "train[['rankin3','c_death_6mo']]"
   ]
  },
  {
   "cell_type": "markdown",
   "metadata": {},
   "source": [
    "- 사망확인 일자/사망이유 : 1명 사망했는데 원인x -> 행삭제처리"
   ]
  },
  {
   "cell_type": "code",
   "execution_count": 73,
   "metadata": {},
   "outputs": [
    {
     "data": {
      "text/html": [
       "<div>\n",
       "<style scoped>\n",
       "    .dataframe tbody tr th:only-of-type {\n",
       "        vertical-align: middle;\n",
       "    }\n",
       "\n",
       "    .dataframe tbody tr th {\n",
       "        vertical-align: top;\n",
       "    }\n",
       "\n",
       "    .dataframe thead th {\n",
       "        text-align: right;\n",
       "    }\n",
       "</style>\n",
       "<table border=\"1\" class=\"dataframe\">\n",
       "  <thead>\n",
       "    <tr style=\"text-align: right;\">\n",
       "      <th></th>\n",
       "      <th>pt_id</th>\n",
       "      <th>death_date</th>\n",
       "      <th>death_ass_tl</th>\n",
       "      <th>c_death_6mo</th>\n",
       "    </tr>\n",
       "  </thead>\n",
       "  <tbody>\n",
       "    <tr>\n",
       "      <th>1010</th>\n",
       "      <td>1011</td>\n",
       "      <td>2018-10-15</td>\n",
       "      <td>NaN</td>\n",
       "      <td>1</td>\n",
       "    </tr>\n",
       "  </tbody>\n",
       "</table>\n",
       "</div>"
      ],
      "text/plain": [
       "      pt_id  death_date  death_ass_tl  c_death_6mo\n",
       "1010   1011  2018-10-15           NaN            1"
      ]
     },
     "execution_count": 73,
     "metadata": {},
     "output_type": "execute_result"
    }
   ],
   "source": [
    "condition = ((train['death_date'].isna()==False) & (train['death_ass_tl'].isna()==True))\n",
    "train.loc[condition, ['pt_id','death_date','death_ass_tl','c_death_6mo']]"
   ]
  },
  {
   "cell_type": "code",
   "execution_count": 74,
   "metadata": {},
   "outputs": [],
   "source": [
    "train = train.drop(index=1010)\n",
    "test = test.drop(index=1010)"
   ]
  },
  {
   "cell_type": "markdown",
   "metadata": {},
   "source": [
    "- 동반질환 : 행 삭제"
   ]
  },
  {
   "cell_type": "code",
   "execution_count": 75,
   "metadata": {},
   "outputs": [],
   "source": [
    "train = train.dropna(subset=['com_paod','com_ulcer','com_liver_dz','com_renal_dz','com_connective_dz','com_anemia','active_cancer'])\n",
    "test = test.dropna(subset=['com_paod','com_ulcer','com_liver_dz','com_renal_dz','com_connective_dz','com_anemia','active_cancer'])"
   ]
  },
  {
   "cell_type": "code",
   "execution_count": 76,
   "metadata": {},
   "outputs": [
    {
     "data": {
      "text/plain": [
       "com_paod             0\n",
       "com_ulcer            0\n",
       "com_liver_dz         0\n",
       "com_renal_dz         0\n",
       "com_connective_dz    0\n",
       "com_anemia           0\n",
       "active_cancer        0\n",
       "dtype: int64"
      ]
     },
     "execution_count": 76,
     "metadata": {},
     "output_type": "execute_result"
    }
   ],
   "source": [
    "train[['com_paod','com_ulcer','com_liver_dz','com_renal_dz','com_connective_dz','com_anemia','active_cancer']].isnull().sum()"
   ]
  },
  {
   "cell_type": "markdown",
   "metadata": {},
   "source": [
    "- TOAST tissue 구분 (급성 뇌졸중 치료에서의 재판 조직) - 행 삭제"
   ]
  },
  {
   "cell_type": "code",
   "execution_count": 77,
   "metadata": {},
   "outputs": [
    {
     "data": {
      "text/plain": [
       "array(['UT', 'CE', 'LAA', 'UN', 'SOD', 'LAC', nan, 'UI'], dtype=object)"
      ]
     },
     "execution_count": 77,
     "metadata": {},
     "output_type": "execute_result"
    }
   ],
   "source": [
    "train['toast_tissue'].unique()"
   ]
  },
  {
   "cell_type": "code",
   "execution_count": 78,
   "metadata": {},
   "outputs": [],
   "source": [
    "train = train.dropna(subset=['toast_tissue'])\n",
    "test = test.dropna(subset=['toast_tissue'])"
   ]
  },
  {
   "cell_type": "code",
   "execution_count": 79,
   "metadata": {},
   "outputs": [
    {
     "data": {
      "text/plain": [
       "toast_tissue    0\n",
       "dtype: int64"
      ]
     },
     "execution_count": 79,
     "metadata": {},
     "output_type": "execute_result"
    }
   ],
   "source": [
    "train[['toast_tissue']].isnull().sum()"
   ]
  },
  {
   "cell_type": "markdown",
   "metadata": {},
   "source": [
    "- 사망이유 6 (death_ass_tl) - 결측치가 2011개로 컬럼 삭제 처리"
   ]
  },
  {
   "cell_type": "code",
   "execution_count": 80,
   "metadata": {},
   "outputs": [],
   "source": [
    "train = train.drop(columns=['death_ass_tl'])\n",
    "test = test.drop(columns=['death_ass_tl'])"
   ]
  },
  {
   "cell_type": "markdown",
   "metadata": {},
   "source": [
    "# 6. Feature Engineering"
   ]
  },
  {
   "cell_type": "code",
   "execution_count": 81,
   "metadata": {},
   "outputs": [],
   "source": [
    "# 환자 id(pt_id) 제거(의미없는 변수)\n",
    "train = train.drop(columns = ['pt_id'])\n",
    "test = test.drop(columns = ['pt_id'])"
   ]
  },
  {
   "cell_type": "code",
   "execution_count": 82,
   "metadata": {},
   "outputs": [],
   "source": [
    "# 허리둘레(waist) 제거(의미없는 변수)\n",
    "train = train.drop(columns = ['waist'])\n",
    "test = test.drop(columns = ['waist'])"
   ]
  },
  {
   "cell_type": "markdown",
   "metadata": {},
   "source": [
    "### 1) 파생변수 생성"
   ]
  },
  {
   "cell_type": "code",
   "execution_count": 83,
   "metadata": {},
   "outputs": [],
   "source": [
    "# BMI 파생변수\n",
    "train['BMI'] = train['body_height'] / (train['body_weight']**2)\n",
    "test['BMI'] = test['body_height'] / (test['body_weight']**2)"
   ]
  },
  {
   "cell_type": "code",
   "execution_count": 84,
   "metadata": {},
   "outputs": [],
   "source": [
    "#hos_per입원기간 파생병수\n",
    "train['adm_date_datetime'] = pd.to_datetime(train['adm_date'])\n",
    "test['adm_date_datetime'] = pd.to_datetime(test['adm_date'])\n",
    "train['dc_date_datetime'] = pd.to_datetime(train['dc_date'])\n",
    "test['dc_date_datetime'] = pd.to_datetime(test['dc_date'])"
   ]
  },
  {
   "cell_type": "code",
   "execution_count": 85,
   "metadata": {},
   "outputs": [],
   "source": [
    "train['hos_per'] = train['dc_date_datetime'] - train['adm_date_datetime']\n",
    "test['hos_per'] = test['dc_date_datetime'] - test['adm_date_datetime']"
   ]
  },
  {
   "cell_type": "code",
   "execution_count": 86,
   "metadata": {},
   "outputs": [
    {
     "data": {
      "text/plain": [
       "2      22 days\n",
       "3      14 days\n",
       "5       8 days\n",
       "6      13 days\n",
       "7      18 days\n",
       "         ...  \n",
       "2313   20 days\n",
       "2314   10 days\n",
       "2315   17 days\n",
       "2316   10 days\n",
       "2317   97 days\n",
       "Name: hos_per, Length: 2047, dtype: timedelta64[ns]"
      ]
     },
     "execution_count": 86,
     "metadata": {},
     "output_type": "execute_result"
    }
   ],
   "source": [
    "test['hos_per']"
   ]
  },
  {
   "cell_type": "markdown",
   "metadata": {},
   "source": [
    "- time 형식은 모델링에서 안먹힘\n",
    "- 기간 계산 코드는 보류"
   ]
  },
  {
   "cell_type": "code",
   "execution_count": 87,
   "metadata": {},
   "outputs": [
    {
     "data": {
      "text/plain": [
       "array([ 1900800000000000,  1209600000000000,   691200000000000,\n",
       "        1123200000000000,  1555200000000000,  1036800000000000,\n",
       "          86400000000000,   950400000000000,  1814400000000000,\n",
       "         604800000000000,  3110400000000000,   518400000000000,\n",
       "         864000000000000,   172800000000000,  1382400000000000,\n",
       "         432000000000000,  1468800000000000,   345600000000000,\n",
       "        1987200000000000,   259200000000000,  1296000000000000,\n",
       "                       0,   777600000000000,  2073600000000000,\n",
       "        2419200000000000,  3628800000000000,  1641600000000000,\n",
       "        2592000000000000,  2332800000000000,  3456000000000000,\n",
       "        1728000000000000,  2160000000000000,  3196800000000000,\n",
       "        4320000000000000,  2937600000000000,  3715200000000000,\n",
       "        2678400000000000,  5011200000000000,  4147200000000000,\n",
       "        2246400000000000,  2505600000000000, 32918400000000000,\n",
       "        3369600000000000,  4665600000000000,  3283200000000000,\n",
       "        4233600000000000,  5097600000000000,  3542400000000000,\n",
       "        4406400000000000,  8294400000000000,  2764800000000000,\n",
       "        4924800000000000,  4492800000000000, 10281600000000000,\n",
       "        6480000000000000,  6393600000000000,  8035200000000000,\n",
       "        5443200000000000, 18403200000000000,  3974400000000000,\n",
       "        6134400000000000,  3801600000000000,  2851200000000000,\n",
       "        5702400000000000,  4838400000000000,  4752000000000000,\n",
       "       22896000000000000,  7084800000000000,  6652800000000000,\n",
       "        6998400000000000,  5961600000000000,  7430400000000000,\n",
       "        4060800000000000, 10972800000000000, 13046400000000000,\n",
       "        7516800000000000,  3024000000000000,  7603200000000000,\n",
       "        3888000000000000,  5184000000000000,  4579200000000000,\n",
       "       31881600000000000,  6307200000000000,  5356800000000000,\n",
       "       33782400000000000,  6566400000000000,  8467200000000000,\n",
       "        8380800000000000], dtype='timedelta64[ns]')"
      ]
     },
     "execution_count": 87,
     "metadata": {},
     "output_type": "execute_result"
    }
   ],
   "source": [
    "test['hos_per'].unique()"
   ]
  },
  {
   "cell_type": "code",
   "execution_count": 88,
   "metadata": {},
   "outputs": [],
   "source": [
    "#age현재나이 파생편수\n",
    "test['pt_birth_y'] = test['pt_birth'].str[2:4]\n",
    "train['pt_birth_y'] = train['pt_birth'].str[2:4]"
   ]
  },
  {
   "cell_type": "code",
   "execution_count": 89,
   "metadata": {},
   "outputs": [],
   "source": [
    "test = test.astype({'pt_birth_y':'int'})\n",
    "train = train.astype({'pt_birth_y':'int'})"
   ]
  },
  {
   "cell_type": "code",
   "execution_count": 90,
   "metadata": {},
   "outputs": [],
   "source": [
    "test['age'] = 100 - test['pt_birth_y'] + 22\n",
    "train['age'] = 100 - train['pt_birth_y'] + 22"
   ]
  },
  {
   "cell_type": "markdown",
   "metadata": {},
   "source": [
    "### 2) 파생변수 관련 컬럼 삭제"
   ]
  },
  {
   "cell_type": "code",
   "execution_count": 91,
   "metadata": {},
   "outputs": [],
   "source": [
    "train.drop('body_height', axis=1, inplace=True)\n",
    "test.drop('body_height', axis=1, inplace=True)\n",
    "\n",
    "train.drop('body_weight', axis=1, inplace=True)\n",
    "test.drop('body_weight', axis=1, inplace=True)\n",
    "\n",
    "train.drop('adm_date', axis=1, inplace=True)\n",
    "test.drop('adm_date', axis=1, inplace=True)\n",
    "\n",
    "train.drop('dc_date', axis=1, inplace=True)\n",
    "test.drop('dc_date', axis=1, inplace=True)\n",
    "\n",
    "train.drop('adm_date_datetime', axis=1, inplace=True)\n",
    "test.drop('adm_date_datetime', axis=1, inplace=True)\n",
    "\n",
    "\n",
    "train.drop('dc_date_datetime', axis=1, inplace=True)\n",
    "test.drop('dc_date_datetime', axis=1, inplace=True)\n",
    "\n",
    "train.drop('pt_birth', axis=1, inplace=True)\n",
    "test.drop('pt_birth', axis=1, inplace=True)\n",
    "\n",
    "train.drop('pt_birth_y', axis=1, inplace=True)\n",
    "test.drop('pt_birth_y', axis=1, inplace=True)"
   ]
  },
  {
   "cell_type": "markdown",
   "metadata": {},
   "source": [
    "### 3) 날짜 변수 추가 삭제 (생존확인날짜, 사망확인날짜)"
   ]
  },
  {
   "cell_type": "code",
   "execution_count": 92,
   "metadata": {},
   "outputs": [],
   "source": [
    "train.drop('alive_date', axis=1, inplace=True)\n",
    "test.drop('alive_date', axis=1, inplace=True)\n",
    "\n",
    "train.drop('death_date', axis=1, inplace=True)\n",
    "test.drop('death_date', axis=1, inplace=True)"
   ]
  },
  {
   "cell_type": "markdown",
   "metadata": {},
   "source": [
    "# Scaling, Encoding"
   ]
  },
  {
   "cell_type": "markdown",
   "metadata": {},
   "source": [
    "### 범주형 데이터 처리"
   ]
  },
  {
   "cell_type": "code",
   "execution_count": 93,
   "metadata": {},
   "outputs": [],
   "source": [
    "categorical_feats = train.dtypes[train.dtypes == \"object\"].index.tolist()"
   ]
  },
  {
   "cell_type": "code",
   "execution_count": 94,
   "metadata": {},
   "outputs": [
    {
     "data": {
      "text/plain": [
       "['pt_dc_route', 'toast_tissue']"
      ]
     },
     "execution_count": 94,
     "metadata": {},
     "output_type": "execute_result"
    }
   ],
   "source": [
    "categorical_feats"
   ]
  },
  {
   "cell_type": "code",
   "execution_count": 96,
   "metadata": {},
   "outputs": [],
   "source": [
    "numerical_feats = train.dtypes[train.dtypes != \"object\"].index.tolist()"
   ]
  },
  {
   "cell_type": "code",
   "execution_count": 97,
   "metadata": {},
   "outputs": [
    {
     "data": {
      "text/plain": [
       "['modality_ivtpa',\n",
       " 'modality_iauk',\n",
       " 'modality_mechanical',\n",
       " 'modality_etc',\n",
       " 'sex',\n",
       " 'initial_sbp_cal',\n",
       " 'initial_dbp_cal',\n",
       " 'htn_cal',\n",
       " 'dm_cal',\n",
       " 'hichol_cal',\n",
       " 'smoking_cur',\n",
       " 'smoking_ex',\n",
       " 'coronary',\n",
       " 'vhd',\n",
       " 'A_fib_cal',\n",
       " 'CHF_all',\n",
       " 'A_flutter',\n",
       " 'paod',\n",
       " 'other_cardiac',\n",
       " 'vhd_mechnical',\n",
       " 'vhd_ms',\n",
       " 'prev_tia',\n",
       " 'prev_infarction',\n",
       " 'prev_hemorrhage',\n",
       " 'prev_unspecified',\n",
       " 'smoking_none',\n",
       " 'pre_aspirin',\n",
       " 'pre_plavix',\n",
       " 'pre_ticlid',\n",
       " 'pre_disgren',\n",
       " 'pre_cilostazol',\n",
       " 'pre_sarpogrelate',\n",
       " 'pre_aggrenox',\n",
       " 'pre_warfarin',\n",
       " 'pre_dabigatran',\n",
       " 'apixaban',\n",
       " 'rivaroxaban',\n",
       " 'pre_edoxavan',\n",
       " 'pre_statin',\n",
       " 'pre_ACE_inhibitor',\n",
       " 'pre_ARB',\n",
       " 'pre_CCB',\n",
       " 'pre_beta_blocker',\n",
       " 'pre_diuretics',\n",
       " 'hgb_cal',\n",
       " 'hct_cal',\n",
       " 'wbc_cal',\n",
       " 'platelet_cal',\n",
       " 'pt',\n",
       " 'ptt',\n",
       " 'ysr_bun',\n",
       " 'ysr_creatine',\n",
       " 'glucose_fasting_cal',\n",
       " 'tchol',\n",
       " 'tg',\n",
       " 'hdl',\n",
       " 'ldl',\n",
       " 'pre_mrs',\n",
       " 'rankin3',\n",
       " 'death_infarc',\n",
       " 'death_hemorr',\n",
       " 'death_mi',\n",
       " 'death_infect',\n",
       " 'death_other',\n",
       " 'c_death_cancer',\n",
       " 'c_death_6mo',\n",
       " 'tl_onset_clear',\n",
       " 'tl_in_hospital',\n",
       " 'tl_life_bleeding',\n",
       " 'tl_herniation',\n",
       " 'tl_infection',\n",
       " 'com_mi',\n",
       " 'com_chf',\n",
       " 'com_paod',\n",
       " 'com_cva_tia',\n",
       " 'com_af',\n",
       " 'com_dementia',\n",
       " 'com_depression',\n",
       " 'com_pulm_dz',\n",
       " 'com_ulcer',\n",
       " 'com_liver_dz',\n",
       " 'com_renal_dz',\n",
       " 'com_connective_dz',\n",
       " 'com_anemia',\n",
       " 'com_dm',\n",
       " 'com_dm_end_organ',\n",
       " 'com_hiv',\n",
       " 'com_solid_tumor',\n",
       " 'com_leukemia',\n",
       " 'com_lymphoma',\n",
       " 'com_metastatic_tumor',\n",
       " 'active_cancer',\n",
       " 'BMI',\n",
       " 'hos_per',\n",
       " 'age']"
      ]
     },
     "execution_count": 97,
     "metadata": {},
     "output_type": "execute_result"
    }
   ],
   "source": [
    "numerical_feats"
   ]
  },
  {
   "cell_type": "code",
   "execution_count": 98,
   "metadata": {},
   "outputs": [],
   "source": [
    "train = pd.get_dummies(train,columns=['pt_dc_route'])\n",
    "test = pd.get_dummies(test,columns=['pt_dc_route'])"
   ]
  },
  {
   "cell_type": "code",
   "execution_count": 99,
   "metadata": {},
   "outputs": [
    {
     "data": {
      "text/html": [
       "<div>\n",
       "<style scoped>\n",
       "    .dataframe tbody tr th:only-of-type {\n",
       "        vertical-align: middle;\n",
       "    }\n",
       "\n",
       "    .dataframe tbody tr th {\n",
       "        vertical-align: top;\n",
       "    }\n",
       "\n",
       "    .dataframe thead th {\n",
       "        text-align: right;\n",
       "    }\n",
       "</style>\n",
       "<table border=\"1\" class=\"dataframe\">\n",
       "  <thead>\n",
       "    <tr style=\"text-align: right;\">\n",
       "      <th></th>\n",
       "      <th>modality_ivtpa</th>\n",
       "      <th>modality_iauk</th>\n",
       "      <th>modality_mechanical</th>\n",
       "      <th>modality_etc</th>\n",
       "      <th>sex</th>\n",
       "      <th>initial_sbp_cal</th>\n",
       "      <th>initial_dbp_cal</th>\n",
       "      <th>htn_cal</th>\n",
       "      <th>dm_cal</th>\n",
       "      <th>hichol_cal</th>\n",
       "      <th>...</th>\n",
       "      <th>com_metastatic_tumor</th>\n",
       "      <th>active_cancer</th>\n",
       "      <th>BMI</th>\n",
       "      <th>hos_per</th>\n",
       "      <th>age</th>\n",
       "      <th>pt_dc_route_사망</th>\n",
       "      <th>pt_dc_route_입원중</th>\n",
       "      <th>pt_dc_route_자가 퇴원</th>\n",
       "      <th>pt_dc_route_재활의학과 전과</th>\n",
       "      <th>pt_dc_route_타병원/타과 전과</th>\n",
       "    </tr>\n",
       "  </thead>\n",
       "  <tbody>\n",
       "    <tr>\n",
       "      <th>2</th>\n",
       "      <td>1</td>\n",
       "      <td>0</td>\n",
       "      <td>0</td>\n",
       "      <td>0</td>\n",
       "      <td>1</td>\n",
       "      <td>220</td>\n",
       "      <td>110</td>\n",
       "      <td>0</td>\n",
       "      <td>1</td>\n",
       "      <td>0</td>\n",
       "      <td>...</td>\n",
       "      <td>2</td>\n",
       "      <td>2.0</td>\n",
       "      <td>0.034694</td>\n",
       "      <td>22 days</td>\n",
       "      <td>69</td>\n",
       "      <td>0</td>\n",
       "      <td>0</td>\n",
       "      <td>0</td>\n",
       "      <td>1</td>\n",
       "      <td>0</td>\n",
       "    </tr>\n",
       "    <tr>\n",
       "      <th>3</th>\n",
       "      <td>0</td>\n",
       "      <td>0</td>\n",
       "      <td>1</td>\n",
       "      <td>0</td>\n",
       "      <td>2</td>\n",
       "      <td>90</td>\n",
       "      <td>50</td>\n",
       "      <td>1</td>\n",
       "      <td>1</td>\n",
       "      <td>1</td>\n",
       "      <td>...</td>\n",
       "      <td>2</td>\n",
       "      <td>2.0</td>\n",
       "      <td>0.039802</td>\n",
       "      <td>14 days</td>\n",
       "      <td>65</td>\n",
       "      <td>0</td>\n",
       "      <td>0</td>\n",
       "      <td>1</td>\n",
       "      <td>0</td>\n",
       "      <td>0</td>\n",
       "    </tr>\n",
       "    <tr>\n",
       "      <th>5</th>\n",
       "      <td>1</td>\n",
       "      <td>0</td>\n",
       "      <td>1</td>\n",
       "      <td>0</td>\n",
       "      <td>1</td>\n",
       "      <td>110</td>\n",
       "      <td>67</td>\n",
       "      <td>0</td>\n",
       "      <td>0</td>\n",
       "      <td>0</td>\n",
       "      <td>...</td>\n",
       "      <td>2</td>\n",
       "      <td>2.0</td>\n",
       "      <td>0.049246</td>\n",
       "      <td>8 days</td>\n",
       "      <td>79</td>\n",
       "      <td>0</td>\n",
       "      <td>0</td>\n",
       "      <td>1</td>\n",
       "      <td>0</td>\n",
       "      <td>0</td>\n",
       "    </tr>\n",
       "    <tr>\n",
       "      <th>6</th>\n",
       "      <td>1</td>\n",
       "      <td>0</td>\n",
       "      <td>1</td>\n",
       "      <td>0</td>\n",
       "      <td>2</td>\n",
       "      <td>144</td>\n",
       "      <td>64</td>\n",
       "      <td>1</td>\n",
       "      <td>0</td>\n",
       "      <td>1</td>\n",
       "      <td>...</td>\n",
       "      <td>2</td>\n",
       "      <td>2.0</td>\n",
       "      <td>0.049587</td>\n",
       "      <td>13 days</td>\n",
       "      <td>93</td>\n",
       "      <td>0</td>\n",
       "      <td>0</td>\n",
       "      <td>0</td>\n",
       "      <td>1</td>\n",
       "      <td>0</td>\n",
       "    </tr>\n",
       "    <tr>\n",
       "      <th>7</th>\n",
       "      <td>0</td>\n",
       "      <td>0</td>\n",
       "      <td>1</td>\n",
       "      <td>0</td>\n",
       "      <td>1</td>\n",
       "      <td>187</td>\n",
       "      <td>101</td>\n",
       "      <td>1</td>\n",
       "      <td>1</td>\n",
       "      <td>1</td>\n",
       "      <td>...</td>\n",
       "      <td>2</td>\n",
       "      <td>2.0</td>\n",
       "      <td>0.024688</td>\n",
       "      <td>18 days</td>\n",
       "      <td>73</td>\n",
       "      <td>1</td>\n",
       "      <td>0</td>\n",
       "      <td>0</td>\n",
       "      <td>0</td>\n",
       "      <td>0</td>\n",
       "    </tr>\n",
       "  </tbody>\n",
       "</table>\n",
       "<p>5 rows × 101 columns</p>\n",
       "</div>"
      ],
      "text/plain": [
       "   modality_ivtpa  modality_iauk  modality_mechanical  modality_etc  sex  \\\n",
       "2               1              0                    0             0    1   \n",
       "3               0              0                    1             0    2   \n",
       "5               1              0                    1             0    1   \n",
       "6               1              0                    1             0    2   \n",
       "7               0              0                    1             0    1   \n",
       "\n",
       "   initial_sbp_cal  initial_dbp_cal  htn_cal  dm_cal  hichol_cal  ...  \\\n",
       "2              220              110        0       1           0  ...   \n",
       "3               90               50        1       1           1  ...   \n",
       "5              110               67        0       0           0  ...   \n",
       "6              144               64        1       0           1  ...   \n",
       "7              187              101        1       1           1  ...   \n",
       "\n",
       "   com_metastatic_tumor  active_cancer       BMI  hos_per  age  \\\n",
       "2                     2            2.0  0.034694  22 days   69   \n",
       "3                     2            2.0  0.039802  14 days   65   \n",
       "5                     2            2.0  0.049246   8 days   79   \n",
       "6                     2            2.0  0.049587  13 days   93   \n",
       "7                     2            2.0  0.024688  18 days   73   \n",
       "\n",
       "   pt_dc_route_사망  pt_dc_route_입원중  pt_dc_route_자가 퇴원  pt_dc_route_재활의학과 전과  \\\n",
       "2               0                0                  0                     1   \n",
       "3               0                0                  1                     0   \n",
       "5               0                0                  1                     0   \n",
       "6               0                0                  0                     1   \n",
       "7               1                0                  0                     0   \n",
       "\n",
       "   pt_dc_route_타병원/타과 전과  \n",
       "2                      0  \n",
       "3                      0  \n",
       "5                      0  \n",
       "6                      0  \n",
       "7                      0  \n",
       "\n",
       "[5 rows x 101 columns]"
      ]
     },
     "execution_count": 99,
     "metadata": {},
     "output_type": "execute_result"
    }
   ],
   "source": [
    "train.head()"
   ]
  },
  {
   "cell_type": "code",
   "execution_count": null,
   "metadata": {},
   "outputs": [],
   "source": []
  }
 ],
 "metadata": {
  "kernelspec": {
   "display_name": "Python 3",
   "language": "python",
   "name": "python3"
  },
  "language_info": {
   "codemirror_mode": {
    "name": "ipython",
    "version": 3
   },
   "file_extension": ".py",
   "mimetype": "text/x-python",
   "name": "python",
   "nbconvert_exporter": "python",
   "pygments_lexer": "ipython3",
   "version": "3.8.3"
  }
 },
 "nbformat": 4,
 "nbformat_minor": 4
}
