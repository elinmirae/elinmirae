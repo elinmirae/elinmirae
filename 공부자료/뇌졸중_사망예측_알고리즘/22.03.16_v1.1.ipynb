{
 "cells": [
  {
   "cell_type": "markdown",
   "metadata": {},
   "source": [
    "# 라이브러리 및 데이터"
   ]
  },
  {
   "cell_type": "code",
   "execution_count": 163,
   "metadata": {},
   "outputs": [],
   "source": [
    "# 패키지 불러오기\n",
    "import pandas as pd\n",
    "import seaborn as sns\n",
    "import matplotlib.pyplot as plt\n",
    "import numpy as np"
   ]
  },
  {
   "cell_type": "code",
   "execution_count": 164,
   "metadata": {},
   "outputs": [],
   "source": [
    "# 한글 설정\n",
    "import matplotlib\n",
    "from matplotlib import font_manager, rc\n",
    "import platform\n",
    "\n",
    "if platform.system() == 'Windows':\n",
    "# windows 인 경우\n",
    "    font_name = font_manager.FontProperties(fname=\"c:\\Windows\\Fonts\\malgun.ttf\").get_name()\n",
    "    rc('font', family=font_name)"
   ]
  },
  {
   "cell_type": "code",
   "execution_count": 165,
   "metadata": {},
   "outputs": [],
   "source": [
    "# 데이터 불러오기\n",
    "dataset = pd.read_excel('example_data_220222.xlsx')"
   ]
  },
  {
   "cell_type": "markdown",
   "metadata": {},
   "source": [
    "# 탐색적 자료분석"
   ]
  },
  {
   "cell_type": "markdown",
   "metadata": {},
   "source": [
    "- pt_id : 환자 id\n",
    "- modality_ivtpa : 환자구분1 - 다중선택가능(intravenous tissue plasminogen activator  : 정맥내의 조직 플라스미노젠 활성인자)\n",
    "- modality_iauk : 환자구분2 - 다중선택가능(intra-arterial urokinase : 동맥내의 응혈)\n",
    "- modality_mechanical : 환자구분3 - 다중선택가능(mechanical : 기계로 작동되는)\n",
    "- modality_etc : 환자구분4 - 다중선택가능(etc : 기타 등등)\n",
    "- pt_birth :생년월일\n",
    "- sex : 성별 (1=남, 2=녀)\n",
    "- body_height : 키\n",
    "- body_weight :몸무게\n",
    "- waist :허리둘레\n",
    "- adm_date : 입원일\n",
    "- dc_date : 퇴원일\n",
    "- pt_dc_route :퇴원경로\n",
    "- initial_sbp_cal : 수축기 혈압(SBP)\n",
    "- initial_dbp_cal : 이완기 혈압(DBP)\n",
    "- htn_cal : 질환력1 - 고혈압\n",
    "- dm_cal : 질환력2 - 당뇨\n",
    "- hichol_cal : 질환력3 - 고콜레스테롤혈증\n",
    "- smoking_cur : 현재흡연여부\n",
    "- smoking_ex : 과거흡연여부\n",
    "- coronary : 심혈관 질환력1 - 관상 동맥 질환\n",
    "- vhd : 심혈관 질환력2 - 심장 판막 질환\n",
    "- A_fib_cal : 심혈관 질환력3\n",
    "- CHF_all : 심혈관 질환력4 - 울혈성 심마비 질환\n",
    "- A_flutter : 심혈관 질환력5 - 심방 질환\n",
    "- paod : 심혈관 질환력6 - 말초동맥 질환\n",
    "- other_cardiac : 심혈관 질환력7 - 기타 심장 질환\n",
    "- vhd_mechnical : 심혈관 질환력8 - 판막성 심장병 질환\n",
    "- vhd_ms : 심혈관질환력9 - 다발성 경화증 질환\n",
    "- prev_tia : 뇌졸중 질환력1 (재발여부) - 일과성허혈 발작증세\n",
    "- prev_infarction : 뇌졸중 질환력2 (재발여부) - 경색증\n",
    "- prev_hemorrhage : 뇌졸중 질환력3 (재발여부) - 출혈\n",
    "- prev_unspecified : 뇌졸중 질환력4 (재발여부) - 비특이성\n",
    "- smoking_none : 비흡연여부\n",
    "- pre_aspirin : 심혈관 약물력1\n",
    "- pre_plavix : 심혈관 약물력2\n",
    "- pre_ticlid : 심혈관 약물력3\n",
    "- pre_disgren : 심혈관 약물력4\n",
    "- pre_cilostazol : 심혈관 약물력5\n",
    "- pre_sarpogrelate : 심혈관 약물력6\n",
    "- pre_aggrenox : 심혈관 약물력7\n",
    "- pre_other_antiplat : 심혈관 약물력8\n",
    "- pre_other_antiplatelet : 심혈관 약물력9\n",
    "- pre_warfarin : 심혈관 약물력10\n",
    "- pre_dabigatran : 심혈관 약물력11\n",
    "- apixaban : 심혈관 약물력12\n",
    "- rivaroxaban : 심혈관 약물력13\n",
    "- pre_edoxavan : 심혈관 약물력14\n",
    "- pre_statin : 심혈관 약물력15\n",
    "- pre_ACE_inhibitor : 심혈관 약물력16\n",
    "- pre_ARB : 심혈관 약물력17\n",
    "- pre_CCB : 심혈관 약물력18\n",
    "- pre_beta_blocker : 심혈관 약물력19\n",
    "- pre_diuretics : 심혈관 약물력20\n",
    "- pre_other_antihtn : 심혈관 약물력21\n",
    "- pre_other_antihypertensive : 심혈관 약물력22\n",
    "- hgb_cal : 혈색소(hgb) 검사결과\n",
    "- hct_cal : 혈구용적(hct) 검사결과 \n",
    "- wbc_cal : 백혈구(wbc) 검사결과\n",
    "- platelet_cal : 혈소한(platelet) 검사결과\n",
    "- pt : 프로트롬빈시간(pt) 검사결과\n",
    "- ptt : 부분트롬보플라스틴시간(ptt) 검사결과\n",
    "- ysr_bun : 혈중요소질소(bun) 검사결과 \n",
    "- ysr_creatine : 크레아티닌(creatine) 검사결과\n",
    "- glucose_fasting_cal : 공복혈당(fasting glucose) 검사결과\n",
    "- tchol : 총콜레스테롤(tchol) 검사결과\n",
    "- tg : 중성지방(tg) 검사결과\n",
    "- hdl : 콜레스테롤(hdl) 검사결과\n",
    "- ldl : 저밀도지질단백(ldl) 검사결과\n",
    "- toast_tissue : TOAST tissue 구분 (급성 뇌졸중 치료에서의 재판 조직)\n",
    "- pre_mrs : MRS 점수 - 최초 (수정랭킹척도)\n",
    "- rankin3 : MRS 점수 - 3개월 후 \n",
    "- alive_date : 생존확인 일자\n",
    "- death_date : 사망확인 일자\n",
    "- death_infarc : 사망원인1 - 경색 혈전\n",
    "- death_hemorr : 사망원인2 - 치핵\n",
    "- death_mi : 사망원인3 - 심근 경색증\n",
    "- death_infect : 사망이유4 - 감염\n",
    "- death_other : 사망이유5 - 기타\n",
    "- death_ass_tl : 사망이유6\n",
    "- c_death_cancer : 사망이유7\n",
    "- c_death_6mo : 뇌졸중 환자 사망 여부 (6개월 이내)\n",
    "- tl_onset_clear : Onset 시점 명확/불명확 여부\n",
    "- tl_in_hospital : 원내 발병 여부\n",
    "- tl_life_bleeding : 치료중 합병증1 - 출혈\n",
    "- tl_herniation : 치료중 합병증2 - 탈장, 피막\n",
    "- tl_infection : 치료중 합병증3 - 감염\n",
    "- com_mi : 동반질환1 - 심근 경색증\n",
    "- com_chf : 동반질환2 - 울혈성심장기능상실\n",
    "- com_paod : 동반질환3 - 말초 동맥 폐쇄성 질환\n",
    "- com_cva_tia : 동반질환4 - 갈비척추각\n",
    "- com_af : 동반질환5\n",
    "- com_dementia : 동반질환6 - 치매\n",
    "- com_depression : 동반질환7 - 우울증\n",
    "- com_pulm_dz : 동반질환8 - 폐 질환\n",
    "- com_ulcer : 동반질환9 - 궤양 질환\n",
    "- com_liver_dz : 동반질환10 - 간 질환\n",
    "- com_renal_dz : 동반질환11 - 콩팥 질환\n",
    "- com_connective_dz : 동반질환12 - 결합조직 질환\n",
    "- com_anemia : 동반질환13 - 빈혈\n",
    "- com_dm : 동반질환14 - 당뇨병\n",
    "- com_dm_end_organ : 동반질환15 - 장기\n",
    "- com_hiv : 동반질환16 - 면역결핍바이러스\n",
    "- com_solid_tumor : 동반질환17 - 종양\n",
    "- com_leukemia : 동반질환18 - 피부백혈병\n",
    "- com_lymphoma : 동반질환19 - 림프종 질환\n",
    "- com_metastatic_tumor : 동반질환20 - 전이 종양\n",
    "- active_cancer : 동반질환21 - 활성암"
   ]
  },
  {
   "cell_type": "code",
   "execution_count": 269,
   "metadata": {},
   "outputs": [
    {
     "data": {
      "text/html": [
       "<div>\n",
       "<style scoped>\n",
       "    .dataframe tbody tr th:only-of-type {\n",
       "        vertical-align: middle;\n",
       "    }\n",
       "\n",
       "    .dataframe tbody tr th {\n",
       "        vertical-align: top;\n",
       "    }\n",
       "\n",
       "    .dataframe thead th {\n",
       "        text-align: right;\n",
       "    }\n",
       "</style>\n",
       "<table border=\"1\" class=\"dataframe\">\n",
       "  <thead>\n",
       "    <tr style=\"text-align: right;\">\n",
       "      <th></th>\n",
       "      <th>pt_id</th>\n",
       "      <th>modality_ivtpa</th>\n",
       "      <th>modality_iauk</th>\n",
       "      <th>modality_mechanical</th>\n",
       "      <th>modality_etc</th>\n",
       "      <th>pt_birth</th>\n",
       "      <th>sex</th>\n",
       "      <th>body_height</th>\n",
       "      <th>body_weight</th>\n",
       "      <th>waist</th>\n",
       "      <th>...</th>\n",
       "      <th>com_connective_dz</th>\n",
       "      <th>com_anemia</th>\n",
       "      <th>com_dm</th>\n",
       "      <th>com_dm_end_organ</th>\n",
       "      <th>com_hiv</th>\n",
       "      <th>com_solid_tumor</th>\n",
       "      <th>com_leukemia</th>\n",
       "      <th>com_lymphoma</th>\n",
       "      <th>com_metastatic_tumor</th>\n",
       "      <th>active_cancer</th>\n",
       "    </tr>\n",
       "  </thead>\n",
       "  <tbody>\n",
       "    <tr>\n",
       "      <th>0</th>\n",
       "      <td>1</td>\n",
       "      <td>0</td>\n",
       "      <td>0</td>\n",
       "      <td>1</td>\n",
       "      <td>0</td>\n",
       "      <td>1969-03-28</td>\n",
       "      <td>1</td>\n",
       "      <td>177.0</td>\n",
       "      <td>87.0</td>\n",
       "      <td>98.0</td>\n",
       "      <td>...</td>\n",
       "      <td>2.0</td>\n",
       "      <td>2.0</td>\n",
       "      <td>2</td>\n",
       "      <td>2</td>\n",
       "      <td>2</td>\n",
       "      <td>2</td>\n",
       "      <td>2</td>\n",
       "      <td>2</td>\n",
       "      <td>2</td>\n",
       "      <td>2.0</td>\n",
       "    </tr>\n",
       "    <tr>\n",
       "      <th>1</th>\n",
       "      <td>2</td>\n",
       "      <td>1</td>\n",
       "      <td>0</td>\n",
       "      <td>1</td>\n",
       "      <td>0</td>\n",
       "      <td>1944-10-31</td>\n",
       "      <td>2</td>\n",
       "      <td>152.0</td>\n",
       "      <td>61.0</td>\n",
       "      <td>NaN</td>\n",
       "      <td>...</td>\n",
       "      <td>2.0</td>\n",
       "      <td>2.0</td>\n",
       "      <td>2</td>\n",
       "      <td>2</td>\n",
       "      <td>2</td>\n",
       "      <td>1</td>\n",
       "      <td>2</td>\n",
       "      <td>2</td>\n",
       "      <td>2</td>\n",
       "      <td>2.0</td>\n",
       "    </tr>\n",
       "    <tr>\n",
       "      <th>2</th>\n",
       "      <td>3</td>\n",
       "      <td>1</td>\n",
       "      <td>0</td>\n",
       "      <td>0</td>\n",
       "      <td>0</td>\n",
       "      <td>1953-05-01</td>\n",
       "      <td>1</td>\n",
       "      <td>170.0</td>\n",
       "      <td>70.0</td>\n",
       "      <td>92.0</td>\n",
       "      <td>...</td>\n",
       "      <td>2.0</td>\n",
       "      <td>2.0</td>\n",
       "      <td>1</td>\n",
       "      <td>2</td>\n",
       "      <td>2</td>\n",
       "      <td>2</td>\n",
       "      <td>2</td>\n",
       "      <td>2</td>\n",
       "      <td>2</td>\n",
       "      <td>2.0</td>\n",
       "    </tr>\n",
       "    <tr>\n",
       "      <th>3</th>\n",
       "      <td>4</td>\n",
       "      <td>0</td>\n",
       "      <td>0</td>\n",
       "      <td>1</td>\n",
       "      <td>0</td>\n",
       "      <td>1957-12-20</td>\n",
       "      <td>2</td>\n",
       "      <td>153.0</td>\n",
       "      <td>62.0</td>\n",
       "      <td>NaN</td>\n",
       "      <td>...</td>\n",
       "      <td>2.0</td>\n",
       "      <td>2.0</td>\n",
       "      <td>1</td>\n",
       "      <td>2</td>\n",
       "      <td>2</td>\n",
       "      <td>2</td>\n",
       "      <td>2</td>\n",
       "      <td>2</td>\n",
       "      <td>2</td>\n",
       "      <td>2.0</td>\n",
       "    </tr>\n",
       "    <tr>\n",
       "      <th>4</th>\n",
       "      <td>5</td>\n",
       "      <td>1</td>\n",
       "      <td>0</td>\n",
       "      <td>0</td>\n",
       "      <td>0</td>\n",
       "      <td>1941-02-06</td>\n",
       "      <td>1</td>\n",
       "      <td>177.0</td>\n",
       "      <td>74.0</td>\n",
       "      <td>NaN</td>\n",
       "      <td>...</td>\n",
       "      <td>2.0</td>\n",
       "      <td>2.0</td>\n",
       "      <td>2</td>\n",
       "      <td>2</td>\n",
       "      <td>2</td>\n",
       "      <td>2</td>\n",
       "      <td>2</td>\n",
       "      <td>2</td>\n",
       "      <td>2</td>\n",
       "      <td>2.0</td>\n",
       "    </tr>\n",
       "  </tbody>\n",
       "</table>\n",
       "<p>5 rows × 104 columns</p>\n",
       "</div>"
      ],
      "text/plain": [
       "   pt_id  modality_ivtpa  modality_iauk  modality_mechanical  modality_etc  \\\n",
       "0      1               0              0                    1             0   \n",
       "1      2               1              0                    1             0   \n",
       "2      3               1              0                    0             0   \n",
       "3      4               0              0                    1             0   \n",
       "4      5               1              0                    0             0   \n",
       "\n",
       "     pt_birth  sex  body_height  body_weight  waist  ... com_connective_dz  \\\n",
       "0  1969-03-28    1        177.0         87.0   98.0  ...               2.0   \n",
       "1  1944-10-31    2        152.0         61.0    NaN  ...               2.0   \n",
       "2  1953-05-01    1        170.0         70.0   92.0  ...               2.0   \n",
       "3  1957-12-20    2        153.0         62.0    NaN  ...               2.0   \n",
       "4  1941-02-06    1        177.0         74.0    NaN  ...               2.0   \n",
       "\n",
       "  com_anemia com_dm  com_dm_end_organ  com_hiv  com_solid_tumor  com_leukemia  \\\n",
       "0        2.0      2                 2        2                2             2   \n",
       "1        2.0      2                 2        2                1             2   \n",
       "2        2.0      1                 2        2                2             2   \n",
       "3        2.0      1                 2        2                2             2   \n",
       "4        2.0      2                 2        2                2             2   \n",
       "\n",
       "   com_lymphoma  com_metastatic_tumor  active_cancer  \n",
       "0             2                     2            2.0  \n",
       "1             2                     2            2.0  \n",
       "2             2                     2            2.0  \n",
       "3             2                     2            2.0  \n",
       "4             2                     2            2.0  \n",
       "\n",
       "[5 rows x 104 columns]"
      ]
     },
     "execution_count": 269,
     "metadata": {},
     "output_type": "execute_result"
    }
   ],
   "source": [
    "# 데이터 프레임 확인\n",
    "dataset.head()"
   ]
  },
  {
   "cell_type": "code",
   "execution_count": 270,
   "metadata": {},
   "outputs": [
    {
     "name": "stdout",
     "output_type": "stream",
     "text": [
      "(2318, 104)\n"
     ]
    }
   ],
   "source": [
    "# 데이터 프레임 속성 파악(행,열 개수)\n",
    "print(dataset.shape)"
   ]
  },
  {
   "cell_type": "code",
   "execution_count": 271,
   "metadata": {},
   "outputs": [
    {
     "name": "stdout",
     "output_type": "stream",
     "text": [
      "<class 'pandas.core.frame.DataFrame'>\n",
      "RangeIndex: 2318 entries, 0 to 2317\n",
      "Columns: 104 entries, pt_id to active_cancer\n",
      "dtypes: float64(26), int64(71), object(7)\n",
      "memory usage: 1.8+ MB\n"
     ]
    }
   ],
   "source": [
    "# 데이터 프레임 속성 파악(열별 정보, 결측값, 열값 타입)\n",
    "dataset.info()"
   ]
  },
  {
   "cell_type": "code",
   "execution_count": 272,
   "metadata": {},
   "outputs": [
    {
     "data": {
      "text/plain": [
       "pt_id                   0\n",
       "modality_ivtpa          0\n",
       "modality_iauk           0\n",
       "modality_mechanical     0\n",
       "modality_etc            0\n",
       "                       ..\n",
       "com_solid_tumor         0\n",
       "com_leukemia            0\n",
       "com_lymphoma            0\n",
       "com_metastatic_tumor    0\n",
       "active_cancer           3\n",
       "Length: 104, dtype: int64"
      ]
     },
     "execution_count": 272,
     "metadata": {},
     "output_type": "execute_result"
    }
   ],
   "source": [
    "# 빈값찾기\n",
    "dataset.isnull().sum()"
   ]
  },
  {
   "cell_type": "code",
   "execution_count": 273,
   "metadata": {},
   "outputs": [
    {
     "data": {
      "text/plain": [
       "pt_id                     int64\n",
       "modality_ivtpa            int64\n",
       "modality_iauk             int64\n",
       "modality_mechanical       int64\n",
       "modality_etc              int64\n",
       "                         ...   \n",
       "com_solid_tumor           int64\n",
       "com_leukemia              int64\n",
       "com_lymphoma              int64\n",
       "com_metastatic_tumor      int64\n",
       "active_cancer           float64\n",
       "Length: 104, dtype: object"
      ]
     },
     "execution_count": 273,
     "metadata": {},
     "output_type": "execute_result"
    }
   ],
   "source": [
    "dataset.dtypes"
   ]
  },
  {
   "cell_type": "markdown",
   "metadata": {},
   "source": [
    "## 각 변수별 특성 파악 및 시각화"
   ]
  },
  {
   "cell_type": "code",
   "execution_count": 274,
   "metadata": {},
   "outputs": [
    {
     "data": {
      "text/html": [
       "<div>\n",
       "<style scoped>\n",
       "    .dataframe tbody tr th:only-of-type {\n",
       "        vertical-align: middle;\n",
       "    }\n",
       "\n",
       "    .dataframe tbody tr th {\n",
       "        vertical-align: top;\n",
       "    }\n",
       "\n",
       "    .dataframe thead th {\n",
       "        text-align: right;\n",
       "    }\n",
       "</style>\n",
       "<table border=\"1\" class=\"dataframe\">\n",
       "  <thead>\n",
       "    <tr style=\"text-align: right;\">\n",
       "      <th></th>\n",
       "      <th>body_height</th>\n",
       "      <th>body_weight</th>\n",
       "      <th>waist</th>\n",
       "      <th>initial_sbp_cal</th>\n",
       "      <th>initial_dbp_cal</th>\n",
       "      <th>hgb_cal</th>\n",
       "      <th>hct_cal</th>\n",
       "      <th>wbc_cal</th>\n",
       "      <th>platelet_cal</th>\n",
       "      <th>pt</th>\n",
       "      <th>ptt</th>\n",
       "      <th>ysr_bun</th>\n",
       "      <th>ysr_creatine</th>\n",
       "      <th>glucose_fasting_cal</th>\n",
       "      <th>tchol</th>\n",
       "      <th>tg</th>\n",
       "      <th>hdl</th>\n",
       "      <th>ldl</th>\n",
       "    </tr>\n",
       "  </thead>\n",
       "  <tbody>\n",
       "    <tr>\n",
       "      <th>count</th>\n",
       "      <td>2279.000000</td>\n",
       "      <td>2286.000000</td>\n",
       "      <td>1733.000000</td>\n",
       "      <td>2318.000000</td>\n",
       "      <td>2318.000000</td>\n",
       "      <td>2318.000000</td>\n",
       "      <td>2318.000000</td>\n",
       "      <td>2318.000000</td>\n",
       "      <td>2318.000000</td>\n",
       "      <td>2315.00000</td>\n",
       "      <td>2315.000000</td>\n",
       "      <td>2310.000000</td>\n",
       "      <td>2309.000000</td>\n",
       "      <td>2139.000000</td>\n",
       "      <td>2296.000000</td>\n",
       "      <td>2274.000000</td>\n",
       "      <td>2271.000000</td>\n",
       "      <td>2267.000000</td>\n",
       "    </tr>\n",
       "    <tr>\n",
       "      <th>mean</th>\n",
       "      <td>163.049144</td>\n",
       "      <td>62.537275</td>\n",
       "      <td>85.001731</td>\n",
       "      <td>149.163072</td>\n",
       "      <td>83.816221</td>\n",
       "      <td>13.547390</td>\n",
       "      <td>40.045082</td>\n",
       "      <td>8.381405</td>\n",
       "      <td>222.512554</td>\n",
       "      <td>1.05835</td>\n",
       "      <td>30.116873</td>\n",
       "      <td>17.887203</td>\n",
       "      <td>0.994898</td>\n",
       "      <td>124.972978</td>\n",
       "      <td>166.048955</td>\n",
       "      <td>114.228320</td>\n",
       "      <td>45.287010</td>\n",
       "      <td>100.419762</td>\n",
       "    </tr>\n",
       "    <tr>\n",
       "      <th>std</th>\n",
       "      <td>8.888651</td>\n",
       "      <td>11.603529</td>\n",
       "      <td>9.679417</td>\n",
       "      <td>28.608503</td>\n",
       "      <td>16.604903</td>\n",
       "      <td>1.930709</td>\n",
       "      <td>5.284958</td>\n",
       "      <td>3.251573</td>\n",
       "      <td>69.219099</td>\n",
       "      <td>0.54688</td>\n",
       "      <td>12.533714</td>\n",
       "      <td>8.349901</td>\n",
       "      <td>0.644311</td>\n",
       "      <td>48.699425</td>\n",
       "      <td>40.637578</td>\n",
       "      <td>74.747785</td>\n",
       "      <td>12.483853</td>\n",
       "      <td>35.555931</td>\n",
       "    </tr>\n",
       "    <tr>\n",
       "      <th>min</th>\n",
       "      <td>131.000000</td>\n",
       "      <td>30.000000</td>\n",
       "      <td>54.000000</td>\n",
       "      <td>57.000000</td>\n",
       "      <td>30.000000</td>\n",
       "      <td>4.000000</td>\n",
       "      <td>11.500000</td>\n",
       "      <td>1.120000</td>\n",
       "      <td>38.000000</td>\n",
       "      <td>0.76000</td>\n",
       "      <td>1.040000</td>\n",
       "      <td>0.000000</td>\n",
       "      <td>0.000000</td>\n",
       "      <td>47.500000</td>\n",
       "      <td>66.000000</td>\n",
       "      <td>21.100000</td>\n",
       "      <td>5.000000</td>\n",
       "      <td>10.300000</td>\n",
       "    </tr>\n",
       "    <tr>\n",
       "      <th>25%</th>\n",
       "      <td>156.000000</td>\n",
       "      <td>55.000000</td>\n",
       "      <td>78.000000</td>\n",
       "      <td>130.000000</td>\n",
       "      <td>72.000000</td>\n",
       "      <td>12.400000</td>\n",
       "      <td>36.800000</td>\n",
       "      <td>6.330000</td>\n",
       "      <td>178.000000</td>\n",
       "      <td>0.94000</td>\n",
       "      <td>26.300000</td>\n",
       "      <td>13.000000</td>\n",
       "      <td>0.720000</td>\n",
       "      <td>96.000000</td>\n",
       "      <td>135.075000</td>\n",
       "      <td>69.000000</td>\n",
       "      <td>37.000000</td>\n",
       "      <td>73.000000</td>\n",
       "    </tr>\n",
       "    <tr>\n",
       "      <th>50%</th>\n",
       "      <td>163.000000</td>\n",
       "      <td>62.000000</td>\n",
       "      <td>85.000000</td>\n",
       "      <td>148.000000</td>\n",
       "      <td>81.000000</td>\n",
       "      <td>13.700000</td>\n",
       "      <td>40.200000</td>\n",
       "      <td>7.860000</td>\n",
       "      <td>215.500000</td>\n",
       "      <td>0.99000</td>\n",
       "      <td>29.200000</td>\n",
       "      <td>16.400000</td>\n",
       "      <td>0.900000</td>\n",
       "      <td>112.000000</td>\n",
       "      <td>163.500000</td>\n",
       "      <td>96.000000</td>\n",
       "      <td>44.000000</td>\n",
       "      <td>98.000000</td>\n",
       "    </tr>\n",
       "    <tr>\n",
       "      <th>75%</th>\n",
       "      <td>170.000000</td>\n",
       "      <td>70.000000</td>\n",
       "      <td>91.000000</td>\n",
       "      <td>166.000000</td>\n",
       "      <td>94.000000</td>\n",
       "      <td>14.900000</td>\n",
       "      <td>43.775000</td>\n",
       "      <td>9.750000</td>\n",
       "      <td>258.000000</td>\n",
       "      <td>1.06000</td>\n",
       "      <td>32.200000</td>\n",
       "      <td>20.700000</td>\n",
       "      <td>1.060000</td>\n",
       "      <td>139.000000</td>\n",
       "      <td>193.000000</td>\n",
       "      <td>136.000000</td>\n",
       "      <td>52.900000</td>\n",
       "      <td>123.000000</td>\n",
       "    </tr>\n",
       "    <tr>\n",
       "      <th>max</th>\n",
       "      <td>188.000000</td>\n",
       "      <td>120.000000</td>\n",
       "      <td>150.000000</td>\n",
       "      <td>270.000000</td>\n",
       "      <td>210.000000</td>\n",
       "      <td>21.400000</td>\n",
       "      <td>59.900000</td>\n",
       "      <td>47.400000</td>\n",
       "      <td>692.000000</td>\n",
       "      <td>12.30000</td>\n",
       "      <td>365.000000</td>\n",
       "      <td>97.000000</td>\n",
       "      <td>8.700000</td>\n",
       "      <td>999.000000</td>\n",
       "      <td>366.000000</td>\n",
       "      <td>856.000000</td>\n",
       "      <td>114.000000</td>\n",
       "      <td>234.000000</td>\n",
       "    </tr>\n",
       "  </tbody>\n",
       "</table>\n",
       "</div>"
      ],
      "text/plain": [
       "       body_height  body_weight        waist  initial_sbp_cal  \\\n",
       "count  2279.000000  2286.000000  1733.000000      2318.000000   \n",
       "mean    163.049144    62.537275    85.001731       149.163072   \n",
       "std       8.888651    11.603529     9.679417        28.608503   \n",
       "min     131.000000    30.000000    54.000000        57.000000   \n",
       "25%     156.000000    55.000000    78.000000       130.000000   \n",
       "50%     163.000000    62.000000    85.000000       148.000000   \n",
       "75%     170.000000    70.000000    91.000000       166.000000   \n",
       "max     188.000000   120.000000   150.000000       270.000000   \n",
       "\n",
       "       initial_dbp_cal      hgb_cal      hct_cal      wbc_cal  platelet_cal  \\\n",
       "count      2318.000000  2318.000000  2318.000000  2318.000000   2318.000000   \n",
       "mean         83.816221    13.547390    40.045082     8.381405    222.512554   \n",
       "std          16.604903     1.930709     5.284958     3.251573     69.219099   \n",
       "min          30.000000     4.000000    11.500000     1.120000     38.000000   \n",
       "25%          72.000000    12.400000    36.800000     6.330000    178.000000   \n",
       "50%          81.000000    13.700000    40.200000     7.860000    215.500000   \n",
       "75%          94.000000    14.900000    43.775000     9.750000    258.000000   \n",
       "max         210.000000    21.400000    59.900000    47.400000    692.000000   \n",
       "\n",
       "               pt          ptt      ysr_bun  ysr_creatine  \\\n",
       "count  2315.00000  2315.000000  2310.000000   2309.000000   \n",
       "mean      1.05835    30.116873    17.887203      0.994898   \n",
       "std       0.54688    12.533714     8.349901      0.644311   \n",
       "min       0.76000     1.040000     0.000000      0.000000   \n",
       "25%       0.94000    26.300000    13.000000      0.720000   \n",
       "50%       0.99000    29.200000    16.400000      0.900000   \n",
       "75%       1.06000    32.200000    20.700000      1.060000   \n",
       "max      12.30000   365.000000    97.000000      8.700000   \n",
       "\n",
       "       glucose_fasting_cal        tchol           tg          hdl          ldl  \n",
       "count          2139.000000  2296.000000  2274.000000  2271.000000  2267.000000  \n",
       "mean            124.972978   166.048955   114.228320    45.287010   100.419762  \n",
       "std              48.699425    40.637578    74.747785    12.483853    35.555931  \n",
       "min              47.500000    66.000000    21.100000     5.000000    10.300000  \n",
       "25%              96.000000   135.075000    69.000000    37.000000    73.000000  \n",
       "50%             112.000000   163.500000    96.000000    44.000000    98.000000  \n",
       "75%             139.000000   193.000000   136.000000    52.900000   123.000000  \n",
       "max             999.000000   366.000000   856.000000   114.000000   234.000000  "
      ]
     },
     "execution_count": 274,
     "metadata": {},
     "output_type": "execute_result"
    }
   ],
   "source": [
    "# 데이터 프레임 속성 파악(기술 통계량)\n",
    "dataset.describe()\n",
    "dataset[['body_height', 'body_weight', 'waist', 'initial_sbp_cal', 'initial_dbp_cal', 'hgb_cal', 'hct_cal', 'wbc_cal', 'platelet_cal', 'pt', 'ptt', 'ysr_bun', 'ysr_creatine', 'glucose_fasting_cal', 'tchol', 'tg', 'hdl', 'ldl']].describe()"
   ]
  },
  {
   "cell_type": "markdown",
   "metadata": {},
   "source": [
    "#### 키, 몸무게, 허리둘레, 혈압 - SBP, 혈압 - DBP, 실험실검사결과 - hgb, 실험실검사결과 - hct, 실험실검사결과 - wbc, 실험실검사결과 - platelet, 실험실검사결과 - pt, 실험실검사결과 - ptt, 실험실검사결과 - bun, 실험실검사결과 - creatine, 실험실검사결과 - fasting glucose, 실험실검사결과 - tchol, 실험실검사결과 - tg, 실험실검사결과 - hdl, 실험실검사결과 - ldl의 기술통계량"
   ]
  },
  {
   "cell_type": "code",
   "execution_count": 275,
   "metadata": {
    "scrolled": true
   },
   "outputs": [
    {
     "name": "stdout",
     "output_type": "stream",
     "text": [
      "count    2318.000000\n",
      "mean      149.163072\n",
      "std        28.608503\n",
      "min        57.000000\n",
      "25%       130.000000\n",
      "50%       148.000000\n",
      "75%       166.000000\n",
      "max       270.000000\n",
      "Name: initial_sbp_cal, dtype: float64\n"
     ]
    },
    {
     "data": {
      "text/plain": [
       "<matplotlib.axes._subplots.AxesSubplot at 0x1ced8a14520>"
      ]
     },
     "execution_count": 275,
     "metadata": {},
     "output_type": "execute_result"
    },
    {
     "data": {
      "image/png": "[encoded data removed]",
      "text/plain": [
       "<Figure size 432x288 with 1 Axes>"
      ]
     },
     "metadata": {
      "needs_background": "light"
     },
     "output_type": "display_data"
    }
   ],
   "source": [
    "# initial_sbp_cal(혈압 - SBP)의 기술통계량과 분포 확인\n",
    "dataset_body_height = dataset.dropna(subset=['initial_sbp_cal'])\n",
    "\n",
    "print(dataset_body_height['initial_sbp_cal'].astype('int').describe())\n",
    "\n",
    "dataset_body_height['initial_sbp_cal'].astype('int').plot.hist(bins = 7, title = \"initial_sbp_cal\")"
   ]
  },
  {
   "cell_type": "code",
   "execution_count": 31,
   "metadata": {},
   "outputs": [
    {
     "data": {
      "text/plain": [
       "Text(0.5, 0, 'SBP(수축기혈압)')"
      ]
     },
     "execution_count": 31,
     "metadata": {},
     "output_type": "execute_result"
    },
    {
     "data": {
      "image/png": "[encoded data removed]",
      "text/plain": [
       "<Figure size 432x288 with 1 Axes>"
      ]
     },
     "metadata": {
      "needs_background": "light"
     },
     "output_type": "display_data"
    }
   ],
   "source": [
    "# initial_sbp_cal(혈압 - SBP)의 극단치 확인\n",
    "dataset_body_sbp = dataset.dropna(subset=['initial_sbp_cal'])\n",
    "\n",
    "fig, ax = plt.subplots()\n",
    "\n",
    "ax.boxplot(dataset_body_sbp['initial_sbp_cal'])\n",
    "ax.set_xlabel('SBP(수축기혈압)')"
   ]
  },
  {
   "cell_type": "code",
   "execution_count": 32,
   "metadata": {},
   "outputs": [
    {
     "name": "stdout",
     "output_type": "stream",
     "text": [
      "count    2139.000000\n",
      "mean      124.952314\n",
      "std        48.715930\n",
      "min        47.000000\n",
      "25%        96.000000\n",
      "50%       112.000000\n",
      "75%       139.000000\n",
      "max       999.000000\n",
      "Name: glucose_fasting_cal, dtype: float64\n"
     ]
    },
    {
     "data": {
      "text/plain": [
       "<matplotlib.axes._subplots.AxesSubplot at 0x16faea80f40>"
      ]
     },
     "execution_count": 32,
     "metadata": {},
     "output_type": "execute_result"
    },
    {
     "data": {
      "image/png": "[encoded data removed]",
      "text/plain": [
       "<Figure size 432x288 with 1 Axes>"
      ]
     },
     "metadata": {
      "needs_background": "light"
     },
     "output_type": "display_data"
    }
   ],
   "source": [
    "# 'glucose_fasting_cal'(공복혈당)의 기술통계량과 분포 확인\n",
    "dataset_body_glucose = dataset.dropna(subset=['glucose_fasting_cal'])\n",
    "\n",
    "print(dataset_body_glucose['glucose_fasting_cal'].astype('int').describe())\n",
    "\n",
    "dataset_body_glucose['glucose_fasting_cal'].astype('int').plot.hist(bins = 7, title = \"glucose_fasting_cal\")"
   ]
  },
  {
   "cell_type": "code",
   "execution_count": 33,
   "metadata": {},
   "outputs": [
    {
     "data": {
      "text/plain": [
       "Text(0.5, 0, 'glucose(공복혈당)')"
      ]
     },
     "execution_count": 33,
     "metadata": {},
     "output_type": "execute_result"
    },
    {
     "data": {
      "image/png": "[encoded data removed]",
      "text/plain": [
       "<Figure size 432x288 with 1 Axes>"
      ]
     },
     "metadata": {
      "needs_background": "light"
     },
     "output_type": "display_data"
    }
   ],
   "source": [
    "# 'glucose_fasting_cal'(공복혈당)의 극단치 확인\n",
    "dataset_body_glucose = dataset.dropna(subset=['glucose_fasting_cal'])\n",
    "\n",
    "fig, ax = plt.subplots()\n",
    "\n",
    "ax.boxplot(dataset_body_glucose['glucose_fasting_cal'])\n",
    "ax.set_xlabel('glucose(공복혈당)')"
   ]
  },
  {
   "cell_type": "code",
   "execution_count": 34,
   "metadata": {},
   "outputs": [
    {
     "name": "stdout",
     "output_type": "stream",
     "text": [
      "count    2318.000000\n",
      "mean        0.132873\n",
      "std         0.339511\n",
      "min         0.000000\n",
      "25%         0.000000\n",
      "50%         0.000000\n",
      "75%         0.000000\n",
      "max         1.000000\n",
      "Name: c_death_6mo, dtype: float64\n"
     ]
    },
    {
     "data": {
      "text/plain": [
       "<matplotlib.axes._subplots.AxesSubplot at 0x16faeb00340>"
      ]
     },
     "execution_count": 34,
     "metadata": {},
     "output_type": "execute_result"
    },
    {
     "data": {
      "image/png": "[encoded data removed]",
      "text/plain": [
       "<Figure size 432x288 with 1 Axes>"
      ]
     },
     "metadata": {
      "needs_background": "light"
     },
     "output_type": "display_data"
    }
   ],
   "source": [
    "# c_death_6mo(6개월 이내 사망)의 기술통계량과 분포 확인\n",
    "dataset_death = dataset.dropna(subset=['c_death_6mo'])\n",
    "\n",
    "print(dataset_death['c_death_6mo'].astype('int').describe())\n",
    "\n",
    "dataset_death['c_death_6mo'].astype('int').plot.hist(bins = 3,title = \"뇌졸중 환자 사망 빈도\")"
   ]
  },
  {
   "cell_type": "code",
   "execution_count": 35,
   "metadata": {},
   "outputs": [
    {
     "data": {
      "text/html": [
       "<div>\n",
       "<style scoped>\n",
       "    .dataframe tbody tr th:only-of-type {\n",
       "        vertical-align: middle;\n",
       "    }\n",
       "\n",
       "    .dataframe tbody tr th {\n",
       "        vertical-align: top;\n",
       "    }\n",
       "\n",
       "    .dataframe thead th {\n",
       "        text-align: right;\n",
       "    }\n",
       "</style>\n",
       "<table border=\"1\" class=\"dataframe\">\n",
       "  <thead>\n",
       "    <tr style=\"text-align: right;\">\n",
       "      <th></th>\n",
       "      <th>(6개월 이내)사망</th>\n",
       "    </tr>\n",
       "    <tr>\n",
       "      <th>sex</th>\n",
       "      <th></th>\n",
       "    </tr>\n",
       "  </thead>\n",
       "  <tbody>\n",
       "    <tr>\n",
       "      <th>남성</th>\n",
       "      <td>162</td>\n",
       "    </tr>\n",
       "    <tr>\n",
       "      <th>여성</th>\n",
       "      <td>146</td>\n",
       "    </tr>\n",
       "  </tbody>\n",
       "</table>\n",
       "</div>"
      ],
      "text/plain": [
       "     (6개월 이내)사망\n",
       "sex            \n",
       "남성          162\n",
       "여성          146"
      ]
     },
     "execution_count": 35,
     "metadata": {},
     "output_type": "execute_result"
    }
   ],
   "source": [
    "# 성별에 따른 결과변수 (6개월 이내 사망) 합 시각화\n",
    "dataset_sex = dataset.groupby(['sex'])['c_death_6mo'].sum().reset_index()\n",
    "dataset_sex.set_index('sex', inplace = True)\n",
    "dataset_sex = dataset_sex.rename(columns={\"c_death_6mo\":'(6개월 이내)사망'},index = {1:'남성', 2:'여성'})\n",
    "dataset_sex"
   ]
  },
  {
   "cell_type": "code",
   "execution_count": 36,
   "metadata": {},
   "outputs": [
    {
     "data": {
      "text/plain": [
       "<matplotlib.axes._subplots.AxesSubplot at 0x16faeb10df0>"
      ]
     },
     "execution_count": 36,
     "metadata": {},
     "output_type": "execute_result"
    },
    {
     "data": {
      "image/png": "[encoded data removed]",
      "text/plain": [
       "<Figure size 720x720 with 1 Axes>"
      ]
     },
     "metadata": {
      "needs_background": "light"
     },
     "output_type": "display_data"
    }
   ],
   "source": [
    "dataset_sex.plot.bar(rot=0, figsize=(10, 10))"
   ]
  },
  {
   "cell_type": "code",
   "execution_count": 37,
   "metadata": {},
   "outputs": [
    {
     "data": {
      "text/html": [
       "<div>\n",
       "<style scoped>\n",
       "    .dataframe tbody tr th:only-of-type {\n",
       "        vertical-align: middle;\n",
       "    }\n",
       "\n",
       "    .dataframe tbody tr th {\n",
       "        vertical-align: top;\n",
       "    }\n",
       "\n",
       "    .dataframe thead th {\n",
       "        text-align: right;\n",
       "    }\n",
       "</style>\n",
       "<table border=\"1\" class=\"dataframe\">\n",
       "  <thead>\n",
       "    <tr style=\"text-align: right;\">\n",
       "      <th></th>\n",
       "      <th>(6개월 이내)사망</th>\n",
       "    </tr>\n",
       "    <tr>\n",
       "      <th>pt_dc_route</th>\n",
       "      <th></th>\n",
       "    </tr>\n",
       "  </thead>\n",
       "  <tbody>\n",
       "    <tr>\n",
       "      <th>사망</th>\n",
       "      <td>158</td>\n",
       "    </tr>\n",
       "    <tr>\n",
       "      <th>자가 퇴원</th>\n",
       "      <td>27</td>\n",
       "    </tr>\n",
       "    <tr>\n",
       "      <th>재활의학과 전과</th>\n",
       "      <td>22</td>\n",
       "    </tr>\n",
       "    <tr>\n",
       "      <th>타병원/타과 전과</th>\n",
       "      <td>101</td>\n",
       "    </tr>\n",
       "  </tbody>\n",
       "</table>\n",
       "</div>"
      ],
      "text/plain": [
       "             (6개월 이내)사망\n",
       "pt_dc_route            \n",
       "사망                  158\n",
       "자가 퇴원                27\n",
       "재활의학과 전과             22\n",
       "타병원/타과 전과           101"
      ]
     },
     "execution_count": 37,
     "metadata": {},
     "output_type": "execute_result"
    }
   ],
   "source": [
    "# 퇴원경로에 따른 결과변수 (6개월 이내 사망) 합 시각화\n",
    "dataset_pt_dc_route = dataset.groupby(['pt_dc_route'])['c_death_6mo'].sum().reset_index()\n",
    "dataset_pt_dc_route.set_index('pt_dc_route', inplace = True)\n",
    "dataset_pt_dc_route = dataset_pt_dc_route.rename(columns={\"c_death_6mo\":'(6개월 이내)사망'})\n",
    "dataset_pt_dc_route"
   ]
  },
  {
   "cell_type": "code",
   "execution_count": 38,
   "metadata": {},
   "outputs": [
    {
     "data": {
      "text/plain": [
       "<matplotlib.axes._subplots.AxesSubplot at 0x16faecc6820>"
      ]
     },
     "execution_count": 38,
     "metadata": {},
     "output_type": "execute_result"
    },
    {
     "data": {
      "image/png": "[encoded data removed]",
      "text/plain": [
       "<Figure size 720x720 with 1 Axes>"
      ]
     },
     "metadata": {
      "needs_background": "light"
     },
     "output_type": "display_data"
    }
   ],
   "source": [
    "dataset_pt_dc_route.plot.bar(rot=0, figsize=(10, 10))"
   ]
  },
  {
   "cell_type": "code",
   "execution_count": 39,
   "metadata": {},
   "outputs": [
    {
     "data": {
      "text/html": [
       "<div>\n",
       "<style scoped>\n",
       "    .dataframe tbody tr th:only-of-type {\n",
       "        vertical-align: middle;\n",
       "    }\n",
       "\n",
       "    .dataframe tbody tr th {\n",
       "        vertical-align: top;\n",
       "    }\n",
       "\n",
       "    .dataframe thead th {\n",
       "        text-align: right;\n",
       "    }\n",
       "</style>\n",
       "<table border=\"1\" class=\"dataframe\">\n",
       "  <thead>\n",
       "    <tr style=\"text-align: right;\">\n",
       "      <th></th>\n",
       "      <th>(6개월 이내)사망</th>\n",
       "    </tr>\n",
       "    <tr>\n",
       "      <th>smoking_none</th>\n",
       "      <th></th>\n",
       "    </tr>\n",
       "  </thead>\n",
       "  <tbody>\n",
       "    <tr>\n",
       "      <th>비흡연</th>\n",
       "      <td>90</td>\n",
       "    </tr>\n",
       "    <tr>\n",
       "      <th>흡연</th>\n",
       "      <td>218</td>\n",
       "    </tr>\n",
       "  </tbody>\n",
       "</table>\n",
       "</div>"
      ],
      "text/plain": [
       "              (6개월 이내)사망\n",
       "smoking_none            \n",
       "비흡연                   90\n",
       "흡연                   218"
      ]
     },
     "execution_count": 39,
     "metadata": {},
     "output_type": "execute_result"
    }
   ],
   "source": [
    "# 비흡연여부에 따른 결과변수 (6개월 이내 사망) 합 시각화\n",
    "dataset_smoking_none = dataset.groupby(['smoking_none'])['c_death_6mo'].sum().reset_index()\n",
    "dataset_smoking_none.set_index('smoking_none', inplace = True)\n",
    "dataset_smoking_none = dataset_smoking_none.rename(columns={\"c_death_6mo\":'(6개월 이내)사망'},index={0:'비흡연', 1:'흡연'})\n",
    "dataset_smoking_none"
   ]
  },
  {
   "cell_type": "code",
   "execution_count": 40,
   "metadata": {},
   "outputs": [
    {
     "data": {
      "text/plain": [
       "<matplotlib.axes._subplots.AxesSubplot at 0x16faee9d4c0>"
      ]
     },
     "execution_count": 40,
     "metadata": {},
     "output_type": "execute_result"
    },
    {
     "data": {
      "image/png": "[encoded data removed]",
      "text/plain": [
       "<Figure size 720x720 with 1 Axes>"
      ]
     },
     "metadata": {
      "needs_background": "light"
     },
     "output_type": "display_data"
    }
   ],
   "source": [
    "dataset_smoking_none.plot.bar(rot=0, figsize=(10, 10))"
   ]
  },
  {
   "cell_type": "code",
   "execution_count": 9,
   "metadata": {},
   "outputs": [
    {
     "name": "stdout",
     "output_type": "stream",
     "text": [
      "pt_id : 0\n",
      "modality_ivtpa : 0\n",
      "modality_iauk : 0\n",
      "modality_mechanical : 0\n",
      "modality_etc : 0\n",
      "pt_birth : 0\n",
      "sex : 0\n",
      "body_height : 39\n",
      "body_weight : 32\n",
      "waist : 585\n",
      "adm_date : 0\n",
      "dc_date : 0\n",
      "pt_dc_route : 3\n",
      "initial_sbp_cal : 0\n",
      "initial_dbp_cal : 0\n",
      "htn_cal : 0\n",
      "dm_cal : 0\n",
      "hichol_cal : 0\n",
      "smoking_cur : 0\n",
      "smoking_ex : 0\n",
      "coronary : 0\n",
      "vhd : 0\n",
      "A_fib_cal : 0\n",
      "CHF_all : 0\n",
      "A_flutter : 0\n",
      "paod : 0\n",
      "other_cardiac : 0\n",
      "vhd_mechnical : 0\n",
      "vhd_ms : 0\n",
      "prev_tia : 0\n",
      "prev_infarction : 0\n",
      "prev_hemorrhage : 0\n",
      "prev_unspecified : 0\n",
      "smoking_none : 0\n",
      "pre_aspirin : 0\n",
      "pre_plavix : 0\n",
      "pre_ticlid : 0\n",
      "pre_disgren : 0\n",
      "pre_cilostazol : 0\n",
      "pre_sarpogrelate : 0\n",
      "pre_aggrenox : 0\n",
      "pre_warfarin : 0\n",
      "pre_dabigatran : 0\n",
      "apixaban : 0\n",
      "rivaroxaban : 0\n",
      "pre_edoxavan : 0\n",
      "pre_statin : 0\n",
      "pre_ACE_inhibitor : 0\n",
      "pre_ARB : 0\n",
      "pre_CCB : 0\n",
      "pre_beta_blocker : 0\n",
      "pre_diuretics : 0\n",
      "hgb_cal : 0\n",
      "hct_cal : 0\n",
      "wbc_cal : 0\n",
      "platelet_cal : 0\n",
      "pt : 3\n",
      "ptt : 3\n",
      "ysr_bun : 8\n",
      "ysr_creatine : 9\n",
      "glucose_fasting_cal : 179\n",
      "tchol : 22\n",
      "tg : 44\n",
      "hdl : 47\n",
      "ldl : 51\n",
      "toast_tissue : 42\n",
      "pre_mrs : 2\n",
      "rankin3 : 311\n",
      "alive_date : 308\n",
      "death_date : 2010\n",
      "death_infarc : 0\n",
      "death_hemorr : 0\n",
      "death_mi : 0\n",
      "death_infect : 0\n",
      "death_other : 0\n",
      "death_ass_tl : 2011\n",
      "c_death_cancer : 0\n",
      "c_death_6mo : 0\n",
      "tl_onset_clear : 0\n",
      "tl_in_hospital : 0\n",
      "tl_life_bleeding : 0\n",
      "tl_herniation : 0\n",
      "tl_infection : 0\n",
      "com_mi : 0\n",
      "com_chf : 0\n",
      "com_paod : 1\n",
      "com_cva_tia : 0\n",
      "com_af : 0\n",
      "com_dementia : 0\n",
      "com_depression : 0\n",
      "com_pulm_dz : 0\n",
      "com_ulcer : 1\n",
      "com_liver_dz : 1\n",
      "com_renal_dz : 1\n",
      "com_connective_dz : 1\n",
      "com_anemia : 2\n",
      "com_dm : 0\n",
      "com_dm_end_organ : 0\n",
      "com_hiv : 0\n",
      "com_solid_tumor : 0\n",
      "com_leukemia : 0\n",
      "com_lymphoma : 0\n",
      "com_metastatic_tumor : 0\n",
      "active_cancer : 3\n"
     ]
    }
   ],
   "source": [
    "#결측치 값이 포함된 칼럼과 개수 확인\n",
    "for index, value in zip(dataset.isnull().sum().index, dataset.isnull().sum()):\n",
    "    print(f\"{index} : {value}\")"
   ]
  },
  {
   "cell_type": "markdown",
   "metadata": {},
   "source": [
    "## 결측치 처리"
   ]
  },
  {
   "cell_type": "markdown",
   "metadata": {},
   "source": [
    "1. 몸무게,키(body_weight, body_height) : 결측 겹치는거 29명 확인(데이터 프레임 코드)"
   ]
  },
  {
   "cell_type": "code",
   "execution_count": 230,
   "metadata": {},
   "outputs": [
    {
     "name": "stdout",
     "output_type": "stream",
     "text": [
      "    pt_id  body_height  body_weight\n",
      "0     855          NaN          NaN\n",
      "1     857          NaN          NaN\n",
      "2     871          NaN          NaN\n",
      "3     878          NaN          NaN\n",
      "4     994          NaN          NaN\n",
      "5    1051          NaN          NaN\n",
      "6    1077          NaN          NaN\n",
      "7    1079          NaN          NaN\n",
      "8    1181          NaN          NaN\n",
      "9    1225          NaN          NaN\n",
      "10   1229          NaN          NaN\n",
      "11   1302          NaN          NaN\n",
      "12   1322          NaN          NaN\n",
      "13   1323          NaN          NaN\n",
      "14   1328          NaN          NaN\n",
      "15   1330          NaN          NaN\n",
      "16   1331          NaN          NaN\n",
      "17   1333          NaN          NaN\n",
      "18   1334          NaN          NaN\n",
      "19   1335          NaN          NaN\n",
      "20   1336          NaN          NaN\n",
      "21   1369          NaN          NaN\n",
      "22   1375          NaN          NaN\n",
      "23   1377          NaN          NaN\n",
      "24   1399          NaN          NaN\n",
      "25   1419          NaN          NaN\n",
      "26   1593          NaN          NaN\n",
      "27   1612          NaN          NaN\n",
      "28   1635          NaN          NaN\n",
      "29   1636          NaN          NaN\n"
     ]
    }
   ],
   "source": [
    "DF1 = dataset.loc[dataset['body_height'].isna(), ['pt_id', 'body_height']]\n",
    "DF2 = dataset.loc[dataset['body_weight'].isna(), ['pt_id', 'body_weight']]\n",
    "print(pd.merge(DF1, DF2, on='pt_id'))"
   ]
  },
  {
   "cell_type": "code",
   "execution_count": 231,
   "metadata": {},
   "outputs": [
    {
     "data": {
      "text/html": [
       "<div>\n",
       "<style scoped>\n",
       "    .dataframe tbody tr th:only-of-type {\n",
       "        vertical-align: middle;\n",
       "    }\n",
       "\n",
       "    .dataframe tbody tr th {\n",
       "        vertical-align: top;\n",
       "    }\n",
       "\n",
       "    .dataframe thead th {\n",
       "        text-align: right;\n",
       "    }\n",
       "</style>\n",
       "<table border=\"1\" class=\"dataframe\">\n",
       "  <thead>\n",
       "    <tr style=\"text-align: right;\">\n",
       "      <th></th>\n",
       "      <th>body_weight</th>\n",
       "      <th>body_height</th>\n",
       "    </tr>\n",
       "  </thead>\n",
       "  <tbody>\n",
       "    <tr>\n",
       "      <th>854</th>\n",
       "      <td>NaN</td>\n",
       "      <td>NaN</td>\n",
       "    </tr>\n",
       "    <tr>\n",
       "      <th>855</th>\n",
       "      <td>65.0</td>\n",
       "      <td>NaN</td>\n",
       "    </tr>\n",
       "    <tr>\n",
       "      <th>856</th>\n",
       "      <td>NaN</td>\n",
       "      <td>NaN</td>\n",
       "    </tr>\n",
       "    <tr>\n",
       "      <th>870</th>\n",
       "      <td>NaN</td>\n",
       "      <td>NaN</td>\n",
       "    </tr>\n",
       "    <tr>\n",
       "      <th>877</th>\n",
       "      <td>NaN</td>\n",
       "      <td>NaN</td>\n",
       "    </tr>\n",
       "    <tr>\n",
       "      <th>993</th>\n",
       "      <td>NaN</td>\n",
       "      <td>NaN</td>\n",
       "    </tr>\n",
       "    <tr>\n",
       "      <th>1028</th>\n",
       "      <td>72.0</td>\n",
       "      <td>NaN</td>\n",
       "    </tr>\n",
       "    <tr>\n",
       "      <th>1047</th>\n",
       "      <td>54.0</td>\n",
       "      <td>NaN</td>\n",
       "    </tr>\n",
       "    <tr>\n",
       "      <th>1050</th>\n",
       "      <td>NaN</td>\n",
       "      <td>NaN</td>\n",
       "    </tr>\n",
       "    <tr>\n",
       "      <th>1069</th>\n",
       "      <td>42.8</td>\n",
       "      <td>NaN</td>\n",
       "    </tr>\n",
       "    <tr>\n",
       "      <th>1076</th>\n",
       "      <td>NaN</td>\n",
       "      <td>NaN</td>\n",
       "    </tr>\n",
       "    <tr>\n",
       "      <th>1078</th>\n",
       "      <td>NaN</td>\n",
       "      <td>NaN</td>\n",
       "    </tr>\n",
       "    <tr>\n",
       "      <th>1113</th>\n",
       "      <td>NaN</td>\n",
       "      <td>163.0</td>\n",
       "    </tr>\n",
       "    <tr>\n",
       "      <th>1180</th>\n",
       "      <td>NaN</td>\n",
       "      <td>NaN</td>\n",
       "    </tr>\n",
       "    <tr>\n",
       "      <th>1224</th>\n",
       "      <td>NaN</td>\n",
       "      <td>NaN</td>\n",
       "    </tr>\n",
       "    <tr>\n",
       "      <th>1228</th>\n",
       "      <td>NaN</td>\n",
       "      <td>NaN</td>\n",
       "    </tr>\n",
       "    <tr>\n",
       "      <th>1301</th>\n",
       "      <td>NaN</td>\n",
       "      <td>NaN</td>\n",
       "    </tr>\n",
       "    <tr>\n",
       "      <th>1321</th>\n",
       "      <td>NaN</td>\n",
       "      <td>NaN</td>\n",
       "    </tr>\n",
       "    <tr>\n",
       "      <th>1322</th>\n",
       "      <td>NaN</td>\n",
       "      <td>NaN</td>\n",
       "    </tr>\n",
       "    <tr>\n",
       "      <th>1324</th>\n",
       "      <td>NaN</td>\n",
       "      <td>178.0</td>\n",
       "    </tr>\n",
       "    <tr>\n",
       "      <th>1325</th>\n",
       "      <td>70.0</td>\n",
       "      <td>NaN</td>\n",
       "    </tr>\n",
       "    <tr>\n",
       "      <th>1327</th>\n",
       "      <td>NaN</td>\n",
       "      <td>NaN</td>\n",
       "    </tr>\n",
       "    <tr>\n",
       "      <th>1329</th>\n",
       "      <td>NaN</td>\n",
       "      <td>NaN</td>\n",
       "    </tr>\n",
       "    <tr>\n",
       "      <th>1330</th>\n",
       "      <td>NaN</td>\n",
       "      <td>NaN</td>\n",
       "    </tr>\n",
       "    <tr>\n",
       "      <th>1332</th>\n",
       "      <td>NaN</td>\n",
       "      <td>NaN</td>\n",
       "    </tr>\n",
       "    <tr>\n",
       "      <th>1333</th>\n",
       "      <td>NaN</td>\n",
       "      <td>NaN</td>\n",
       "    </tr>\n",
       "    <tr>\n",
       "      <th>1334</th>\n",
       "      <td>NaN</td>\n",
       "      <td>NaN</td>\n",
       "    </tr>\n",
       "    <tr>\n",
       "      <th>1335</th>\n",
       "      <td>NaN</td>\n",
       "      <td>NaN</td>\n",
       "    </tr>\n",
       "    <tr>\n",
       "      <th>1336</th>\n",
       "      <td>68.0</td>\n",
       "      <td>NaN</td>\n",
       "    </tr>\n",
       "    <tr>\n",
       "      <th>1366</th>\n",
       "      <td>48.0</td>\n",
       "      <td>NaN</td>\n",
       "    </tr>\n",
       "    <tr>\n",
       "      <th>1368</th>\n",
       "      <td>NaN</td>\n",
       "      <td>NaN</td>\n",
       "    </tr>\n",
       "    <tr>\n",
       "      <th>1374</th>\n",
       "      <td>NaN</td>\n",
       "      <td>NaN</td>\n",
       "    </tr>\n",
       "    <tr>\n",
       "      <th>1376</th>\n",
       "      <td>NaN</td>\n",
       "      <td>NaN</td>\n",
       "    </tr>\n",
       "    <tr>\n",
       "      <th>1378</th>\n",
       "      <td>60.0</td>\n",
       "      <td>NaN</td>\n",
       "    </tr>\n",
       "    <tr>\n",
       "      <th>1398</th>\n",
       "      <td>NaN</td>\n",
       "      <td>NaN</td>\n",
       "    </tr>\n",
       "    <tr>\n",
       "      <th>1418</th>\n",
       "      <td>NaN</td>\n",
       "      <td>NaN</td>\n",
       "    </tr>\n",
       "    <tr>\n",
       "      <th>1592</th>\n",
       "      <td>NaN</td>\n",
       "      <td>NaN</td>\n",
       "    </tr>\n",
       "    <tr>\n",
       "      <th>1611</th>\n",
       "      <td>NaN</td>\n",
       "      <td>NaN</td>\n",
       "    </tr>\n",
       "    <tr>\n",
       "      <th>1634</th>\n",
       "      <td>NaN</td>\n",
       "      <td>NaN</td>\n",
       "    </tr>\n",
       "    <tr>\n",
       "      <th>1635</th>\n",
       "      <td>NaN</td>\n",
       "      <td>NaN</td>\n",
       "    </tr>\n",
       "    <tr>\n",
       "      <th>1858</th>\n",
       "      <td>65.0</td>\n",
       "      <td>NaN</td>\n",
       "    </tr>\n",
       "  </tbody>\n",
       "</table>\n",
       "</div>"
      ],
      "text/plain": [
       "      body_weight  body_height\n",
       "854           NaN          NaN\n",
       "855          65.0          NaN\n",
       "856           NaN          NaN\n",
       "870           NaN          NaN\n",
       "877           NaN          NaN\n",
       "993           NaN          NaN\n",
       "1028         72.0          NaN\n",
       "1047         54.0          NaN\n",
       "1050          NaN          NaN\n",
       "1069         42.8          NaN\n",
       "1076          NaN          NaN\n",
       "1078          NaN          NaN\n",
       "1113          NaN        163.0\n",
       "1180          NaN          NaN\n",
       "1224          NaN          NaN\n",
       "1228          NaN          NaN\n",
       "1301          NaN          NaN\n",
       "1321          NaN          NaN\n",
       "1322          NaN          NaN\n",
       "1324          NaN        178.0\n",
       "1325         70.0          NaN\n",
       "1327          NaN          NaN\n",
       "1329          NaN          NaN\n",
       "1330          NaN          NaN\n",
       "1332          NaN          NaN\n",
       "1333          NaN          NaN\n",
       "1334          NaN          NaN\n",
       "1335          NaN          NaN\n",
       "1336         68.0          NaN\n",
       "1366         48.0          NaN\n",
       "1368          NaN          NaN\n",
       "1374          NaN          NaN\n",
       "1376          NaN          NaN\n",
       "1378         60.0          NaN\n",
       "1398          NaN          NaN\n",
       "1418          NaN          NaN\n",
       "1592          NaN          NaN\n",
       "1611          NaN          NaN\n",
       "1634          NaN          NaN\n",
       "1635          NaN          NaN\n",
       "1858         65.0          NaN"
      ]
     },
     "execution_count": 231,
     "metadata": {},
     "output_type": "execute_result"
    }
   ],
   "source": [
    "condition = ((dataset['body_weight'].isna()==True) | (dataset['body_height'].isna()==True))\n",
    "dataset.loc[condition, ['body_weight','body_height']]"
   ]
  },
  {
   "cell_type": "markdown",
   "metadata": {},
   "source": [
    "2. 허리둘레(waist) : 삭제처리"
   ]
  },
  {
   "cell_type": "code",
   "execution_count": 249,
   "metadata": {},
   "outputs": [],
   "source": [
    "dataset_C = dataset.drop(columns = ['waist'])"
   ]
  },
  {
   "cell_type": "markdown",
   "metadata": {},
   "source": [
    "3. 퇴원경로(pt_dc_route) : 3명 6개월 이내 사망 결과 변수 확인시 0으로 6개월 이상 입원을 한다고 가정해 입원중 추가 (데이터 프레임 코드)"
   ]
  },
  {
   "cell_type": "code",
   "execution_count": 250,
   "metadata": {},
   "outputs": [
    {
     "data": {
      "text/html": [
       "<div>\n",
       "<style scoped>\n",
       "    .dataframe tbody tr th:only-of-type {\n",
       "        vertical-align: middle;\n",
       "    }\n",
       "\n",
       "    .dataframe tbody tr th {\n",
       "        vertical-align: top;\n",
       "    }\n",
       "\n",
       "    .dataframe thead th {\n",
       "        text-align: right;\n",
       "    }\n",
       "</style>\n",
       "<table border=\"1\" class=\"dataframe\">\n",
       "  <thead>\n",
       "    <tr style=\"text-align: right;\">\n",
       "      <th></th>\n",
       "      <th>c_death_6mo</th>\n",
       "    </tr>\n",
       "  </thead>\n",
       "  <tbody>\n",
       "    <tr>\n",
       "      <th>4</th>\n",
       "      <td>0</td>\n",
       "    </tr>\n",
       "    <tr>\n",
       "      <th>10</th>\n",
       "      <td>0</td>\n",
       "    </tr>\n",
       "    <tr>\n",
       "      <th>11</th>\n",
       "      <td>0</td>\n",
       "    </tr>\n",
       "  </tbody>\n",
       "</table>\n",
       "</div>"
      ],
      "text/plain": [
       "    c_death_6mo\n",
       "4             0\n",
       "10            0\n",
       "11            0"
      ]
     },
     "execution_count": 250,
     "metadata": {},
     "output_type": "execute_result"
    }
   ],
   "source": [
    "dataset_C.loc[dataset['pt_dc_route'].isna(),['c_death_6mo']]"
   ]
  },
  {
   "cell_type": "code",
   "execution_count": 251,
   "metadata": {},
   "outputs": [
    {
     "data": {
      "text/plain": [
       "0           자가 퇴원\n",
       "1           자가 퇴원\n",
       "2        재활의학과 전과\n",
       "3           자가 퇴원\n",
       "4             입원중\n",
       "          ...    \n",
       "2313    타병원/타과 전과\n",
       "2314        자가 퇴원\n",
       "2315        자가 퇴원\n",
       "2316        자가 퇴원\n",
       "2317    타병원/타과 전과\n",
       "Name: pt_dc_route, Length: 2318, dtype: object"
      ]
     },
     "execution_count": 251,
     "metadata": {},
     "output_type": "execute_result"
    }
   ],
   "source": [
    "dataset_C['pt_dc_route']=dataset_C['pt_dc_route'].fillna('입원중')\n",
    "dataset_C['pt_dc_route']"
   ]
  },
  {
   "cell_type": "markdown",
   "metadata": {},
   "source": [
    "4.  실험실검사결과 : 검사X -> 행 삭제"
   ]
  },
  {
   "cell_type": "code",
   "execution_count": 252,
   "metadata": {},
   "outputs": [],
   "source": [
    "dataset_C = dataset_C.dropna(subset=['pt','ptt','ysr_bun','ysr_creatine','glucose_fasting_cal','tchol','tg','hdl','ldl'])"
   ]
  },
  {
   "cell_type": "code",
   "execution_count": 253,
   "metadata": {},
   "outputs": [
    {
     "data": {
      "text/plain": [
       "pt                     0\n",
       "ptt                    0\n",
       "ysr_bun                0\n",
       "ysr_creatine           0\n",
       "glucose_fasting_cal    0\n",
       "tchol                  0\n",
       "tg                     0\n",
       "hdl                    0\n",
       "ldl                    0\n",
       "dtype: int64"
      ]
     },
     "execution_count": 253,
     "metadata": {},
     "output_type": "execute_result"
    }
   ],
   "source": [
    "dataset_C[['pt','ptt','ysr_bun','ysr_creatine','glucose_fasting_cal','tchol','tg','hdl','ldl']].isnull().sum()"
   ]
  },
  {
   "cell_type": "markdown",
   "metadata": {},
   "source": [
    "5. MRS 점수 - 3개월 후(rankin3) : 사망X, 일찍 퇴원하신분들 '조기 퇴원' 입력(데이터 프레임 코드) / 사망O, '사망' 입력  "
   ]
  },
  {
   "cell_type": "code",
   "execution_count": 254,
   "metadata": {},
   "outputs": [
    {
     "data": {
      "text/plain": [
       "2       2.0\n",
       "3       2.0\n",
       "5       0.0\n",
       "6       NaN\n",
       "7       6.0\n",
       "       ... \n",
       "2313    NaN\n",
       "2314    NaN\n",
       "2315    4.0\n",
       "2316    NaN\n",
       "2317    5.0\n",
       "Name: rankin3, Length: 2092, dtype: float64"
      ]
     },
     "execution_count": 254,
     "metadata": {},
     "output_type": "execute_result"
    }
   ],
   "source": [
    "dataset_C['rankin3']"
   ]
  },
  {
   "cell_type": "code",
   "execution_count": 255,
   "metadata": {
    "scrolled": false
   },
   "outputs": [
    {
     "data": {
      "text/html": [
       "<div>\n",
       "<style scoped>\n",
       "    .dataframe tbody tr th:only-of-type {\n",
       "        vertical-align: middle;\n",
       "    }\n",
       "\n",
       "    .dataframe tbody tr th {\n",
       "        vertical-align: top;\n",
       "    }\n",
       "\n",
       "    .dataframe thead th {\n",
       "        text-align: right;\n",
       "    }\n",
       "</style>\n",
       "<table border=\"1\" class=\"dataframe\">\n",
       "  <thead>\n",
       "    <tr style=\"text-align: right;\">\n",
       "      <th></th>\n",
       "      <th>adm_date</th>\n",
       "      <th>dc_date</th>\n",
       "      <th>c_death_6mo</th>\n",
       "    </tr>\n",
       "  </thead>\n",
       "  <tbody>\n",
       "    <tr>\n",
       "      <th>6</th>\n",
       "      <td>2019-06-06</td>\n",
       "      <td>2019-06-19</td>\n",
       "      <td>0</td>\n",
       "    </tr>\n",
       "    <tr>\n",
       "      <th>188</th>\n",
       "      <td>2009-10-11</td>\n",
       "      <td>2009-10-19</td>\n",
       "      <td>0</td>\n",
       "    </tr>\n",
       "    <tr>\n",
       "      <th>354</th>\n",
       "      <td>2011-11-12</td>\n",
       "      <td>2011-11-15</td>\n",
       "      <td>0</td>\n",
       "    </tr>\n",
       "    <tr>\n",
       "      <th>385</th>\n",
       "      <td>2012-04-13</td>\n",
       "      <td>2012-04-20</td>\n",
       "      <td>0</td>\n",
       "    </tr>\n",
       "    <tr>\n",
       "      <th>441</th>\n",
       "      <td>2013-01-01</td>\n",
       "      <td>2013-01-03</td>\n",
       "      <td>0</td>\n",
       "    </tr>\n",
       "    <tr>\n",
       "      <th>...</th>\n",
       "      <td>...</td>\n",
       "      <td>...</td>\n",
       "      <td>...</td>\n",
       "    </tr>\n",
       "    <tr>\n",
       "      <th>2282</th>\n",
       "      <td>2019-06-30</td>\n",
       "      <td>2019-07-10</td>\n",
       "      <td>0</td>\n",
       "    </tr>\n",
       "    <tr>\n",
       "      <th>2312</th>\n",
       "      <td>2019-07-13</td>\n",
       "      <td>2019-07-24</td>\n",
       "      <td>0</td>\n",
       "    </tr>\n",
       "    <tr>\n",
       "      <th>2313</th>\n",
       "      <td>2019-07-31</td>\n",
       "      <td>2019-08-20</td>\n",
       "      <td>0</td>\n",
       "    </tr>\n",
       "    <tr>\n",
       "      <th>2314</th>\n",
       "      <td>2019-08-05</td>\n",
       "      <td>2019-08-15</td>\n",
       "      <td>0</td>\n",
       "    </tr>\n",
       "    <tr>\n",
       "      <th>2316</th>\n",
       "      <td>2019-08-27</td>\n",
       "      <td>2019-09-06</td>\n",
       "      <td>0</td>\n",
       "    </tr>\n",
       "  </tbody>\n",
       "</table>\n",
       "<p>283 rows × 3 columns</p>\n",
       "</div>"
      ],
      "text/plain": [
       "        adm_date     dc_date  c_death_6mo\n",
       "6     2019-06-06  2019-06-19            0\n",
       "188   2009-10-11  2009-10-19            0\n",
       "354   2011-11-12  2011-11-15            0\n",
       "385   2012-04-13  2012-04-20            0\n",
       "441   2013-01-01  2013-01-03            0\n",
       "...          ...         ...          ...\n",
       "2282  2019-06-30  2019-07-10            0\n",
       "2312  2019-07-13  2019-07-24            0\n",
       "2313  2019-07-31  2019-08-20            0\n",
       "2314  2019-08-05  2019-08-15            0\n",
       "2316  2019-08-27  2019-09-06            0\n",
       "\n",
       "[283 rows x 3 columns]"
      ]
     },
     "execution_count": 255,
     "metadata": {},
     "output_type": "execute_result"
    }
   ],
   "source": [
    "dataset_C.loc[dataset_C['rankin3'].isna(),['adm_date','dc_date','c_death_6mo']]"
   ]
  },
  {
   "cell_type": "code",
   "execution_count": 256,
   "metadata": {
    "scrolled": true
   },
   "outputs": [
    {
     "data": {
      "text/html": [
       "<div>\n",
       "<style scoped>\n",
       "    .dataframe tbody tr th:only-of-type {\n",
       "        vertical-align: middle;\n",
       "    }\n",
       "\n",
       "    .dataframe tbody tr th {\n",
       "        vertical-align: top;\n",
       "    }\n",
       "\n",
       "    .dataframe thead th {\n",
       "        text-align: right;\n",
       "    }\n",
       "</style>\n",
       "<table border=\"1\" class=\"dataframe\">\n",
       "  <thead>\n",
       "    <tr style=\"text-align: right;\">\n",
       "      <th></th>\n",
       "      <th>rankin3</th>\n",
       "      <th>adm_date</th>\n",
       "      <th>dc_date</th>\n",
       "      <th>c_death_6mo</th>\n",
       "    </tr>\n",
       "  </thead>\n",
       "  <tbody>\n",
       "    <tr>\n",
       "      <th>769</th>\n",
       "      <td>NaN</td>\n",
       "      <td>2014-12-04</td>\n",
       "      <td>2015-03-10</td>\n",
       "      <td>1</td>\n",
       "    </tr>\n",
       "    <tr>\n",
       "      <th>807</th>\n",
       "      <td>NaN</td>\n",
       "      <td>2014-04-10</td>\n",
       "      <td>2014-04-24</td>\n",
       "      <td>1</td>\n",
       "    </tr>\n",
       "    <tr>\n",
       "      <th>1287</th>\n",
       "      <td>NaN</td>\n",
       "      <td>2015-02-07</td>\n",
       "      <td>2015-03-26</td>\n",
       "      <td>1</td>\n",
       "    </tr>\n",
       "    <tr>\n",
       "      <th>1533</th>\n",
       "      <td>NaN</td>\n",
       "      <td>2017-06-02</td>\n",
       "      <td>2017-06-10</td>\n",
       "      <td>1</td>\n",
       "    </tr>\n",
       "  </tbody>\n",
       "</table>\n",
       "</div>"
      ],
      "text/plain": [
       "      rankin3    adm_date     dc_date  c_death_6mo\n",
       "769       NaN  2014-12-04  2015-03-10            1\n",
       "807       NaN  2014-04-10  2014-04-24            1\n",
       "1287      NaN  2015-02-07  2015-03-26            1\n",
       "1533      NaN  2017-06-02  2017-06-10            1"
      ]
     },
     "execution_count": 256,
     "metadata": {},
     "output_type": "execute_result"
    }
   ],
   "source": [
    "condition=(dataset_C['rankin3'].isna()==True) & (dataset_C['c_death_6mo']==1)\n",
    "dataset_C.loc[condition,['rankin3','adm_date','dc_date','c_death_6mo']]"
   ]
  },
  {
   "cell_type": "code",
   "execution_count": 257,
   "metadata": {},
   "outputs": [],
   "source": [
    "condition1=(dataset_C['rankin3'].isna()==True) & (dataset_C['c_death_6mo']==1)\n",
    "dataset_C.loc[condition1, \"rankin3\"] = \"사망\""
   ]
  },
  {
   "cell_type": "code",
   "execution_count": 258,
   "metadata": {},
   "outputs": [],
   "source": [
    "condition1=(dataset_C['rankin3'].isna()==True) & (dataset_C['c_death_6mo']==0)\n",
    "dataset_C.loc[condition1, \"rankin3\"] = \"조기 퇴원\""
   ]
  },
  {
   "cell_type": "code",
   "execution_count": 259,
   "metadata": {},
   "outputs": [
    {
     "data": {
      "text/plain": [
       "array([2.0, 0.0, '조기 퇴원', 6.0, 5.0, 4.0, 1.0, 3.0, '사망'], dtype=object)"
      ]
     },
     "execution_count": 259,
     "metadata": {},
     "output_type": "execute_result"
    }
   ],
   "source": [
    "dataset_C['rankin3'].unique()"
   ]
  },
  {
   "cell_type": "code",
   "execution_count": 260,
   "metadata": {},
   "outputs": [
    {
     "data": {
      "text/html": [
       "<div>\n",
       "<style scoped>\n",
       "    .dataframe tbody tr th:only-of-type {\n",
       "        vertical-align: middle;\n",
       "    }\n",
       "\n",
       "    .dataframe tbody tr th {\n",
       "        vertical-align: top;\n",
       "    }\n",
       "\n",
       "    .dataframe thead th {\n",
       "        text-align: right;\n",
       "    }\n",
       "</style>\n",
       "<table border=\"1\" class=\"dataframe\">\n",
       "  <thead>\n",
       "    <tr style=\"text-align: right;\">\n",
       "      <th></th>\n",
       "      <th>rankin3</th>\n",
       "      <th>c_death_6mo</th>\n",
       "    </tr>\n",
       "  </thead>\n",
       "  <tbody>\n",
       "    <tr>\n",
       "      <th>2</th>\n",
       "      <td>2</td>\n",
       "      <td>0</td>\n",
       "    </tr>\n",
       "    <tr>\n",
       "      <th>3</th>\n",
       "      <td>2</td>\n",
       "      <td>0</td>\n",
       "    </tr>\n",
       "    <tr>\n",
       "      <th>5</th>\n",
       "      <td>0</td>\n",
       "      <td>0</td>\n",
       "    </tr>\n",
       "    <tr>\n",
       "      <th>6</th>\n",
       "      <td>조기 퇴원</td>\n",
       "      <td>0</td>\n",
       "    </tr>\n",
       "    <tr>\n",
       "      <th>7</th>\n",
       "      <td>6</td>\n",
       "      <td>1</td>\n",
       "    </tr>\n",
       "    <tr>\n",
       "      <th>...</th>\n",
       "      <td>...</td>\n",
       "      <td>...</td>\n",
       "    </tr>\n",
       "    <tr>\n",
       "      <th>2313</th>\n",
       "      <td>조기 퇴원</td>\n",
       "      <td>0</td>\n",
       "    </tr>\n",
       "    <tr>\n",
       "      <th>2314</th>\n",
       "      <td>조기 퇴원</td>\n",
       "      <td>0</td>\n",
       "    </tr>\n",
       "    <tr>\n",
       "      <th>2315</th>\n",
       "      <td>4</td>\n",
       "      <td>0</td>\n",
       "    </tr>\n",
       "    <tr>\n",
       "      <th>2316</th>\n",
       "      <td>조기 퇴원</td>\n",
       "      <td>0</td>\n",
       "    </tr>\n",
       "    <tr>\n",
       "      <th>2317</th>\n",
       "      <td>5</td>\n",
       "      <td>0</td>\n",
       "    </tr>\n",
       "  </tbody>\n",
       "</table>\n",
       "<p>2092 rows × 2 columns</p>\n",
       "</div>"
      ],
      "text/plain": [
       "     rankin3  c_death_6mo\n",
       "2          2            0\n",
       "3          2            0\n",
       "5          0            0\n",
       "6      조기 퇴원            0\n",
       "7          6            1\n",
       "...      ...          ...\n",
       "2313   조기 퇴원            0\n",
       "2314   조기 퇴원            0\n",
       "2315       4            0\n",
       "2316   조기 퇴원            0\n",
       "2317       5            0\n",
       "\n",
       "[2092 rows x 2 columns]"
      ]
     },
     "execution_count": 260,
     "metadata": {},
     "output_type": "execute_result"
    }
   ],
   "source": [
    "dataset_C[['rankin3','c_death_6mo']]"
   ]
  },
  {
   "cell_type": "markdown",
   "metadata": {},
   "source": [
    "6. 사망확인 일자/사망이유 : 1명 사망했는데 원인x (데이터 프레임 코드)"
   ]
  },
  {
   "cell_type": "code",
   "execution_count": 261,
   "metadata": {},
   "outputs": [
    {
     "data": {
      "text/html": [
       "<div>\n",
       "<style scoped>\n",
       "    .dataframe tbody tr th:only-of-type {\n",
       "        vertical-align: middle;\n",
       "    }\n",
       "\n",
       "    .dataframe tbody tr th {\n",
       "        vertical-align: top;\n",
       "    }\n",
       "\n",
       "    .dataframe thead th {\n",
       "        text-align: right;\n",
       "    }\n",
       "</style>\n",
       "<table border=\"1\" class=\"dataframe\">\n",
       "  <thead>\n",
       "    <tr style=\"text-align: right;\">\n",
       "      <th></th>\n",
       "      <th>pt_id</th>\n",
       "      <th>death_date</th>\n",
       "      <th>death_ass_tl</th>\n",
       "      <th>c_death_6mo</th>\n",
       "    </tr>\n",
       "  </thead>\n",
       "  <tbody>\n",
       "    <tr>\n",
       "      <th>1010</th>\n",
       "      <td>1011</td>\n",
       "      <td>2018-10-15</td>\n",
       "      <td>NaN</td>\n",
       "      <td>1</td>\n",
       "    </tr>\n",
       "  </tbody>\n",
       "</table>\n",
       "</div>"
      ],
      "text/plain": [
       "      pt_id  death_date  death_ass_tl  c_death_6mo\n",
       "1010   1011  2018-10-15           NaN            1"
      ]
     },
     "execution_count": 261,
     "metadata": {},
     "output_type": "execute_result"
    }
   ],
   "source": [
    "condition = ((dataset_C['death_date'].isna()==False) & (dataset_C['death_ass_tl'].isna()==True))\n",
    "dataset_C.loc[condition, ['pt_id','death_date','death_ass_tl','c_death_6mo']]"
   ]
  },
  {
   "cell_type": "code",
   "execution_count": 262,
   "metadata": {},
   "outputs": [],
   "source": [
    "dataset_C = dataset_C.drop(index=1010)"
   ]
  },
  {
   "cell_type": "markdown",
   "metadata": {},
   "source": [
    "7. 동반질환 : 행 삭제"
   ]
  },
  {
   "cell_type": "code",
   "execution_count": 263,
   "metadata": {},
   "outputs": [],
   "source": [
    "dataset_C = dataset_C.dropna(subset=['com_paod','com_ulcer','com_liver_dz','com_renal_dz','com_connective_dz','com_anemia','active_cancer'])"
   ]
  },
  {
   "cell_type": "code",
   "execution_count": 264,
   "metadata": {},
   "outputs": [
    {
     "data": {
      "text/plain": [
       "com_paod             0\n",
       "com_ulcer            0\n",
       "com_liver_dz         0\n",
       "com_renal_dz         0\n",
       "com_connective_dz    0\n",
       "com_anemia           0\n",
       "active_cancer        0\n",
       "dtype: int64"
      ]
     },
     "execution_count": 264,
     "metadata": {},
     "output_type": "execute_result"
    }
   ],
   "source": [
    "dataset_C[['com_paod','com_ulcer','com_liver_dz','com_renal_dz','com_connective_dz','com_anemia','active_cancer']].isnull().sum()"
   ]
  },
  {
   "cell_type": "markdown",
   "metadata": {},
   "source": [
    "9. TOAST tissue 구분 (급성 뇌졸중 치료에서의 재판 조직) - 행 삭제"
   ]
  },
  {
   "cell_type": "code",
   "execution_count": 265,
   "metadata": {},
   "outputs": [
    {
     "data": {
      "text/plain": [
       "array(['UT', 'CE', 'LAA', 'UN', 'SOD', 'LAC', nan, 'UI'], dtype=object)"
      ]
     },
     "execution_count": 265,
     "metadata": {},
     "output_type": "execute_result"
    }
   ],
   "source": [
    "dataset_C['toast_tissue'].unique()"
   ]
  },
  {
   "cell_type": "code",
   "execution_count": 266,
   "metadata": {},
   "outputs": [
    {
     "data": {
      "text/plain": [
       "toast_tissue    0\n",
       "dtype: int64"
      ]
     },
     "execution_count": 266,
     "metadata": {},
     "output_type": "execute_result"
    }
   ],
   "source": [
    "dataset_C = dataset_C.dropna(subset=['toast_tissue'])\n",
    "dataset_C[['toast_tissue']].isnull().sum()"
   ]
  },
  {
   "cell_type": "markdown",
   "metadata": {},
   "source": [
    "# 데이터 전처리\n",
    "- 파생변수 생성\n",
    "    - 계산식 이용\n",
    "    - 질환력, 과거력 등 하나의 변수로 묶어서 유의미한지 판단 후에 상세 분석\n",
    "        - 질환력(3), 심혈관질환력(9), 뇌졸중질환력(4), 심혈관약물력(22), 치료중합병증(3), 동반질환(21) \n",
    "        - 사망이유 확인해보기\n",
    "- 생년월일에서 년도만 잘라서 숫자형으로 바꿈\n",
    "- scale?"
   ]
  },
  {
   "cell_type": "code",
   "execution_count": 267,
   "metadata": {},
   "outputs": [
    {
     "data": {
      "text/html": [
       "<div>\n",
       "<style scoped>\n",
       "    .dataframe tbody tr th:only-of-type {\n",
       "        vertical-align: middle;\n",
       "    }\n",
       "\n",
       "    .dataframe tbody tr th {\n",
       "        vertical-align: top;\n",
       "    }\n",
       "\n",
       "    .dataframe thead th {\n",
       "        text-align: right;\n",
       "    }\n",
       "</style>\n",
       "<table border=\"1\" class=\"dataframe\">\n",
       "  <thead>\n",
       "    <tr style=\"text-align: right;\">\n",
       "      <th></th>\n",
       "      <th>htn_cal</th>\n",
       "      <th>dm_cal</th>\n",
       "      <th>hichol_cal</th>\n",
       "    </tr>\n",
       "  </thead>\n",
       "  <tbody>\n",
       "    <tr>\n",
       "      <th>2</th>\n",
       "      <td>0</td>\n",
       "      <td>1</td>\n",
       "      <td>0</td>\n",
       "    </tr>\n",
       "    <tr>\n",
       "      <th>3</th>\n",
       "      <td>1</td>\n",
       "      <td>1</td>\n",
       "      <td>1</td>\n",
       "    </tr>\n",
       "    <tr>\n",
       "      <th>5</th>\n",
       "      <td>0</td>\n",
       "      <td>0</td>\n",
       "      <td>0</td>\n",
       "    </tr>\n",
       "    <tr>\n",
       "      <th>6</th>\n",
       "      <td>1</td>\n",
       "      <td>0</td>\n",
       "      <td>1</td>\n",
       "    </tr>\n",
       "    <tr>\n",
       "      <th>7</th>\n",
       "      <td>1</td>\n",
       "      <td>1</td>\n",
       "      <td>1</td>\n",
       "    </tr>\n",
       "    <tr>\n",
       "      <th>...</th>\n",
       "      <td>...</td>\n",
       "      <td>...</td>\n",
       "      <td>...</td>\n",
       "    </tr>\n",
       "    <tr>\n",
       "      <th>2313</th>\n",
       "      <td>1</td>\n",
       "      <td>1</td>\n",
       "      <td>1</td>\n",
       "    </tr>\n",
       "    <tr>\n",
       "      <th>2314</th>\n",
       "      <td>1</td>\n",
       "      <td>1</td>\n",
       "      <td>1</td>\n",
       "    </tr>\n",
       "    <tr>\n",
       "      <th>2315</th>\n",
       "      <td>1</td>\n",
       "      <td>0</td>\n",
       "      <td>1</td>\n",
       "    </tr>\n",
       "    <tr>\n",
       "      <th>2316</th>\n",
       "      <td>0</td>\n",
       "      <td>1</td>\n",
       "      <td>1</td>\n",
       "    </tr>\n",
       "    <tr>\n",
       "      <th>2317</th>\n",
       "      <td>1</td>\n",
       "      <td>0</td>\n",
       "      <td>0</td>\n",
       "    </tr>\n",
       "  </tbody>\n",
       "</table>\n",
       "<p>2047 rows × 3 columns</p>\n",
       "</div>"
      ],
      "text/plain": [
       "      htn_cal  dm_cal  hichol_cal\n",
       "2           0       1           0\n",
       "3           1       1           1\n",
       "5           0       0           0\n",
       "6           1       0           1\n",
       "7           1       1           1\n",
       "...       ...     ...         ...\n",
       "2313        1       1           1\n",
       "2314        1       1           1\n",
       "2315        1       0           1\n",
       "2316        0       1           1\n",
       "2317        1       0           0\n",
       "\n",
       "[2047 rows x 3 columns]"
      ]
     },
     "execution_count": 267,
     "metadata": {},
     "output_type": "execute_result"
    }
   ],
   "source": [
    "# 질환력\n",
    "dataset_C[['htn_cal','dm_cal','hichol_cal']]"
   ]
  },
  {
   "cell_type": "code",
   "execution_count": 268,
   "metadata": {},
   "outputs": [
    {
     "data": {
      "text/plain": [
       "array([1, 3, 0, 2], dtype=int64)"
      ]
     },
     "execution_count": 268,
     "metadata": {},
     "output_type": "execute_result"
    }
   ],
   "source": [
    "dataset_C['질환력'] = dataset_C['htn_cal'] + dataset_C['dm_cal'] + dataset_C['hichol_cal']\n",
    "dataset_C['질환력'].unique()"
   ]
  },
  {
   "cell_type": "code",
   "execution_count": 269,
   "metadata": {},
   "outputs": [],
   "source": [
    "condition=(dataset_C['질환력']>0)\n",
    "dataset_C.loc[condition,\"질환력\"] = 1"
   ]
  },
  {
   "cell_type": "code",
   "execution_count": 270,
   "metadata": {},
   "outputs": [
    {
     "data": {
      "text/plain": [
       "array([1, 0], dtype=int64)"
      ]
     },
     "execution_count": 270,
     "metadata": {},
     "output_type": "execute_result"
    }
   ],
   "source": [
    "dataset_C['질환력'].unique()"
   ]
  },
  {
   "cell_type": "code",
   "execution_count": 271,
   "metadata": {},
   "outputs": [
    {
     "data": {
      "text/plain": [
       "array([2, 5, 0, 1, 4, 3, 6], dtype=int64)"
      ]
     },
     "execution_count": 271,
     "metadata": {},
     "output_type": "execute_result"
    }
   ],
   "source": [
    "# 심혈관질환력\n",
    "dataset_C['심혈관질환력'] = dataset_C['coronary'] + dataset_C['vhd'] + dataset_C['A_fib_cal'] + dataset_C['CHF_all'] + dataset_C['A_flutter'] + dataset_C['paod'] + dataset_C['other_cardiac'] + dataset_C['vhd_mechnical'] + dataset_C['vhd_ms'] \n",
    "dataset_C['심혈관질환력'].unique()"
   ]
  },
  {
   "cell_type": "code",
   "execution_count": 272,
   "metadata": {},
   "outputs": [
    {
     "data": {
      "text/plain": [
       "array([1, 0], dtype=int64)"
      ]
     },
     "execution_count": 272,
     "metadata": {},
     "output_type": "execute_result"
    }
   ],
   "source": [
    "condition=(dataset_C['심혈관질환력']>0)\n",
    "dataset_C.loc[condition,\"심혈관질환력\"] = 1\n",
    "dataset_C['심혈관질환력'].unique()"
   ]
  },
  {
   "cell_type": "code",
   "execution_count": 273,
   "metadata": {},
   "outputs": [
    {
     "data": {
      "text/plain": [
       "array([0, 1, 2], dtype=int64)"
      ]
     },
     "execution_count": 273,
     "metadata": {},
     "output_type": "execute_result"
    }
   ],
   "source": [
    "# 뇌졸중질환력\n",
    "dataset_C['뇌졸중질환력'] = dataset_C['prev_tia'] + dataset_C['prev_infarction'] + dataset_C['prev_hemorrhage'] + dataset_C['prev_unspecified']\n",
    "dataset_C['뇌졸중질환력'].unique()"
   ]
  },
  {
   "cell_type": "code",
   "execution_count": 274,
   "metadata": {},
   "outputs": [
    {
     "data": {
      "text/plain": [
       "array([0, 1], dtype=int64)"
      ]
     },
     "execution_count": 274,
     "metadata": {},
     "output_type": "execute_result"
    }
   ],
   "source": [
    "condition=(dataset_C['뇌졸중질환력']>0)\n",
    "dataset_C.loc[condition,\"뇌졸중질환력\"] = 1\n",
    "dataset_C['뇌졸중질환력'].unique()"
   ]
  },
  {
   "cell_type": "code",
   "execution_count": 275,
   "metadata": {},
   "outputs": [
    {
     "data": {
      "text/plain": [
       "array([0, 4, 3, 2, 1, 5, 7, 6], dtype=int64)"
      ]
     },
     "execution_count": 275,
     "metadata": {},
     "output_type": "execute_result"
    }
   ],
   "source": [
    "# 심혈관약물력\n",
    "dataset_C['심혈관약물력'] = dataset_C['pre_aspirin'] + dataset_C['pre_plavix'] + dataset_C['pre_ticlid'] + dataset_C['pre_disgren'] + dataset_C['pre_cilostazol'] + dataset_C['pre_sarpogrelate'] + dataset_C['pre_aggrenox'] + dataset_C['pre_warfarin'] + dataset_C['pre_dabigatran'] + dataset_C['apixaban'] + dataset_C['rivaroxaban'] + dataset_C['pre_edoxavan'] + dataset_C['pre_statin'] + dataset_C['pre_ACE_inhibitor'] + dataset_C['pre_ARB'] + dataset_C['pre_CCB'] + dataset_C['pre_beta_blocker'] + dataset_C['pre_diuretics']\n",
    "dataset_C['심혈관약물력'].unique()"
   ]
  },
  {
   "cell_type": "code",
   "execution_count": 276,
   "metadata": {},
   "outputs": [
    {
     "data": {
      "text/plain": [
       "array([0, 1], dtype=int64)"
      ]
     },
     "execution_count": 276,
     "metadata": {},
     "output_type": "execute_result"
    }
   ],
   "source": [
    "condition=(dataset_C['심혈관약물력']>0)\n",
    "dataset_C.loc[condition,\"심혈관약물력\"] = 1\n",
    "dataset_C['심혈관약물력'].unique()"
   ]
  },
  {
   "cell_type": "code",
   "execution_count": 277,
   "metadata": {},
   "outputs": [
    {
     "data": {
      "text/plain": [
       "array([0, 1, 2, 3], dtype=int64)"
      ]
     },
     "execution_count": 277,
     "metadata": {},
     "output_type": "execute_result"
    }
   ],
   "source": [
    "#치료중합병증\n",
    "dataset_C['치료중합병증'] = dataset_C['tl_life_bleeding'] + dataset_C['tl_herniation'] + dataset_C['tl_infection'] \n",
    "dataset_C['치료중합병증'].unique()"
   ]
  },
  {
   "cell_type": "code",
   "execution_count": 278,
   "metadata": {},
   "outputs": [
    {
     "data": {
      "text/plain": [
       "array([0, 1], dtype=int64)"
      ]
     },
     "execution_count": 278,
     "metadata": {},
     "output_type": "execute_result"
    }
   ],
   "source": [
    "condition=(dataset_C['치료중합병증']>0)\n",
    "dataset_C.loc[condition,\"치료중합병증\"] = 1\n",
    "dataset_C['치료중합병증'].unique()"
   ]
  },
  {
   "cell_type": "code",
   "execution_count": 279,
   "metadata": {},
   "outputs": [
    {
     "data": {
      "text/plain": [
       "array([39., 38., 42., 41., 40., 35., 37., 36., 34., 33.])"
      ]
     },
     "execution_count": 279,
     "metadata": {},
     "output_type": "execute_result"
    }
   ],
   "source": [
    "#동반질환\n",
    "dataset_C['동반질환'] = dataset_C['com_mi'] + dataset_C['com_chf'] + dataset_C['com_paod'] + dataset_C['com_cva_tia'] + dataset_C['com_af'] + dataset_C['com_dementia'] + dataset_C['com_depression'] + dataset_C['com_pulm_dz'] + dataset_C['com_ulcer'] + dataset_C['com_liver_dz'] + dataset_C['com_renal_dz'] + dataset_C['com_connective_dz'] + dataset_C['com_anemia'] + dataset_C['com_dm'] + dataset_C['com_dm_end_organ'] + dataset_C['com_hiv'] + dataset_C['com_solid_tumor'] + dataset_C['com_leukemia'] + dataset_C['com_lymphoma'] + dataset_C['com_metastatic_tumor']+ dataset_C['active_cancer']\n",
    "dataset_C['동반질환'].unique()"
   ]
  },
  {
   "cell_type": "markdown",
   "metadata": {},
   "source": [
    "- 동반질환의 경우 데이터의 합이 21인 경우가 없으므로 각각의 변수를 따로 보는게 좋은것 같음\n",
    "- '질환력', '심혈관질환력', '뇌졸중질환력', '심혈관약물력', '치료중합병증' 사용하기"
   ]
  },
  {
   "cell_type": "code",
   "execution_count": 280,
   "metadata": {},
   "outputs": [
    {
     "data": {
      "text/plain": [
       "array([[<matplotlib.axes._subplots.AxesSubplot object at 0x000001FA29FF2B50>,\n",
       "        <matplotlib.axes._subplots.AxesSubplot object at 0x000001FA297119D0>],\n",
       "       [<matplotlib.axes._subplots.AxesSubplot object at 0x000001FA2973BE20>,\n",
       "        <matplotlib.axes._subplots.AxesSubplot object at 0x000001FA2976E2B0>],\n",
       "       [<matplotlib.axes._subplots.AxesSubplot object at 0x000001FA2979A700>,\n",
       "        <matplotlib.axes._subplots.AxesSubplot object at 0x000001FA297C5BB0>]],\n",
       "      dtype=object)"
      ]
     },
     "execution_count": 280,
     "metadata": {},
     "output_type": "execute_result"
    },
    {
     "data": {
      "image/png": "[encoded data removed]",
      "text/plain": [
       "<Figure size 432x288 with 6 Axes>"
      ]
     },
     "metadata": {
      "needs_background": "light"
     },
     "output_type": "display_data"
    }
   ],
   "source": [
    "dataset_C[['질환력', '심혈관질환력', '뇌졸중질환력', '심혈관약물력', '치료중합병증']].hist()"
   ]
  },
  {
   "cell_type": "code",
   "execution_count": 281,
   "metadata": {},
   "outputs": [
    {
     "data": {
      "text/plain": [
       "2       24.22\n",
       "3       26.49\n",
       "5       22.27\n",
       "6       24.44\n",
       "7       32.05\n",
       "        ...  \n",
       "2313    19.10\n",
       "2314    23.92\n",
       "2315    19.31\n",
       "2316    20.72\n",
       "2317    21.63\n",
       "Name: BMI, Length: 2047, dtype: float64"
      ]
     },
     "execution_count": 281,
     "metadata": {},
     "output_type": "execute_result"
    }
   ],
   "source": [
    "#BMI\n",
    "dataset_C['BMI'] = round((dataset_C['body_weight']/((dataset_C['body_height'])**2))*10000,2)\n",
    "dataset_C['BMI']"
   ]
  },
  {
   "cell_type": "code",
   "execution_count": 282,
   "metadata": {},
   "outputs": [
    {
     "data": {
      "text/plain": [
       "body_weight    21\n",
       "body_height    25\n",
       "BMI            26\n",
       "dtype: int64"
      ]
     },
     "execution_count": 282,
     "metadata": {},
     "output_type": "execute_result"
    }
   ],
   "source": [
    "dataset_C[['body_weight','body_height','BMI']].isnull().sum()"
   ]
  },
  {
   "cell_type": "code",
   "execution_count": 283,
   "metadata": {},
   "outputs": [
    {
     "name": "stdout",
     "output_type": "stream",
     "text": [
      "<class 'pandas.core.frame.DataFrame'>\n",
      "Int64Index: 26 entries, 854 to 1858\n",
      "Data columns (total 2 columns):\n",
      " #   Column       Non-Null Count  Dtype  \n",
      "---  ------       --------------  -----  \n",
      " 0   body_weight  5 non-null      float64\n",
      " 1   body_height  1 non-null      float64\n",
      "dtypes: float64(2)\n",
      "memory usage: 624.0 bytes\n"
     ]
    }
   ],
   "source": [
    "condition=((dataset_C['body_weight'].isna()==True) | (dataset_C['body_height'].isna()==True))\n",
    "dataset_C.loc[condition, ['body_weight', 'body_height']].info()"
   ]
  },
  {
   "cell_type": "code",
   "execution_count": 284,
   "metadata": {},
   "outputs": [
    {
     "data": {
      "text/plain": [
       "2       1953\n",
       "3       1957\n",
       "5       1943\n",
       "6       1929\n",
       "7       1949\n",
       "        ... \n",
       "2313    1936\n",
       "2314    1943\n",
       "2315    1936\n",
       "2316    1957\n",
       "2317    1934\n",
       "Name: pt_birth_yaer, Length: 2047, dtype: int64"
      ]
     },
     "execution_count": 284,
     "metadata": {},
     "output_type": "execute_result"
    }
   ],
   "source": [
    "#생년월일에서 년도만 자르기\n",
    "dataset_C[\"pt_birth_year\"] = dataset_C[\"pt_birth\"].str[0:4]\n",
    "dataset_C[\"pt_birth_yaer\"] = pd.to_numeric(dataset_C[\"pt_birth_year\"])\n",
    "dataset_C[\"pt_birth_yaer\"]"
   ]
  },
  {
   "cell_type": "code",
   "execution_count": 285,
   "metadata": {},
   "outputs": [
    {
     "data": {
      "text/plain": [
       "2       70\n",
       "3       66\n",
       "5       80\n",
       "6       94\n",
       "7       74\n",
       "        ..\n",
       "2313    87\n",
       "2314    80\n",
       "2315    87\n",
       "2316    66\n",
       "2317    89\n",
       "Name: age, Length: 2047, dtype: int64"
      ]
     },
     "execution_count": 285,
     "metadata": {},
     "output_type": "execute_result"
    }
   ],
   "source": [
    "#나이계산(2022년 기준)\n",
    "dataset_C['age']=(2022-dataset_C[\"pt_birth_yaer\"]+1)\n",
    "dataset_C['age']"
   ]
  },
  {
   "cell_type": "markdown",
   "metadata": {},
   "source": [
    "# Random Forest\n",
    "- https://todayisbetterthanyesterday.tistory.com/51\n",
    "- https://alex-blog.tistory.com/entry/Machine-Learning-Random-Forest-%EB%9E%9C%EB%8D%A4-%ED%8F%AC%EB%A0%88%EC%8A%A4%ED%8A%B8-%EC%98%88%EC%8B%9C-feat-python"
   ]
  },
  {
   "cell_type": "code",
   "execution_count": 289,
   "metadata": {},
   "outputs": [
    {
     "data": {
      "text/html": [
       "<div>\n",
       "<style scoped>\n",
       "    .dataframe tbody tr th:only-of-type {\n",
       "        vertical-align: middle;\n",
       "    }\n",
       "\n",
       "    .dataframe tbody tr th {\n",
       "        vertical-align: top;\n",
       "    }\n",
       "\n",
       "    .dataframe thead th {\n",
       "        text-align: right;\n",
       "    }\n",
       "</style>\n",
       "<table border=\"1\" class=\"dataframe\">\n",
       "  <thead>\n",
       "    <tr style=\"text-align: right;\">\n",
       "      <th></th>\n",
       "      <th>pt_dc_route</th>\n",
       "      <th>toast_tissue</th>\n",
       "      <th>rankin3</th>\n",
       "    </tr>\n",
       "  </thead>\n",
       "  <tbody>\n",
       "    <tr>\n",
       "      <th>2</th>\n",
       "      <td>재활의학과 전과</td>\n",
       "      <td>UT</td>\n",
       "      <td>2</td>\n",
       "    </tr>\n",
       "    <tr>\n",
       "      <th>3</th>\n",
       "      <td>자가 퇴원</td>\n",
       "      <td>CE</td>\n",
       "      <td>2</td>\n",
       "    </tr>\n",
       "    <tr>\n",
       "      <th>5</th>\n",
       "      <td>자가 퇴원</td>\n",
       "      <td>LAA</td>\n",
       "      <td>0</td>\n",
       "    </tr>\n",
       "    <tr>\n",
       "      <th>6</th>\n",
       "      <td>재활의학과 전과</td>\n",
       "      <td>CE</td>\n",
       "      <td>조기 퇴원</td>\n",
       "    </tr>\n",
       "    <tr>\n",
       "      <th>7</th>\n",
       "      <td>사망</td>\n",
       "      <td>CE</td>\n",
       "      <td>6</td>\n",
       "    </tr>\n",
       "  </tbody>\n",
       "</table>\n",
       "</div>"
      ],
      "text/plain": [
       "  pt_dc_route toast_tissue rankin3\n",
       "2    재활의학과 전과           UT       2\n",
       "3       자가 퇴원           CE       2\n",
       "5       자가 퇴원          LAA       0\n",
       "6    재활의학과 전과           CE   조기 퇴원\n",
       "7          사망           CE       6"
      ]
     },
     "execution_count": 289,
     "metadata": {},
     "output_type": "execute_result"
    }
   ],
   "source": [
    "# random forest를 위한 데이터처리(object 변수)\n",
    "categorical = [var for var in dataset_C.columns if dataset_C[var].dtype=='O']\n",
    "dataset_C[categorical].head()"
   ]
  },
  {
   "cell_type": "code",
   "execution_count": 287,
   "metadata": {},
   "outputs": [],
   "source": [
    "dataset_C=dataset_C.drop(columns=['pt_birth','pt_birth_year'])"
   ]
  },
  {
   "cell_type": "code",
   "execution_count": 288,
   "metadata": {},
   "outputs": [],
   "source": [
    "dataset_C=dataset_C.drop(columns=['adm_date','dc_date','alive_date','death_date'])"
   ]
  },
  {
   "cell_type": "code",
   "execution_count": 305,
   "metadata": {},
   "outputs": [],
   "source": [
    "dataset_C=dataset_C.drop(columns=['death_ass_tl', 'body_height', 'body_weight'])"
   ]
  },
  {
   "cell_type": "code",
   "execution_count": 321,
   "metadata": {},
   "outputs": [],
   "source": [
    "dataset_C=dataset_C.dropna(subset=['BMI'])"
   ]
  },
  {
   "cell_type": "code",
   "execution_count": 322,
   "metadata": {},
   "outputs": [
    {
     "name": "stdout",
     "output_type": "stream",
     "text": [
      "자가 퇴원        0.515092\n",
      "타병원/타과 전과    0.249381\n",
      "재활의학과 전과     0.176645\n",
      "사망           0.058387\n",
      "입원중          0.000495\n",
      "Name: pt_dc_route, dtype: float64\n",
      "0.0      0.215735\n",
      "1.0      0.158337\n",
      "2.0      0.133597\n",
      "조기 퇴원    0.129639\n",
      "6.0      0.107867\n",
      "4.0      0.091044\n",
      "5.0      0.088075\n",
      "3.0      0.073726\n",
      "사망       0.001979\n",
      "Name: rankin3, dtype: float64\n",
      "CE     0.510638\n",
      "LAA    0.195448\n",
      "UN     0.131123\n",
      "UT     0.094013\n",
      "SOD    0.035626\n",
      "LAC    0.026225\n",
      "UI     0.006927\n",
      "Name: toast_tissue, dtype: float64\n"
     ]
    }
   ],
   "source": [
    "# 각 인자 요소 비율\n",
    "for var in categorical:\n",
    "     print(dataset_C[var].value_counts()/np.float(len(dataset_C)))"
   ]
  },
  {
   "cell_type": "code",
   "execution_count": 323,
   "metadata": {},
   "outputs": [
    {
     "data": {
      "text/plain": [
       "pt_dc_route     0\n",
       "rankin3         0\n",
       "toast_tissue    0\n",
       "dtype: int64"
      ]
     },
     "execution_count": 323,
     "metadata": {},
     "output_type": "execute_result"
    }
   ],
   "source": [
    "dataset_C[categorical].isnull().sum()"
   ]
  },
  {
   "cell_type": "code",
   "execution_count": 324,
   "metadata": {},
   "outputs": [
    {
     "name": "stdout",
     "output_type": "stream",
     "text": [
      "pt_dc_route  contains  5  labels\n",
      "rankin3  contains  9  labels\n",
      "toast_tissue  contains  7  labels\n"
     ]
    }
   ],
   "source": [
    "# check for cardinality in categorical variables\n",
    "# more N of label, more cardinality\n",
    "for var in categorical:\n",
    "    print(var, ' contains ', len(dataset_C[var].unique()), ' labels')"
   ]
  },
  {
   "cell_type": "code",
   "execution_count": 325,
   "metadata": {},
   "outputs": [
    {
     "name": "stdout",
     "output_type": "stream",
     "text": [
      "There are 101 numerical variables\n",
      "\n",
      "The numerical variables are :\n",
      "\n",
      " ['pt_id', 'modality_ivtpa', 'modality_iauk', 'modality_mechanical', 'modality_etc', 'sex', 'initial_sbp_cal', 'initial_dbp_cal', 'htn_cal', 'dm_cal', 'hichol_cal', 'smoking_cur', 'smoking_ex', 'coronary', 'vhd', 'A_fib_cal', 'CHF_all', 'A_flutter', 'paod', 'other_cardiac', 'vhd_mechnical', 'vhd_ms', 'prev_tia', 'prev_infarction', 'prev_hemorrhage', 'prev_unspecified', 'smoking_none', 'pre_aspirin', 'pre_plavix', 'pre_ticlid', 'pre_disgren', 'pre_cilostazol', 'pre_sarpogrelate', 'pre_aggrenox', 'pre_warfarin', 'pre_dabigatran', 'apixaban', 'rivaroxaban', 'pre_edoxavan', 'pre_statin', 'pre_ACE_inhibitor', 'pre_ARB', 'pre_CCB', 'pre_beta_blocker', 'pre_diuretics', 'hgb_cal', 'hct_cal', 'wbc_cal', 'platelet_cal', 'pt', 'ptt', 'ysr_bun', 'ysr_creatine', 'glucose_fasting_cal', 'tchol', 'tg', 'hdl', 'ldl', 'pre_mrs', 'death_infarc', 'death_hemorr', 'death_mi', 'death_infect', 'death_other', 'c_death_cancer', 'c_death_6mo', 'tl_onset_clear', 'tl_in_hospital', 'tl_life_bleeding', 'tl_herniation', 'tl_infection', 'com_mi', 'com_chf', 'com_paod', 'com_cva_tia', 'com_af', 'com_dementia', 'com_depression', 'com_pulm_dz', 'com_ulcer', 'com_liver_dz', 'com_renal_dz', 'com_connective_dz', 'com_anemia', 'com_dm', 'com_dm_end_organ', 'com_hiv', 'com_solid_tumor', 'com_leukemia', 'com_lymphoma', 'com_metastatic_tumor', 'active_cancer', '질환력', '심혈관질환력', '뇌졸중질환력', '심혈관약물력', '치료중합병증', '동반질환', 'BMI', 'pt_birth_yaer', 'age']\n"
     ]
    }
   ],
   "source": [
    "numerical = [var for var in dataset_C.columns if dataset_C[var].dtype !='O']\n",
    "print('There are {} numerical variables\\n'.format(len(numerical)))\n",
    "print('The numerical variables are :\\n\\n', numerical)"
   ]
  },
  {
   "cell_type": "code",
   "execution_count": 326,
   "metadata": {},
   "outputs": [
    {
     "data": {
      "text/html": [
       "<div>\n",
       "<style scoped>\n",
       "    .dataframe tbody tr th:only-of-type {\n",
       "        vertical-align: middle;\n",
       "    }\n",
       "\n",
       "    .dataframe tbody tr th {\n",
       "        vertical-align: top;\n",
       "    }\n",
       "\n",
       "    .dataframe thead th {\n",
       "        text-align: right;\n",
       "    }\n",
       "</style>\n",
       "<table border=\"1\" class=\"dataframe\">\n",
       "  <thead>\n",
       "    <tr style=\"text-align: right;\">\n",
       "      <th></th>\n",
       "      <th>pt_id</th>\n",
       "      <th>modality_ivtpa</th>\n",
       "      <th>modality_iauk</th>\n",
       "      <th>modality_mechanical</th>\n",
       "      <th>modality_etc</th>\n",
       "      <th>sex</th>\n",
       "      <th>initial_sbp_cal</th>\n",
       "      <th>initial_dbp_cal</th>\n",
       "      <th>htn_cal</th>\n",
       "      <th>dm_cal</th>\n",
       "      <th>...</th>\n",
       "      <th>active_cancer</th>\n",
       "      <th>질환력</th>\n",
       "      <th>심혈관질환력</th>\n",
       "      <th>뇌졸중질환력</th>\n",
       "      <th>심혈관약물력</th>\n",
       "      <th>치료중합병증</th>\n",
       "      <th>동반질환</th>\n",
       "      <th>BMI</th>\n",
       "      <th>pt_birth_yaer</th>\n",
       "      <th>age</th>\n",
       "    </tr>\n",
       "  </thead>\n",
       "  <tbody>\n",
       "    <tr>\n",
       "      <th>2</th>\n",
       "      <td>3</td>\n",
       "      <td>1</td>\n",
       "      <td>0</td>\n",
       "      <td>0</td>\n",
       "      <td>0</td>\n",
       "      <td>1</td>\n",
       "      <td>220</td>\n",
       "      <td>110</td>\n",
       "      <td>0</td>\n",
       "      <td>1</td>\n",
       "      <td>...</td>\n",
       "      <td>2.0</td>\n",
       "      <td>1</td>\n",
       "      <td>1</td>\n",
       "      <td>0</td>\n",
       "      <td>0</td>\n",
       "      <td>0</td>\n",
       "      <td>39.0</td>\n",
       "      <td>24.22</td>\n",
       "      <td>1953</td>\n",
       "      <td>70</td>\n",
       "    </tr>\n",
       "    <tr>\n",
       "      <th>3</th>\n",
       "      <td>4</td>\n",
       "      <td>0</td>\n",
       "      <td>0</td>\n",
       "      <td>1</td>\n",
       "      <td>0</td>\n",
       "      <td>2</td>\n",
       "      <td>90</td>\n",
       "      <td>50</td>\n",
       "      <td>1</td>\n",
       "      <td>1</td>\n",
       "      <td>...</td>\n",
       "      <td>2.0</td>\n",
       "      <td>1</td>\n",
       "      <td>1</td>\n",
       "      <td>0</td>\n",
       "      <td>1</td>\n",
       "      <td>0</td>\n",
       "      <td>38.0</td>\n",
       "      <td>26.49</td>\n",
       "      <td>1957</td>\n",
       "      <td>66</td>\n",
       "    </tr>\n",
       "    <tr>\n",
       "      <th>5</th>\n",
       "      <td>6</td>\n",
       "      <td>1</td>\n",
       "      <td>0</td>\n",
       "      <td>1</td>\n",
       "      <td>0</td>\n",
       "      <td>1</td>\n",
       "      <td>110</td>\n",
       "      <td>67</td>\n",
       "      <td>0</td>\n",
       "      <td>0</td>\n",
       "      <td>...</td>\n",
       "      <td>2.0</td>\n",
       "      <td>0</td>\n",
       "      <td>0</td>\n",
       "      <td>0</td>\n",
       "      <td>0</td>\n",
       "      <td>0</td>\n",
       "      <td>42.0</td>\n",
       "      <td>22.27</td>\n",
       "      <td>1943</td>\n",
       "      <td>80</td>\n",
       "    </tr>\n",
       "    <tr>\n",
       "      <th>6</th>\n",
       "      <td>7</td>\n",
       "      <td>1</td>\n",
       "      <td>0</td>\n",
       "      <td>1</td>\n",
       "      <td>0</td>\n",
       "      <td>2</td>\n",
       "      <td>144</td>\n",
       "      <td>64</td>\n",
       "      <td>1</td>\n",
       "      <td>0</td>\n",
       "      <td>...</td>\n",
       "      <td>2.0</td>\n",
       "      <td>1</td>\n",
       "      <td>1</td>\n",
       "      <td>1</td>\n",
       "      <td>1</td>\n",
       "      <td>1</td>\n",
       "      <td>41.0</td>\n",
       "      <td>24.44</td>\n",
       "      <td>1929</td>\n",
       "      <td>94</td>\n",
       "    </tr>\n",
       "    <tr>\n",
       "      <th>7</th>\n",
       "      <td>8</td>\n",
       "      <td>0</td>\n",
       "      <td>0</td>\n",
       "      <td>1</td>\n",
       "      <td>0</td>\n",
       "      <td>1</td>\n",
       "      <td>187</td>\n",
       "      <td>101</td>\n",
       "      <td>1</td>\n",
       "      <td>1</td>\n",
       "      <td>...</td>\n",
       "      <td>2.0</td>\n",
       "      <td>1</td>\n",
       "      <td>1</td>\n",
       "      <td>0</td>\n",
       "      <td>1</td>\n",
       "      <td>1</td>\n",
       "      <td>40.0</td>\n",
       "      <td>32.05</td>\n",
       "      <td>1949</td>\n",
       "      <td>74</td>\n",
       "    </tr>\n",
       "  </tbody>\n",
       "</table>\n",
       "<p>5 rows × 101 columns</p>\n",
       "</div>"
      ],
      "text/plain": [
       "   pt_id  modality_ivtpa  modality_iauk  modality_mechanical  modality_etc  \\\n",
       "2      3               1              0                    0             0   \n",
       "3      4               0              0                    1             0   \n",
       "5      6               1              0                    1             0   \n",
       "6      7               1              0                    1             0   \n",
       "7      8               0              0                    1             0   \n",
       "\n",
       "   sex  initial_sbp_cal  initial_dbp_cal  htn_cal  dm_cal  ...  active_cancer  \\\n",
       "2    1              220              110        0       1  ...            2.0   \n",
       "3    2               90               50        1       1  ...            2.0   \n",
       "5    1              110               67        0       0  ...            2.0   \n",
       "6    2              144               64        1       0  ...            2.0   \n",
       "7    1              187              101        1       1  ...            2.0   \n",
       "\n",
       "   질환력  심혈관질환력  뇌졸중질환력  심혈관약물력  치료중합병증  동반질환    BMI  pt_birth_yaer  age  \n",
       "2    1       1       0       0       0  39.0  24.22           1953   70  \n",
       "3    1       1       0       1       0  38.0  26.49           1957   66  \n",
       "5    0       0       0       0       0  42.0  22.27           1943   80  \n",
       "6    1       1       1       1       1  41.0  24.44           1929   94  \n",
       "7    1       1       0       1       1  40.0  32.05           1949   74  \n",
       "\n",
       "[5 rows x 101 columns]"
      ]
     },
     "execution_count": 326,
     "metadata": {},
     "output_type": "execute_result"
    }
   ],
   "source": [
    "dataset_C[numerical].head()"
   ]
  },
  {
   "cell_type": "code",
   "execution_count": 327,
   "metadata": {},
   "outputs": [
    {
     "data": {
      "text/plain": [
       "pt_id                  0\n",
       "modality_ivtpa         0\n",
       "modality_iauk          0\n",
       "modality_mechanical    0\n",
       "modality_etc           0\n",
       "                      ..\n",
       "치료중합병증                 0\n",
       "동반질환                   0\n",
       "BMI                    0\n",
       "pt_birth_yaer          0\n",
       "age                    0\n",
       "Length: 101, dtype: int64"
      ]
     },
     "execution_count": 327,
     "metadata": {},
     "output_type": "execute_result"
    }
   ],
   "source": [
    "dataset_C[numerical].isnull().sum()"
   ]
  },
  {
   "cell_type": "code",
   "execution_count": 328,
   "metadata": {},
   "outputs": [
    {
     "name": "stdout",
     "output_type": "stream",
     "text": [
      "pt_id : 0\n",
      "modality_ivtpa : 0\n",
      "modality_iauk : 0\n",
      "modality_mechanical : 0\n",
      "modality_etc : 0\n",
      "sex : 0\n",
      "initial_sbp_cal : 0\n",
      "initial_dbp_cal : 0\n",
      "htn_cal : 0\n",
      "dm_cal : 0\n",
      "hichol_cal : 0\n",
      "smoking_cur : 0\n",
      "smoking_ex : 0\n",
      "coronary : 0\n",
      "vhd : 0\n",
      "A_fib_cal : 0\n",
      "CHF_all : 0\n",
      "A_flutter : 0\n",
      "paod : 0\n",
      "other_cardiac : 0\n",
      "vhd_mechnical : 0\n",
      "vhd_ms : 0\n",
      "prev_tia : 0\n",
      "prev_infarction : 0\n",
      "prev_hemorrhage : 0\n",
      "prev_unspecified : 0\n",
      "smoking_none : 0\n",
      "pre_aspirin : 0\n",
      "pre_plavix : 0\n",
      "pre_ticlid : 0\n",
      "pre_disgren : 0\n",
      "pre_cilostazol : 0\n",
      "pre_sarpogrelate : 0\n",
      "pre_aggrenox : 0\n",
      "pre_warfarin : 0\n",
      "pre_dabigatran : 0\n",
      "apixaban : 0\n",
      "rivaroxaban : 0\n",
      "pre_edoxavan : 0\n",
      "pre_statin : 0\n",
      "pre_ACE_inhibitor : 0\n",
      "pre_ARB : 0\n",
      "pre_CCB : 0\n",
      "pre_beta_blocker : 0\n",
      "pre_diuretics : 0\n",
      "hgb_cal : 0\n",
      "hct_cal : 0\n",
      "wbc_cal : 0\n",
      "platelet_cal : 0\n",
      "pt : 0\n",
      "ptt : 0\n",
      "ysr_bun : 0\n",
      "ysr_creatine : 0\n",
      "glucose_fasting_cal : 0\n",
      "tchol : 0\n",
      "tg : 0\n",
      "hdl : 0\n",
      "ldl : 0\n",
      "pre_mrs : 0\n",
      "death_infarc : 0\n",
      "death_hemorr : 0\n",
      "death_mi : 0\n",
      "death_infect : 0\n",
      "death_other : 0\n",
      "c_death_cancer : 0\n",
      "c_death_6mo : 0\n",
      "tl_onset_clear : 0\n",
      "tl_in_hospital : 0\n",
      "tl_life_bleeding : 0\n",
      "tl_herniation : 0\n",
      "tl_infection : 0\n",
      "com_mi : 0\n",
      "com_chf : 0\n",
      "com_paod : 0\n",
      "com_cva_tia : 0\n",
      "com_af : 0\n",
      "com_dementia : 0\n",
      "com_depression : 0\n",
      "com_pulm_dz : 0\n",
      "com_ulcer : 0\n",
      "com_liver_dz : 0\n",
      "com_renal_dz : 0\n",
      "com_connective_dz : 0\n",
      "com_anemia : 0\n",
      "com_dm : 0\n",
      "com_dm_end_organ : 0\n",
      "com_hiv : 0\n",
      "com_solid_tumor : 0\n",
      "com_leukemia : 0\n",
      "com_lymphoma : 0\n",
      "com_metastatic_tumor : 0\n",
      "active_cancer : 0\n",
      "질환력 : 0\n",
      "심혈관질환력 : 0\n",
      "뇌졸중질환력 : 0\n",
      "심혈관약물력 : 0\n",
      "치료중합병증 : 0\n",
      "동반질환 : 0\n",
      "BMI : 0\n",
      "pt_birth_yaer : 0\n",
      "age : 0\n"
     ]
    }
   ],
   "source": [
    "#결측치 값이 포함된 칼럼과 개수 확인\n",
    "for index, value in zip(dataset_C[numerical].isnull().sum().index, dataset_C[numerical].isnull().sum()):\n",
    "    print(f\"{index} : {value}\")"
   ]
  },
  {
   "cell_type": "code",
   "execution_count": 82,
   "metadata": {},
   "outputs": [],
   "source": [
    "# data 처리를 위한 library\n",
    "\n",
    "import os \n",
    "import pandas as pd \n",
    "import numpy as np\n",
    "from sklearn.model_selection import train_test_split"
   ]
  },
  {
   "cell_type": "code",
   "execution_count": 83,
   "metadata": {},
   "outputs": [
    {
     "data": {
      "text/plain": [
       "'C:\\\\Users\\\\kmr14\\\\뇌졸중환자_사망예측_알고리즘'"
      ]
     },
     "execution_count": 83,
     "metadata": {},
     "output_type": "execute_result"
    }
   ],
   "source": [
    "# 현재경로 확인\n",
    "\n",
    "os.getcwd()"
   ]
  },
  {
   "cell_type": "code",
   "execution_count": 330,
   "metadata": {},
   "outputs": [
    {
     "name": "stdout",
     "output_type": "stream",
     "text": [
      "nCar: 2021 nVar: 104\n"
     ]
    }
   ],
   "source": [
    "# shape확인\n",
    "\n",
    "nCar = dataset_C.shape[0] # 데이터 개수\n",
    "nVar = dataset_C.shape[1] # 변수 개수\n",
    "print('nCar: %d' % nCar, 'nVar: %d' % nVar )"
   ]
  },
  {
   "cell_type": "code",
   "execution_count": 331,
   "metadata": {},
   "outputs": [
    {
     "data": {
      "text/plain": [
       "2       0\n",
       "3       0\n",
       "5       0\n",
       "6       0\n",
       "7       1\n",
       "       ..\n",
       "2313    0\n",
       "2314    0\n",
       "2315    0\n",
       "2316    0\n",
       "2317    0\n",
       "Name: c_death_6mo, Length: 2021, dtype: int64"
      ]
     },
     "execution_count": 331,
     "metadata": {},
     "output_type": "execute_result"
    }
   ],
   "source": [
    "# 타겟 변수의 형변환\n",
    "mapping_dict = {0 : 0,\n",
    "                1 : 1,}\n",
    "\n",
    "after_mapping_target = dataset_C['c_death_6mo'].apply(lambda x : mapping_dict[x])\n",
    "after_mapping_target"
   ]
  },
  {
   "cell_type": "code",
   "execution_count": 474,
   "metadata": {},
   "outputs": [
    {
     "name": "stdout",
     "output_type": "stream",
     "text": [
      "(1616, 103) (405, 103) (1616,) (405,)\n"
     ]
    }
   ],
   "source": [
    "# features/target, train/test dataset 분리\n",
    "\n",
    "feature_columns = list(dataset_C.columns.difference(['c_death_6mo']))\n",
    "X = dataset_C[feature_columns]\n",
    "y = after_mapping_target\n",
    "\n",
    "train_x, test_x, train_y, test_y = train_test_split(X, y, test_size = 0.2, random_state = 42) # 학습데이터와 평가데이터의 비율을 8:2 로 분할| \n",
    "print(train_x.shape, test_x.shape, train_y.shape, test_y.shape) # 데이터 개수 확인"
   ]
  },
  {
   "cell_type": "markdown",
   "metadata": {},
   "source": [
    "- columns.difference : 특정 컬럼 제외"
   ]
  },
  {
   "cell_type": "code",
   "execution_count": 475,
   "metadata": {},
   "outputs": [],
   "source": [
    "categorical = [col for col in train_x.columns if train_x[col].dtypes == 'O']\n",
    "numerical = [col for col in train_x.columns if train_x[col].dtypes != 'O']"
   ]
  },
  {
   "cell_type": "code",
   "execution_count": 405,
   "metadata": {},
   "outputs": [
    {
     "data": {
      "text/plain": [
       "pt_dc_route     0.0\n",
       "rankin3         0.0\n",
       "toast_tissue    0.0\n",
       "dtype: float64"
      ]
     },
     "execution_count": 405,
     "metadata": {},
     "output_type": "execute_result"
    }
   ],
   "source": [
    "# print percentage of missing values in the categorical variables in training set\n",
    "train_x[categorical].isnull().mean()"
   ]
  },
  {
   "cell_type": "markdown",
   "metadata": {},
   "source": [
    "- missing 값이있을때 (하단 코드 참고)\n",
    "    - print categorical variables with missing data\n",
    "        for col in categorical:\n",
    "            if train_x[col].isnull().mean()>0:\n",
    "                print(col, (train_x[col].isnull().mean()))\n",
    "    - impute missing categorical variables with most frequent value\n",
    "        for df2 in [train_x, test_x]:\n",
    "            df2['alive_date'].fillna(train_x['alive_date'].mode()[0], inplace=True)\n",
    "            df2['death_date'].fillna(train_x['death_date'].mode()[0], inplace=True)"
   ]
  },
  {
   "cell_type": "code",
   "execution_count": 119,
   "metadata": {},
   "outputs": [],
   "source": [
    "# 범주형변수\n",
    "## ordinal -> OrdinalEncoder \n",
    "## nominal -> OneHotEncoder"
   ]
  },
  {
   "cell_type": "code",
   "execution_count": 224,
   "metadata": {},
   "outputs": [
    {
     "data": {
      "text/plain": [
       "pandas.core.frame.DataFrame"
      ]
     },
     "execution_count": 224,
     "metadata": {},
     "output_type": "execute_result"
    }
   ],
   "source": [
    "type(dataset_C[categorical])"
   ]
  },
  {
   "cell_type": "markdown",
   "metadata": {},
   "source": [
    "dataset_C_cat1=dataset_C[[\"pt_dc_route\"]]\n",
    "\n",
    "from sklearn.preprocessing import OneHotEncoder\n",
    "encoder = OneHotEncoder()\n",
    "dataset_C_cat_1hot=encoder.fit_transform(dataset_C_cat1)"
   ]
  },
  {
   "cell_type": "markdown",
   "metadata": {},
   "source": [
    "dataset_C_cat3=dataset_C[[\"toast_tissue\"]]\n",
    "\n",
    "from sklearn.preprocessing import OneHotEncoder\n",
    "encoder = OneHotEncoder()\n",
    "dataset_C_cat_3hot=encoder.fit_transform(dataset_C_cat3)"
   ]
  },
  {
   "cell_type": "markdown",
   "metadata": {},
   "source": [
    "dataset_C['rankin3']=str(dataset_C['rankin3'])"
   ]
  },
  {
   "cell_type": "markdown",
   "metadata": {},
   "source": [
    "dataset_C_cat2=dataset_C[[\"rankin3\"]]\n",
    "\n",
    "from sklearn.preprocessing import OneHotEncoder\n",
    "encoder = OneHotEncoder()\n",
    "dataset_C_cat_2hot=encoder.fit_transform(dataset_C_cat2)"
   ]
  },
  {
   "cell_type": "markdown",
   "metadata": {},
   "source": [
    "from sklearn.preprocessing import OneHotEncoder\n",
    "encoder = OneHotEncoder()\n",
    "\n",
    "#reshape\n",
    "#X_ = x_new.reshape(-1,1)\n",
    "#X_.shape\n",
    "#list일 경우 np.reshape 사용\n",
    "\n",
    "categorical=np.reshape(categorical,(-1,1))\n",
    "categorical=encoder.fit_transform(categorical)"
   ]
  },
  {
   "cell_type": "code",
   "execution_count": 243,
   "metadata": {},
   "outputs": [
    {
     "name": "stdout",
     "output_type": "stream",
     "text": [
      "Collecting category_encoders\n",
      "  Downloading category_encoders-2.4.0-py2.py3-none-any.whl (86 kB)\n",
      "Requirement already satisfied: scipy>=1.0.0 in c:\\users\\kmr14\\anaconda3\\lib\\site-packages (from category_encoders) (1.5.0)\n",
      "Requirement already satisfied: scikit-learn>=0.20.0 in c:\\users\\kmr14\\anaconda3\\lib\\site-packages (from category_encoders) (0.23.1)\n",
      "Requirement already satisfied: pandas>=0.21.1 in c:\\users\\kmr14\\anaconda3\\lib\\site-packages (from category_encoders) (1.0.5)\n",
      "Requirement already satisfied: numpy>=1.14.0 in c:\\users\\kmr14\\anaconda3\\lib\\site-packages (from category_encoders) (1.18.5)\n",
      "Requirement already satisfied: statsmodels>=0.9.0 in c:\\users\\kmr14\\anaconda3\\lib\\site-packages (from category_encoders) (0.11.1)Note: you may need to restart the kernel to use updated packages.\n",
      "\n",
      "Requirement already satisfied: patsy>=0.5.1 in c:\\users\\kmr14\\anaconda3\\lib\\site-packages (from category_encoders) (0.5.1)\n",
      "Requirement already satisfied: joblib>=0.11 in c:\\users\\kmr14\\anaconda3\\lib\\site-packages (from scikit-learn>=0.20.0->category_encoders) (0.16.0)\n",
      "Requirement already satisfied: threadpoolctl>=2.0.0 in c:\\users\\kmr14\\anaconda3\\lib\\site-packages (from scikit-learn>=0.20.0->category_encoders) (2.1.0)\n",
      "Requirement already satisfied: python-dateutil>=2.6.1 in c:\\users\\kmr14\\anaconda3\\lib\\site-packages (from pandas>=0.21.1->category_encoders) (2.8.1)\n",
      "Requirement already satisfied: pytz>=2017.2 in c:\\users\\kmr14\\anaconda3\\lib\\site-packages (from pandas>=0.21.1->category_encoders) (2020.1)\n",
      "Requirement already satisfied: six in c:\\users\\kmr14\\anaconda3\\lib\\site-packages (from patsy>=0.5.1->category_encoders) (1.15.0)\n",
      "Installing collected packages: category-encoders\n",
      "Successfully installed category-encoders-2.4.0\n"
     ]
    }
   ],
   "source": [
    "pip install category_encoders"
   ]
  },
  {
   "cell_type": "code",
   "execution_count": 476,
   "metadata": {},
   "outputs": [],
   "source": [
    "#!pip install category_encoders\n",
    "import category_encoders as ce\n",
    "\n",
    "# encode categorical variables with one-hot encoding\n",
    "encoder = ce.OneHotEncoder(cols=['pt_dc_route', 'rankin3', 'toast_tissue'])\n",
    "\n",
    "train_x = encoder.fit_transform(train_x)\n",
    "test_x = encoder.transform(test_x)"
   ]
  },
  {
   "cell_type": "code",
   "execution_count": 477,
   "metadata": {},
   "outputs": [],
   "source": [
    "cols = train_x.columns"
   ]
  },
  {
   "cell_type": "code",
   "execution_count": 478,
   "metadata": {},
   "outputs": [],
   "source": [
    "from sklearn.preprocessing import RobustScaler\n",
    "\n",
    "scaler = RobustScaler()\n",
    "train_x = scaler.fit_transform(train_x)\n",
    "test_x = scaler.transform(test_x)"
   ]
  },
  {
   "cell_type": "code",
   "execution_count": 465,
   "metadata": {},
   "outputs": [],
   "source": [
    "#보류 (아래 코드, lgb에서 오류남)\n",
    "train_x = pd.DataFrame(train_x, columns=[cols])\n",
    "test_x = pd.DataFrame(test_x, columns=[cols])"
   ]
  },
  {
   "cell_type": "code",
   "execution_count": 351,
   "metadata": {},
   "outputs": [
    {
     "name": "stdout",
     "output_type": "stream",
     "text": [
      "0.980246913580247\n"
     ]
    }
   ],
   "source": [
    "#기본적인 randomforest모형\n",
    "\n",
    "from sklearn.ensemble import RandomForestClassifier\n",
    "from sklearn.metrics import accuracy_score # 정확도 함수\n",
    "\n",
    "rfc = RandomForestClassifier(n_estimators=20, max_depth=5,random_state=0)\n",
    "rfc.fit(train_x,train_y)\n",
    "\n",
    "rfc = rfc.predict(test_x)\n",
    "print(accuracy_score(test_y,rfc))"
   ]
  },
  {
   "cell_type": "markdown",
   "metadata": {},
   "source": [
    "- 날짜변수를 일단 삭제하긴 했지만 기간계산으로 추가해야함\n",
    "- 사망이유6(death_ass_tl) 결측치 처리 생각해줘야함\n",
    "- bmi 결측치는 삭제했지만 평균치도 고려해야함"
   ]
  },
  {
   "cell_type": "code",
   "execution_count": 342,
   "metadata": {},
   "outputs": [
    {
     "name": "stdout",
     "output_type": "stream",
     "text": [
      "Model accuracy score with 5 decision-trees : 0.9802\n"
     ]
    }
   ],
   "source": [
    "from sklearn.metrics import accuracy_score\n",
    "print('Model accuracy score with 20 decision-trees : {0:0.4f}'. format(accuracy_score(test_y, rfc)))"
   ]
  },
  {
   "cell_type": "code",
   "execution_count": 343,
   "metadata": {},
   "outputs": [],
   "source": [
    "#의사결정나무 100개 지정. 학습 n_estimators=100"
   ]
  },
  {
   "cell_type": "code",
   "execution_count": 344,
   "metadata": {},
   "outputs": [
    {
     "data": {
      "text/plain": [
       "RandomForestClassifier(random_state=0)"
      ]
     },
     "execution_count": 344,
     "metadata": {},
     "output_type": "execute_result"
    }
   ],
   "source": [
    "rfc_100 = RandomForestClassifier(n_estimators=100, random_state=0)\n",
    "# fit the model to the training set\n",
    "rfc_100.fit(train_x, train_y)"
   ]
  },
  {
   "cell_type": "code",
   "execution_count": 345,
   "metadata": {},
   "outputs": [
    {
     "data": {
      "text/plain": [
       "RandomForestClassifier(random_state=0)"
      ]
     },
     "execution_count": 345,
     "metadata": {},
     "output_type": "execute_result"
    }
   ],
   "source": [
    "RandomForestClassifier(bootstrap=True, class_weight=None, criterion='gini',\n",
    "                       max_depth=None, max_features='auto', max_leaf_nodes=None,\n",
    "                       min_impurity_decrease=0.0, min_impurity_split=None,\n",
    "                       min_samples_leaf=1, min_samples_split=2,\n",
    "                       min_weight_fraction_leaf=0.0, n_estimators=100,\n",
    "                       n_jobs=None, oob_score=False, random_state=0, verbose=0,\n",
    "                       warm_start=False)"
   ]
  },
  {
   "cell_type": "code",
   "execution_count": 346,
   "metadata": {},
   "outputs": [],
   "source": [
    "# Predict on the test set results\n",
    "y_pred_100 = rfc_100.predict(test_x)"
   ]
  },
  {
   "cell_type": "code",
   "execution_count": 347,
   "metadata": {},
   "outputs": [
    {
     "name": "stdout",
     "output_type": "stream",
     "text": [
      "Model accuracy score with 100 decision-trees : 0.9975\n"
     ]
    }
   ],
   "source": [
    "# Check accuracy score \n",
    "print('Model accuracy score with 100 decision-trees : {0:0.4f}'. format(accuracy_score(test_y, y_pred_100)))"
   ]
  },
  {
   "cell_type": "code",
   "execution_count": 348,
   "metadata": {},
   "outputs": [
    {
     "name": "stdout",
     "output_type": "stream",
     "text": [
      "              precision    recall  f1-score   support\n",
      "\n",
      "           0       1.00      1.00      1.00       355\n",
      "           1       1.00      0.98      0.99        50\n",
      "\n",
      "    accuracy                           1.00       405\n",
      "   macro avg       1.00      0.99      0.99       405\n",
      "weighted avg       1.00      1.00      1.00       405\n",
      "\n"
     ]
    }
   ],
   "source": [
    "from sklearn.metrics import classification_report\n",
    "\n",
    "print(classification_report(test_y, y_pred_100))"
   ]
  },
  {
   "cell_type": "markdown",
   "metadata": {},
   "source": [
    "# feature importance 확인"
   ]
  },
  {
   "cell_type": "code",
   "execution_count": 353,
   "metadata": {},
   "outputs": [
    {
     "data": {
      "text/plain": [
       "rankin3_2              0.271550\n",
       "death_infarc           0.143291\n",
       "pt_dc_route_2          0.122285\n",
       "death_other            0.106100\n",
       "death_hemorr           0.029601\n",
       "death_infect           0.016872\n",
       "glucose_fasting_cal    0.015811\n",
       "hct_cal                0.014207\n",
       "pt_dc_route_1          0.013378\n",
       "hgb_cal                0.013344\n",
       "dtype: float64"
      ]
     },
     "execution_count": 353,
     "metadata": {},
     "output_type": "execute_result"
    }
   ],
   "source": [
    "# create the classifier with n_estimators = 100\n",
    "clf = RandomForestClassifier(n_estimators=100, random_state=0)\n",
    "clf.fit(train_x, train_y)\n",
    "feature_scores = pd.Series(clf.feature_importances_, index=train_x.columns).sort_values(ascending=False)\n",
    "feature_scores[:10]"
   ]
  },
  {
   "cell_type": "code",
   "execution_count": 354,
   "metadata": {},
   "outputs": [
    {
     "data": {
      "text/plain": [
       "array([2.0, 0.0, '조기 퇴원', 6.0, 5.0, 4.0, 1.0, 3.0, '사망'], dtype=object)"
      ]
     },
     "execution_count": 354,
     "metadata": {},
     "output_type": "execute_result"
    }
   ],
   "source": [
    "dataset_C['rankin3'].unique()"
   ]
  },
  {
   "cell_type": "code",
   "execution_count": 355,
   "metadata": {},
   "outputs": [
    {
     "data": {
      "text/plain": [
       "0.0      436\n",
       "1.0      320\n",
       "2.0      270\n",
       "조기 퇴원    262\n",
       "6.0      218\n",
       "4.0      184\n",
       "5.0      178\n",
       "3.0      149\n",
       "사망         4\n",
       "Name: rankin3, dtype: int64"
      ]
     },
     "execution_count": 355,
     "metadata": {},
     "output_type": "execute_result"
    }
   ],
   "source": [
    "dataset_C['rankin3'].value_counts()"
   ]
  },
  {
   "cell_type": "markdown",
   "metadata": {},
   "source": [
    "# 날짜변수"
   ]
  },
  {
   "cell_type": "code",
   "execution_count": 181,
   "metadata": {},
   "outputs": [
    {
     "data": {
      "text/html": [
       "<div>\n",
       "<style scoped>\n",
       "    .dataframe tbody tr th:only-of-type {\n",
       "        vertical-align: middle;\n",
       "    }\n",
       "\n",
       "    .dataframe tbody tr th {\n",
       "        vertical-align: top;\n",
       "    }\n",
       "\n",
       "    .dataframe thead th {\n",
       "        text-align: right;\n",
       "    }\n",
       "</style>\n",
       "<table border=\"1\" class=\"dataframe\">\n",
       "  <thead>\n",
       "    <tr style=\"text-align: right;\">\n",
       "      <th></th>\n",
       "      <th>adm_date</th>\n",
       "      <th>dc_date</th>\n",
       "      <th>alive_date</th>\n",
       "      <th>death_date</th>\n",
       "      <th>c_death_6mo</th>\n",
       "    </tr>\n",
       "  </thead>\n",
       "  <tbody>\n",
       "    <tr>\n",
       "      <th>2</th>\n",
       "      <td>2015-11-01</td>\n",
       "      <td>2015-11-23</td>\n",
       "      <td>2016-08-18</td>\n",
       "      <td>NaN</td>\n",
       "      <td>0</td>\n",
       "    </tr>\n",
       "    <tr>\n",
       "      <th>3</th>\n",
       "      <td>2017-04-17</td>\n",
       "      <td>2017-05-01</td>\n",
       "      <td>2017-05-23</td>\n",
       "      <td>NaN</td>\n",
       "      <td>0</td>\n",
       "    </tr>\n",
       "    <tr>\n",
       "      <th>5</th>\n",
       "      <td>2017-05-01</td>\n",
       "      <td>2017-05-09</td>\n",
       "      <td>2017-11-27</td>\n",
       "      <td>NaN</td>\n",
       "      <td>0</td>\n",
       "    </tr>\n",
       "    <tr>\n",
       "      <th>6</th>\n",
       "      <td>2019-06-06</td>\n",
       "      <td>2019-06-19</td>\n",
       "      <td>2019-07-19</td>\n",
       "      <td>NaN</td>\n",
       "      <td>0</td>\n",
       "    </tr>\n",
       "    <tr>\n",
       "      <th>7</th>\n",
       "      <td>2019-06-07</td>\n",
       "      <td>2019-06-25</td>\n",
       "      <td>NaN</td>\n",
       "      <td>2019-06-25</td>\n",
       "      <td>1</td>\n",
       "    </tr>\n",
       "    <tr>\n",
       "      <th>...</th>\n",
       "      <td>...</td>\n",
       "      <td>...</td>\n",
       "      <td>...</td>\n",
       "      <td>...</td>\n",
       "      <td>...</td>\n",
       "    </tr>\n",
       "    <tr>\n",
       "      <th>2313</th>\n",
       "      <td>2019-07-31</td>\n",
       "      <td>2019-08-20</td>\n",
       "      <td>2020-09-18</td>\n",
       "      <td>NaN</td>\n",
       "      <td>0</td>\n",
       "    </tr>\n",
       "    <tr>\n",
       "      <th>2314</th>\n",
       "      <td>2019-08-05</td>\n",
       "      <td>2019-08-15</td>\n",
       "      <td>2020-02-06</td>\n",
       "      <td>NaN</td>\n",
       "      <td>0</td>\n",
       "    </tr>\n",
       "    <tr>\n",
       "      <th>2315</th>\n",
       "      <td>2019-08-13</td>\n",
       "      <td>2019-08-30</td>\n",
       "      <td>2020-08-31</td>\n",
       "      <td>NaN</td>\n",
       "      <td>0</td>\n",
       "    </tr>\n",
       "    <tr>\n",
       "      <th>2316</th>\n",
       "      <td>2019-08-27</td>\n",
       "      <td>2019-09-06</td>\n",
       "      <td>2020-09-18</td>\n",
       "      <td>NaN</td>\n",
       "      <td>0</td>\n",
       "    </tr>\n",
       "    <tr>\n",
       "      <th>2317</th>\n",
       "      <td>2019-03-19</td>\n",
       "      <td>2019-06-24</td>\n",
       "      <td>2020-09-18</td>\n",
       "      <td>NaN</td>\n",
       "      <td>0</td>\n",
       "    </tr>\n",
       "  </tbody>\n",
       "</table>\n",
       "<p>2047 rows × 5 columns</p>\n",
       "</div>"
      ],
      "text/plain": [
       "        adm_date     dc_date  alive_date  death_date  c_death_6mo\n",
       "2     2015-11-01  2015-11-23  2016-08-18         NaN            0\n",
       "3     2017-04-17  2017-05-01  2017-05-23         NaN            0\n",
       "5     2017-05-01  2017-05-09  2017-11-27         NaN            0\n",
       "6     2019-06-06  2019-06-19  2019-07-19         NaN            0\n",
       "7     2019-06-07  2019-06-25         NaN  2019-06-25            1\n",
       "...          ...         ...         ...         ...          ...\n",
       "2313  2019-07-31  2019-08-20  2020-09-18         NaN            0\n",
       "2314  2019-08-05  2019-08-15  2020-02-06         NaN            0\n",
       "2315  2019-08-13  2019-08-30  2020-08-31         NaN            0\n",
       "2316  2019-08-27  2019-09-06  2020-09-18         NaN            0\n",
       "2317  2019-03-19  2019-06-24  2020-09-18         NaN            0\n",
       "\n",
       "[2047 rows x 5 columns]"
      ]
     },
     "execution_count": 181,
     "metadata": {},
     "output_type": "execute_result"
    }
   ],
   "source": [
    "dataset_C[['adm_date','dc_date','alive_date','death_date','c_death_6mo']]"
   ]
  },
  {
   "cell_type": "code",
   "execution_count": 101,
   "metadata": {},
   "outputs": [
    {
     "data": {
      "text/html": [
       "<div>\n",
       "<style scoped>\n",
       "    .dataframe tbody tr th:only-of-type {\n",
       "        vertical-align: middle;\n",
       "    }\n",
       "\n",
       "    .dataframe tbody tr th {\n",
       "        vertical-align: top;\n",
       "    }\n",
       "\n",
       "    .dataframe thead th {\n",
       "        text-align: right;\n",
       "    }\n",
       "</style>\n",
       "<table border=\"1\" class=\"dataframe\">\n",
       "  <thead>\n",
       "    <tr style=\"text-align: right;\">\n",
       "      <th></th>\n",
       "      <th>dc_date</th>\n",
       "      <th>death_date</th>\n",
       "    </tr>\n",
       "  </thead>\n",
       "  <tbody>\n",
       "    <tr>\n",
       "      <th>7</th>\n",
       "      <td>2019-06-25</td>\n",
       "      <td>2019-06-25</td>\n",
       "    </tr>\n",
       "    <tr>\n",
       "      <th>8</th>\n",
       "      <td>2019-06-19</td>\n",
       "      <td>2019-06-19</td>\n",
       "    </tr>\n",
       "    <tr>\n",
       "      <th>17</th>\n",
       "      <td>2007-01-03</td>\n",
       "      <td>2007-04-09</td>\n",
       "    </tr>\n",
       "    <tr>\n",
       "      <th>19</th>\n",
       "      <td>2007-01-26</td>\n",
       "      <td>2007-01-29</td>\n",
       "    </tr>\n",
       "    <tr>\n",
       "      <th>22</th>\n",
       "      <td>2007-01-16</td>\n",
       "      <td>2007-02-02</td>\n",
       "    </tr>\n",
       "    <tr>\n",
       "      <th>...</th>\n",
       "      <td>...</td>\n",
       "      <td>...</td>\n",
       "    </tr>\n",
       "    <tr>\n",
       "      <th>2270</th>\n",
       "      <td>2019-05-30</td>\n",
       "      <td>2019-05-30</td>\n",
       "    </tr>\n",
       "    <tr>\n",
       "      <th>2272</th>\n",
       "      <td>2019-05-29</td>\n",
       "      <td>2019-06-29</td>\n",
       "    </tr>\n",
       "    <tr>\n",
       "      <th>2274</th>\n",
       "      <td>2019-06-05</td>\n",
       "      <td>2019-08-99</td>\n",
       "    </tr>\n",
       "    <tr>\n",
       "      <th>2298</th>\n",
       "      <td>2019-08-12</td>\n",
       "      <td>2019-08-99</td>\n",
       "    </tr>\n",
       "    <tr>\n",
       "      <th>2302</th>\n",
       "      <td>2019-09-02</td>\n",
       "      <td>2019-11-01</td>\n",
       "    </tr>\n",
       "  </tbody>\n",
       "</table>\n",
       "<p>264 rows × 2 columns</p>\n",
       "</div>"
      ],
      "text/plain": [
       "         dc_date  death_date\n",
       "7     2019-06-25  2019-06-25\n",
       "8     2019-06-19  2019-06-19\n",
       "17    2007-01-03  2007-04-09\n",
       "19    2007-01-26  2007-01-29\n",
       "22    2007-01-16  2007-02-02\n",
       "...          ...         ...\n",
       "2270  2019-05-30  2019-05-30\n",
       "2272  2019-05-29  2019-06-29\n",
       "2274  2019-06-05  2019-08-99\n",
       "2298  2019-08-12  2019-08-99\n",
       "2302  2019-09-02  2019-11-01\n",
       "\n",
       "[264 rows x 2 columns]"
      ]
     },
     "execution_count": 101,
     "metadata": {},
     "output_type": "execute_result"
    }
   ],
   "source": [
    "condition=(dataset_C['dc_date'].isna()==False) & (dataset_C['death_date'].isna()==False)\n",
    "dataset_C.loc[condition, [\"dc_date\", \"death_date\"]]"
   ]
  },
  {
   "cell_type": "markdown",
   "metadata": {},
   "source": [
    "- 입원일,퇴원일은 날짜차이 계산으로 생존자에 한해서 진료기간으로 확인하면 될듯\n",
    "- 생존확인일자와 사망확인날짜는 사망자에 한해서 생존기간으로 확인하면 될듯"
   ]
  },
  {
   "cell_type": "code",
   "execution_count": 185,
   "metadata": {},
   "outputs": [
    {
     "data": {
      "text/html": [
       "<div>\n",
       "<style scoped>\n",
       "    .dataframe tbody tr th:only-of-type {\n",
       "        vertical-align: middle;\n",
       "    }\n",
       "\n",
       "    .dataframe tbody tr th {\n",
       "        vertical-align: top;\n",
       "    }\n",
       "\n",
       "    .dataframe thead th {\n",
       "        text-align: right;\n",
       "    }\n",
       "</style>\n",
       "<table border=\"1\" class=\"dataframe\">\n",
       "  <thead>\n",
       "    <tr style=\"text-align: right;\">\n",
       "      <th></th>\n",
       "      <th>pt_id</th>\n",
       "      <th>modality_ivtpa</th>\n",
       "      <th>modality_iauk</th>\n",
       "      <th>modality_mechanical</th>\n",
       "      <th>modality_etc</th>\n",
       "      <th>pt_birth</th>\n",
       "      <th>sex</th>\n",
       "      <th>body_height</th>\n",
       "      <th>body_weight</th>\n",
       "      <th>adm_date</th>\n",
       "      <th>...</th>\n",
       "      <th>질환력</th>\n",
       "      <th>심혈관질환력</th>\n",
       "      <th>뇌졸중질환력</th>\n",
       "      <th>심혈관약물력</th>\n",
       "      <th>치료중합병증</th>\n",
       "      <th>동반질환</th>\n",
       "      <th>BMI</th>\n",
       "      <th>pt_birth_year</th>\n",
       "      <th>pt_birth_yaer</th>\n",
       "      <th>age</th>\n",
       "    </tr>\n",
       "  </thead>\n",
       "  <tbody>\n",
       "  </tbody>\n",
       "</table>\n",
       "<p>0 rows × 113 columns</p>\n",
       "</div>"
      ],
      "text/plain": [
       "Empty DataFrame\n",
       "Columns: [pt_id, modality_ivtpa, modality_iauk, modality_mechanical, modality_etc, pt_birth, sex, body_height, body_weight, adm_date, dc_date, pt_dc_route, initial_sbp_cal, initial_dbp_cal, htn_cal, dm_cal, hichol_cal, smoking_cur, smoking_ex, coronary, vhd, A_fib_cal, CHF_all, A_flutter, paod, other_cardiac, vhd_mechnical, vhd_ms, prev_tia, prev_infarction, prev_hemorrhage, prev_unspecified, smoking_none, pre_aspirin, pre_plavix, pre_ticlid, pre_disgren, pre_cilostazol, pre_sarpogrelate, pre_aggrenox, pre_warfarin, pre_dabigatran, apixaban, rivaroxaban, pre_edoxavan, pre_statin, pre_ACE_inhibitor, pre_ARB, pre_CCB, pre_beta_blocker, pre_diuretics, hgb_cal, hct_cal, wbc_cal, platelet_cal, pt, ptt, ysr_bun, ysr_creatine, glucose_fasting_cal, tchol, tg, hdl, ldl, toast_tissue, pre_mrs, rankin3, alive_date, death_date, death_infarc, death_hemorr, death_mi, death_infect, death_other, death_ass_tl, c_death_cancer, c_death_6mo, tl_onset_clear, tl_in_hospital, tl_life_bleeding, tl_herniation, tl_infection, com_mi, com_chf, com_paod, com_cva_tia, com_af, com_dementia, com_depression, com_pulm_dz, com_ulcer, com_liver_dz, com_renal_dz, com_connective_dz, com_anemia, com_dm, com_dm_end_organ, com_hiv, com_solid_tumor, com_leukemia, ...]\n",
       "Index: []\n",
       "\n",
       "[0 rows x 113 columns]"
      ]
     },
     "execution_count": 185,
     "metadata": {},
     "output_type": "execute_result"
    }
   ],
   "source": [
    "condition=(dataset_C['death_date'].isna()==True) & (dataset_C['c_death_6mo']==1)\n",
    "dataset_C.loc[condition]"
   ]
  },
  {
   "cell_type": "code",
   "execution_count": 189,
   "metadata": {},
   "outputs": [
    {
     "name": "stdout",
     "output_type": "stream",
     "text": [
      "<class 'pandas.core.frame.DataFrame'>\n",
      "Int64Index: 2047 entries, 2 to 2317\n",
      "Data columns (total 4 columns):\n",
      " #   Column      Non-Null Count  Dtype \n",
      "---  ------      --------------  ----- \n",
      " 0   adm_date    2047 non-null   object\n",
      " 1   dc_date     2047 non-null   object\n",
      " 2   alive_date  1783 non-null   object\n",
      " 3   death_date  264 non-null    object\n",
      "dtypes: object(4)\n",
      "memory usage: 160.0+ KB\n"
     ]
    }
   ],
   "source": [
    "dataset_C[['adm_date','dc_date','alive_date','death_date']].info()"
   ]
  },
  {
   "cell_type": "code",
   "execution_count": 197,
   "metadata": {},
   "outputs": [
    {
     "data": {
      "text/plain": [
       "2      2015-11-23\n",
       "3      2017-05-01\n",
       "5      2017-05-09\n",
       "6      2019-06-19\n",
       "7      2019-06-25\n",
       "          ...    \n",
       "2313   2019-08-20\n",
       "2314   2019-08-15\n",
       "2315   2019-08-30\n",
       "2316   2019-09-06\n",
       "2317   2019-06-24\n",
       "Name: dc_date, Length: 2047, dtype: datetime64[ns]"
      ]
     },
     "execution_count": 197,
     "metadata": {},
     "output_type": "execute_result"
    }
   ],
   "source": [
    "pd.to_datetime(dataset_C['adm_date'])\n",
    "pd.to_datetime(dataset_C['dc_date'])"
   ]
  },
  {
   "cell_type": "code",
   "execution_count": null,
   "metadata": {},
   "outputs": [],
   "source": []
  },
  {
   "cell_type": "markdown",
   "metadata": {},
   "source": [
    "# Boosting\n",
    "- https://blog.naver.com/PostView.nhn?blogId=jaehong7719&logNo=221951766987"
   ]
  },
  {
   "cell_type": "markdown",
   "metadata": {},
   "source": [
    "# XGBoost\n",
    "- https://injo.tistory.com/44\n",
    "- https://github.com/lsjsj92/machine_learning_basic/blob/master/009.%20XGboost%2C%20LightGBM.ipynb"
   ]
  },
  {
   "cell_type": "code",
   "execution_count": 360,
   "metadata": {},
   "outputs": [
    {
     "name": "stdout",
     "output_type": "stream",
     "text": [
      "Collecting xgboostNote: you may need to restart the kernel to use updated packages.\n",
      "  Downloading xgboost-1.5.2-py3-none-win_amd64.whl (106.6 MB)\n",
      "Requirement already satisfied: scipy in c:\\users\\kmr14\\anaconda3\\lib\\site-packages (from xgboost) (1.5.0)\n",
      "Requirement already satisfied: numpy in c:\\users\\kmr14\\anaconda3\\lib\\site-packages (from xgboost) (1.18.5)\n",
      "Installing collected packages: xgboost\n",
      "Successfully installed xgboost-1.5.2\n",
      "\n"
     ]
    }
   ],
   "source": [
    "pip install xgboost"
   ]
  },
  {
   "cell_type": "code",
   "execution_count": 361,
   "metadata": {},
   "outputs": [],
   "source": [
    "import xgboost as xgb ## XGBoost 불러오기\n",
    "from xgboost import plot_importance ## Feature Importance를 불러오기 위함\n",
    "import pandas as pd\n",
    "import numpy as np\n",
    "from sklearn.model_selection import train_test_split\n",
    "from sklearn.metrics import confusion_matrix, accuracy_score, precision_score, recall_score\n",
    "from sklearn.metrics import confusion_matrix, f1_score, roc_auc_score\n",
    "import warnings\n",
    "warnings.filterwarnings('ignore')"
   ]
  },
  {
   "cell_type": "code",
   "execution_count": 365,
   "metadata": {},
   "outputs": [],
   "source": [
    "# 넘파이 형태의 학습 데이터 세트와 테스트 데이터를 DMatrix로 변환하는 예제\n",
    "dtrain = xgb.DMatrix(data=train_x, label = train_y)\n",
    "dtest = xgb.DMatrix(data=test_x, label=test_y)"
   ]
  },
  {
   "cell_type": "code",
   "execution_count": 366,
   "metadata": {},
   "outputs": [],
   "source": [
    "# max_depth = 3, 학습률은 0.1, 사망변수가 이진분류이므로 목적함수(objective)는 binary:logistic(이진 로지스틱)\n",
    "# 오류함수의 평가성능지표는 logloss\n",
    "# 부스팅 반복횟수는 400\n",
    "# 조기중단을 위한 최소 반복횟수는 100\n",
    "\n",
    "params = {'max_depth' : 3,\n",
    "         'eta' : 0.1, \n",
    "         'objective' : 'binary:logistic',\n",
    "         'eval_metric' : 'logloss',\n",
    "         'early_stoppings' : 100 }\n",
    "\n",
    "num_rounds = 400"
   ]
  },
  {
   "cell_type": "code",
   "execution_count": 367,
   "metadata": {},
   "outputs": [
    {
     "name": "stdout",
     "output_type": "stream",
     "text": [
      "[19:17:52] WARNING: C:/Users/Administrator/workspace/xgboost-win64_release_1.5.1/src/learner.cc:576: \n",
      "Parameters: { \"early_stoppings\" } might not be used.\n",
      "\n",
      "  This could be a false alarm, with some parameters getting used by language bindings but\n",
      "  then being mistakenly passed down to XGBoost core, or some parameter actually being used\n",
      "  but getting flagged wrongly here. Please open an issue if you find any such cases.\n",
      "\n",
      "\n",
      "[0]\ttrain-logloss:0.60168\teval-logloss:0.60025\n",
      "[1]\ttrain-logloss:0.52669\teval-logloss:0.52385\n",
      "[2]\ttrain-logloss:0.46411\teval-logloss:0.46011\n",
      "[3]\ttrain-logloss:0.41122\teval-logloss:0.40623\n",
      "[4]\ttrain-logloss:0.36607\teval-logloss:0.35996\n",
      "[5]\ttrain-logloss:0.32722\teval-logloss:0.32021\n",
      "[6]\ttrain-logloss:0.29357\teval-logloss:0.28561\n",
      "[7]\ttrain-logloss:0.26427\teval-logloss:0.25534\n",
      "[8]\ttrain-logloss:0.23865\teval-logloss:0.22892\n",
      "[9]\ttrain-logloss:0.21617\teval-logloss:0.20554\n",
      "[10]\ttrain-logloss:0.19639\teval-logloss:0.18500\n",
      "[11]\ttrain-logloss:0.17893\teval-logloss:0.16681\n",
      "[12]\ttrain-logloss:0.16350\teval-logloss:0.15062\n",
      "[13]\ttrain-logloss:0.14983\teval-logloss:0.13624\n",
      "[14]\ttrain-logloss:0.13771\teval-logloss:0.12334\n",
      "[15]\ttrain-logloss:0.12694\teval-logloss:0.11188\n",
      "[16]\ttrain-logloss:0.11737\teval-logloss:0.10157\n",
      "[17]\ttrain-logloss:0.10884\teval-logloss:0.09264\n",
      "[18]\ttrain-logloss:0.10124\teval-logloss:0.08433\n",
      "[19]\ttrain-logloss:0.09427\teval-logloss:0.07718\n",
      "[20]\ttrain-logloss:0.08818\teval-logloss:0.07075\n",
      "[21]\ttrain-logloss:0.08276\teval-logloss:0.06500\n",
      "[22]\ttrain-logloss:0.07791\teval-logloss:0.05981\n",
      "[23]\ttrain-logloss:0.07358\teval-logloss:0.05487\n",
      "[24]\ttrain-logloss:0.06970\teval-logloss:0.05072\n",
      "[25]\ttrain-logloss:0.06622\teval-logloss:0.04696\n",
      "[26]\ttrain-logloss:0.06282\teval-logloss:0.04356\n",
      "[27]\ttrain-logloss:0.05980\teval-logloss:0.04053\n",
      "[28]\ttrain-logloss:0.05730\teval-logloss:0.03747\n",
      "[29]\ttrain-logloss:0.05483\teval-logloss:0.03494\n",
      "[30]\ttrain-logloss:0.05259\teval-logloss:0.03271\n",
      "[31]\ttrain-logloss:0.05058\teval-logloss:0.03069\n",
      "[32]\ttrain-logloss:0.04894\teval-logloss:0.02884\n",
      "[33]\ttrain-logloss:0.04725\teval-logloss:0.02712\n",
      "[34]\ttrain-logloss:0.04574\teval-logloss:0.02575\n",
      "[35]\ttrain-logloss:0.04437\teval-logloss:0.02438\n",
      "[36]\ttrain-logloss:0.04306\teval-logloss:0.02289\n",
      "[37]\ttrain-logloss:0.04190\teval-logloss:0.02155\n",
      "[38]\ttrain-logloss:0.04094\teval-logloss:0.02062\n",
      "[39]\ttrain-logloss:0.03995\teval-logloss:0.01943\n",
      "[40]\ttrain-logloss:0.03909\teval-logloss:0.01838\n",
      "[41]\ttrain-logloss:0.03830\teval-logloss:0.01746\n",
      "[42]\ttrain-logloss:0.03743\teval-logloss:0.01682\n",
      "[43]\ttrain-logloss:0.03648\teval-logloss:0.01615\n",
      "[44]\ttrain-logloss:0.03585\teval-logloss:0.01540\n",
      "[45]\ttrain-logloss:0.03494\teval-logloss:0.01496\n",
      "[46]\ttrain-logloss:0.03415\teval-logloss:0.01465\n",
      "[47]\ttrain-logloss:0.03326\teval-logloss:0.01423\n",
      "[48]\ttrain-logloss:0.03273\teval-logloss:0.01391\n",
      "[49]\ttrain-logloss:0.03211\teval-logloss:0.01374\n",
      "[50]\ttrain-logloss:0.03147\teval-logloss:0.01358\n",
      "[51]\ttrain-logloss:0.03082\teval-logloss:0.01331\n",
      "[52]\ttrain-logloss:0.03020\teval-logloss:0.01317\n",
      "[53]\ttrain-logloss:0.02976\teval-logloss:0.01294\n",
      "[54]\ttrain-logloss:0.02925\teval-logloss:0.01281\n",
      "[55]\ttrain-logloss:0.02871\teval-logloss:0.01272\n",
      "[56]\ttrain-logloss:0.02795\teval-logloss:0.01243\n",
      "[57]\ttrain-logloss:0.02743\teval-logloss:0.01227\n",
      "[58]\ttrain-logloss:0.02694\teval-logloss:0.01210\n",
      "[59]\ttrain-logloss:0.02637\teval-logloss:0.01191\n",
      "[60]\ttrain-logloss:0.02599\teval-logloss:0.01165\n",
      "[61]\ttrain-logloss:0.02547\teval-logloss:0.01157\n",
      "[62]\ttrain-logloss:0.02513\teval-logloss:0.01142\n",
      "[63]\ttrain-logloss:0.02464\teval-logloss:0.01127\n",
      "[64]\ttrain-logloss:0.02406\teval-logloss:0.01116\n",
      "[65]\ttrain-logloss:0.02358\teval-logloss:0.01116\n",
      "[66]\ttrain-logloss:0.02311\teval-logloss:0.01115\n",
      "[67]\ttrain-logloss:0.02250\teval-logloss:0.01105\n",
      "[68]\ttrain-logloss:0.02221\teval-logloss:0.01103\n",
      "[69]\ttrain-logloss:0.02164\teval-logloss:0.01082\n",
      "[70]\ttrain-logloss:0.02113\teval-logloss:0.01064\n",
      "[71]\ttrain-logloss:0.02068\teval-logloss:0.01036\n",
      "[72]\ttrain-logloss:0.02029\teval-logloss:0.01028\n",
      "[73]\ttrain-logloss:0.01986\teval-logloss:0.01018\n",
      "[74]\ttrain-logloss:0.01947\teval-logloss:0.00980\n",
      "[75]\ttrain-logloss:0.01908\teval-logloss:0.00978\n",
      "[76]\ttrain-logloss:0.01876\teval-logloss:0.00968\n",
      "[77]\ttrain-logloss:0.01843\teval-logloss:0.00935\n",
      "[78]\ttrain-logloss:0.01820\teval-logloss:0.00932\n",
      "[79]\ttrain-logloss:0.01797\teval-logloss:0.00921\n",
      "[80]\ttrain-logloss:0.01766\teval-logloss:0.00918\n",
      "[81]\ttrain-logloss:0.01735\teval-logloss:0.00911\n",
      "[82]\ttrain-logloss:0.01709\teval-logloss:0.00907\n",
      "[83]\ttrain-logloss:0.01680\teval-logloss:0.00899\n",
      "[84]\ttrain-logloss:0.01661\teval-logloss:0.00893\n",
      "[85]\ttrain-logloss:0.01637\teval-logloss:0.00877\n",
      "[86]\ttrain-logloss:0.01612\teval-logloss:0.00864\n",
      "[87]\ttrain-logloss:0.01587\teval-logloss:0.00859\n",
      "[88]\ttrain-logloss:0.01564\teval-logloss:0.00858\n",
      "[89]\ttrain-logloss:0.01541\teval-logloss:0.00847\n",
      "[90]\ttrain-logloss:0.01507\teval-logloss:0.00828\n",
      "[91]\ttrain-logloss:0.01485\teval-logloss:0.00822\n",
      "[92]\ttrain-logloss:0.01468\teval-logloss:0.00814\n",
      "[93]\ttrain-logloss:0.01453\teval-logloss:0.00812\n",
      "[94]\ttrain-logloss:0.01429\teval-logloss:0.00798\n",
      "[95]\ttrain-logloss:0.01408\teval-logloss:0.00793\n",
      "[96]\ttrain-logloss:0.01379\teval-logloss:0.00793\n",
      "[97]\ttrain-logloss:0.01346\teval-logloss:0.00782\n",
      "[98]\ttrain-logloss:0.01329\teval-logloss:0.00778\n",
      "[99]\ttrain-logloss:0.01310\teval-logloss:0.00781\n",
      "[100]\ttrain-logloss:0.01287\teval-logloss:0.00765\n",
      "[101]\ttrain-logloss:0.01257\teval-logloss:0.00758\n",
      "[102]\ttrain-logloss:0.01234\teval-logloss:0.00745\n",
      "[103]\ttrain-logloss:0.01220\teval-logloss:0.00739\n",
      "[104]\ttrain-logloss:0.01206\teval-logloss:0.00734\n",
      "[105]\ttrain-logloss:0.01181\teval-logloss:0.00726\n",
      "[106]\ttrain-logloss:0.01167\teval-logloss:0.00733\n",
      "[107]\ttrain-logloss:0.01154\teval-logloss:0.00724\n",
      "[108]\ttrain-logloss:0.01133\teval-logloss:0.00726\n",
      "[109]\ttrain-logloss:0.01116\teval-logloss:0.00711\n",
      "[110]\ttrain-logloss:0.01102\teval-logloss:0.00713\n",
      "[111]\ttrain-logloss:0.01079\teval-logloss:0.00711\n",
      "[112]\ttrain-logloss:0.01057\teval-logloss:0.00705\n",
      "[113]\ttrain-logloss:0.01038\teval-logloss:0.00693\n",
      "[114]\ttrain-logloss:0.01021\teval-logloss:0.00690\n",
      "[115]\ttrain-logloss:0.01009\teval-logloss:0.00685\n",
      "[116]\ttrain-logloss:0.00989\teval-logloss:0.00680\n",
      "[117]\ttrain-logloss:0.00973\teval-logloss:0.00670\n",
      "[118]\ttrain-logloss:0.00958\teval-logloss:0.00668\n",
      "[119]\ttrain-logloss:0.00947\teval-logloss:0.00671\n",
      "[120]\ttrain-logloss:0.00934\teval-logloss:0.00664\n",
      "[121]\ttrain-logloss:0.00921\teval-logloss:0.00662\n",
      "[122]\ttrain-logloss:0.00910\teval-logloss:0.00656\n",
      "[123]\ttrain-logloss:0.00898\teval-logloss:0.00654\n",
      "[124]\ttrain-logloss:0.00890\teval-logloss:0.00651\n",
      "[125]\ttrain-logloss:0.00881\teval-logloss:0.00651\n",
      "[126]\ttrain-logloss:0.00871\teval-logloss:0.00643\n",
      "[127]\ttrain-logloss:0.00860\teval-logloss:0.00645\n",
      "[128]\ttrain-logloss:0.00852\teval-logloss:0.00641\n",
      "[129]\ttrain-logloss:0.00841\teval-logloss:0.00639\n",
      "[130]\ttrain-logloss:0.00831\teval-logloss:0.00634\n",
      "[131]\ttrain-logloss:0.00818\teval-logloss:0.00632\n",
      "[132]\ttrain-logloss:0.00810\teval-logloss:0.00627\n",
      "[133]\ttrain-logloss:0.00800\teval-logloss:0.00622\n",
      "[134]\ttrain-logloss:0.00791\teval-logloss:0.00620\n",
      "[135]\ttrain-logloss:0.00784\teval-logloss:0.00616\n",
      "[136]\ttrain-logloss:0.00774\teval-logloss:0.00616\n",
      "[137]\ttrain-logloss:0.00768\teval-logloss:0.00614\n",
      "[138]\ttrain-logloss:0.00756\teval-logloss:0.00609\n",
      "[139]\ttrain-logloss:0.00745\teval-logloss:0.00610\n",
      "[140]\ttrain-logloss:0.00740\teval-logloss:0.00606\n",
      "[141]\ttrain-logloss:0.00733\teval-logloss:0.00603\n",
      "[142]\ttrain-logloss:0.00726\teval-logloss:0.00604\n",
      "[143]\ttrain-logloss:0.00721\teval-logloss:0.00601\n",
      "[144]\ttrain-logloss:0.00716\teval-logloss:0.00603\n",
      "[145]\ttrain-logloss:0.00711\teval-logloss:0.00600\n",
      "[146]\ttrain-logloss:0.00702\teval-logloss:0.00600\n",
      "[147]\ttrain-logloss:0.00696\teval-logloss:0.00597\n",
      "[148]\ttrain-logloss:0.00687\teval-logloss:0.00601\n",
      "[149]\ttrain-logloss:0.00682\teval-logloss:0.00604\n",
      "[150]\ttrain-logloss:0.00675\teval-logloss:0.00598\n",
      "[151]\ttrain-logloss:0.00670\teval-logloss:0.00597\n",
      "[152]\ttrain-logloss:0.00666\teval-logloss:0.00593\n",
      "[153]\ttrain-logloss:0.00662\teval-logloss:0.00594\n",
      "[154]\ttrain-logloss:0.00657\teval-logloss:0.00590\n",
      "[155]\ttrain-logloss:0.00653\teval-logloss:0.00592\n",
      "[156]\ttrain-logloss:0.00646\teval-logloss:0.00586\n",
      "[157]\ttrain-logloss:0.00641\teval-logloss:0.00587\n",
      "[158]\ttrain-logloss:0.00636\teval-logloss:0.00587\n",
      "[159]\ttrain-logloss:0.00631\teval-logloss:0.00586\n",
      "[160]\ttrain-logloss:0.00626\teval-logloss:0.00582\n"
     ]
    },
    {
     "name": "stdout",
     "output_type": "stream",
     "text": [
      "[161]\ttrain-logloss:0.00620\teval-logloss:0.00586\n",
      "[162]\ttrain-logloss:0.00614\teval-logloss:0.00587\n",
      "[163]\ttrain-logloss:0.00611\teval-logloss:0.00589\n",
      "[164]\ttrain-logloss:0.00606\teval-logloss:0.00590\n",
      "[165]\ttrain-logloss:0.00600\teval-logloss:0.00590\n",
      "[166]\ttrain-logloss:0.00596\teval-logloss:0.00591\n",
      "[167]\ttrain-logloss:0.00591\teval-logloss:0.00588\n",
      "[168]\ttrain-logloss:0.00588\teval-logloss:0.00591\n",
      "[169]\ttrain-logloss:0.00584\teval-logloss:0.00590\n",
      "[170]\ttrain-logloss:0.00579\teval-logloss:0.00587\n",
      "[171]\ttrain-logloss:0.00574\teval-logloss:0.00584\n",
      "[172]\ttrain-logloss:0.00570\teval-logloss:0.00585\n",
      "[173]\ttrain-logloss:0.00565\teval-logloss:0.00582\n",
      "[174]\ttrain-logloss:0.00560\teval-logloss:0.00579\n",
      "[175]\ttrain-logloss:0.00557\teval-logloss:0.00579\n",
      "[176]\ttrain-logloss:0.00553\teval-logloss:0.00579\n",
      "[177]\ttrain-logloss:0.00550\teval-logloss:0.00579\n",
      "[178]\ttrain-logloss:0.00547\teval-logloss:0.00580\n",
      "[179]\ttrain-logloss:0.00544\teval-logloss:0.00579\n",
      "[180]\ttrain-logloss:0.00541\teval-logloss:0.00581\n",
      "[181]\ttrain-logloss:0.00537\teval-logloss:0.00579\n",
      "[182]\ttrain-logloss:0.00535\teval-logloss:0.00581\n",
      "[183]\ttrain-logloss:0.00532\teval-logloss:0.00581\n",
      "[184]\ttrain-logloss:0.00528\teval-logloss:0.00578\n",
      "[185]\ttrain-logloss:0.00525\teval-logloss:0.00577\n",
      "[186]\ttrain-logloss:0.00521\teval-logloss:0.00575\n",
      "[187]\ttrain-logloss:0.00518\teval-logloss:0.00571\n",
      "[188]\ttrain-logloss:0.00514\teval-logloss:0.00570\n",
      "[189]\ttrain-logloss:0.00511\teval-logloss:0.00568\n",
      "[190]\ttrain-logloss:0.00509\teval-logloss:0.00566\n",
      "[191]\ttrain-logloss:0.00505\teval-logloss:0.00568\n",
      "[192]\ttrain-logloss:0.00502\teval-logloss:0.00571\n",
      "[193]\ttrain-logloss:0.00500\teval-logloss:0.00572\n",
      "[194]\ttrain-logloss:0.00497\teval-logloss:0.00571\n",
      "[195]\ttrain-logloss:0.00495\teval-logloss:0.00572\n",
      "[196]\ttrain-logloss:0.00493\teval-logloss:0.00573\n",
      "[197]\ttrain-logloss:0.00490\teval-logloss:0.00573\n",
      "[198]\ttrain-logloss:0.00487\teval-logloss:0.00573\n",
      "[199]\ttrain-logloss:0.00485\teval-logloss:0.00571\n",
      "[200]\ttrain-logloss:0.00482\teval-logloss:0.00571\n",
      "[201]\ttrain-logloss:0.00480\teval-logloss:0.00570\n",
      "[202]\ttrain-logloss:0.00478\teval-logloss:0.00572\n",
      "[203]\ttrain-logloss:0.00476\teval-logloss:0.00575\n",
      "[204]\ttrain-logloss:0.00474\teval-logloss:0.00574\n",
      "[205]\ttrain-logloss:0.00472\teval-logloss:0.00576\n",
      "[206]\ttrain-logloss:0.00470\teval-logloss:0.00575\n",
      "[207]\ttrain-logloss:0.00468\teval-logloss:0.00577\n",
      "[208]\ttrain-logloss:0.00465\teval-logloss:0.00580\n",
      "[209]\ttrain-logloss:0.00462\teval-logloss:0.00578\n",
      "[210]\ttrain-logloss:0.00460\teval-logloss:0.00574\n",
      "[211]\ttrain-logloss:0.00458\teval-logloss:0.00573\n",
      "[212]\ttrain-logloss:0.00456\teval-logloss:0.00573\n",
      "[213]\ttrain-logloss:0.00454\teval-logloss:0.00574\n",
      "[214]\ttrain-logloss:0.00452\teval-logloss:0.00573\n",
      "[215]\ttrain-logloss:0.00450\teval-logloss:0.00573\n",
      "[216]\ttrain-logloss:0.00449\teval-logloss:0.00576\n",
      "[217]\ttrain-logloss:0.00447\teval-logloss:0.00575\n",
      "[218]\ttrain-logloss:0.00445\teval-logloss:0.00574\n",
      "[219]\ttrain-logloss:0.00443\teval-logloss:0.00574\n",
      "[220]\ttrain-logloss:0.00442\teval-logloss:0.00576\n",
      "[221]\ttrain-logloss:0.00441\teval-logloss:0.00579\n",
      "[222]\ttrain-logloss:0.00439\teval-logloss:0.00580\n",
      "[223]\ttrain-logloss:0.00438\teval-logloss:0.00580\n",
      "[224]\ttrain-logloss:0.00436\teval-logloss:0.00581\n",
      "[225]\ttrain-logloss:0.00435\teval-logloss:0.00583\n",
      "[226]\ttrain-logloss:0.00434\teval-logloss:0.00584\n",
      "[227]\ttrain-logloss:0.00432\teval-logloss:0.00588\n",
      "[228]\ttrain-logloss:0.00431\teval-logloss:0.00590\n",
      "[229]\ttrain-logloss:0.00429\teval-logloss:0.00590\n",
      "[230]\ttrain-logloss:0.00428\teval-logloss:0.00590\n",
      "[231]\ttrain-logloss:0.00426\teval-logloss:0.00592\n",
      "[232]\ttrain-logloss:0.00425\teval-logloss:0.00591\n",
      "[233]\ttrain-logloss:0.00422\teval-logloss:0.00591\n",
      "[234]\ttrain-logloss:0.00421\teval-logloss:0.00594\n",
      "[235]\ttrain-logloss:0.00419\teval-logloss:0.00595\n",
      "[236]\ttrain-logloss:0.00418\teval-logloss:0.00596\n",
      "[237]\ttrain-logloss:0.00415\teval-logloss:0.00595\n",
      "[238]\ttrain-logloss:0.00414\teval-logloss:0.00593\n",
      "[239]\ttrain-logloss:0.00413\teval-logloss:0.00592\n",
      "[240]\ttrain-logloss:0.00411\teval-logloss:0.00591\n",
      "[241]\ttrain-logloss:0.00409\teval-logloss:0.00590\n",
      "[242]\ttrain-logloss:0.00408\teval-logloss:0.00591\n",
      "[243]\ttrain-logloss:0.00407\teval-logloss:0.00593\n",
      "[244]\ttrain-logloss:0.00406\teval-logloss:0.00592\n",
      "[245]\ttrain-logloss:0.00405\teval-logloss:0.00591\n",
      "[246]\ttrain-logloss:0.00404\teval-logloss:0.00590\n",
      "[247]\ttrain-logloss:0.00403\teval-logloss:0.00593\n",
      "[248]\ttrain-logloss:0.00402\teval-logloss:0.00594\n",
      "[249]\ttrain-logloss:0.00400\teval-logloss:0.00593\n",
      "[250]\ttrain-logloss:0.00396\teval-logloss:0.00587\n",
      "[251]\ttrain-logloss:0.00394\teval-logloss:0.00588\n",
      "[252]\ttrain-logloss:0.00393\teval-logloss:0.00588\n",
      "[253]\ttrain-logloss:0.00392\teval-logloss:0.00590\n",
      "[254]\ttrain-logloss:0.00391\teval-logloss:0.00589\n",
      "[255]\ttrain-logloss:0.00390\teval-logloss:0.00590\n",
      "[256]\ttrain-logloss:0.00389\teval-logloss:0.00589\n",
      "[257]\ttrain-logloss:0.00388\teval-logloss:0.00589\n",
      "[258]\ttrain-logloss:0.00387\teval-logloss:0.00591\n",
      "[259]\ttrain-logloss:0.00386\teval-logloss:0.00594\n",
      "[260]\ttrain-logloss:0.00385\teval-logloss:0.00596\n",
      "[261]\ttrain-logloss:0.00384\teval-logloss:0.00594\n",
      "[262]\ttrain-logloss:0.00383\teval-logloss:0.00593\n",
      "[263]\ttrain-logloss:0.00381\teval-logloss:0.00592\n",
      "[264]\ttrain-logloss:0.00380\teval-logloss:0.00594\n",
      "[265]\ttrain-logloss:0.00379\teval-logloss:0.00594\n",
      "[266]\ttrain-logloss:0.00378\teval-logloss:0.00591\n",
      "[267]\ttrain-logloss:0.00377\teval-logloss:0.00591\n",
      "[268]\ttrain-logloss:0.00376\teval-logloss:0.00590\n",
      "[269]\ttrain-logloss:0.00375\teval-logloss:0.00592\n",
      "[270]\ttrain-logloss:0.00374\teval-logloss:0.00590\n",
      "[271]\ttrain-logloss:0.00373\teval-logloss:0.00589\n",
      "[272]\ttrain-logloss:0.00372\teval-logloss:0.00588\n",
      "[273]\ttrain-logloss:0.00371\teval-logloss:0.00592\n",
      "[274]\ttrain-logloss:0.00370\teval-logloss:0.00591\n",
      "[275]\ttrain-logloss:0.00369\teval-logloss:0.00588\n",
      "[276]\ttrain-logloss:0.00369\teval-logloss:0.00586\n",
      "[277]\ttrain-logloss:0.00368\teval-logloss:0.00588\n",
      "[278]\ttrain-logloss:0.00367\teval-logloss:0.00586\n",
      "[279]\ttrain-logloss:0.00366\teval-logloss:0.00589\n",
      "[280]\ttrain-logloss:0.00365\teval-logloss:0.00591\n",
      "[281]\ttrain-logloss:0.00364\teval-logloss:0.00590\n",
      "[282]\ttrain-logloss:0.00363\teval-logloss:0.00588\n",
      "[283]\ttrain-logloss:0.00363\teval-logloss:0.00589\n",
      "[284]\ttrain-logloss:0.00362\teval-logloss:0.00590\n",
      "[285]\ttrain-logloss:0.00361\teval-logloss:0.00588\n",
      "[286]\ttrain-logloss:0.00360\teval-logloss:0.00588\n",
      "[287]\ttrain-logloss:0.00359\teval-logloss:0.00589\n",
      "[288]\ttrain-logloss:0.00358\teval-logloss:0.00590\n",
      "[289]\ttrain-logloss:0.00358\teval-logloss:0.00589\n",
      "[290]\ttrain-logloss:0.00357\teval-logloss:0.00587\n",
      "[291]\ttrain-logloss:0.00356\teval-logloss:0.00587\n",
      "[292]\ttrain-logloss:0.00356\teval-logloss:0.00588\n",
      "[293]\ttrain-logloss:0.00355\teval-logloss:0.00588\n",
      "[294]\ttrain-logloss:0.00354\teval-logloss:0.00585\n",
      "[295]\ttrain-logloss:0.00353\teval-logloss:0.00586\n",
      "[296]\ttrain-logloss:0.00352\teval-logloss:0.00589\n",
      "[297]\ttrain-logloss:0.00352\teval-logloss:0.00591\n",
      "[298]\ttrain-logloss:0.00351\teval-logloss:0.00591\n",
      "[299]\ttrain-logloss:0.00351\teval-logloss:0.00592\n",
      "[300]\ttrain-logloss:0.00350\teval-logloss:0.00594\n",
      "[301]\ttrain-logloss:0.00349\teval-logloss:0.00595\n",
      "[302]\ttrain-logloss:0.00349\teval-logloss:0.00596\n",
      "[303]\ttrain-logloss:0.00348\teval-logloss:0.00597\n",
      "[304]\ttrain-logloss:0.00347\teval-logloss:0.00599\n",
      "[305]\ttrain-logloss:0.00346\teval-logloss:0.00600\n",
      "[306]\ttrain-logloss:0.00346\teval-logloss:0.00598\n",
      "[307]\ttrain-logloss:0.00345\teval-logloss:0.00597\n",
      "[308]\ttrain-logloss:0.00344\teval-logloss:0.00598\n",
      "[309]\ttrain-logloss:0.00344\teval-logloss:0.00597\n",
      "[310]\ttrain-logloss:0.00343\teval-logloss:0.00598\n",
      "[311]\ttrain-logloss:0.00342\teval-logloss:0.00598\n",
      "[312]\ttrain-logloss:0.00342\teval-logloss:0.00598\n",
      "[313]\ttrain-logloss:0.00341\teval-logloss:0.00600\n",
      "[314]\ttrain-logloss:0.00341\teval-logloss:0.00602\n",
      "[315]\ttrain-logloss:0.00340\teval-logloss:0.00603\n",
      "[316]\ttrain-logloss:0.00339\teval-logloss:0.00604\n",
      "[317]\ttrain-logloss:0.00338\teval-logloss:0.00603\n",
      "[318]\ttrain-logloss:0.00338\teval-logloss:0.00605\n",
      "[319]\ttrain-logloss:0.00337\teval-logloss:0.00603\n",
      "[320]\ttrain-logloss:0.00336\teval-logloss:0.00602\n",
      "[321]\ttrain-logloss:0.00335\teval-logloss:0.00605\n",
      "[322]\ttrain-logloss:0.00335\teval-logloss:0.00607\n",
      "[323]\ttrain-logloss:0.00334\teval-logloss:0.00608\n",
      "[324]\ttrain-logloss:0.00333\teval-logloss:0.00607\n",
      "[325]\ttrain-logloss:0.00332\teval-logloss:0.00608\n",
      "[326]\ttrain-logloss:0.00332\teval-logloss:0.00608\n",
      "[327]\ttrain-logloss:0.00331\teval-logloss:0.00608\n",
      "[328]\ttrain-logloss:0.00331\teval-logloss:0.00610\n",
      "[329]\ttrain-logloss:0.00330\teval-logloss:0.00612\n",
      "[330]\ttrain-logloss:0.00329\teval-logloss:0.00614\n",
      "[331]\ttrain-logloss:0.00329\teval-logloss:0.00614\n",
      "[332]\ttrain-logloss:0.00328\teval-logloss:0.00613\n",
      "[333]\ttrain-logloss:0.00327\teval-logloss:0.00614\n",
      "[334]\ttrain-logloss:0.00327\teval-logloss:0.00614\n",
      "[335]\ttrain-logloss:0.00326\teval-logloss:0.00616\n",
      "[336]\ttrain-logloss:0.00326\teval-logloss:0.00615\n",
      "[337]\ttrain-logloss:0.00325\teval-logloss:0.00616\n",
      "[338]\ttrain-logloss:0.00324\teval-logloss:0.00617\n",
      "[339]\ttrain-logloss:0.00324\teval-logloss:0.00617\n",
      "[340]\ttrain-logloss:0.00323\teval-logloss:0.00617\n",
      "[341]\ttrain-logloss:0.00323\teval-logloss:0.00619\n",
      "[342]\ttrain-logloss:0.00322\teval-logloss:0.00622\n",
      "[343]\ttrain-logloss:0.00321\teval-logloss:0.00624\n",
      "[344]\ttrain-logloss:0.00321\teval-logloss:0.00624\n",
      "[345]\ttrain-logloss:0.00320\teval-logloss:0.00625\n",
      "[346]\ttrain-logloss:0.00320\teval-logloss:0.00625\n",
      "[347]\ttrain-logloss:0.00319\teval-logloss:0.00625\n",
      "[348]\ttrain-logloss:0.00319\teval-logloss:0.00626\n",
      "[349]\ttrain-logloss:0.00318\teval-logloss:0.00624\n",
      "[350]\ttrain-logloss:0.00318\teval-logloss:0.00625\n",
      "[351]\ttrain-logloss:0.00318\teval-logloss:0.00625\n",
      "[352]\ttrain-logloss:0.00317\teval-logloss:0.00625\n",
      "[353]\ttrain-logloss:0.00317\teval-logloss:0.00626\n",
      "[354]\ttrain-logloss:0.00316\teval-logloss:0.00629\n",
      "[355]\ttrain-logloss:0.00315\teval-logloss:0.00630\n",
      "[356]\ttrain-logloss:0.00315\teval-logloss:0.00630\n",
      "[357]\ttrain-logloss:0.00315\teval-logloss:0.00631\n",
      "[358]\ttrain-logloss:0.00314\teval-logloss:0.00632\n",
      "[359]\ttrain-logloss:0.00314\teval-logloss:0.00632\n",
      "[360]\ttrain-logloss:0.00313\teval-logloss:0.00634\n",
      "[361]\ttrain-logloss:0.00313\teval-logloss:0.00635\n",
      "[362]\ttrain-logloss:0.00312\teval-logloss:0.00636\n",
      "[363]\ttrain-logloss:0.00312\teval-logloss:0.00638\n",
      "[364]\ttrain-logloss:0.00311\teval-logloss:0.00637\n",
      "[365]\ttrain-logloss:0.00311\teval-logloss:0.00637\n",
      "[366]\ttrain-logloss:0.00310\teval-logloss:0.00639\n",
      "[367]\ttrain-logloss:0.00309\teval-logloss:0.00638\n",
      "[368]\ttrain-logloss:0.00309\teval-logloss:0.00638\n",
      "[369]\ttrain-logloss:0.00308\teval-logloss:0.00637\n",
      "[370]\ttrain-logloss:0.00308\teval-logloss:0.00638\n",
      "[371]\ttrain-logloss:0.00307\teval-logloss:0.00639\n",
      "[372]\ttrain-logloss:0.00307\teval-logloss:0.00639\n",
      "[373]\ttrain-logloss:0.00306\teval-logloss:0.00641\n",
      "[374]\ttrain-logloss:0.00306\teval-logloss:0.00642\n",
      "[375]\ttrain-logloss:0.00305\teval-logloss:0.00642\n",
      "[376]\ttrain-logloss:0.00305\teval-logloss:0.00642\n",
      "[377]\ttrain-logloss:0.00305\teval-logloss:0.00640\n",
      "[378]\ttrain-logloss:0.00304\teval-logloss:0.00641\n",
      "[379]\ttrain-logloss:0.00304\teval-logloss:0.00642\n",
      "[380]\ttrain-logloss:0.00304\teval-logloss:0.00642\n",
      "[381]\ttrain-logloss:0.00303\teval-logloss:0.00641\n",
      "[382]\ttrain-logloss:0.00303\teval-logloss:0.00641\n",
      "[383]\ttrain-logloss:0.00302\teval-logloss:0.00641\n",
      "[384]\ttrain-logloss:0.00302\teval-logloss:0.00640\n",
      "[385]\ttrain-logloss:0.00301\teval-logloss:0.00640\n",
      "[386]\ttrain-logloss:0.00300\teval-logloss:0.00640\n",
      "[387]\ttrain-logloss:0.00300\teval-logloss:0.00639\n",
      "[388]\ttrain-logloss:0.00300\teval-logloss:0.00640\n",
      "[389]\ttrain-logloss:0.00299\teval-logloss:0.00641\n",
      "[390]\ttrain-logloss:0.00299\teval-logloss:0.00642\n",
      "[391]\ttrain-logloss:0.00299\teval-logloss:0.00642\n",
      "[392]\ttrain-logloss:0.00299\teval-logloss:0.00641\n",
      "[393]\ttrain-logloss:0.00298\teval-logloss:0.00643\n",
      "[394]\ttrain-logloss:0.00298\teval-logloss:0.00644\n",
      "[395]\ttrain-logloss:0.00298\teval-logloss:0.00643\n",
      "[396]\ttrain-logloss:0.00297\teval-logloss:0.00642\n",
      "[397]\ttrain-logloss:0.00297\teval-logloss:0.00643\n",
      "[398]\ttrain-logloss:0.00297\teval-logloss:0.00643\n",
      "[399]\ttrain-logloss:0.00296\teval-logloss:0.00642\n"
     ]
    }
   ],
   "source": [
    "# train 데이터 세트는 'train', evaluation(test) 데이터 세트는 'eval' 로 명기\n",
    "wlist = [(dtrain, 'train'), (dtest,'eval')]\n",
    "# 하이퍼 파라미터와 early stopping 파라미터를 train() 함수의 파라미터로 전달\n",
    "xgb_model = xgb.train(params = params, dtrain=dtrain, num_boost_round=num_rounds, evals=wlist)"
   ]
  },
  {
   "cell_type": "code",
   "execution_count": 368,
   "metadata": {},
   "outputs": [
    {
     "name": "stdout",
     "output_type": "stream",
     "text": [
      "predict() 수행 결과값을 10개만 표시, 예측 확률 값으로 표시됨\n",
      "[0.001 0.    0.996 0.    0.001 0.005 0.002 0.998 0.001 0.001]\n",
      "예측값 10개만 표시:  [0, 0, 1, 0, 0, 0, 0, 1, 0, 0]\n"
     ]
    }
   ],
   "source": [
    "pred_probs = xgb_model.predict(dtest)\n",
    "print('predict() 수행 결과값을 10개만 표시, 예측 확률 값으로 표시됨')\n",
    "print(np.round(pred_probs[:10], 3))\n",
    "\n",
    "# 예측 확률이 0.5보다 크면 1, 그렇지 않으면 0으로 예측값 결정해 리스트 객체인 preds에 저장\n",
    "preds = [ 1 if x > 0.5 else 0 for x in pred_probs]\n",
    "print('예측값 10개만 표시: ', preds[:10])"
   ]
  },
  {
   "cell_type": "code",
   "execution_count": 369,
   "metadata": {},
   "outputs": [],
   "source": [
    "# 혼동행렬, 정확도, 정밀도, 재현율, F1, AUC 불러오기\n",
    "def get_clf_eval(test_y, y_pred):\n",
    "    confusion = confusion_matrix(test_y, y_pred)\n",
    "    accuracy = accuracy_score(test_y, y_pred)\n",
    "    precision = precision_score(test_y, y_pred)\n",
    "    recall = recall_score(test_y, y_pred)\n",
    "    F1 = f1_score(test_y, y_pred)\n",
    "    AUC = roc_auc_score(test_y, y_pred)\n",
    "    print('오차행렬:\\n', confusion)\n",
    "    print('\\n정확도: {:.4f}'.format(accuracy))\n",
    "    print('정밀도: {:.4f}'.format(precision))\n",
    "    print('재현율: {:.4f}'.format(recall))\n",
    "    print('F1: {:.4f}'.format(F1))\n",
    "    print('AUC: {:.4f}'.format(AUC))"
   ]
  },
  {
   "cell_type": "code",
   "execution_count": 370,
   "metadata": {},
   "outputs": [
    {
     "name": "stdout",
     "output_type": "stream",
     "text": [
      "오차행렬:\n",
      " [[355   0]\n",
      " [  1  49]]\n",
      "\n",
      "정확도: 0.9975\n",
      "정밀도: 1.0000\n",
      "재현율: 0.9800\n",
      "F1: 0.9899\n",
      "AUC: 0.9900\n"
     ]
    }
   ],
   "source": [
    "get_clf_eval(test_y, preds)"
   ]
  },
  {
   "cell_type": "markdown",
   "metadata": {},
   "source": [
    "# Feature importance 시각화 확인\n",
    "- 기본 평가 지료로 f1스코어를 기반으로 각 feature의 중요도를 나타냅니다."
   ]
  },
  {
   "cell_type": "code",
   "execution_count": 371,
   "metadata": {},
   "outputs": [
    {
     "data": {
      "text/plain": [
       "<matplotlib.axes._subplots.AxesSubplot at 0x1fa29416310>"
      ]
     },
     "execution_count": 371,
     "metadata": {},
     "output_type": "execute_result"
    },
    {
     "data": {
      "image/png": "[encoded data removed]",
      "text/plain": [
       "<Figure size 720x864 with 1 Axes>"
      ]
     },
     "metadata": {
      "needs_background": "light"
     },
     "output_type": "display_data"
    }
   ],
   "source": [
    "from xgboost import plot_importance\n",
    "import matplotlib.pyplot as plt\n",
    "%matplotlib inline\n",
    "\n",
    "fig, ax = plt.subplots(figsize=(10, 12))\n",
    "plot_importance(xgb_model, ax=ax)"
   ]
  },
  {
   "cell_type": "markdown",
   "metadata": {},
   "source": [
    "# LightGBM\n",
    "- 적은 데이터 세트에 적용할 경우 과적합이 발생하기 쉽습니다. (공식 문서상 대략 10,000건 이하의 데이터 세트)\n",
    "- https://injo.tistory.com/48\n",
    "- https://github.com/lsjsj92/machine_learning_basic/blob/master/009.%20XGboost%2C%20LightGBM.ipynb\n",
    "- dataframe으로 바꾸면 error 발생, 그래서 feature importance 에서 columns 이름이 출력 안됨"
   ]
  },
  {
   "cell_type": "code",
   "execution_count": 358,
   "metadata": {},
   "outputs": [
    {
     "data": {
      "text/plain": [
       "(2021, 104)"
      ]
     },
     "execution_count": 358,
     "metadata": {},
     "output_type": "execute_result"
    }
   ],
   "source": [
    "dataset_C.shape"
   ]
  },
  {
   "cell_type": "code",
   "execution_count": 372,
   "metadata": {},
   "outputs": [
    {
     "name": "stdout",
     "output_type": "stream",
     "text": [
      "Collecting lightgbmNote: you may need to restart the kernel to use updated packages.\n",
      "  Downloading lightgbm-3.3.2-py3-none-win_amd64.whl (1.0 MB)\n",
      "Requirement already satisfied: numpy in c:\\users\\kmr14\\anaconda3\\lib\\site-packages (from lightgbm) (1.18.5)\n",
      "\n",
      "Requirement already satisfied: wheel in c:\\users\\kmr14\\anaconda3\\lib\\site-packages (from lightgbm) (0.34.2)\n",
      "Requirement already satisfied: scikit-learn!=0.22.0 in c:\\users\\kmr14\\anaconda3\\lib\\site-packages (from lightgbm) (0.23.1)\n",
      "Requirement already satisfied: scipy in c:\\users\\kmr14\\anaconda3\\lib\\site-packages (from lightgbm) (1.5.0)\n",
      "Requirement already satisfied: joblib>=0.11 in c:\\users\\kmr14\\anaconda3\\lib\\site-packages (from scikit-learn!=0.22.0->lightgbm) (0.16.0)\n",
      "Requirement already satisfied: threadpoolctl>=2.0.0 in c:\\users\\kmr14\\anaconda3\\lib\\site-packages (from scikit-learn!=0.22.0->lightgbm) (2.1.0)\n",
      "Installing collected packages: lightgbm\n",
      "Successfully installed lightgbm-3.3.2\n"
     ]
    }
   ],
   "source": [
    "pip install lightgbm "
   ]
  },
  {
   "cell_type": "code",
   "execution_count": 373,
   "metadata": {},
   "outputs": [],
   "source": [
    "from lightgbm import LGBMClassifier # LightGBM 불러오기\n",
    "\n",
    "import pandas as pd\n",
    "import numpy as np\n",
    "from sklearn.model_selection import train_test_split\n",
    "from sklearn.metrics import accuracy_score, recall_score, f1_score, precision_score, roc_auc_score\n",
    "from sklearn.metrics import confusion_matrix"
   ]
  },
  {
   "cell_type": "code",
   "execution_count": 471,
   "metadata": {},
   "outputs": [],
   "source": [
    "train_x.columns = train_x.columns.get_level_values(0)"
   ]
  },
  {
   "cell_type": "code",
   "execution_count": 479,
   "metadata": {},
   "outputs": [],
   "source": [
    "#estimator 400개 지정\n",
    "lgb = LGBMClassifier(n_estimators = 400)"
   ]
  },
  {
   "cell_type": "code",
   "execution_count": 480,
   "metadata": {},
   "outputs": [
    {
     "name": "stdout",
     "output_type": "stream",
     "text": [
      "[1]\tvalid_0's binary_logloss: 0.291695\n",
      "[2]\tvalid_0's binary_logloss: 0.248789\n",
      "[3]\tvalid_0's binary_logloss: 0.218738\n",
      "[4]\tvalid_0's binary_logloss: 0.196195\n",
      "[5]\tvalid_0's binary_logloss: 0.177165\n",
      "[6]\tvalid_0's binary_logloss: 0.157376\n",
      "[7]\tvalid_0's binary_logloss: 0.138537\n",
      "[8]\tvalid_0's binary_logloss: 0.122967\n",
      "[9]\tvalid_0's binary_logloss: 0.109816\n",
      "[10]\tvalid_0's binary_logloss: 0.098411\n",
      "[11]\tvalid_0's binary_logloss: 0.0885454\n",
      "[12]\tvalid_0's binary_logloss: 0.0798045\n",
      "[13]\tvalid_0's binary_logloss: 0.0721427\n",
      "[14]\tvalid_0's binary_logloss: 0.0653175\n",
      "[15]\tvalid_0's binary_logloss: 0.0592608\n",
      "[16]\tvalid_0's binary_logloss: 0.0538481\n",
      "[17]\tvalid_0's binary_logloss: 0.0489035\n",
      "[18]\tvalid_0's binary_logloss: 0.0445479\n",
      "[19]\tvalid_0's binary_logloss: 0.0404454\n",
      "[20]\tvalid_0's binary_logloss: 0.0368688\n",
      "[21]\tvalid_0's binary_logloss: 0.0336105\n",
      "[22]\tvalid_0's binary_logloss: 0.0305874\n",
      "[23]\tvalid_0's binary_logloss: 0.0279844\n",
      "[24]\tvalid_0's binary_logloss: 0.0255992\n",
      "[25]\tvalid_0's binary_logloss: 0.0234543\n",
      "[26]\tvalid_0's binary_logloss: 0.0213243\n",
      "[27]\tvalid_0's binary_logloss: 0.0195178\n",
      "[28]\tvalid_0's binary_logloss: 0.0179712\n",
      "[29]\tvalid_0's binary_logloss: 0.0165305\n",
      "[30]\tvalid_0's binary_logloss: 0.0151117\n",
      "[31]\tvalid_0's binary_logloss: 0.0139428\n",
      "[32]\tvalid_0's binary_logloss: 0.0127421\n",
      "[33]\tvalid_0's binary_logloss: 0.011676\n",
      "[34]\tvalid_0's binary_logloss: 0.0108599\n",
      "[35]\tvalid_0's binary_logloss: 0.00996371\n",
      "[36]\tvalid_0's binary_logloss: 0.00928664\n",
      "[37]\tvalid_0's binary_logloss: 0.00872747\n",
      "[38]\tvalid_0's binary_logloss: 0.00811\n",
      "[39]\tvalid_0's binary_logloss: 0.00749741\n",
      "[40]\tvalid_0's binary_logloss: 0.00691947\n",
      "[41]\tvalid_0's binary_logloss: 0.0064072\n",
      "[42]\tvalid_0's binary_logloss: 0.00604035\n",
      "[43]\tvalid_0's binary_logloss: 0.00553292\n",
      "[44]\tvalid_0's binary_logloss: 0.00508244\n",
      "[45]\tvalid_0's binary_logloss: 0.00464518\n",
      "[46]\tvalid_0's binary_logloss: 0.00436838\n",
      "[47]\tvalid_0's binary_logloss: 0.00403754\n",
      "[48]\tvalid_0's binary_logloss: 0.00380045\n",
      "[49]\tvalid_0's binary_logloss: 0.00357881\n",
      "[50]\tvalid_0's binary_logloss: 0.00324829\n",
      "[51]\tvalid_0's binary_logloss: 0.00310837\n",
      "[52]\tvalid_0's binary_logloss: 0.00285073\n",
      "[53]\tvalid_0's binary_logloss: 0.00261861\n",
      "[54]\tvalid_0's binary_logloss: 0.00242704\n",
      "[55]\tvalid_0's binary_logloss: 0.00223299\n",
      "[56]\tvalid_0's binary_logloss: 0.00206163\n",
      "[57]\tvalid_0's binary_logloss: 0.00192234\n",
      "[58]\tvalid_0's binary_logloss: 0.00178544\n",
      "[59]\tvalid_0's binary_logloss: 0.00167639\n",
      "[60]\tvalid_0's binary_logloss: 0.00159526\n",
      "[61]\tvalid_0's binary_logloss: 0.00150447\n",
      "[62]\tvalid_0's binary_logloss: 0.00142218\n",
      "[63]\tvalid_0's binary_logloss: 0.0013307\n",
      "[64]\tvalid_0's binary_logloss: 0.0012876\n",
      "[65]\tvalid_0's binary_logloss: 0.00121397\n",
      "[66]\tvalid_0's binary_logloss: 0.00112798\n",
      "[67]\tvalid_0's binary_logloss: 0.00106173\n",
      "[68]\tvalid_0's binary_logloss: 0.00100125\n",
      "[69]\tvalid_0's binary_logloss: 0.000920341\n",
      "[70]\tvalid_0's binary_logloss: 0.000893167\n",
      "[71]\tvalid_0's binary_logloss: 0.000819265\n",
      "[72]\tvalid_0's binary_logloss: 0.000770755\n",
      "[73]\tvalid_0's binary_logloss: 0.000742021\n",
      "[74]\tvalid_0's binary_logloss: 0.000691864\n",
      "[75]\tvalid_0's binary_logloss: 0.000661448\n",
      "[76]\tvalid_0's binary_logloss: 0.000607063\n",
      "[77]\tvalid_0's binary_logloss: 0.000581517\n",
      "[78]\tvalid_0's binary_logloss: 0.000552612\n",
      "[79]\tvalid_0's binary_logloss: 0.000533926\n",
      "[80]\tvalid_0's binary_logloss: 0.000534137\n",
      "[81]\tvalid_0's binary_logloss: 0.000499547\n",
      "[82]\tvalid_0's binary_logloss: 0.000482923\n",
      "[83]\tvalid_0's binary_logloss: 0.000466563\n",
      "[84]\tvalid_0's binary_logloss: 0.000472521\n",
      "[85]\tvalid_0's binary_logloss: 0.000441279\n",
      "[86]\tvalid_0's binary_logloss: 0.000437701\n",
      "[87]\tvalid_0's binary_logloss: 0.000443049\n",
      "[88]\tvalid_0's binary_logloss: 0.000433913\n",
      "[89]\tvalid_0's binary_logloss: 0.000439464\n",
      "[90]\tvalid_0's binary_logloss: 0.000433188\n",
      "[91]\tvalid_0's binary_logloss: 0.000404402\n",
      "[92]\tvalid_0's binary_logloss: 0.000406451\n",
      "[93]\tvalid_0's binary_logloss: 0.000415546\n",
      "[94]\tvalid_0's binary_logloss: 0.000426671\n",
      "[95]\tvalid_0's binary_logloss: 0.000403117\n",
      "[96]\tvalid_0's binary_logloss: 0.000374845\n",
      "[97]\tvalid_0's binary_logloss: 0.000341896\n",
      "[98]\tvalid_0's binary_logloss: 0.000338413\n",
      "[99]\tvalid_0's binary_logloss: 0.000312337\n",
      "[100]\tvalid_0's binary_logloss: 0.0003253\n",
      "[101]\tvalid_0's binary_logloss: 0.000318214\n",
      "[102]\tvalid_0's binary_logloss: 0.000295857\n",
      "[103]\tvalid_0's binary_logloss: 0.000280085\n",
      "[104]\tvalid_0's binary_logloss: 0.000295144\n",
      "[105]\tvalid_0's binary_logloss: 0.000277938\n",
      "[106]\tvalid_0's binary_logloss: 0.000277498\n",
      "[107]\tvalid_0's binary_logloss: 0.000294511\n",
      "[108]\tvalid_0's binary_logloss: 0.000284792\n",
      "[109]\tvalid_0's binary_logloss: 0.000306761\n",
      "[110]\tvalid_0's binary_logloss: 0.00031934\n",
      "[111]\tvalid_0's binary_logloss: 0.0003332\n",
      "[112]\tvalid_0's binary_logloss: 0.000331551\n",
      "[113]\tvalid_0's binary_logloss: 0.00034738\n",
      "[114]\tvalid_0's binary_logloss: 0.000317967\n",
      "[115]\tvalid_0's binary_logloss: 0.000341336\n",
      "[116]\tvalid_0's binary_logloss: 0.000366032\n",
      "[117]\tvalid_0's binary_logloss: 0.00033359\n",
      "[118]\tvalid_0's binary_logloss: 0.000305605\n",
      "[119]\tvalid_0's binary_logloss: 0.000328581\n",
      "[120]\tvalid_0's binary_logloss: 0.000299868\n",
      "[121]\tvalid_0's binary_logloss: 0.000288508\n",
      "[122]\tvalid_0's binary_logloss: 0.000264026\n",
      "[123]\tvalid_0's binary_logloss: 0.000276784\n",
      "[124]\tvalid_0's binary_logloss: 0.000289828\n",
      "[125]\tvalid_0's binary_logloss: 0.000266346\n",
      "[126]\tvalid_0's binary_logloss: 0.000277793\n",
      "[127]\tvalid_0's binary_logloss: 0.000253836\n",
      "[128]\tvalid_0's binary_logloss: 0.000231458\n",
      "[129]\tvalid_0's binary_logloss: 0.00021147\n",
      "[130]\tvalid_0's binary_logloss: 0.000223212\n",
      "[131]\tvalid_0's binary_logloss: 0.000234043\n",
      "[132]\tvalid_0's binary_logloss: 0.000245293\n",
      "[133]\tvalid_0's binary_logloss: 0.000235797\n",
      "[134]\tvalid_0's binary_logloss: 0.000252105\n",
      "[135]\tvalid_0's binary_logloss: 0.000242054\n",
      "[136]\tvalid_0's binary_logloss: 0.000253191\n",
      "[137]\tvalid_0's binary_logloss: 0.000244349\n",
      "[138]\tvalid_0's binary_logloss: 0.000253956\n",
      "[139]\tvalid_0's binary_logloss: 0.000245681\n",
      "[140]\tvalid_0's binary_logloss: 0.000256167\n",
      "[141]\tvalid_0's binary_logloss: 0.000246547\n",
      "[142]\tvalid_0's binary_logloss: 0.000256372\n",
      "[143]\tvalid_0's binary_logloss: 0.000247331\n",
      "[144]\tvalid_0's binary_logloss: 0.000237776\n",
      "[145]\tvalid_0's binary_logloss: 0.00023027\n",
      "[146]\tvalid_0's binary_logloss: 0.000241592\n",
      "[147]\tvalid_0's binary_logloss: 0.000233069\n",
      "[148]\tvalid_0's binary_logloss: 0.000240568\n",
      "[149]\tvalid_0's binary_logloss: 0.000233076\n",
      "[150]\tvalid_0's binary_logloss: 0.000242027\n",
      "[151]\tvalid_0's binary_logloss: 0.000234289\n",
      "[152]\tvalid_0's binary_logloss: 0.000242958\n",
      "[153]\tvalid_0's binary_logloss: 0.000235443\n",
      "[154]\tvalid_0's binary_logloss: 0.000249375\n",
      "[155]\tvalid_0's binary_logloss: 0.000241803\n",
      "[156]\tvalid_0's binary_logloss: 0.000250307\n",
      "[157]\tvalid_0's binary_logloss: 0.000264782\n",
      "[158]\tvalid_0's binary_logloss: 0.000256044\n",
      "[159]\tvalid_0's binary_logloss: 0.000250655\n",
      "[160]\tvalid_0's binary_logloss: 0.000245922\n",
      "[161]\tvalid_0's binary_logloss: 0.000238586\n",
      "[162]\tvalid_0's binary_logloss: 0.000243816\n",
      "[163]\tvalid_0's binary_logloss: 0.000254097\n",
      "[164]\tvalid_0's binary_logloss: 0.000245986\n",
      "[165]\tvalid_0's binary_logloss: 0.000252344\n",
      "[166]\tvalid_0's binary_logloss: 0.000262501\n",
      "[167]\tvalid_0's binary_logloss: 0.000254526\n",
      "[168]\tvalid_0's binary_logloss: 0.000249803\n",
      "[169]\tvalid_0's binary_logloss: 0.000245756\n",
      "[170]\tvalid_0's binary_logloss: 0.000238654\n",
      "[171]\tvalid_0's binary_logloss: 0.000244559\n",
      "[172]\tvalid_0's binary_logloss: 0.000237074\n",
      "[173]\tvalid_0's binary_logloss: 0.000229307\n",
      "[174]\tvalid_0's binary_logloss: 0.000222698\n",
      "[175]\tvalid_0's binary_logloss: 0.00021598\n",
      "[176]\tvalid_0's binary_logloss: 0.000211599\n",
      "[177]\tvalid_0's binary_logloss: 0.000205923\n",
      "[178]\tvalid_0's binary_logloss: 0.000201186\n",
      "[179]\tvalid_0's binary_logloss: 0.000201622\n",
      "[180]\tvalid_0's binary_logloss: 0.000209555\n",
      "[181]\tvalid_0's binary_logloss: 0.000214332\n",
      "[182]\tvalid_0's binary_logloss: 0.000209735\n",
      "[183]\tvalid_0's binary_logloss: 0.000202386\n",
      "[184]\tvalid_0's binary_logloss: 0.00020323\n",
      "[185]\tvalid_0's binary_logloss: 0.000197789\n",
      "[186]\tvalid_0's binary_logloss: 0.000194463\n",
      "[187]\tvalid_0's binary_logloss: 0.000195134\n",
      "[188]\tvalid_0's binary_logloss: 0.000201437\n",
      "[189]\tvalid_0's binary_logloss: 0.000208945\n",
      "[190]\tvalid_0's binary_logloss: 0.000217583\n",
      "[191]\tvalid_0's binary_logloss: 0.00022361\n",
      "[192]\tvalid_0's binary_logloss: 0.000215591\n",
      "[193]\tvalid_0's binary_logloss: 0.000219894\n",
      "[194]\tvalid_0's binary_logloss: 0.000215626\n",
      "[195]\tvalid_0's binary_logloss: 0.000212762\n",
      "[196]\tvalid_0's binary_logloss: 0.000215232\n",
      "[197]\tvalid_0's binary_logloss: 0.000212709\n",
      "[198]\tvalid_0's binary_logloss: 0.000211432\n",
      "[199]\tvalid_0's binary_logloss: 0.000211424\n",
      "[200]\tvalid_0's binary_logloss: 0.00021383\n",
      "[201]\tvalid_0's binary_logloss: 0.000215494\n",
      "[202]\tvalid_0's binary_logloss: 0.000211403\n",
      "[203]\tvalid_0's binary_logloss: 0.000208771\n",
      "[204]\tvalid_0's binary_logloss: 0.000206478\n",
      "[205]\tvalid_0's binary_logloss: 0.000208707\n",
      "[206]\tvalid_0's binary_logloss: 0.000208787\n",
      "[207]\tvalid_0's binary_logloss: 0.000214366\n",
      "[208]\tvalid_0's binary_logloss: 0.000216605\n",
      "[209]\tvalid_0's binary_logloss: 0.000214212\n",
      "[210]\tvalid_0's binary_logloss: 0.000210381\n",
      "[211]\tvalid_0's binary_logloss: 0.000213921\n",
      "[212]\tvalid_0's binary_logloss: 0.000216212\n",
      "[213]\tvalid_0's binary_logloss: 0.000215175\n",
      "[214]\tvalid_0's binary_logloss: 0.000211882\n",
      "[215]\tvalid_0's binary_logloss: 0.000214189\n",
      "[216]\tvalid_0's binary_logloss: 0.000217582\n",
      "[217]\tvalid_0's binary_logloss: 0.000215426\n",
      "[218]\tvalid_0's binary_logloss: 0.000212039\n",
      "[219]\tvalid_0's binary_logloss: 0.000210244\n",
      "[220]\tvalid_0's binary_logloss: 0.000211834\n",
      "[221]\tvalid_0's binary_logloss: 0.00021425\n",
      "[222]\tvalid_0's binary_logloss: 0.000207778\n",
      "[223]\tvalid_0's binary_logloss: 0.000210695\n",
      "[224]\tvalid_0's binary_logloss: 0.000207392\n",
      "[225]\tvalid_0's binary_logloss: 0.000210628\n",
      "[226]\tvalid_0's binary_logloss: 0.000208717\n",
      "[227]\tvalid_0's binary_logloss: 0.000210609\n",
      "[228]\tvalid_0's binary_logloss: 0.000209452\n",
      "[229]\tvalid_0's binary_logloss: 0.000206494\n",
      "[230]\tvalid_0's binary_logloss: 0.000209485\n",
      "[231]\tvalid_0's binary_logloss: 0.000206675\n",
      "[232]\tvalid_0's binary_logloss: 0.00020853\n",
      "[233]\tvalid_0's binary_logloss: 0.000206836\n",
      "[234]\tvalid_0's binary_logloss: 0.00020418\n",
      "[235]\tvalid_0's binary_logloss: 0.000201116\n",
      "[236]\tvalid_0's binary_logloss: 0.000198872\n",
      "[237]\tvalid_0's binary_logloss: 0.000201685\n",
      "[238]\tvalid_0's binary_logloss: 0.000198712\n",
      "[239]\tvalid_0's binary_logloss: 0.000201523\n",
      "[240]\tvalid_0's binary_logloss: 0.000199685\n",
      "[241]\tvalid_0's binary_logloss: 0.000201506\n",
      "[242]\tvalid_0's binary_logloss: 0.000204656\n",
      "[243]\tvalid_0's binary_logloss: 0.000203681\n",
      "[244]\tvalid_0's binary_logloss: 0.000202275\n",
      "[245]\tvalid_0's binary_logloss: 0.000199434\n",
      "[246]\tvalid_0's binary_logloss: 0.000194933\n",
      "[247]\tvalid_0's binary_logloss: 0.000198972\n",
      "[248]\tvalid_0's binary_logloss: 0.000203093\n",
      "[249]\tvalid_0's binary_logloss: 0.000201619\n",
      "[250]\tvalid_0's binary_logloss: 0.000203471\n",
      "[251]\tvalid_0's binary_logloss: 0.000205875\n",
      "[252]\tvalid_0's binary_logloss: 0.000206555\n",
      "[253]\tvalid_0's binary_logloss: 0.000204127\n",
      "[254]\tvalid_0's binary_logloss: 0.000203064\n",
      "[255]\tvalid_0's binary_logloss: 0.000205418\n",
      "[256]\tvalid_0's binary_logloss: 0.000207426\n",
      "[257]\tvalid_0's binary_logloss: 0.000205227\n",
      "[258]\tvalid_0's binary_logloss: 0.00020379\n",
      "[259]\tvalid_0's binary_logloss: 0.000205556\n",
      "[260]\tvalid_0's binary_logloss: 0.00020482\n",
      "[261]\tvalid_0's binary_logloss: 0.000202649\n",
      "[262]\tvalid_0's binary_logloss: 0.000205382\n",
      "[263]\tvalid_0's binary_logloss: 0.000202831\n",
      "[264]\tvalid_0's binary_logloss: 0.000200806\n",
      "[265]\tvalid_0's binary_logloss: 0.000199239\n",
      "[266]\tvalid_0's binary_logloss: 0.000202104\n",
      "[267]\tvalid_0's binary_logloss: 0.000204108\n",
      "[268]\tvalid_0's binary_logloss: 0.000202061\n",
      "[269]\tvalid_0's binary_logloss: 0.000203801\n",
      "[270]\tvalid_0's binary_logloss: 0.000201489\n",
      "[271]\tvalid_0's binary_logloss: 0.000199444\n",
      "[272]\tvalid_0's binary_logloss: 0.000201533\n",
      "[273]\tvalid_0's binary_logloss: 0.000200137\n",
      "[274]\tvalid_0's binary_logloss: 0.000197488\n",
      "[275]\tvalid_0's binary_logloss: 0.000200168\n",
      "[276]\tvalid_0's binary_logloss: 0.000197303\n",
      "[277]\tvalid_0's binary_logloss: 0.000200088\n",
      "[278]\tvalid_0's binary_logloss: 0.000202869\n",
      "[279]\tvalid_0's binary_logloss: 0.000204102\n",
      "[280]\tvalid_0's binary_logloss: 0.000202733\n",
      "[281]\tvalid_0's binary_logloss: 0.000200796\n",
      "[282]\tvalid_0's binary_logloss: 0.000199512\n",
      "[283]\tvalid_0's binary_logloss: 0.000201303\n",
      "[284]\tvalid_0's binary_logloss: 0.000198783\n",
      "[285]\tvalid_0's binary_logloss: 0.000201471\n",
      "[286]\tvalid_0's binary_logloss: 0.000199906\n"
     ]
    }
   ],
   "source": [
    "#LGBM도 XGBoost처럼 early stopping 가능\n",
    "evals = [(test_x, test_y)]\n",
    "lgb.fit(train_x, train_y, early_stopping_rounds = 100, eval_metric = \"logloss\", eval_set = evals, verbose = True)\n",
    "pred = lgb.predict(test_x)"
   ]
  },
  {
   "cell_type": "markdown",
   "metadata": {},
   "source": [
    "- error 참고 : https://stackoverflow.com/questions/66138845/why-does-tuple-come-out-from-lgbm"
   ]
  },
  {
   "cell_type": "code",
   "execution_count": 454,
   "metadata": {},
   "outputs": [],
   "source": [
    "# 혼동행렬, 정확도, 정밀도, 재현율, F1, AUC 불러오기\n",
    "def get_clf_eval(test_y, y_pred):\n",
    "    confusion = confusion_matrix(test_y, y_pred)\n",
    "    accuracy = accuracy_score(test_y, y_pred)\n",
    "    precision = precision_score(test_y, y_pred)\n",
    "    recall = recall_score(test_y, y_pred)\n",
    "    F1 = f1_score(test_y, y_pred)\n",
    "    AUC = roc_auc_score(test_y, y_pred)\n",
    "    print('오차행렬:\\n', confusion)\n",
    "    print('\\n정확도: {:.4f}'.format(accuracy))\n",
    "    print('정밀도: {:.4f}'.format(precision))\n",
    "    print('재현율: {:.4f}'.format(recall))\n",
    "    print('F1: {:.4f}'.format(F1))\n",
    "    print('AUC: {:.4f}'.format(AUC))"
   ]
  },
  {
   "cell_type": "code",
   "execution_count": 455,
   "metadata": {},
   "outputs": [
    {
     "name": "stdout",
     "output_type": "stream",
     "text": [
      "오차행렬:\n",
      " [[355   0]\n",
      " [  1  49]]\n",
      "\n",
      "정확도: 0.9975\n",
      "정밀도: 1.0000\n",
      "재현율: 0.9800\n",
      "F1: 0.9899\n",
      "AUC: 0.9900\n"
     ]
    }
   ],
   "source": [
    "get_clf_eval(test_y, preds)"
   ]
  },
  {
   "cell_type": "markdown",
   "metadata": {},
   "source": [
    "# Feature importance 시각화 확인"
   ]
  },
  {
   "cell_type": "code",
   "execution_count": 481,
   "metadata": {},
   "outputs": [
    {
     "data": {
      "text/plain": [
       "<matplotlib.axes._subplots.AxesSubplot at 0x1fa2d691700>"
      ]
     },
     "execution_count": 481,
     "metadata": {},
     "output_type": "execute_result"
    },
    {
     "data": {
      "image/png": "[encoded data removed]",
      "text/plain": [
       "<Figure size 432x432 with 1 Axes>"
      ]
     },
     "metadata": {
      "needs_background": "light"
     },
     "output_type": "display_data"
    }
   ],
   "source": [
    "#plot_importance() 통해 피처 중요도 시각화\n",
    "from lightgbm import plot_importance\n",
    "import matplotlib.pyplot as plt\n",
    "%matplotlib inline\n",
    "\n",
    "fig, ax = plt.subplots(figsize=(6,6))\n",
    "plot_importance(lgb,max_num_features=10, ax=ax) "
   ]
  },
  {
   "cell_type": "markdown",
   "metadata": {},
   "source": [
    "# Catboost"
   ]
  },
  {
   "cell_type": "code",
   "execution_count": 490,
   "metadata": {},
   "outputs": [
    {
     "name": "stdout",
     "output_type": "stream",
     "text": [
      "Requirement already satisfied: catboost in c:\\users\\kmr14\\anaconda3\\lib\\site-packages (1.0.4)\n",
      "Requirement already satisfied: numpy>=1.16.0 in c:\\users\\kmr14\\anaconda3\\lib\\site-packages (from catboost) (1.18.5)\n",
      "Requirement already satisfied: plotly in c:\\users\\kmr14\\anaconda3\\lib\\site-packages (from catboost) (5.6.0)\n",
      "Requirement already satisfied: graphviz in c:\\users\\kmr14\\anaconda3\\lib\\site-packages (from catboost) (0.19.1)\n",
      "Requirement already satisfied: matplotlib in c:\\users\\kmr14\\anaconda3\\lib\\site-packages (from catboost) (3.2.2)\n",
      "Requirement already satisfied: scipy in c:\\users\\kmr14\\anaconda3\\lib\\site-packages (from catboost) (1.5.0)\n",
      "Requirement already satisfied: pandas>=0.24.0 in c:\\users\\kmr14\\anaconda3\\lib\\site-packages (from catboost) (1.0.5)\n",
      "Requirement already satisfied: six in c:\\users\\kmr14\\anaconda3\\lib\\site-packages (from catboost) (1.15.0)\n",
      "Requirement already satisfied: tenacity>=6.2.0 in c:\\users\\kmr14\\anaconda3\\lib\\site-packages (from plotly->catboost) (8.0.1)\n",
      "Requirement already satisfied: cycler>=0.10 in c:\\users\\kmr14\\anaconda3\\lib\\site-packages (from matplotlib->catboost) (0.10.0)\n",
      "Requirement already satisfied: python-dateutil>=2.1 in c:\\users\\kmr14\\anaconda3\\lib\\site-packages (from matplotlib->catboost) (2.8.1)\n",
      "Requirement already satisfied: pyparsing!=2.0.4,!=2.1.2,!=2.1.6,>=2.0.1 in c:\\users\\kmr14\\anaconda3\\lib\\site-packages (from matplotlib->catboost) (2.4.7)\n",
      "Requirement already satisfied: kiwisolver>=1.0.1 in c:\\users\\kmr14\\anaconda3\\lib\\site-packages (from matplotlib->catboost) (1.2.0)\n",
      "Requirement already satisfied: pytz>=2017.2 in c:\\users\\kmr14\\anaconda3\\lib\\site-packages (from pandas>=0.24.0->catboost) (2020.1)\n",
      "Note: you may need to restart the kernel to use updated packages.\n"
     ]
    }
   ],
   "source": [
    "pip install catboost"
   ]
  },
  {
   "cell_type": "code",
   "execution_count": 498,
   "metadata": {},
   "outputs": [
    {
     "name": "stdout",
     "output_type": "stream",
     "text": [
      "0:\tlearn: 0.9808168\ttotal: 29.4ms\tremaining: 11.7s\n",
      "1:\tlearn: 0.9808168\ttotal: 34ms\tremaining: 6.77s\n",
      "2:\tlearn: 0.9808168\ttotal: 38.6ms\tremaining: 5.11s\n",
      "3:\tlearn: 0.9808168\ttotal: 43.1ms\tremaining: 4.26s\n",
      "4:\tlearn: 0.9808168\ttotal: 47.4ms\tremaining: 3.74s\n",
      "5:\tlearn: 0.9808168\ttotal: 52.3ms\tremaining: 3.44s\n",
      "6:\tlearn: 0.9808168\ttotal: 56.8ms\tremaining: 3.19s\n",
      "7:\tlearn: 0.9808168\ttotal: 61.6ms\tremaining: 3.02s\n",
      "8:\tlearn: 0.9808168\ttotal: 66.5ms\tremaining: 2.89s\n",
      "9:\tlearn: 0.9808168\ttotal: 70.8ms\tremaining: 2.76s\n",
      "10:\tlearn: 0.9808168\ttotal: 75.2ms\tremaining: 2.66s\n",
      "11:\tlearn: 0.9808168\ttotal: 80.3ms\tremaining: 2.6s\n",
      "12:\tlearn: 0.9808168\ttotal: 84.7ms\tremaining: 2.52s\n",
      "13:\tlearn: 0.9808168\ttotal: 89.3ms\tremaining: 2.46s\n",
      "14:\tlearn: 0.9808168\ttotal: 94.4ms\tremaining: 2.42s\n",
      "15:\tlearn: 0.9808168\ttotal: 100ms\tremaining: 2.4s\n",
      "16:\tlearn: 0.9808168\ttotal: 106ms\tremaining: 2.38s\n",
      "17:\tlearn: 0.9808168\ttotal: 111ms\tremaining: 2.36s\n",
      "18:\tlearn: 0.9808168\ttotal: 116ms\tremaining: 2.32s\n",
      "19:\tlearn: 0.9808168\ttotal: 121ms\tremaining: 2.29s\n",
      "20:\tlearn: 0.9808168\ttotal: 125ms\tremaining: 2.26s\n",
      "21:\tlearn: 0.9808168\ttotal: 129ms\tremaining: 2.22s\n",
      "22:\tlearn: 0.9808168\ttotal: 134ms\tremaining: 2.19s\n",
      "23:\tlearn: 0.9808168\ttotal: 139ms\tremaining: 2.17s\n",
      "24:\tlearn: 0.9808168\ttotal: 143ms\tremaining: 2.15s\n",
      "25:\tlearn: 0.9808168\ttotal: 148ms\tremaining: 2.13s\n",
      "26:\tlearn: 0.9808168\ttotal: 159ms\tremaining: 2.19s\n",
      "27:\tlearn: 0.9808168\ttotal: 165ms\tremaining: 2.19s\n",
      "28:\tlearn: 0.9808168\ttotal: 171ms\tremaining: 2.18s\n",
      "29:\tlearn: 0.9808168\ttotal: 177ms\tremaining: 2.18s\n",
      "30:\tlearn: 0.9808168\ttotal: 183ms\tremaining: 2.18s\n",
      "31:\tlearn: 0.9808168\ttotal: 193ms\tremaining: 2.22s\n",
      "32:\tlearn: 0.9808168\ttotal: 203ms\tremaining: 2.25s\n",
      "33:\tlearn: 0.9808168\ttotal: 213ms\tremaining: 2.29s\n",
      "34:\tlearn: 0.9808168\ttotal: 220ms\tremaining: 2.29s\n",
      "35:\tlearn: 0.9808168\ttotal: 225ms\tremaining: 2.28s\n",
      "36:\tlearn: 0.9808168\ttotal: 231ms\tremaining: 2.27s\n",
      "37:\tlearn: 0.9808168\ttotal: 237ms\tremaining: 2.26s\n",
      "38:\tlearn: 0.9808168\ttotal: 243ms\tremaining: 2.25s\n",
      "39:\tlearn: 0.9808168\ttotal: 249ms\tremaining: 2.24s\n",
      "40:\tlearn: 0.9808168\ttotal: 255ms\tremaining: 2.23s\n",
      "41:\tlearn: 0.9808168\ttotal: 261ms\tremaining: 2.22s\n",
      "42:\tlearn: 0.9808168\ttotal: 266ms\tremaining: 2.21s\n",
      "43:\tlearn: 0.9808168\ttotal: 274ms\tremaining: 2.22s\n",
      "44:\tlearn: 0.9808168\ttotal: 282ms\tremaining: 2.23s\n",
      "45:\tlearn: 0.9808168\ttotal: 290ms\tremaining: 2.23s\n",
      "46:\tlearn: 0.9808168\ttotal: 296ms\tremaining: 2.22s\n",
      "47:\tlearn: 0.9808168\ttotal: 304ms\tremaining: 2.23s\n",
      "48:\tlearn: 0.9808168\ttotal: 312ms\tremaining: 2.23s\n",
      "49:\tlearn: 0.9808168\ttotal: 319ms\tremaining: 2.23s\n",
      "50:\tlearn: 0.9808168\ttotal: 323ms\tremaining: 2.21s\n",
      "51:\tlearn: 0.9808168\ttotal: 328ms\tremaining: 2.2s\n",
      "52:\tlearn: 0.9808168\ttotal: 332ms\tremaining: 2.18s\n",
      "53:\tlearn: 0.9808168\ttotal: 337ms\tremaining: 2.16s\n",
      "54:\tlearn: 0.9808168\ttotal: 341ms\tremaining: 2.14s\n",
      "55:\tlearn: 0.9808168\ttotal: 345ms\tremaining: 2.12s\n",
      "56:\tlearn: 0.9808168\ttotal: 352ms\tremaining: 2.12s\n",
      "57:\tlearn: 0.9808168\ttotal: 360ms\tremaining: 2.12s\n",
      "58:\tlearn: 0.9808168\ttotal: 367ms\tremaining: 2.12s\n",
      "59:\tlearn: 0.9808168\ttotal: 379ms\tremaining: 2.15s\n",
      "60:\tlearn: 0.9808168\ttotal: 385ms\tremaining: 2.14s\n",
      "61:\tlearn: 0.9808168\ttotal: 390ms\tremaining: 2.12s\n",
      "62:\tlearn: 0.9808168\ttotal: 394ms\tremaining: 2.11s\n",
      "63:\tlearn: 0.9808168\ttotal: 399ms\tremaining: 2.1s\n",
      "64:\tlearn: 0.9808168\ttotal: 404ms\tremaining: 2.08s\n",
      "65:\tlearn: 0.9808168\ttotal: 409ms\tremaining: 2.07s\n",
      "66:\tlearn: 0.9808168\ttotal: 414ms\tremaining: 2.06s\n",
      "67:\tlearn: 0.9808168\ttotal: 418ms\tremaining: 2.04s\n",
      "68:\tlearn: 0.9808168\ttotal: 423ms\tremaining: 2.03s\n",
      "69:\tlearn: 0.9808168\ttotal: 427ms\tremaining: 2.01s\n",
      "70:\tlearn: 0.9808168\ttotal: 432ms\tremaining: 2s\n",
      "71:\tlearn: 0.9808168\ttotal: 438ms\tremaining: 1.99s\n",
      "72:\tlearn: 0.9808168\ttotal: 444ms\tremaining: 1.99s\n",
      "73:\tlearn: 0.9808168\ttotal: 449ms\tremaining: 1.98s\n",
      "74:\tlearn: 0.9808168\ttotal: 454ms\tremaining: 1.97s\n",
      "75:\tlearn: 0.9808168\ttotal: 458ms\tremaining: 1.95s\n",
      "76:\tlearn: 0.9808168\ttotal: 463ms\tremaining: 1.94s\n",
      "77:\tlearn: 0.9808168\ttotal: 467ms\tremaining: 1.93s\n",
      "78:\tlearn: 0.9808168\ttotal: 472ms\tremaining: 1.92s\n",
      "79:\tlearn: 0.9808168\ttotal: 476ms\tremaining: 1.9s\n",
      "80:\tlearn: 0.9808168\ttotal: 480ms\tremaining: 1.89s\n",
      "81:\tlearn: 0.9808168\ttotal: 485ms\tremaining: 1.88s\n",
      "82:\tlearn: 0.9808168\ttotal: 489ms\tremaining: 1.87s\n",
      "83:\tlearn: 0.9808168\ttotal: 495ms\tremaining: 1.86s\n",
      "84:\tlearn: 0.9808168\ttotal: 500ms\tremaining: 1.85s\n",
      "85:\tlearn: 0.9808168\ttotal: 506ms\tremaining: 1.85s\n",
      "86:\tlearn: 0.9808168\ttotal: 511ms\tremaining: 1.84s\n",
      "87:\tlearn: 0.9808168\ttotal: 520ms\tremaining: 1.84s\n",
      "88:\tlearn: 0.9808168\ttotal: 528ms\tremaining: 1.84s\n",
      "89:\tlearn: 0.9808168\ttotal: 536ms\tremaining: 1.84s\n",
      "90:\tlearn: 0.9808168\ttotal: 542ms\tremaining: 1.84s\n",
      "91:\tlearn: 0.9808168\ttotal: 546ms\tremaining: 1.83s\n",
      "92:\tlearn: 0.9808168\ttotal: 551ms\tremaining: 1.82s\n",
      "93:\tlearn: 0.9808168\ttotal: 556ms\tremaining: 1.81s\n",
      "94:\tlearn: 0.9808168\ttotal: 561ms\tremaining: 1.8s\n",
      "95:\tlearn: 0.9808168\ttotal: 566ms\tremaining: 1.79s\n",
      "96:\tlearn: 0.9808168\ttotal: 576ms\tremaining: 1.8s\n",
      "97:\tlearn: 0.9808168\ttotal: 583ms\tremaining: 1.79s\n",
      "98:\tlearn: 0.9808168\ttotal: 588ms\tremaining: 1.79s\n",
      "99:\tlearn: 0.9808168\ttotal: 600ms\tremaining: 1.8s\n",
      "100:\tlearn: 0.9808168\ttotal: 606ms\tremaining: 1.79s\n",
      "101:\tlearn: 0.9808168\ttotal: 617ms\tremaining: 1.8s\n",
      "102:\tlearn: 0.9808168\ttotal: 625ms\tremaining: 1.8s\n",
      "103:\tlearn: 0.9808168\ttotal: 631ms\tremaining: 1.79s\n",
      "104:\tlearn: 0.9808168\ttotal: 637ms\tremaining: 1.79s\n",
      "105:\tlearn: 0.9808168\ttotal: 642ms\tremaining: 1.78s\n",
      "106:\tlearn: 0.9808168\ttotal: 648ms\tremaining: 1.77s\n",
      "107:\tlearn: 0.9808168\ttotal: 656ms\tremaining: 1.77s\n",
      "108:\tlearn: 0.9808168\ttotal: 662ms\tremaining: 1.77s\n",
      "109:\tlearn: 0.9808168\ttotal: 668ms\tremaining: 1.76s\n",
      "110:\tlearn: 0.9808168\ttotal: 679ms\tremaining: 1.77s\n",
      "111:\tlearn: 0.9808168\ttotal: 698ms\tremaining: 1.79s\n",
      "112:\tlearn: 0.9808168\ttotal: 718ms\tremaining: 1.82s\n",
      "113:\tlearn: 0.9808168\ttotal: 731ms\tremaining: 1.83s\n",
      "114:\tlearn: 0.9808168\ttotal: 739ms\tremaining: 1.83s\n",
      "115:\tlearn: 0.9808168\ttotal: 748ms\tremaining: 1.83s\n",
      "116:\tlearn: 0.9808168\ttotal: 757ms\tremaining: 1.83s\n",
      "117:\tlearn: 0.9808168\ttotal: 765ms\tremaining: 1.83s\n",
      "118:\tlearn: 0.9808168\ttotal: 771ms\tremaining: 1.82s\n",
      "119:\tlearn: 0.9808168\ttotal: 776ms\tremaining: 1.81s\n",
      "120:\tlearn: 0.9808168\ttotal: 782ms\tremaining: 1.8s\n",
      "121:\tlearn: 0.9808168\ttotal: 788ms\tremaining: 1.79s\n",
      "122:\tlearn: 0.9808168\ttotal: 796ms\tremaining: 1.79s\n",
      "123:\tlearn: 0.9808168\ttotal: 803ms\tremaining: 1.79s\n",
      "124:\tlearn: 0.9808168\ttotal: 812ms\tremaining: 1.79s\n",
      "125:\tlearn: 0.9808168\ttotal: 823ms\tremaining: 1.79s\n",
      "126:\tlearn: 0.9808168\ttotal: 834ms\tremaining: 1.79s\n",
      "127:\tlearn: 0.9808168\ttotal: 841ms\tremaining: 1.79s\n",
      "128:\tlearn: 0.9808168\ttotal: 850ms\tremaining: 1.79s\n",
      "129:\tlearn: 0.9808168\ttotal: 859ms\tremaining: 1.78s\n",
      "130:\tlearn: 0.9808168\ttotal: 869ms\tremaining: 1.78s\n",
      "131:\tlearn: 0.9808168\ttotal: 877ms\tremaining: 1.78s\n",
      "132:\tlearn: 0.9808168\ttotal: 886ms\tremaining: 1.78s\n",
      "133:\tlearn: 0.9808168\ttotal: 893ms\tremaining: 1.77s\n",
      "134:\tlearn: 0.9808168\ttotal: 898ms\tremaining: 1.76s\n",
      "135:\tlearn: 0.9808168\ttotal: 904ms\tremaining: 1.75s\n",
      "136:\tlearn: 0.9808168\ttotal: 911ms\tremaining: 1.75s\n",
      "137:\tlearn: 0.9808168\ttotal: 919ms\tremaining: 1.74s\n",
      "138:\tlearn: 0.9808168\ttotal: 926ms\tremaining: 1.74s\n",
      "139:\tlearn: 0.9808168\ttotal: 938ms\tremaining: 1.74s\n",
      "140:\tlearn: 0.9808168\ttotal: 946ms\tremaining: 1.74s\n",
      "141:\tlearn: 0.9808168\ttotal: 952ms\tremaining: 1.73s\n",
      "142:\tlearn: 0.9808168\ttotal: 960ms\tremaining: 1.73s\n",
      "143:\tlearn: 0.9808168\ttotal: 967ms\tremaining: 1.72s\n",
      "144:\tlearn: 0.9808168\ttotal: 973ms\tremaining: 1.71s\n",
      "145:\tlearn: 0.9808168\ttotal: 983ms\tremaining: 1.71s\n",
      "146:\tlearn: 0.9808168\ttotal: 990ms\tremaining: 1.7s\n",
      "147:\tlearn: 0.9808168\ttotal: 996ms\tremaining: 1.7s\n",
      "148:\tlearn: 0.9808168\ttotal: 1s\tremaining: 1.69s\n",
      "149:\tlearn: 0.9808168\ttotal: 1.01s\tremaining: 1.68s\n",
      "150:\tlearn: 0.9808168\ttotal: 1.01s\tremaining: 1.67s\n",
      "151:\tlearn: 0.9808168\ttotal: 1.02s\tremaining: 1.67s\n",
      "152:\tlearn: 0.9808168\ttotal: 1.03s\tremaining: 1.66s\n",
      "153:\tlearn: 0.9808168\ttotal: 1.03s\tremaining: 1.65s\n",
      "154:\tlearn: 0.9808168\ttotal: 1.04s\tremaining: 1.64s\n",
      "155:\tlearn: 0.9808168\ttotal: 1.05s\tremaining: 1.64s\n",
      "156:\tlearn: 0.9808168\ttotal: 1.06s\tremaining: 1.64s\n",
      "157:\tlearn: 0.9808168\ttotal: 1.06s\tremaining: 1.63s\n",
      "158:\tlearn: 0.9808168\ttotal: 1.07s\tremaining: 1.63s\n",
      "159:\tlearn: 0.9808168\ttotal: 1.08s\tremaining: 1.62s\n",
      "160:\tlearn: 0.9808168\ttotal: 1.08s\tremaining: 1.61s\n",
      "161:\tlearn: 0.9808168\ttotal: 1.09s\tremaining: 1.6s\n",
      "162:\tlearn: 0.9808168\ttotal: 1.1s\tremaining: 1.6s\n",
      "163:\tlearn: 0.9808168\ttotal: 1.1s\tremaining: 1.59s\n",
      "164:\tlearn: 0.9808168\ttotal: 1.11s\tremaining: 1.58s\n",
      "165:\tlearn: 0.9808168\ttotal: 1.12s\tremaining: 1.57s\n",
      "166:\tlearn: 0.9808168\ttotal: 1.12s\tremaining: 1.56s\n",
      "167:\tlearn: 0.9808168\ttotal: 1.13s\tremaining: 1.56s\n",
      "168:\tlearn: 0.9808168\ttotal: 1.13s\tremaining: 1.55s\n",
      "169:\tlearn: 0.9808168\ttotal: 1.14s\tremaining: 1.54s\n",
      "170:\tlearn: 0.9808168\ttotal: 1.15s\tremaining: 1.53s\n",
      "171:\tlearn: 0.9808168\ttotal: 1.15s\tremaining: 1.52s\n",
      "172:\tlearn: 0.9808168\ttotal: 1.16s\tremaining: 1.52s\n",
      "173:\tlearn: 0.9808168\ttotal: 1.16s\tremaining: 1.51s\n",
      "174:\tlearn: 0.9808168\ttotal: 1.17s\tremaining: 1.5s\n",
      "175:\tlearn: 0.9808168\ttotal: 1.17s\tremaining: 1.49s\n",
      "176:\tlearn: 0.9808168\ttotal: 1.18s\tremaining: 1.48s\n"
     ]
    },
    {
     "name": "stdout",
     "output_type": "stream",
     "text": [
      "177:\tlearn: 0.9808168\ttotal: 1.19s\tremaining: 1.48s\n",
      "178:\tlearn: 0.9808168\ttotal: 1.2s\tremaining: 1.48s\n",
      "179:\tlearn: 0.9808168\ttotal: 1.21s\tremaining: 1.47s\n",
      "180:\tlearn: 0.9808168\ttotal: 1.21s\tremaining: 1.47s\n",
      "181:\tlearn: 0.9808168\ttotal: 1.22s\tremaining: 1.46s\n",
      "182:\tlearn: 0.9808168\ttotal: 1.23s\tremaining: 1.45s\n",
      "183:\tlearn: 0.9808168\ttotal: 1.23s\tremaining: 1.45s\n",
      "184:\tlearn: 0.9808168\ttotal: 1.24s\tremaining: 1.44s\n",
      "185:\tlearn: 0.9808168\ttotal: 1.24s\tremaining: 1.43s\n",
      "186:\tlearn: 0.9808168\ttotal: 1.25s\tremaining: 1.42s\n",
      "187:\tlearn: 0.9808168\ttotal: 1.25s\tremaining: 1.41s\n",
      "188:\tlearn: 0.9808168\ttotal: 1.26s\tremaining: 1.41s\n",
      "189:\tlearn: 0.9808168\ttotal: 1.27s\tremaining: 1.4s\n",
      "190:\tlearn: 0.9808168\ttotal: 1.27s\tremaining: 1.4s\n",
      "191:\tlearn: 0.9808168\ttotal: 1.28s\tremaining: 1.39s\n",
      "192:\tlearn: 0.9808168\ttotal: 1.29s\tremaining: 1.38s\n",
      "193:\tlearn: 0.9808168\ttotal: 1.29s\tremaining: 1.37s\n",
      "194:\tlearn: 0.9808168\ttotal: 1.3s\tremaining: 1.36s\n",
      "195:\tlearn: 0.9808168\ttotal: 1.3s\tremaining: 1.36s\n",
      "196:\tlearn: 0.9808168\ttotal: 1.31s\tremaining: 1.35s\n",
      "197:\tlearn: 0.9808168\ttotal: 1.31s\tremaining: 1.34s\n",
      "198:\tlearn: 0.9808168\ttotal: 1.32s\tremaining: 1.33s\n",
      "199:\tlearn: 0.9808168\ttotal: 1.32s\tremaining: 1.32s\n",
      "200:\tlearn: 0.9808168\ttotal: 1.33s\tremaining: 1.32s\n",
      "201:\tlearn: 0.9808168\ttotal: 1.34s\tremaining: 1.31s\n",
      "202:\tlearn: 0.9808168\ttotal: 1.34s\tremaining: 1.3s\n",
      "203:\tlearn: 0.9808168\ttotal: 1.35s\tremaining: 1.29s\n",
      "204:\tlearn: 0.9808168\ttotal: 1.35s\tremaining: 1.29s\n",
      "205:\tlearn: 0.9808168\ttotal: 1.36s\tremaining: 1.28s\n",
      "206:\tlearn: 0.9808168\ttotal: 1.36s\tremaining: 1.27s\n",
      "207:\tlearn: 0.9808168\ttotal: 1.37s\tremaining: 1.27s\n",
      "208:\tlearn: 0.9808168\ttotal: 1.38s\tremaining: 1.26s\n",
      "209:\tlearn: 0.9808168\ttotal: 1.39s\tremaining: 1.25s\n",
      "210:\tlearn: 0.9808168\ttotal: 1.39s\tremaining: 1.25s\n",
      "211:\tlearn: 0.9808168\ttotal: 1.4s\tremaining: 1.24s\n",
      "212:\tlearn: 0.9808168\ttotal: 1.4s\tremaining: 1.23s\n",
      "213:\tlearn: 0.9808168\ttotal: 1.41s\tremaining: 1.22s\n",
      "214:\tlearn: 0.9808168\ttotal: 1.41s\tremaining: 1.22s\n",
      "215:\tlearn: 0.9808168\ttotal: 1.42s\tremaining: 1.21s\n",
      "216:\tlearn: 0.9808168\ttotal: 1.43s\tremaining: 1.2s\n",
      "217:\tlearn: 0.9808168\ttotal: 1.43s\tremaining: 1.19s\n",
      "218:\tlearn: 0.9808168\ttotal: 1.44s\tremaining: 1.19s\n",
      "219:\tlearn: 0.9808168\ttotal: 1.44s\tremaining: 1.18s\n",
      "220:\tlearn: 0.9808168\ttotal: 1.45s\tremaining: 1.17s\n",
      "221:\tlearn: 0.9808168\ttotal: 1.45s\tremaining: 1.16s\n",
      "222:\tlearn: 0.9808168\ttotal: 1.46s\tremaining: 1.16s\n",
      "223:\tlearn: 0.9808168\ttotal: 1.46s\tremaining: 1.15s\n",
      "224:\tlearn: 0.9808168\ttotal: 1.47s\tremaining: 1.14s\n",
      "225:\tlearn: 0.9808168\ttotal: 1.47s\tremaining: 1.13s\n",
      "226:\tlearn: 0.9808168\ttotal: 1.48s\tremaining: 1.13s\n",
      "227:\tlearn: 0.9808168\ttotal: 1.49s\tremaining: 1.12s\n",
      "228:\tlearn: 0.9808168\ttotal: 1.49s\tremaining: 1.11s\n",
      "229:\tlearn: 0.9808168\ttotal: 1.5s\tremaining: 1.11s\n",
      "230:\tlearn: 0.9808168\ttotal: 1.5s\tremaining: 1.1s\n",
      "231:\tlearn: 0.9808168\ttotal: 1.51s\tremaining: 1.09s\n",
      "232:\tlearn: 0.9808168\ttotal: 1.51s\tremaining: 1.08s\n",
      "233:\tlearn: 0.9808168\ttotal: 1.52s\tremaining: 1.08s\n",
      "234:\tlearn: 0.9808168\ttotal: 1.53s\tremaining: 1.07s\n",
      "235:\tlearn: 0.9808168\ttotal: 1.54s\tremaining: 1.07s\n",
      "236:\tlearn: 0.9808168\ttotal: 1.54s\tremaining: 1.06s\n",
      "237:\tlearn: 0.9808168\ttotal: 1.54s\tremaining: 1.05s\n",
      "238:\tlearn: 0.9808168\ttotal: 1.55s\tremaining: 1.04s\n",
      "239:\tlearn: 0.9808168\ttotal: 1.56s\tremaining: 1.04s\n",
      "240:\tlearn: 0.9808168\ttotal: 1.56s\tremaining: 1.03s\n",
      "241:\tlearn: 0.9808168\ttotal: 1.57s\tremaining: 1.02s\n",
      "242:\tlearn: 0.9808168\ttotal: 1.57s\tremaining: 1.02s\n",
      "243:\tlearn: 0.9808168\ttotal: 1.58s\tremaining: 1.01s\n",
      "244:\tlearn: 0.9808168\ttotal: 1.58s\tremaining: 1s\n",
      "245:\tlearn: 0.9808168\ttotal: 1.59s\tremaining: 995ms\n",
      "246:\tlearn: 0.9808168\ttotal: 1.59s\tremaining: 988ms\n",
      "247:\tlearn: 0.9808168\ttotal: 1.6s\tremaining: 981ms\n",
      "248:\tlearn: 0.9808168\ttotal: 1.61s\tremaining: 974ms\n",
      "249:\tlearn: 0.9808168\ttotal: 1.61s\tremaining: 967ms\n",
      "250:\tlearn: 0.9808168\ttotal: 1.62s\tremaining: 960ms\n",
      "251:\tlearn: 0.9808168\ttotal: 1.62s\tremaining: 953ms\n",
      "252:\tlearn: 0.9808168\ttotal: 1.63s\tremaining: 946ms\n",
      "253:\tlearn: 0.9808168\ttotal: 1.63s\tremaining: 939ms\n",
      "254:\tlearn: 0.9808168\ttotal: 1.64s\tremaining: 932ms\n",
      "255:\tlearn: 0.9808168\ttotal: 1.64s\tremaining: 925ms\n",
      "256:\tlearn: 0.9808168\ttotal: 1.65s\tremaining: 918ms\n",
      "257:\tlearn: 0.9808168\ttotal: 1.66s\tremaining: 911ms\n",
      "258:\tlearn: 0.9808168\ttotal: 1.66s\tremaining: 905ms\n",
      "259:\tlearn: 0.9808168\ttotal: 1.67s\tremaining: 897ms\n",
      "260:\tlearn: 0.9808168\ttotal: 1.67s\tremaining: 890ms\n",
      "261:\tlearn: 0.9808168\ttotal: 1.68s\tremaining: 884ms\n",
      "262:\tlearn: 0.9808168\ttotal: 1.69s\tremaining: 879ms\n",
      "263:\tlearn: 0.9808168\ttotal: 1.69s\tremaining: 873ms\n",
      "264:\tlearn: 0.9808168\ttotal: 1.71s\tremaining: 870ms\n",
      "265:\tlearn: 0.9808168\ttotal: 1.72s\tremaining: 864ms\n",
      "266:\tlearn: 0.9808168\ttotal: 1.72s\tremaining: 857ms\n",
      "267:\tlearn: 0.9808168\ttotal: 1.73s\tremaining: 850ms\n",
      "268:\tlearn: 0.9808168\ttotal: 1.73s\tremaining: 843ms\n",
      "269:\tlearn: 0.9808168\ttotal: 1.74s\tremaining: 836ms\n",
      "270:\tlearn: 0.9808168\ttotal: 1.74s\tremaining: 830ms\n",
      "271:\tlearn: 0.9808168\ttotal: 1.75s\tremaining: 823ms\n",
      "272:\tlearn: 0.9808168\ttotal: 1.75s\tremaining: 816ms\n",
      "273:\tlearn: 0.9808168\ttotal: 1.76s\tremaining: 810ms\n",
      "274:\tlearn: 0.9808168\ttotal: 1.77s\tremaining: 803ms\n",
      "275:\tlearn: 0.9808168\ttotal: 1.77s\tremaining: 797ms\n",
      "276:\tlearn: 0.9808168\ttotal: 1.78s\tremaining: 791ms\n",
      "277:\tlearn: 0.9808168\ttotal: 1.79s\tremaining: 784ms\n",
      "278:\tlearn: 0.9808168\ttotal: 1.79s\tremaining: 777ms\n",
      "279:\tlearn: 0.9808168\ttotal: 1.8s\tremaining: 771ms\n",
      "280:\tlearn: 0.9808168\ttotal: 1.8s\tremaining: 765ms\n",
      "281:\tlearn: 0.9808168\ttotal: 1.81s\tremaining: 758ms\n",
      "282:\tlearn: 0.9808168\ttotal: 1.82s\tremaining: 751ms\n",
      "283:\tlearn: 0.9808168\ttotal: 1.82s\tremaining: 744ms\n",
      "284:\tlearn: 0.9808168\ttotal: 1.83s\tremaining: 738ms\n",
      "285:\tlearn: 0.9808168\ttotal: 1.83s\tremaining: 731ms\n",
      "286:\tlearn: 0.9808168\ttotal: 1.84s\tremaining: 725ms\n",
      "287:\tlearn: 0.9808168\ttotal: 1.85s\tremaining: 718ms\n",
      "288:\tlearn: 0.9808168\ttotal: 1.85s\tremaining: 712ms\n",
      "289:\tlearn: 0.9808168\ttotal: 1.86s\tremaining: 705ms\n",
      "290:\tlearn: 0.9808168\ttotal: 1.86s\tremaining: 699ms\n",
      "291:\tlearn: 0.9808168\ttotal: 1.87s\tremaining: 692ms\n",
      "292:\tlearn: 0.9808168\ttotal: 1.88s\tremaining: 685ms\n",
      "293:\tlearn: 0.9808168\ttotal: 1.88s\tremaining: 678ms\n",
      "294:\tlearn: 0.9808168\ttotal: 1.89s\tremaining: 671ms\n",
      "295:\tlearn: 0.9808168\ttotal: 1.89s\tremaining: 664ms\n",
      "296:\tlearn: 0.9808168\ttotal: 1.9s\tremaining: 657ms\n",
      "297:\tlearn: 0.9808168\ttotal: 1.9s\tremaining: 651ms\n",
      "298:\tlearn: 0.9808168\ttotal: 1.91s\tremaining: 644ms\n",
      "299:\tlearn: 0.9808168\ttotal: 1.91s\tremaining: 637ms\n",
      "300:\tlearn: 0.9808168\ttotal: 1.91s\tremaining: 630ms\n",
      "301:\tlearn: 0.9808168\ttotal: 1.92s\tremaining: 624ms\n",
      "302:\tlearn: 0.9808168\ttotal: 1.93s\tremaining: 617ms\n",
      "303:\tlearn: 0.9808168\ttotal: 1.93s\tremaining: 611ms\n",
      "304:\tlearn: 0.9808168\ttotal: 1.94s\tremaining: 604ms\n",
      "305:\tlearn: 0.9808168\ttotal: 1.94s\tremaining: 597ms\n",
      "306:\tlearn: 0.9808168\ttotal: 1.95s\tremaining: 590ms\n",
      "307:\tlearn: 0.9808168\ttotal: 1.95s\tremaining: 583ms\n",
      "308:\tlearn: 0.9808168\ttotal: 1.96s\tremaining: 576ms\n",
      "309:\tlearn: 0.9808168\ttotal: 1.96s\tremaining: 569ms\n",
      "310:\tlearn: 0.9808168\ttotal: 1.97s\tremaining: 563ms\n",
      "311:\tlearn: 0.9808168\ttotal: 1.97s\tremaining: 556ms\n",
      "312:\tlearn: 0.9808168\ttotal: 1.97s\tremaining: 549ms\n",
      "313:\tlearn: 0.9808168\ttotal: 1.98s\tremaining: 542ms\n",
      "314:\tlearn: 0.9808168\ttotal: 1.98s\tremaining: 535ms\n",
      "315:\tlearn: 0.9808168\ttotal: 1.99s\tremaining: 528ms\n",
      "316:\tlearn: 0.9808168\ttotal: 1.99s\tremaining: 522ms\n",
      "317:\tlearn: 0.9808168\ttotal: 2s\tremaining: 515ms\n",
      "318:\tlearn: 0.9808168\ttotal: 2s\tremaining: 509ms\n",
      "319:\tlearn: 0.9808168\ttotal: 2.01s\tremaining: 502ms\n",
      "320:\tlearn: 0.9808168\ttotal: 2.02s\tremaining: 496ms\n",
      "321:\tlearn: 0.9808168\ttotal: 2.02s\tremaining: 489ms\n",
      "322:\tlearn: 0.9808168\ttotal: 2.03s\tremaining: 483ms\n",
      "323:\tlearn: 0.9808168\ttotal: 2.03s\tremaining: 477ms\n",
      "324:\tlearn: 0.9808168\ttotal: 2.04s\tremaining: 470ms\n",
      "325:\tlearn: 0.9808168\ttotal: 2.04s\tremaining: 464ms\n",
      "326:\tlearn: 0.9808168\ttotal: 2.05s\tremaining: 457ms\n",
      "327:\tlearn: 0.9808168\ttotal: 2.05s\tremaining: 450ms\n",
      "328:\tlearn: 0.9808168\ttotal: 2.06s\tremaining: 444ms\n",
      "329:\tlearn: 0.9808168\ttotal: 2.06s\tremaining: 437ms\n",
      "330:\tlearn: 0.9808168\ttotal: 2.06s\tremaining: 431ms\n",
      "331:\tlearn: 0.9808168\ttotal: 2.07s\tremaining: 424ms\n",
      "332:\tlearn: 0.9808168\ttotal: 2.07s\tremaining: 417ms\n",
      "333:\tlearn: 0.9808168\ttotal: 2.08s\tremaining: 411ms\n",
      "334:\tlearn: 0.9808168\ttotal: 2.08s\tremaining: 405ms\n",
      "335:\tlearn: 0.9808168\ttotal: 2.09s\tremaining: 398ms\n",
      "336:\tlearn: 0.9808168\ttotal: 2.1s\tremaining: 392ms\n",
      "337:\tlearn: 0.9808168\ttotal: 2.1s\tremaining: 385ms\n",
      "338:\tlearn: 0.9808168\ttotal: 2.1s\tremaining: 379ms\n",
      "339:\tlearn: 0.9808168\ttotal: 2.11s\tremaining: 372ms\n",
      "340:\tlearn: 0.9808168\ttotal: 2.11s\tremaining: 366ms\n",
      "341:\tlearn: 0.9808168\ttotal: 2.12s\tremaining: 359ms\n",
      "342:\tlearn: 0.9808168\ttotal: 2.12s\tremaining: 353ms\n",
      "343:\tlearn: 0.9808168\ttotal: 2.13s\tremaining: 346ms\n",
      "344:\tlearn: 0.9808168\ttotal: 2.13s\tremaining: 340ms\n",
      "345:\tlearn: 0.9808168\ttotal: 2.14s\tremaining: 333ms\n",
      "346:\tlearn: 0.9808168\ttotal: 2.15s\tremaining: 328ms\n",
      "347:\tlearn: 0.9808168\ttotal: 2.15s\tremaining: 321ms\n",
      "348:\tlearn: 0.9808168\ttotal: 2.15s\tremaining: 315ms\n",
      "349:\tlearn: 0.9808168\ttotal: 2.16s\tremaining: 309ms\n",
      "350:\tlearn: 0.9808168\ttotal: 2.17s\tremaining: 303ms\n"
     ]
    },
    {
     "name": "stdout",
     "output_type": "stream",
     "text": [
      "351:\tlearn: 0.9808168\ttotal: 2.17s\tremaining: 297ms\n",
      "352:\tlearn: 0.9808168\ttotal: 2.18s\tremaining: 290ms\n",
      "353:\tlearn: 0.9808168\ttotal: 2.19s\tremaining: 284ms\n",
      "354:\tlearn: 0.9808168\ttotal: 2.19s\tremaining: 278ms\n",
      "355:\tlearn: 0.9808168\ttotal: 2.2s\tremaining: 272ms\n",
      "356:\tlearn: 0.9808168\ttotal: 2.21s\tremaining: 266ms\n",
      "357:\tlearn: 0.9808168\ttotal: 2.22s\tremaining: 260ms\n",
      "358:\tlearn: 0.9808168\ttotal: 2.22s\tremaining: 254ms\n",
      "359:\tlearn: 0.9808168\ttotal: 2.23s\tremaining: 248ms\n",
      "360:\tlearn: 0.9808168\ttotal: 2.23s\tremaining: 241ms\n",
      "361:\tlearn: 0.9808168\ttotal: 2.24s\tremaining: 235ms\n",
      "362:\tlearn: 0.9808168\ttotal: 2.24s\tremaining: 228ms\n",
      "363:\tlearn: 0.9808168\ttotal: 2.25s\tremaining: 222ms\n",
      "364:\tlearn: 0.9808168\ttotal: 2.25s\tremaining: 216ms\n",
      "365:\tlearn: 0.9808168\ttotal: 2.26s\tremaining: 210ms\n",
      "366:\tlearn: 0.9808168\ttotal: 2.26s\tremaining: 203ms\n",
      "367:\tlearn: 0.9808168\ttotal: 2.27s\tremaining: 197ms\n",
      "368:\tlearn: 0.9808168\ttotal: 2.27s\tremaining: 191ms\n",
      "369:\tlearn: 0.9808168\ttotal: 2.27s\tremaining: 184ms\n",
      "370:\tlearn: 0.9808168\ttotal: 2.28s\tremaining: 178ms\n",
      "371:\tlearn: 0.9808168\ttotal: 2.28s\tremaining: 172ms\n",
      "372:\tlearn: 0.9808168\ttotal: 2.29s\tremaining: 166ms\n",
      "373:\tlearn: 0.9808168\ttotal: 2.29s\tremaining: 159ms\n",
      "374:\tlearn: 0.9808168\ttotal: 2.3s\tremaining: 153ms\n",
      "375:\tlearn: 0.9808168\ttotal: 2.3s\tremaining: 147ms\n",
      "376:\tlearn: 0.9808168\ttotal: 2.31s\tremaining: 141ms\n",
      "377:\tlearn: 0.9808168\ttotal: 2.31s\tremaining: 135ms\n",
      "378:\tlearn: 0.9808168\ttotal: 2.32s\tremaining: 129ms\n",
      "379:\tlearn: 0.9808168\ttotal: 2.33s\tremaining: 122ms\n",
      "380:\tlearn: 0.9808168\ttotal: 2.33s\tremaining: 116ms\n",
      "381:\tlearn: 0.9808168\ttotal: 2.35s\tremaining: 110ms\n",
      "382:\tlearn: 0.9808168\ttotal: 2.35s\tremaining: 104ms\n",
      "383:\tlearn: 0.9808168\ttotal: 2.36s\tremaining: 98.3ms\n",
      "384:\tlearn: 0.9808168\ttotal: 2.37s\tremaining: 92.2ms\n",
      "385:\tlearn: 0.9808168\ttotal: 2.37s\tremaining: 86.1ms\n",
      "386:\tlearn: 0.9808168\ttotal: 2.38s\tremaining: 79.9ms\n",
      "387:\tlearn: 0.9808168\ttotal: 2.39s\tremaining: 73.8ms\n",
      "388:\tlearn: 0.9808168\ttotal: 2.39s\tremaining: 67.6ms\n",
      "389:\tlearn: 0.9808168\ttotal: 2.4s\tremaining: 61.5ms\n",
      "390:\tlearn: 0.9808168\ttotal: 2.4s\tremaining: 55.3ms\n",
      "391:\tlearn: 0.9808168\ttotal: 2.41s\tremaining: 49.1ms\n",
      "392:\tlearn: 0.9808168\ttotal: 2.41s\tremaining: 43ms\n",
      "393:\tlearn: 0.9808168\ttotal: 2.42s\tremaining: 36.8ms\n",
      "394:\tlearn: 0.9808168\ttotal: 2.42s\tremaining: 30.7ms\n",
      "395:\tlearn: 0.9808168\ttotal: 2.43s\tremaining: 24.5ms\n",
      "396:\tlearn: 0.9808168\ttotal: 2.43s\tremaining: 18.4ms\n",
      "397:\tlearn: 0.9808168\ttotal: 2.44s\tremaining: 12.3ms\n",
      "398:\tlearn: 0.9808168\ttotal: 2.44s\tremaining: 6.13ms\n",
      "399:\tlearn: 0.9808168\ttotal: 2.45s\tremaining: 0us\n",
      "Accuracy: 1.23 %\n"
     ]
    }
   ],
   "source": [
    "import catboost as cb\n",
    "\n",
    "cb_dtrain = cb.Pool(data = train_x, label = train_y) # 학습 데이터를 Catboost 모델에 맞게 변환\n",
    "cb_param = {'max_depth': 3, # 트리 깊이\n",
    "            'learning_rate': 0.001, # Step Size\n",
    "            'n_estimators': 400, # Number of trees, 트리 생성 개수\n",
    "            'eval_metric': 'Accuracy', # 평가 척도\n",
    "            'loss_function': 'MultiClass'} # 손실 함수, 목적 함수\n",
    "\n",
    "cb_model = cb.train(pool = cb_dtrain, params = cb_param) # 학습 진행\n",
    "cb_model_predict = np.argmax(cb_model.predict(test_x), axis = 1) + 1 # 평가 데이터 예측, Softmax의 결과값 중 가장 큰 값의 Label로 예측, 인덱스의 순서를 맞추기 위해 +1\n",
    "print(\"Accuracy: %.2f\" % (accuracy_score(test_y, cb_model_predict) * 100), \"%\") # 정확도 % 계산"
   ]
  }
 ],
 "metadata": {
  "kernelspec": {
   "display_name": "Python 3",
   "language": "python",
   "name": "python3"
  },
  "language_info": {
   "codemirror_mode": {
    "name": "ipython",
    "version": 3
   },
   "file_extension": ".py",
   "mimetype": "text/x-python",
   "name": "python",
   "nbconvert_exporter": "python",
   "pygments_lexer": "ipython3",
   "version": "3.8.3"
  }
 },
 "nbformat": 4,
 "nbformat_minor": 4
}
