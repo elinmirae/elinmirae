{
 "cells": [
  {
   "cell_type": "code",
   "execution_count": 5,
   "metadata": {},
   "outputs": [],
   "source": [
    "from selenium import webdriver\n",
    "import time\n",
    "import pandas as pd\n",
    "from selenium.webdriver.chrome.options import Options\n",
    "import csv"
   ]
  },
  {
   "cell_type": "markdown",
   "metadata": {},
   "source": [
    "# 이것만 사용!"
   ]
  },
  {
   "cell_type": "code",
   "execution_count": null,
   "metadata": {},
   "outputs": [
    {
     "name": "stdout",
     "output_type": "stream",
     "text": [
      "page 0\n"
     ]
    },
    {
     "name": "stderr",
     "output_type": "stream",
     "text": [
      "<ipython-input-7-dce6d822d617>:13: DeprecationWarning: executable_path has been deprecated, please pass in a Service object\n",
      "  driver = webdriver.Chrome(\"C:/Users\\kmr14/chromedriver_win32/chromedriver.exe\")\n",
      "<ipython-input-7-dce6d822d617>:21: DeprecationWarning: find_elements_by_css_selector is deprecated. Please use find_elements(by=By.CSS_SELECTOR, value=css_selector) instead\n",
      "  reviews = driver.find_elements_by_css_selector('.cqoFv._T')\n"
     ]
    },
    {
     "name": "stdout",
     "output_type": "stream",
     "text": [
      "page 5\n",
      "page 10\n",
      "page 15\n",
      "page 20\n"
     ]
    }
   ],
   "source": [
    "#파일생성\n",
    "f = open(r\"C:/Users/kmr14/머신러닝수업/review_data.csv\", 'w', encoding='CP949', newline='')\n",
    "csvWriter = csv.writer(f)\n",
    "\n",
    "for i in range(0,2880,5):\n",
    "    print(\"page\",i)\n",
    "    \n",
    "    url_str = \"https://www.tripadvisor.com/Hotel_Review-g45963-d91703-Reviews-or\"\n",
    "    url_num = str(i)\n",
    "    url_keyword = \"-Bellagio_Las_Vegas-Las_Vegas_Nevada.html#REVIEWS\"\n",
    "    \n",
    "    total_url = url_str + url_num + url_keyword\n",
    "    driver = webdriver.Chrome(\"C:/Users\\kmr14/chromedriver_win32/chromedriver.exe\")\n",
    "    driver.get(total_url)\n",
    "    \n",
    "    driver.implicitly_wait(10) #로딩이 끝날때까지 10초 대기\n",
    "\n",
    "    \n",
    "    for j in range(0,5,1):\n",
    "        #전체 데이터\n",
    "        reviews = driver.find_elements_by_css_selector('.cqoFv._T')\n",
    "        rating_code = reviews[j].find_element_by_css_selector(\".emWez > span\")\n",
    "        \n",
    "        #평점\n",
    "        cls_attr = rating_code.get_attribute(\"class\")\n",
    "        cls_attr = str(cls_attr).split(\"ui_bubble_rating bubble_\")\n",
    "        \n",
    "        score = str(cls_attr[1])\n",
    "        #print(score)\n",
    "        \n",
    "        time.sleep(3)\n",
    "        \n",
    "        #제목\n",
    "        Title = reviews[j].find_element_by_css_selector(\".fCitC > span > span\").text\n",
    "        #print(Title)\n",
    "        \n",
    "        #본문\n",
    "        Temp_review = reviews[j].find_element_by_css_selector(\".XllAv > span\").text\n",
    "        \n",
    "        time.sleep(3)\n",
    "        \n",
    "        content = Temp_review.replace(\"\\n\",\" \")\n",
    "        #print(content)\n",
    "        \n",
    "        #데이터 쓰기\n",
    "        csvWriter.writerow([score,Title,content])\n",
    "\n",
    "#파일 닫기\n",
    "f.close()"
   ]
  },
  {
   "cell_type": "code",
   "execution_count": 14,
   "metadata": {},
   "outputs": [
    {
     "name": "stderr",
     "output_type": "stream",
     "text": [
      "<ipython-input-14-ba021cc38bce>:5: DeprecationWarning: executable_path has been deprecated, please pass in a Service object\n",
      "  driver = webdriver.Chrome(\"C:/Users\\kmr14/chromedriver_win32/chromedriver.exe\",options=chrome_options)\n",
      "<ipython-input-14-ba021cc38bce>:12: DeprecationWarning: find_elements_by_css_selector is deprecated. Please use find_elements(by=By.CSS_SELECTOR, value=css_selector) instead\n",
      "  driver.find_elements_by_css_selector(\"span.fwSIg.q\")[1].click()\n",
      "<ipython-input-14-ba021cc38bce>:15: DeprecationWarning: find_element_by_css_selector is deprecated. Please use find_element(by=By.CSS_SELECTOR, value=css_selector) instead\n",
      "  page_bar = driver.find_element_by_css_selector('.pageNumbers')\n"
     ]
    },
    {
     "ename": "IndexError",
     "evalue": "list index out of range",
     "output_type": "error",
     "traceback": [
      "\u001b[1;31m---------------------------------------------------------------------------\u001b[0m",
      "\u001b[1;31mIndexError\u001b[0m                                Traceback (most recent call last)",
      "\u001b[1;32m<ipython-input-14-ba021cc38bce>\u001b[0m in \u001b[0;36m<module>\u001b[1;34m\u001b[0m\n\u001b[0;32m     16\u001b[0m \u001b[0mpages\u001b[0m \u001b[1;33m=\u001b[0m \u001b[0mpage_bar\u001b[0m\u001b[1;33m.\u001b[0m\u001b[0mfind_elements_by_css_selector\u001b[0m\u001b[1;33m(\u001b[0m\u001b[1;34m'a'\u001b[0m\u001b[1;33m)\u001b[0m\u001b[1;33m\u001b[0m\u001b[1;33m\u001b[0m\u001b[0m\n\u001b[0;32m     17\u001b[0m \u001b[1;33m\u001b[0m\u001b[0m\n\u001b[1;32m---> 18\u001b[1;33m \u001b[0mpage_now\u001b[0m \u001b[1;33m=\u001b[0m \u001b[0mpage_bar\u001b[0m\u001b[1;33m.\u001b[0m\u001b[0mfind_elements_by_css_selector\u001b[0m\u001b[1;33m(\u001b[0m\u001b[1;34m'sapn'\u001b[0m\u001b[1;33m)\u001b[0m\u001b[1;33m[\u001b[0m\u001b[1;36m0\u001b[0m\u001b[1;33m]\u001b[0m\u001b[1;33m.\u001b[0m\u001b[0mtext\u001b[0m\u001b[1;33m\u001b[0m\u001b[1;33m\u001b[0m\u001b[0m\n\u001b[0m\u001b[0;32m     19\u001b[0m \u001b[1;33m\u001b[0m\u001b[0m\n\u001b[0;32m     20\u001b[0m \u001b[1;32mfor\u001b[0m \u001b[0mpage\u001b[0m \u001b[1;32min\u001b[0m \u001b[0mpages\u001b[0m\u001b[1;33m:\u001b[0m\u001b[1;33m\u001b[0m\u001b[1;33m\u001b[0m\u001b[0m\n",
      "\u001b[1;31mIndexError\u001b[0m: list index out of range"
     ]
    }
   ],
   "source": [
    "chrome_options = Options()\n",
    "chrome_options.add_argument(\"--headless\")\n",
    "\n",
    "url = \"https://www.tripadvisor.co.kr/Hotel_Review-g45963-d91703-Reviews-Bellagio_Las_Vegas-Las_Vegas_Nevada.html\"\n",
    "driver = webdriver.Chrome(\"C:/Users\\kmr14/chromedriver_win32/chromedriver.exe\",options=chrome_options)\n",
    "driver.get(url)\n",
    "\n",
    "#로딩이 끝날때까지 10초 대기\n",
    "driver.implicitly_wait(10)\n",
    "\n",
    "#언어 중 '영어' 선택\n",
    "driver.find_elements_by_css_selector(\"span.fwSIg.q\")[1].click()\n",
    "\n",
    "#페이지 함수 정의\n",
    "page_bar = driver.find_element_by_css_selector('.pageNumbers')\n",
    "pages = page_bar.find_elements_by_css_selector('a')\n",
    "\n",
    "page_now = page_bar.find_elements_by_css_selector('sapn')[0].text\n",
    "\n",
    "for page in pages:\n",
    "    page_num = page.text.strip()\n",
    "    \n",
    "    if page_num == '이전':\n",
    "        pass\n",
    "    \n",
    "    elif page_num == '다음':\n",
    "        page.send_keys(\"\\n\")\n",
    "        driver.implicitly_wait(3)\n",
    "        time.sleep(2+random.uniform(0,1))\n",
    "        \n",
    "        return False\n",
    "    \n",
    "    elif int(page_num) > int(page_now):\n",
    "        page.send_keys(\"\\n\")\n",
    "        driver.implicitly_wait(3)\n",
    "        time.sleep(1+random.uniform(0,1))\n",
    "        return False\n",
    "    \n",
    "    print('마지막 페이지')\n",
    "    return True\n",
    "\n",
    "    for j in range(0,5,1):\n",
    "        #전체 데이터\n",
    "        reviews = driver.find_elements_by_css_selector('.cqoFv._T')\n",
    "        rating_code = reviews[j].find_element_by_css_selector(\".emWez > span\")\n",
    "\n",
    "        #평점\n",
    "        cls_attr = rating_code.get_attribute(\"class\")\n",
    "        cls_attr = str(cls_attr).split(\"ui_bubble_rating bubble_\")\n",
    "\n",
    "        score = str(cls_attr[1])\n",
    "        print(score)\n",
    "\n",
    "        time.sleep(3)\n",
    "\n",
    "        #제목\n",
    "        Title = reviews[j].find_element_by_css_selector(\".fCitC > span > span\").text\n",
    "        print(Title)\n",
    "\n",
    "        #본문\n",
    "        Temp_review = reviews[j].find_element_by_css_selector(\".XllAv > span\").text\n",
    "\n",
    "        time.sleep(3)\n",
    "\n",
    "        content = Temp_review.replace(\"\\n\",\" \")\n",
    "        print(content)"
   ]
  },
  {
   "cell_type": "code",
   "execution_count": 10,
   "metadata": {},
   "outputs": [
    {
     "name": "stderr",
     "output_type": "stream",
     "text": [
      "<ipython-input-10-4496efebb0b8>:2: DeprecationWarning: executable_path has been deprecated, please pass in a Service object\n",
      "  driver = webdriver.Chrome(\"C:/Users\\kmr14/chromedriver_win32/chromedriver.exe\")\n",
      "<ipython-input-10-4496efebb0b8>:9: DeprecationWarning: find_elements_by_css_selector is deprecated. Please use find_elements(by=By.CSS_SELECTOR, value=css_selector) instead\n",
      "  driver.find_elements_by_css_selector(\"span.fwSIg.q\")[1].click()\n",
      "<ipython-input-10-4496efebb0b8>:15: DeprecationWarning: find_element_by_css_selector is deprecated. Please use find_element(by=By.CSS_SELECTOR, value=css_selector) instead\n",
      "  page_bar = driver.find_element_by_css_selector('.pageNumbers')\n"
     ]
    }
   ],
   "source": [
    "url = \"https://www.tripadvisor.co.kr/Hotel_Review-g45963-d91703-Reviews-Bellagio_Las_Vegas-Las_Vegas_Nevada.html\"\n",
    "driver = webdriver.Chrome(\"C:/Users\\kmr14/chromedriver_win32/chromedriver.exe\")\n",
    "driver.get(url)\n",
    "\n",
    "#로딩이 끝날때까지 10초 대기\n",
    "driver.implicitly_wait(10)\n",
    "\n",
    "#언어 중 '영어' 선택\n",
    "driver.find_elements_by_css_selector(\"span.fwSIg.q\")[1].click()\n",
    "\n",
    "#로딩이 끝날때까지 10초 대기\n",
    "driver.implicitly_wait(10)\n",
    "\n",
    "#페이지 함수 정의\n",
    "page_bar = driver.find_element_by_css_selector('.pageNumbers')\n",
    "page = page_bar.find_elements_by_css_selector('a')\n",
    "\n",
    "page_now = page_bar.find_elements_by_css_selector('span')[0].text"
   ]
  },
  {
   "cell_type": "code",
   "execution_count": null,
   "metadata": {},
   "outputs": [
    {
     "name": "stderr",
     "output_type": "stream",
     "text": [
      "<ipython-input-32-a219f73d219a>:2: DeprecationWarning: executable_path has been deprecated, please pass in a Service object\n",
      "  driver = webdriver.Chrome(\"C:/Users\\kmr14/chromedriver_win32/chromedriver.exe\")\n"
     ]
    }
   ],
   "source": [
    "url = \"https://www.tripadvisor.co.kr/Hotel_Review-g45963-d91703-Reviews-Bellagio_Las_Vegas-Las_Vegas_Nevada.html\"\n",
    "driver = webdriver.Chrome(\"C:/Users\\kmr14/chromedriver_win32/chromedriver.exe\")\n",
    "driver.get(total_url)"
   ]
  },
  {
   "cell_type": "code",
   "execution_count": null,
   "metadata": {},
   "outputs": [],
   "source": [
    "driver.implicitly_wait(10) #로딩이 끝날때까지 10초 대기\n",
    "    \n",
    "driver.find_elements_by_css_selector(\"span.fwSIg.q\")[1].click() #언어 중 '영어' 선택\n",
    "\n",
    "driver.implicitly_wait(10) #로딩이 끝날때까지 10초 대기"
   ]
  },
  {
   "cell_type": "code",
   "execution_count": null,
   "metadata": {},
   "outputs": [],
   "source": [
    "driver.find_elements_by_css_selector(\"span.pageNum\")[1].get_attribute(\"href\").click()"
   ]
  },
  {
   "cell_type": "code",
   "execution_count": null,
   "metadata": {},
   "outputs": [],
   "source": []
  }
 ],
 "metadata": {
  "kernelspec": {
   "display_name": "Python 3",
   "language": "python",
   "name": "python3"
  },
  "language_info": {
   "codemirror_mode": {
    "name": "ipython",
    "version": 3
   },
   "file_extension": ".py",
   "mimetype": "text/x-python",
   "name": "python",
   "nbconvert_exporter": "python",
   "pygments_lexer": "ipython3",
   "version": "3.8.3"
  }
 },
 "nbformat": 4,
 "nbformat_minor": 4
}
