{
 "cells": [
  {
   "cell_type": "code",
   "execution_count": 1,
   "metadata": {},
   "outputs": [],
   "source": [
    "from selenium import webdriver\n",
    "import time\n",
    "import pandas as pd\n",
    "from selenium.webdriver.chrome.options import Options\n",
    "import csv"
   ]
  },
  {
   "cell_type": "markdown",
   "metadata": {},
   "source": [
    "# 이것만 사용!"
   ]
  },
  {
   "cell_type": "code",
   "execution_count": 11,
   "metadata": {},
   "outputs": [
    {
     "name": "stderr",
     "output_type": "stream",
     "text": [
      "<ipython-input-11-e8e5257bdf4d>:12: DeprecationWarning: executable_path has been deprecated, please pass in a Service object\n",
      "  driver = webdriver.Chrome(\"C:/Users\\kmr14/chromedriver_win32/chromedriver.exe\")\n",
      "<ipython-input-11-e8e5257bdf4d>:20: DeprecationWarning: find_elements_by_css_selector is deprecated. Please use find_elements(by=By.CSS_SELECTOR, value=css_selector) instead\n",
      "  reviews = driver.find_elements_by_css_selector('.cqoFv._T')\n",
      "C:\\Users\\kmr14\\Anaconda3\\lib\\site-packages\\selenium\\webdriver\\remote\\webelement.py:484: UserWarning: find_element_by_css_selector is deprecated. Please use find_element(by=By.CSS_SELECTOR, value=css_selector) instead\n",
      "  warnings.warn(\"find_element_by_css_selector is deprecated. Please use find_element(by=By.CSS_SELECTOR, value=css_selector) instead\")\n"
     ]
    },
    {
     "name": "stdout",
     "output_type": "stream",
     "text": [
      "page 2700 completed\n",
      "page 2710 completed\n",
      "page 2720 completed\n",
      "page 2730 completed\n",
      "page 2740 completed\n",
      "page 2750 completed\n",
      "page 2760 completed\n",
      "page 2770 completed\n",
      "page 2780 completed\n",
      "page 2790 completed\n",
      "page 2800 completed\n",
      "page 2810 completed\n",
      "page 2820 completed\n",
      "page 2830 completed\n",
      "page 2840 completed\n",
      "page 2850 completed\n",
      "page 2860 completed\n",
      "page 2870 completed\n"
     ]
    }
   ],
   "source": [
    "score_list = []\n",
    "Title_list = []\n",
    "content_list = []\n",
    "\n",
    "for i in range(2700,2880,10): #2880까지\n",
    "\n",
    "    url_str = \"https://www.tripadvisor.com/Hotel_Review-g45963-d91703-Reviews-or\"\n",
    "    url_num = str(i)\n",
    "    url_keyword = \"-Bellagio_Las_Vegas-Las_Vegas_Nevada.html#REVIEWS\"\n",
    "\n",
    "    total_url = url_str + url_num + url_keyword\n",
    "    driver = webdriver.Chrome(\"C:/Users\\kmr14/chromedriver_win32/chromedriver.exe\")\n",
    "    driver.get(total_url)\n",
    "\n",
    "    driver.implicitly_wait(10) #로딩이 끝날때까지 10초 대기\n",
    "\n",
    "\n",
    "    for j in range(0,10,1):\n",
    "        #전체 데이터\n",
    "        reviews = driver.find_elements_by_css_selector('.cqoFv._T')\n",
    "        rating_code = reviews[j].find_element_by_css_selector(\".emWez > span\")\n",
    "\n",
    "        #평점\n",
    "        cls_attr = rating_code.get_attribute(\"class\")\n",
    "        cls_attr = str(cls_attr).split(\"ui_bubble_rating bubble_\")\n",
    "\n",
    "        score = str(cls_attr[1])\n",
    "        score_list.append(score)\n",
    "        #print(score)\n",
    "\n",
    "        time.sleep(3)\n",
    "\n",
    "        #제목\n",
    "        Title = reviews[j].find_element_by_css_selector(\".fCitC > span > span\").text\n",
    "        Title_list.append(Title)\n",
    "        #print(Title)\n",
    "\n",
    "        #본문\n",
    "        Temp_review = reviews[j].find_element_by_css_selector(\".XllAv > span\").text\n",
    "\n",
    "        time.sleep(3)\n",
    "\n",
    "        content = Temp_review.replace(\"\\n\",\" \")\n",
    "        content_list.append(content)\n",
    "        #print(content)\n",
    "    \n",
    "    print(\"page\",i,\"completed\")"
   ]
  },
  {
   "cell_type": "code",
   "execution_count": 12,
   "metadata": {},
   "outputs": [
    {
     "data": {
      "text/html": [
       "<div>\n",
       "<style scoped>\n",
       "    .dataframe tbody tr th:only-of-type {\n",
       "        vertical-align: middle;\n",
       "    }\n",
       "\n",
       "    .dataframe tbody tr th {\n",
       "        vertical-align: top;\n",
       "    }\n",
       "\n",
       "    .dataframe thead th {\n",
       "        text-align: right;\n",
       "    }\n",
       "</style>\n",
       "<table border=\"1\" class=\"dataframe\">\n",
       "  <thead>\n",
       "    <tr style=\"text-align: right;\">\n",
       "      <th></th>\n",
       "      <th>score</th>\n",
       "      <th>Title</th>\n",
       "      <th>content</th>\n",
       "    </tr>\n",
       "  </thead>\n",
       "  <tbody>\n",
       "    <tr>\n",
       "      <th>0</th>\n",
       "      <td>50</td>\n",
       "      <td>Vacation</td>\n",
       "      <td>The views are beautiful. To the pool that is g...</td>\n",
       "    </tr>\n",
       "    <tr>\n",
       "      <th>1</th>\n",
       "      <td>10</td>\n",
       "      <td>Bellagio is old and tired</td>\n",
       "      <td>I paid a premium for a “newly renovated” room ...</td>\n",
       "    </tr>\n",
       "    <tr>\n",
       "      <th>2</th>\n",
       "      <td>50</td>\n",
       "      <td>Just the perfect size casino hotel.</td>\n",
       "      <td>We always feel at home at Bellagio. Some Casin...</td>\n",
       "    </tr>\n",
       "    <tr>\n",
       "      <th>3</th>\n",
       "      <td>50</td>\n",
       "      <td>Enjoyed our stay</td>\n",
       "      <td>We've been to Vegas numerous times and this is...</td>\n",
       "    </tr>\n",
       "    <tr>\n",
       "      <th>4</th>\n",
       "      <td>30</td>\n",
       "      <td>Bellagio</td>\n",
       "      <td>The queen suite we stayed in looked old and da...</td>\n",
       "    </tr>\n",
       "    <tr>\n",
       "      <th>...</th>\n",
       "      <td>...</td>\n",
       "      <td>...</td>\n",
       "      <td>...</td>\n",
       "    </tr>\n",
       "    <tr>\n",
       "      <th>175</th>\n",
       "      <td>40</td>\n",
       "      <td>Nice Hotel and Location</td>\n",
       "      <td>Only thing we didn't like was the surprise $10...</td>\n",
       "    </tr>\n",
       "    <tr>\n",
       "      <th>176</th>\n",
       "      <td>40</td>\n",
       "      <td>Enjoyed our stay</td>\n",
       "      <td>Bellagio is generally our hotel of choice when...</td>\n",
       "    </tr>\n",
       "    <tr>\n",
       "      <th>177</th>\n",
       "      <td>50</td>\n",
       "      <td>The most memorable anniversary ever!</td>\n",
       "      <td>We stayed in the king suite, and it was lovely...</td>\n",
       "    </tr>\n",
       "    <tr>\n",
       "      <th>178</th>\n",
       "      <td>50</td>\n",
       "      <td>Bellissimo Bellagio</td>\n",
       "      <td>We stayed in many different casinos in Vegas, ...</td>\n",
       "    </tr>\n",
       "    <tr>\n",
       "      <th>179</th>\n",
       "      <td>20</td>\n",
       "      <td>It was eh</td>\n",
       "      <td>I wasn't impressed or necessarily disappointed...</td>\n",
       "    </tr>\n",
       "  </tbody>\n",
       "</table>\n",
       "<p>180 rows × 3 columns</p>\n",
       "</div>"
      ],
      "text/plain": [
       "    score                                 Title  \\\n",
       "0      50                              Vacation   \n",
       "1      10             Bellagio is old and tired   \n",
       "2      50   Just the perfect size casino hotel.   \n",
       "3      50                      Enjoyed our stay   \n",
       "4      30                              Bellagio   \n",
       "..    ...                                   ...   \n",
       "175    40               Nice Hotel and Location   \n",
       "176    40                      Enjoyed our stay   \n",
       "177    50  The most memorable anniversary ever!   \n",
       "178    50                   Bellissimo Bellagio   \n",
       "179    20                             It was eh   \n",
       "\n",
       "                                               content  \n",
       "0    The views are beautiful. To the pool that is g...  \n",
       "1    I paid a premium for a “newly renovated” room ...  \n",
       "2    We always feel at home at Bellagio. Some Casin...  \n",
       "3    We've been to Vegas numerous times and this is...  \n",
       "4    The queen suite we stayed in looked old and da...  \n",
       "..                                                 ...  \n",
       "175  Only thing we didn't like was the surprise $10...  \n",
       "176  Bellagio is generally our hotel of choice when...  \n",
       "177  We stayed in the king suite, and it was lovely...  \n",
       "178  We stayed in many different casinos in Vegas, ...  \n",
       "179  I wasn't impressed or necessarily disappointed...  \n",
       "\n",
       "[180 rows x 3 columns]"
      ]
     },
     "execution_count": 12,
     "metadata": {},
     "output_type": "execute_result"
    }
   ],
   "source": [
    "info = {\"score\":score_list, \"Title\":Title_list, \"content\":content_list}\n",
    "data = pd.DataFrame(info)\n",
    "data"
   ]
  },
  {
   "cell_type": "code",
   "execution_count": 4,
   "metadata": {},
   "outputs": [],
   "source": [
    "#data.to_csv(\"data1.csv\") #0-80"
   ]
  },
  {
   "cell_type": "code",
   "execution_count": 4,
   "metadata": {},
   "outputs": [],
   "source": [
    "#data.to_csv(\"data2.csv\") #90-150"
   ]
  },
  {
   "cell_type": "code",
   "execution_count": 5,
   "metadata": {},
   "outputs": [],
   "source": [
    "#data.to_csv(\"data3.csv\") #160-320"
   ]
  },
  {
   "cell_type": "code",
   "execution_count": 11,
   "metadata": {},
   "outputs": [],
   "source": [
    "#data.to_csv(\"data4.csv\") #330-440"
   ]
  },
  {
   "cell_type": "code",
   "execution_count": 4,
   "metadata": {},
   "outputs": [],
   "source": [
    "#data.to_csv(\"data5.csv\") #450-560"
   ]
  },
  {
   "cell_type": "code",
   "execution_count": 4,
   "metadata": {},
   "outputs": [],
   "source": [
    "#data.to_csv(\"data6.csv\") #570-850"
   ]
  },
  {
   "cell_type": "code",
   "execution_count": 5,
   "metadata": {},
   "outputs": [],
   "source": [
    "#data.to_csv(\"data7.csv\") #860-970"
   ]
  },
  {
   "cell_type": "code",
   "execution_count": 5,
   "metadata": {},
   "outputs": [],
   "source": [
    "#data.to_csv(\"data8.csv\") #980-1080"
   ]
  },
  {
   "cell_type": "code",
   "execution_count": 4,
   "metadata": {},
   "outputs": [],
   "source": [
    "#data.to_csv(\"data9.csv\") #1090-1390"
   ]
  },
  {
   "cell_type": "code",
   "execution_count": 7,
   "metadata": {},
   "outputs": [],
   "source": [
    "#data.to_csv(\"data10.csv\") #1400-1420"
   ]
  },
  {
   "cell_type": "code",
   "execution_count": 4,
   "metadata": {},
   "outputs": [],
   "source": [
    "#data.to_csv(\"data11.csv\") #1430-1710"
   ]
  },
  {
   "cell_type": "code",
   "execution_count": 4,
   "metadata": {},
   "outputs": [],
   "source": [
    "#data.to_csv(\"data12.csv\") #1720-1800"
   ]
  },
  {
   "cell_type": "code",
   "execution_count": 7,
   "metadata": {},
   "outputs": [],
   "source": [
    "#data.to_csv(\"data13.csv\") #1810-2270"
   ]
  },
  {
   "cell_type": "code",
   "execution_count": 10,
   "metadata": {},
   "outputs": [],
   "source": [
    "#data.to_csv(\"data14.csv\") #2280-2690"
   ]
  },
  {
   "cell_type": "code",
   "execution_count": 13,
   "metadata": {},
   "outputs": [],
   "source": [
    "#data.to_csv(\"data15.csv\") #2700-2880"
   ]
  },
  {
   "cell_type": "code",
   "execution_count": 19,
   "metadata": {},
   "outputs": [],
   "source": [
    "## 해당 경로에 있는 .csv 파일명 리스트 가져오기\n",
    "\n",
    "import os\n",
    "\n",
    "path = \"C:/Users/kmr14/머신러닝수업/\"\n",
    "file_list = os.listdir(path)\n",
    "file_list_py = [file for file in file_list if file.endswith('.csv')] ## 파일명 끝이 .csv인 경우"
   ]
  },
  {
   "cell_type": "code",
   "execution_count": 20,
   "metadata": {},
   "outputs": [],
   "source": [
    "## csv 파일들을 DataFrame으로 불러와서 concat\n",
    "\n",
    "df = pd.DataFrame()\n",
    "for i in file_list_py:\n",
    "    data = pd.read_csv(path + i)\n",
    "    df = pd.concat([df,data])\n",
    "    \n",
    "df = df.reset_index(drop = True)"
   ]
  },
  {
   "cell_type": "code",
   "execution_count": 22,
   "metadata": {},
   "outputs": [
    {
     "data": {
      "text/html": [
       "<div>\n",
       "<style scoped>\n",
       "    .dataframe tbody tr th:only-of-type {\n",
       "        vertical-align: middle;\n",
       "    }\n",
       "\n",
       "    .dataframe tbody tr th {\n",
       "        vertical-align: top;\n",
       "    }\n",
       "\n",
       "    .dataframe thead th {\n",
       "        text-align: right;\n",
       "    }\n",
       "</style>\n",
       "<table border=\"1\" class=\"dataframe\">\n",
       "  <thead>\n",
       "    <tr style=\"text-align: right;\">\n",
       "      <th></th>\n",
       "      <th>score</th>\n",
       "      <th>Title</th>\n",
       "      <th>content</th>\n",
       "    </tr>\n",
       "  </thead>\n",
       "  <tbody>\n",
       "    <tr>\n",
       "      <th>0</th>\n",
       "      <td>20</td>\n",
       "      <td>Dirty Room</td>\n",
       "      <td>Stayed at the Bellagio for the first time ever...</td>\n",
       "    </tr>\n",
       "    <tr>\n",
       "      <th>1</th>\n",
       "      <td>50</td>\n",
       "      <td>Great vacation!!</td>\n",
       "      <td>Beautiful well kept room with a great view. Wo...</td>\n",
       "    </tr>\n",
       "    <tr>\n",
       "      <th>2</th>\n",
       "      <td>40</td>\n",
       "      <td>Fantastic Experience at Bellagio</td>\n",
       "      <td>We had a wonderful time at Bellagio. Everythin...</td>\n",
       "    </tr>\n",
       "    <tr>\n",
       "      <th>3</th>\n",
       "      <td>40</td>\n",
       "      <td>Beautiful but $22 for water?</td>\n",
       "      <td>I had a great stay at the Bellagio. The place ...</td>\n",
       "    </tr>\n",
       "    <tr>\n",
       "      <th>4</th>\n",
       "      <td>50</td>\n",
       "      <td>A perfect Weekend getaway!</td>\n",
       "      <td>The hotel is wheelchair friendly. The rooms we...</td>\n",
       "    </tr>\n",
       "    <tr>\n",
       "      <th>...</th>\n",
       "      <td>...</td>\n",
       "      <td>...</td>\n",
       "      <td>...</td>\n",
       "    </tr>\n",
       "    <tr>\n",
       "      <th>2884</th>\n",
       "      <td>50</td>\n",
       "      <td>Great place to stay</td>\n",
       "      <td>The Bellagio is still the classiest hotel in L...</td>\n",
       "    </tr>\n",
       "    <tr>\n",
       "      <th>2885</th>\n",
       "      <td>40</td>\n",
       "      <td>Housekeeping</td>\n",
       "      <td>I extended my check in til 3. House keeping kn...</td>\n",
       "    </tr>\n",
       "    <tr>\n",
       "      <th>2886</th>\n",
       "      <td>40</td>\n",
       "      <td>Great Experience, But Be Prepared.....</td>\n",
       "      <td>Awesome room, but lack of in room coffee maker...</td>\n",
       "    </tr>\n",
       "    <tr>\n",
       "      <th>2887</th>\n",
       "      <td>30</td>\n",
       "      <td>Nice stay</td>\n",
       "      <td>Family vacation. Rooms could have been nicer -...</td>\n",
       "    </tr>\n",
       "    <tr>\n",
       "      <th>2888</th>\n",
       "      <td>30</td>\n",
       "      <td>Would not stay here again</td>\n",
       "      <td>I actually had us booked for Treasure Island a...</td>\n",
       "    </tr>\n",
       "  </tbody>\n",
       "</table>\n",
       "<p>2889 rows × 3 columns</p>\n",
       "</div>"
      ],
      "text/plain": [
       "      score                                   Title  \\\n",
       "0        20                              Dirty Room   \n",
       "1        50                        Great vacation!!   \n",
       "2        40        Fantastic Experience at Bellagio   \n",
       "3        40            Beautiful but $22 for water?   \n",
       "4        50              A perfect Weekend getaway!   \n",
       "...     ...                                     ...   \n",
       "2884     50                     Great place to stay   \n",
       "2885     40                            Housekeeping   \n",
       "2886     40  Great Experience, But Be Prepared.....   \n",
       "2887     30                               Nice stay   \n",
       "2888     30               Would not stay here again   \n",
       "\n",
       "                                                content  \n",
       "0     Stayed at the Bellagio for the first time ever...  \n",
       "1     Beautiful well kept room with a great view. Wo...  \n",
       "2     We had a wonderful time at Bellagio. Everythin...  \n",
       "3     I had a great stay at the Bellagio. The place ...  \n",
       "4     The hotel is wheelchair friendly. The rooms we...  \n",
       "...                                                 ...  \n",
       "2884  The Bellagio is still the classiest hotel in L...  \n",
       "2885  I extended my check in til 3. House keeping kn...  \n",
       "2886  Awesome room, but lack of in room coffee maker...  \n",
       "2887  Family vacation. Rooms could have been nicer -...  \n",
       "2888  I actually had us booked for Treasure Island a...  \n",
       "\n",
       "[2889 rows x 3 columns]"
      ]
     },
     "execution_count": 22,
     "metadata": {},
     "output_type": "execute_result"
    }
   ],
   "source": [
    "df=df.drop(['Unnamed: 0'], axis=1)\n",
    "df"
   ]
  },
  {
   "cell_type": "code",
   "execution_count": 23,
   "metadata": {},
   "outputs": [
    {
     "data": {
      "text/html": [
       "<div>\n",
       "<style scoped>\n",
       "    .dataframe tbody tr th:only-of-type {\n",
       "        vertical-align: middle;\n",
       "    }\n",
       "\n",
       "    .dataframe tbody tr th {\n",
       "        vertical-align: top;\n",
       "    }\n",
       "\n",
       "    .dataframe thead th {\n",
       "        text-align: right;\n",
       "    }\n",
       "</style>\n",
       "<table border=\"1\" class=\"dataframe\">\n",
       "  <thead>\n",
       "    <tr style=\"text-align: right;\">\n",
       "      <th></th>\n",
       "      <th>score</th>\n",
       "      <th>Title</th>\n",
       "      <th>content</th>\n",
       "    </tr>\n",
       "  </thead>\n",
       "  <tbody>\n",
       "    <tr>\n",
       "      <th>0</th>\n",
       "      <td>2.0</td>\n",
       "      <td>Dirty Room</td>\n",
       "      <td>Stayed at the Bellagio for the first time ever...</td>\n",
       "    </tr>\n",
       "    <tr>\n",
       "      <th>1</th>\n",
       "      <td>5.0</td>\n",
       "      <td>Great vacation!!</td>\n",
       "      <td>Beautiful well kept room with a great view. Wo...</td>\n",
       "    </tr>\n",
       "    <tr>\n",
       "      <th>2</th>\n",
       "      <td>4.0</td>\n",
       "      <td>Fantastic Experience at Bellagio</td>\n",
       "      <td>We had a wonderful time at Bellagio. Everythin...</td>\n",
       "    </tr>\n",
       "    <tr>\n",
       "      <th>3</th>\n",
       "      <td>4.0</td>\n",
       "      <td>Beautiful but $22 for water?</td>\n",
       "      <td>I had a great stay at the Bellagio. The place ...</td>\n",
       "    </tr>\n",
       "    <tr>\n",
       "      <th>4</th>\n",
       "      <td>5.0</td>\n",
       "      <td>A perfect Weekend getaway!</td>\n",
       "      <td>The hotel is wheelchair friendly. The rooms we...</td>\n",
       "    </tr>\n",
       "    <tr>\n",
       "      <th>...</th>\n",
       "      <td>...</td>\n",
       "      <td>...</td>\n",
       "      <td>...</td>\n",
       "    </tr>\n",
       "    <tr>\n",
       "      <th>2884</th>\n",
       "      <td>5.0</td>\n",
       "      <td>Great place to stay</td>\n",
       "      <td>The Bellagio is still the classiest hotel in L...</td>\n",
       "    </tr>\n",
       "    <tr>\n",
       "      <th>2885</th>\n",
       "      <td>4.0</td>\n",
       "      <td>Housekeeping</td>\n",
       "      <td>I extended my check in til 3. House keeping kn...</td>\n",
       "    </tr>\n",
       "    <tr>\n",
       "      <th>2886</th>\n",
       "      <td>4.0</td>\n",
       "      <td>Great Experience, But Be Prepared.....</td>\n",
       "      <td>Awesome room, but lack of in room coffee maker...</td>\n",
       "    </tr>\n",
       "    <tr>\n",
       "      <th>2887</th>\n",
       "      <td>3.0</td>\n",
       "      <td>Nice stay</td>\n",
       "      <td>Family vacation. Rooms could have been nicer -...</td>\n",
       "    </tr>\n",
       "    <tr>\n",
       "      <th>2888</th>\n",
       "      <td>3.0</td>\n",
       "      <td>Would not stay here again</td>\n",
       "      <td>I actually had us booked for Treasure Island a...</td>\n",
       "    </tr>\n",
       "  </tbody>\n",
       "</table>\n",
       "<p>2889 rows × 3 columns</p>\n",
       "</div>"
      ],
      "text/plain": [
       "      score                                   Title  \\\n",
       "0       2.0                              Dirty Room   \n",
       "1       5.0                        Great vacation!!   \n",
       "2       4.0        Fantastic Experience at Bellagio   \n",
       "3       4.0            Beautiful but $22 for water?   \n",
       "4       5.0              A perfect Weekend getaway!   \n",
       "...     ...                                     ...   \n",
       "2884    5.0                     Great place to stay   \n",
       "2885    4.0                            Housekeeping   \n",
       "2886    4.0  Great Experience, But Be Prepared.....   \n",
       "2887    3.0                               Nice stay   \n",
       "2888    3.0               Would not stay here again   \n",
       "\n",
       "                                                content  \n",
       "0     Stayed at the Bellagio for the first time ever...  \n",
       "1     Beautiful well kept room with a great view. Wo...  \n",
       "2     We had a wonderful time at Bellagio. Everythin...  \n",
       "3     I had a great stay at the Bellagio. The place ...  \n",
       "4     The hotel is wheelchair friendly. The rooms we...  \n",
       "...                                                 ...  \n",
       "2884  The Bellagio is still the classiest hotel in L...  \n",
       "2885  I extended my check in til 3. House keeping kn...  \n",
       "2886  Awesome room, but lack of in room coffee maker...  \n",
       "2887  Family vacation. Rooms could have been nicer -...  \n",
       "2888  I actually had us booked for Treasure Island a...  \n",
       "\n",
       "[2889 rows x 3 columns]"
      ]
     },
     "execution_count": 23,
     "metadata": {},
     "output_type": "execute_result"
    }
   ],
   "source": [
    "df['score']=df['score']/10\n",
    "df"
   ]
  },
  {
   "cell_type": "code",
   "execution_count": 26,
   "metadata": {},
   "outputs": [],
   "source": [
    "#merge data저장\n",
    "df.to_csv(\"review_data.csv\")"
   ]
  },
  {
   "cell_type": "code",
   "execution_count": 25,
   "metadata": {},
   "outputs": [
    {
     "data": {
      "text/plain": [
       "2876"
      ]
     },
     "execution_count": 25,
     "metadata": {},
     "output_type": "execute_result"
    }
   ],
   "source": [
    "# content 열의 중복을 제외한 값의 개수\n",
    "df['content'].nunique()"
   ]
  },
  {
   "cell_type": "code",
   "execution_count": 27,
   "metadata": {},
   "outputs": [],
   "source": [
    "# document 열의 중복 제거\n",
    "df.drop_duplicates(subset=['content'], inplace=True)"
   ]
  },
  {
   "cell_type": "code",
   "execution_count": 28,
   "metadata": {},
   "outputs": [
    {
     "data": {
      "text/plain": [
       "2876"
      ]
     },
     "execution_count": 28,
     "metadata": {},
     "output_type": "execute_result"
    }
   ],
   "source": [
    "len(df)"
   ]
  },
  {
   "cell_type": "code",
   "execution_count": 34,
   "metadata": {},
   "outputs": [
    {
     "data": {
      "text/plain": [
       "5.0    1666\n",
       "4.0     395\n",
       "3.0     380\n",
       "1.0     225\n",
       "2.0     210\n",
       "Name: score, dtype: int64"
      ]
     },
     "execution_count": 34,
     "metadata": {},
     "output_type": "execute_result"
    }
   ],
   "source": [
    "df['score'].value_counts()"
   ]
  },
  {
   "cell_type": "code",
   "execution_count": 35,
   "metadata": {},
   "outputs": [
    {
     "name": "stdout",
     "output_type": "stream",
     "text": [
      "score      0\n",
      "Title      0\n",
      "content    0\n",
      "dtype: int64\n"
     ]
    }
   ],
   "source": [
    "print(df.isnull().sum())"
   ]
  },
  {
   "cell_type": "code",
   "execution_count": 5,
   "metadata": {},
   "outputs": [
    {
     "name": "stdout",
     "output_type": "stream",
     "text": [
      "page 80\n"
     ]
    },
    {
     "name": "stderr",
     "output_type": "stream",
     "text": [
      "<ipython-input-5-627350516b08>:13: DeprecationWarning: executable_path has been deprecated, please pass in a Service object\n",
      "  driver = webdriver.Chrome(\"C:/Users\\kmr14/chromedriver_win32/chromedriver.exe\")\n",
      "<ipython-input-5-627350516b08>:21: DeprecationWarning: find_elements_by_css_selector is deprecated. Please use find_elements(by=By.CSS_SELECTOR, value=css_selector) instead\n",
      "  reviews = driver.find_elements_by_css_selector('.cqoFv._T')\n"
     ]
    },
    {
     "ename": "UnicodeEncodeError",
     "evalue": "'cp949' codec can't encode character '\\u2764' in position 231: illegal multibyte sequence",
     "output_type": "error",
     "traceback": [
      "\u001b[1;31m---------------------------------------------------------------------------\u001b[0m",
      "\u001b[1;31mUnicodeEncodeError\u001b[0m                        Traceback (most recent call last)",
      "\u001b[1;32m<ipython-input-5-627350516b08>\u001b[0m in \u001b[0;36m<module>\u001b[1;34m\u001b[0m\n\u001b[0;32m     44\u001b[0m \u001b[1;33m\u001b[0m\u001b[0m\n\u001b[0;32m     45\u001b[0m         \u001b[1;31m#데이터 쓰기\u001b[0m\u001b[1;33m\u001b[0m\u001b[1;33m\u001b[0m\u001b[1;33m\u001b[0m\u001b[0m\n\u001b[1;32m---> 46\u001b[1;33m         \u001b[0mcsvWriter\u001b[0m\u001b[1;33m.\u001b[0m\u001b[0mwriterow\u001b[0m\u001b[1;33m(\u001b[0m\u001b[1;33m[\u001b[0m\u001b[0mscore\u001b[0m\u001b[1;33m,\u001b[0m\u001b[0mTitle\u001b[0m\u001b[1;33m,\u001b[0m\u001b[0mcontent\u001b[0m\u001b[1;33m]\u001b[0m\u001b[1;33m)\u001b[0m\u001b[1;33m\u001b[0m\u001b[1;33m\u001b[0m\u001b[0m\n\u001b[0m\u001b[0;32m     47\u001b[0m \u001b[1;33m\u001b[0m\u001b[0m\n\u001b[0;32m     48\u001b[0m \u001b[1;31m#파일 닫기\u001b[0m\u001b[1;33m\u001b[0m\u001b[1;33m\u001b[0m\u001b[1;33m\u001b[0m\u001b[0m\n",
      "\u001b[1;31mUnicodeEncodeError\u001b[0m: 'cp949' codec can't encode character '\\u2764' in position 231: illegal multibyte sequence"
     ]
    }
   ],
   "source": [
    "#파일생성\n",
    "f = open(r\"C:/Users/kmr14/머신러닝수업/review_data2.csv\", 'w', newline='')\n",
    "csvWriter = csv.writer(f)\n",
    "\n",
    "for i in range(80,2880,10):\n",
    "    print(\"page\",i)\n",
    "\n",
    "    url_str = \"https://www.tripadvisor.com/Hotel_Review-g45963-d91703-Reviews-or\"\n",
    "    url_num = str(i)\n",
    "    url_keyword = \"-Bellagio_Las_Vegas-Las_Vegas_Nevada.html#REVIEWS\"\n",
    "\n",
    "    total_url = url_str + url_num + url_keyword\n",
    "    driver = webdriver.Chrome(\"C:/Users\\kmr14/chromedriver_win32/chromedriver.exe\")\n",
    "    driver.get(total_url)\n",
    "\n",
    "    driver.implicitly_wait(10) #로딩이 끝날때까지 10초 대기\n",
    "\n",
    "\n",
    "    for j in range(0,10,1):\n",
    "        #전체 데이터\n",
    "        reviews = driver.find_elements_by_css_selector('.cqoFv._T')\n",
    "        rating_code = reviews[j].find_element_by_css_selector(\".emWez > span\")\n",
    "\n",
    "        #평점\n",
    "        cls_attr = rating_code.get_attribute(\"class\")\n",
    "        cls_attr = str(cls_attr).split(\"ui_bubble_rating bubble_\")\n",
    "\n",
    "        score = str(cls_attr[1])\n",
    "        #print(score)\n",
    "\n",
    "        time.sleep(3)\n",
    "\n",
    "        #제목\n",
    "        Title = reviews[j].find_element_by_css_selector(\".fCitC > span > span\").text\n",
    "        #print(Title)\n",
    "\n",
    "        #본문\n",
    "        Temp_review = reviews[j].find_element_by_css_selector(\".XllAv > span\").text\n",
    "\n",
    "        time.sleep(3)\n",
    "\n",
    "        content = Temp_review.replace(\"\\n\",\" \")\n",
    "        #print(content)\n",
    "\n",
    "        #데이터 쓰기\n",
    "        csvWriter.writerow([score,Title,content])\n",
    "\n",
    "#파일 닫기\n",
    "f.close()\n",
    "#1-70\n",
    "#80-"
   ]
  },
  {
   "cell_type": "code",
   "execution_count": null,
   "metadata": {},
   "outputs": [],
   "source": []
  },
  {
   "cell_type": "code",
   "execution_count": null,
   "metadata": {},
   "outputs": [],
   "source": []
  },
  {
   "cell_type": "code",
   "execution_count": null,
   "metadata": {},
   "outputs": [],
   "source": []
  },
  {
   "cell_type": "code",
   "execution_count": 14,
   "metadata": {},
   "outputs": [
    {
     "name": "stderr",
     "output_type": "stream",
     "text": [
      "<ipython-input-14-ba021cc38bce>:5: DeprecationWarning: executable_path has been deprecated, please pass in a Service object\n",
      "  driver = webdriver.Chrome(\"C:/Users\\kmr14/chromedriver_win32/chromedriver.exe\",options=chrome_options)\n",
      "<ipython-input-14-ba021cc38bce>:12: DeprecationWarning: find_elements_by_css_selector is deprecated. Please use find_elements(by=By.CSS_SELECTOR, value=css_selector) instead\n",
      "  driver.find_elements_by_css_selector(\"span.fwSIg.q\")[1].click()\n",
      "<ipython-input-14-ba021cc38bce>:15: DeprecationWarning: find_element_by_css_selector is deprecated. Please use find_element(by=By.CSS_SELECTOR, value=css_selector) instead\n",
      "  page_bar = driver.find_element_by_css_selector('.pageNumbers')\n"
     ]
    },
    {
     "ename": "IndexError",
     "evalue": "list index out of range",
     "output_type": "error",
     "traceback": [
      "\u001b[1;31m---------------------------------------------------------------------------\u001b[0m",
      "\u001b[1;31mIndexError\u001b[0m                                Traceback (most recent call last)",
      "\u001b[1;32m<ipython-input-14-ba021cc38bce>\u001b[0m in \u001b[0;36m<module>\u001b[1;34m\u001b[0m\n\u001b[0;32m     16\u001b[0m \u001b[0mpages\u001b[0m \u001b[1;33m=\u001b[0m \u001b[0mpage_bar\u001b[0m\u001b[1;33m.\u001b[0m\u001b[0mfind_elements_by_css_selector\u001b[0m\u001b[1;33m(\u001b[0m\u001b[1;34m'a'\u001b[0m\u001b[1;33m)\u001b[0m\u001b[1;33m\u001b[0m\u001b[1;33m\u001b[0m\u001b[0m\n\u001b[0;32m     17\u001b[0m \u001b[1;33m\u001b[0m\u001b[0m\n\u001b[1;32m---> 18\u001b[1;33m \u001b[0mpage_now\u001b[0m \u001b[1;33m=\u001b[0m \u001b[0mpage_bar\u001b[0m\u001b[1;33m.\u001b[0m\u001b[0mfind_elements_by_css_selector\u001b[0m\u001b[1;33m(\u001b[0m\u001b[1;34m'sapn'\u001b[0m\u001b[1;33m)\u001b[0m\u001b[1;33m[\u001b[0m\u001b[1;36m0\u001b[0m\u001b[1;33m]\u001b[0m\u001b[1;33m.\u001b[0m\u001b[0mtext\u001b[0m\u001b[1;33m\u001b[0m\u001b[1;33m\u001b[0m\u001b[0m\n\u001b[0m\u001b[0;32m     19\u001b[0m \u001b[1;33m\u001b[0m\u001b[0m\n\u001b[0;32m     20\u001b[0m \u001b[1;32mfor\u001b[0m \u001b[0mpage\u001b[0m \u001b[1;32min\u001b[0m \u001b[0mpages\u001b[0m\u001b[1;33m:\u001b[0m\u001b[1;33m\u001b[0m\u001b[1;33m\u001b[0m\u001b[0m\n",
      "\u001b[1;31mIndexError\u001b[0m: list index out of range"
     ]
    }
   ],
   "source": [
    "chrome_options = Options()\n",
    "chrome_options.add_argument(\"--headless\")\n",
    "\n",
    "url = \"https://www.tripadvisor.co.kr/Hotel_Review-g45963-d91703-Reviews-Bellagio_Las_Vegas-Las_Vegas_Nevada.html\"\n",
    "driver = webdriver.Chrome(\"C:/Users\\kmr14/chromedriver_win32/chromedriver.exe\",options=chrome_options)\n",
    "driver.get(url)\n",
    "\n",
    "#로딩이 끝날때까지 10초 대기\n",
    "driver.implicitly_wait(10)\n",
    "\n",
    "#언어 중 '영어' 선택\n",
    "driver.find_elements_by_css_selector(\"span.fwSIg.q\")[1].click()\n",
    "\n",
    "#페이지 함수 정의\n",
    "page_bar = driver.find_element_by_css_selector('.pageNumbers')\n",
    "pages = page_bar.find_elements_by_css_selector('a')\n",
    "\n",
    "page_now = page_bar.find_elements_by_css_selector('sapn')[0].text\n",
    "\n",
    "for page in pages:\n",
    "    page_num = page.text.strip()\n",
    "    \n",
    "    if page_num == '이전':\n",
    "        pass\n",
    "    \n",
    "    elif page_num == '다음':\n",
    "        page.send_keys(\"\\n\")\n",
    "        driver.implicitly_wait(3)\n",
    "        time.sleep(2+random.uniform(0,1))\n",
    "        \n",
    "        return False\n",
    "    \n",
    "    elif int(page_num) > int(page_now):\n",
    "        page.send_keys(\"\\n\")\n",
    "        driver.implicitly_wait(3)\n",
    "        time.sleep(1+random.uniform(0,1))\n",
    "        return False\n",
    "    \n",
    "    print('마지막 페이지')\n",
    "    return True\n",
    "\n",
    "    for j in range(0,5,1):\n",
    "        #전체 데이터\n",
    "        reviews = driver.find_elements_by_css_selector('.cqoFv._T')\n",
    "        rating_code = reviews[j].find_element_by_css_selector(\".emWez > span\")\n",
    "\n",
    "        #평점\n",
    "        cls_attr = rating_code.get_attribute(\"class\")\n",
    "        cls_attr = str(cls_attr).split(\"ui_bubble_rating bubble_\")\n",
    "\n",
    "        score = str(cls_attr[1])\n",
    "        print(score)\n",
    "\n",
    "        time.sleep(3)\n",
    "\n",
    "        #제목\n",
    "        Title = reviews[j].find_element_by_css_selector(\".fCitC > span > span\").text\n",
    "        print(Title)\n",
    "\n",
    "        #본문\n",
    "        Temp_review = reviews[j].find_element_by_css_selector(\".XllAv > span\").text\n",
    "\n",
    "        time.sleep(3)\n",
    "\n",
    "        content = Temp_review.replace(\"\\n\",\" \")\n",
    "        print(content)"
   ]
  },
  {
   "cell_type": "code",
   "execution_count": 10,
   "metadata": {},
   "outputs": [
    {
     "name": "stderr",
     "output_type": "stream",
     "text": [
      "<ipython-input-10-4496efebb0b8>:2: DeprecationWarning: executable_path has been deprecated, please pass in a Service object\n",
      "  driver = webdriver.Chrome(\"C:/Users\\kmr14/chromedriver_win32/chromedriver.exe\")\n",
      "<ipython-input-10-4496efebb0b8>:9: DeprecationWarning: find_elements_by_css_selector is deprecated. Please use find_elements(by=By.CSS_SELECTOR, value=css_selector) instead\n",
      "  driver.find_elements_by_css_selector(\"span.fwSIg.q\")[1].click()\n",
      "<ipython-input-10-4496efebb0b8>:15: DeprecationWarning: find_element_by_css_selector is deprecated. Please use find_element(by=By.CSS_SELECTOR, value=css_selector) instead\n",
      "  page_bar = driver.find_element_by_css_selector('.pageNumbers')\n"
     ]
    }
   ],
   "source": [
    "url = \"https://www.tripadvisor.co.kr/Hotel_Review-g45963-d91703-Reviews-Bellagio_Las_Vegas-Las_Vegas_Nevada.html\"\n",
    "driver = webdriver.Chrome(\"C:/Users\\kmr14/chromedriver_win32/chromedriver.exe\")\n",
    "driver.get(url)\n",
    "\n",
    "#로딩이 끝날때까지 10초 대기\n",
    "driver.implicitly_wait(10)\n",
    "\n",
    "#언어 중 '영어' 선택\n",
    "driver.find_elements_by_css_selector(\"span.fwSIg.q\")[1].click()\n",
    "\n",
    "#로딩이 끝날때까지 10초 대기\n",
    "driver.implicitly_wait(10)\n",
    "\n",
    "#페이지 함수 정의\n",
    "page_bar = driver.find_element_by_css_selector('.pageNumbers')\n",
    "page = page_bar.find_elements_by_css_selector('a')\n",
    "\n",
    "page_now = page_bar.find_elements_by_css_selector('span')[0].text"
   ]
  },
  {
   "cell_type": "code",
   "execution_count": null,
   "metadata": {},
   "outputs": [
    {
     "name": "stderr",
     "output_type": "stream",
     "text": [
      "<ipython-input-32-a219f73d219a>:2: DeprecationWarning: executable_path has been deprecated, please pass in a Service object\n",
      "  driver = webdriver.Chrome(\"C:/Users\\kmr14/chromedriver_win32/chromedriver.exe\")\n"
     ]
    }
   ],
   "source": [
    "url = \"https://www.tripadvisor.co.kr/Hotel_Review-g45963-d91703-Reviews-Bellagio_Las_Vegas-Las_Vegas_Nevada.html\"\n",
    "driver = webdriver.Chrome(\"C:/Users\\kmr14/chromedriver_win32/chromedriver.exe\")\n",
    "driver.get(total_url)"
   ]
  },
  {
   "cell_type": "code",
   "execution_count": null,
   "metadata": {},
   "outputs": [],
   "source": [
    "driver.implicitly_wait(10) #로딩이 끝날때까지 10초 대기\n",
    "    \n",
    "driver.find_elements_by_css_selector(\"span.fwSIg.q\")[1].click() #언어 중 '영어' 선택\n",
    "\n",
    "driver.implicitly_wait(10) #로딩이 끝날때까지 10초 대기"
   ]
  },
  {
   "cell_type": "code",
   "execution_count": null,
   "metadata": {},
   "outputs": [],
   "source": [
    "driver.find_elements_by_css_selector(\"span.pageNum\")[1].get_attribute(\"href\").click()"
   ]
  },
  {
   "cell_type": "code",
   "execution_count": null,
   "metadata": {},
   "outputs": [],
   "source": []
  }
 ],
 "metadata": {
  "kernelspec": {
   "display_name": "Python 3",
   "language": "python",
   "name": "python3"
  },
  "language_info": {
   "codemirror_mode": {
    "name": "ipython",
    "version": 3
   },
   "file_extension": ".py",
   "mimetype": "text/x-python",
   "name": "python",
   "nbconvert_exporter": "python",
   "pygments_lexer": "ipython3",
   "version": "3.8.3"
  }
 },
 "nbformat": 4,
 "nbformat_minor": 4
}
