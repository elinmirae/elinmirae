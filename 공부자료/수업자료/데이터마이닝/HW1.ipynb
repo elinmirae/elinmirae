{
 "cells": [
  {
   "cell_type": "markdown",
   "metadata": {},
   "source": [
    "# 데이터마이닝 HW1 "
   ]
  },
  {
   "cell_type": "markdown",
   "metadata": {},
   "source": [
    "## 2019017001 응용수학과 김미래"
   ]
  },
  {
   "cell_type": "markdown",
   "metadata": {},
   "source": [
    "### 13. In this exercise you will create some simulated data and will fit simple linear regression models to it. Make sure to use set.seed(1) prior to starting part (a) to ensure consistent results."
   ]
  },
  {
   "cell_type": "markdown",
   "metadata": {},
   "source": [
    "(a) Using the rnorm() function, create a vector, x, containing 100 observations drawn from a N(0, 1) distribution. This represents a feature, X."
   ]
  },
  {
   "cell_type": "code",
   "execution_count": 1,
   "metadata": {},
   "outputs": [],
   "source": [
    "set.seed(1)\n",
    "x = rnorm(100, mean=0, sd=1) #정규분포 난수 생성"
   ]
  },
  {
   "cell_type": "markdown",
   "metadata": {},
   "source": [
    "(b) Using the rnorm() function, create a vector, eps, containing 100\n",
    "observations drawn from a N(0, 0.25) distribution—a normal\n",
    "distribution with mean zero and variance 0.25."
   ]
  },
  {
   "cell_type": "code",
   "execution_count": 3,
   "metadata": {},
   "outputs": [],
   "source": [
    "eps = rnorm(100, mean=0, sd=0.25)"
   ]
  },
  {
   "cell_type": "markdown",
   "metadata": {},
   "source": [
    "(c) Using x and eps, generate a vector y according to the model **Y = −1+0.5X + ϵ.** What is the length of the vector y? What are the values of β0\n",
    "and β1 in this linear model?"
   ]
  },
  {
   "cell_type": "code",
   "execution_count": 5,
   "metadata": {},
   "outputs": [],
   "source": [
    "y = -1 + (0.5*x) + eps"
   ]
  },
  {
   "cell_type": "code",
   "execution_count": 6,
   "metadata": {},
   "outputs": [
    {
     "data": {
      "text/html": [
       "100"
      ],
      "text/latex": [
       "100"
      ],
      "text/markdown": [
       "100"
      ],
      "text/plain": [
       "[1] 100"
      ]
     },
     "metadata": {},
     "output_type": "display_data"
    }
   ],
   "source": [
    "length(y)"
   ]
  },
  {
   "cell_type": "code",
   "execution_count": 8,
   "metadata": {},
   "outputs": [],
   "source": [
    "#length of y : 100\n",
    "#interceopt(β0) = -1, slope(β1) = 0.5"
   ]
  },
  {
   "cell_type": "markdown",
   "metadata": {},
   "source": [
    "(d) Create a scatterplot displaying the relationship between x and\n",
    "y. Comment on what you observe."
   ]
  },
  {
   "cell_type": "code",
   "execution_count": 10,
   "metadata": {},
   "outputs": [
    {
     "data": {
      "image/png": "[encoded data removed]",
      "text/plain": [
       "plot without title"
      ]
     },
     "metadata": {},
     "output_type": "display_data"
    }
   ],
   "source": [
    "plot(y~x, col='red')"
   ]
  },
  {
   "cell_type": "markdown",
   "metadata": {},
   "source": [
    "#### comment : x와 y의 scatter plot을 확인해보면 양의 선형관계를 띄고 있는것을 확인할 수 있다"
   ]
  },
  {
   "cell_type": "markdown",
   "metadata": {},
   "source": [
    "(e) Fit a least squares linear model to predict y using x. Comment on the model obtained. How do βˆ0 and βˆ1 compare to β0 and β1?"
   ]
  },
  {
   "cell_type": "code",
   "execution_count": 11,
   "metadata": {},
   "outputs": [
    {
     "data": {
      "text/plain": [
       "\n",
       "Call:\n",
       "lm(formula = y ~ x)\n",
       "\n",
       "Residuals:\n",
       "     Min       1Q   Median       3Q      Max \n",
       "-0.46921 -0.15344 -0.03487  0.13485  0.58654 \n",
       "\n",
       "Coefficients:\n",
       "            Estimate Std. Error t value Pr(>|t|)    \n",
       "(Intercept) -1.00942    0.02425  -41.63   <2e-16 ***\n",
       "x            0.49973    0.02693   18.56   <2e-16 ***\n",
       "---\n",
       "Signif. codes:  0 '***' 0.001 '**' 0.01 '*' 0.05 '.' 0.1 ' ' 1\n",
       "\n",
       "Residual standard error: 0.2407 on 98 degrees of freedom\n",
       "Multiple R-squared:  0.7784,\tAdjusted R-squared:  0.7762 \n",
       "F-statistic: 344.3 on 1 and 98 DF,  p-value: < 2.2e-16\n"
      ]
     },
     "metadata": {},
     "output_type": "display_data"
    }
   ],
   "source": [
    "# Linear regression model\n",
    "lm = lm(y~x)\n",
    "summary(lm)"
   ]
  },
  {
   "cell_type": "markdown",
   "metadata": {},
   "source": [
    "#### comment : 선형회귀식의 추정계수는 각각 약 -1.0, 0.5로 true function과 매우 유사하게 추정된것을 알 수 있으며, p-value가 유의수준 0.05보다 훨씬 작아 이는 유의하다는 것을 알 수 있다"
   ]
  },
  {
   "cell_type": "markdown",
   "metadata": {},
   "source": [
    "(f) Display the least squares line on the scatterplot obtained in (d).\n",
    "Draw the population regression line on the plot, in a different\n",
    "color. Use the legend() command to create an appropriate legend."
   ]
  },
  {
   "cell_type": "code",
   "execution_count": 17,
   "metadata": {},
   "outputs": [
    {
     "data": {
      "image/png": "[encoded data removed]",
      "text/plain": [
       "plot without title"
      ]
     },
     "metadata": {},
     "output_type": "display_data"
    }
   ],
   "source": [
    "plot(y~x, col='red')\n",
    "\n",
    "# Least Squares Line\n",
    "abline(lm, lwd=1, col =\"blue\")\n",
    "\n",
    "# Population regression line and legends.\n",
    "abline(a=-1,b=0.5, lwd=1, col=\"red\")\n",
    "\n",
    "legend('bottomright', bty='n', legend=c('Least Squares Line', 'Population Line'), col=c('blue','red'), lty = c(1, 1))"
   ]
  },
  {
   "cell_type": "markdown",
   "metadata": {},
   "source": [
    "(g) Now fit a polynomial regression model that predicts y using x and x2. Is there evidence that the quadratic term improves the model fit? Explain your answer."
   ]
  },
  {
   "cell_type": "code",
   "execution_count": 20,
   "metadata": {},
   "outputs": [
    {
     "data": {
      "text/plain": [
       "\n",
       "Call:\n",
       "lm(formula = y ~ x + I(x^2))\n",
       "\n",
       "Residuals:\n",
       "    Min      1Q  Median      3Q     Max \n",
       "-0.4913 -0.1563 -0.0322  0.1451  0.5675 \n",
       "\n",
       "Coefficients:\n",
       "            Estimate Std. Error t value Pr(>|t|)    \n",
       "(Intercept) -0.98582    0.02941 -33.516   <2e-16 ***\n",
       "x            0.50429    0.02700  18.680   <2e-16 ***\n",
       "I(x^2)      -0.02973    0.02119  -1.403    0.164    \n",
       "---\n",
       "Signif. codes:  0 '***' 0.001 '**' 0.01 '*' 0.05 '.' 0.1 ' ' 1\n",
       "\n",
       "Residual standard error: 0.2395 on 97 degrees of freedom\n",
       "Multiple R-squared:  0.7828,\tAdjusted R-squared:  0.7784 \n",
       "F-statistic: 174.8 on 2 and 97 DF,  p-value: < 2.2e-16\n"
      ]
     },
     "metadata": {},
     "output_type": "display_data"
    }
   ],
   "source": [
    "#Polynomial regression\n",
    "lm2 = lm(y~x+I(x^2))\n",
    "summary(lm2)"
   ]
  },
  {
   "cell_type": "markdown",
   "metadata": {},
   "source": [
    "#### answer : 다항회귀모형으로 추정하면 변수 x^2에 대한 p-value가 유의수준 0.05보다 크기 때문에 유의하지 않은 변수인 것을 확인할 수 있고 모델에 대한 F통계량이 약 50% 감소한것으로 확인되어 선형회귀모형에 비해 적절하지 않은 모델이라고 판단한다."
   ]
  },
  {
   "cell_type": "markdown",
   "metadata": {},
   "source": [
    "(h) Repeat (a)–(f) after modifying the data generation process in such a way that there is less noise in the data. The model (3.39) should remain the same. You can do this by decreasing the variance of the normal distribution used to generate the error term ϵ in (b). Describe your results."
   ]
  },
  {
   "cell_type": "code",
   "execution_count": 22,
   "metadata": {},
   "outputs": [
    {
     "data": {
      "text/plain": [
       "\n",
       "Call:\n",
       "lm(formula = y2 ~ x)\n",
       "\n",
       "Residuals:\n",
       "      Min        1Q    Median        3Q       Max \n",
       "-0.251626 -0.054525 -0.003776  0.067289  0.187887 \n",
       "\n",
       "Coefficients:\n",
       "            Estimate Std. Error t value Pr(>|t|)    \n",
       "(Intercept) -0.99423    0.01003  -99.14   <2e-16 ***\n",
       "x            0.49443    0.01114   44.39   <2e-16 ***\n",
       "---\n",
       "Signif. codes:  0 '***' 0.001 '**' 0.01 '*' 0.05 '.' 0.1 ' ' 1\n",
       "\n",
       "Residual standard error: 0.09955 on 98 degrees of freedom\n",
       "Multiple R-squared:  0.9526,\tAdjusted R-squared:  0.9521 \n",
       "F-statistic:  1970 on 1 and 98 DF,  p-value: < 2.2e-16\n"
      ]
     },
     "metadata": {},
     "output_type": "display_data"
    },
    {
     "data": {
      "image/png": "[encoded data removed]",
      "text/plain": [
       "Plot with title \"Reduced Noise\""
      ]
     },
     "metadata": {},
     "output_type": "display_data"
    }
   ],
   "source": [
    "#setting less noise\n",
    "eps = rnorm(100, mean=0, sd=sqrt(0.01))\n",
    "y2 = -1 +(0.5*x) + eps\n",
    "\n",
    "plot(y2~x, main='Reduced Noise', col='red') #scatter plot\n",
    "\n",
    "#linear regressioin\n",
    "lm3 = lm(y2~x)\n",
    "summary(lm3)\n",
    "\n",
    "#Least Squares Line\n",
    "abline(lm3, lwd=1, col =\"blue\")\n",
    "## Population regression line and legends.\n",
    "abline(a=-1,b=0.5, lwd=1, col=\"red\")\n",
    "\n",
    "legend('bottomright', bty='n', legend=c('Least Squares Line', 'Population Line'), col=c('blue','red'), lty = c(1, 1))"
   ]
  },
  {
   "cell_type": "markdown",
   "metadata": {},
   "source": [
    "#### Result : The points are closer to each other, the RSE is lower, R2 and F-statistic are much higher than with variance of 0.25. The linear regression and population lines are very close to each other as noise is reduced, and the relationship is much more linear."
   ]
  },
  {
   "cell_type": "markdown",
   "metadata": {},
   "source": [
    "(i) Repeat (a)–(f) after modifying the data generation process in such a way that there is more noise in the data. The model (3.39) should remain the same. You can do this by increasing the variance of the normal distribution used to generate the\n",
    "error term ϵ in (b). Describe your results."
   ]
  },
  {
   "cell_type": "code",
   "execution_count": 23,
   "metadata": {},
   "outputs": [
    {
     "data": {
      "text/plain": [
       "\n",
       "Call:\n",
       "lm(formula = y3 ~ x)\n",
       "\n",
       "Residuals:\n",
       "     Min       1Q   Median       3Q      Max \n",
       "-1.98880 -0.54323 -0.08849  0.45547  2.52183 \n",
       "\n",
       "Coefficients:\n",
       "            Estimate Std. Error t value Pr(>|t|)    \n",
       "(Intercept) -1.04242    0.08283 -12.585  < 2e-16 ***\n",
       "x            0.63540    0.09200   6.906 5.01e-10 ***\n",
       "---\n",
       "Signif. codes:  0 '***' 0.001 '**' 0.01 '*' 0.05 '.' 0.1 ' ' 1\n",
       "\n",
       "Residual standard error: 0.8222 on 98 degrees of freedom\n",
       "Multiple R-squared:  0.3274,\tAdjusted R-squared:  0.3205 \n",
       "F-statistic:  47.7 on 1 and 98 DF,  p-value: 5.011e-10\n"
      ]
     },
     "metadata": {},
     "output_type": "display_data"
    },
    {
     "data": {
      "image/png": "[encoded data removed]",
      "text/plain": [
       "Plot with title \"Increased Noise\""
      ]
     },
     "metadata": {},
     "output_type": "display_data"
    }
   ],
   "source": [
    "#setting less noise\n",
    "eps = rnorm(100, mean=0, sd=sqrt(0.5))\n",
    "y3 = -1 +(0.5*x) + eps\n",
    "\n",
    "plot(y3~x, main='Increased Noise', col='red') #scatter plot\n",
    "\n",
    "#linear regressioin\n",
    "lm4 = lm(y3~x)\n",
    "summary(lm4)\n",
    "\n",
    "#Least Squares Line\n",
    "abline(lm4, lwd=1, col =\"blue\")\n",
    "## Population regression line and legends.\n",
    "abline(a=-1,b=0.5, lwd=1, col=\"red\")\n",
    "\n",
    "legend('bottomright', bty='n', legend=c('Least Squares Line', 'Population Line'), col=c('blue','red'), lty = c(1, 1))"
   ]
  },
  {
   "cell_type": "markdown",
   "metadata": {},
   "source": [
    "#### Result : The points are more spread out and so the relationship is less linear. The RSE is higher, the R2 and F-statistic are lower than with variance of 0.25."
   ]
  },
  {
   "cell_type": "markdown",
   "metadata": {},
   "source": [
    "(j) What are the confidence intervals for β0 and β1 based on the original data set, the noisier data set, and the less noisy data set? Comment on your results."
   ]
  },
  {
   "cell_type": "code",
   "execution_count": 24,
   "metadata": {},
   "outputs": [
    {
     "data": {
      "text/html": [
       "<table>\n",
       "<thead><tr><th></th><th scope=col>2.5 %</th><th scope=col>97.5 %</th></tr></thead>\n",
       "<tbody>\n",
       "\t<tr><th scope=row>(Intercept)</th><td>-1.0575402</td><td>-0.9613061</td></tr>\n",
       "\t<tr><th scope=row>x</th><td> 0.4462897</td><td> 0.5531801</td></tr>\n",
       "</tbody>\n",
       "</table>\n"
      ],
      "text/latex": [
       "\\begin{tabular}{r|ll}\n",
       "  & 2.5 \\% & 97.5 \\%\\\\\n",
       "\\hline\n",
       "\t(Intercept) & -1.0575402 & -0.9613061\\\\\n",
       "\tx &  0.4462897 &  0.5531801\\\\\n",
       "\\end{tabular}\n"
      ],
      "text/markdown": [
       "\n",
       "| <!--/--> | 2.5 % | 97.5 % |\n",
       "|---|---|---|\n",
       "| (Intercept) | -1.0575402 | -0.9613061 |\n",
       "| x |  0.4462897 |  0.5531801 |\n",
       "\n"
      ],
      "text/plain": [
       "            2.5 %      97.5 %    \n",
       "(Intercept) -1.0575402 -0.9613061\n",
       "x            0.4462897  0.5531801"
      ]
     },
     "metadata": {},
     "output_type": "display_data"
    },
    {
     "data": {
      "text/html": [
       "<table>\n",
       "<thead><tr><th></th><th scope=col>2.5 %</th><th scope=col>97.5 %</th></tr></thead>\n",
       "<tbody>\n",
       "\t<tr><th scope=row>(Intercept)</th><td>-1.0141340</td><td>-0.9743329</td></tr>\n",
       "\t<tr><th scope=row>x</th><td> 0.4723272</td><td> 0.5165356</td></tr>\n",
       "</tbody>\n",
       "</table>\n"
      ],
      "text/latex": [
       "\\begin{tabular}{r|ll}\n",
       "  & 2.5 \\% & 97.5 \\%\\\\\n",
       "\\hline\n",
       "\t(Intercept) & -1.0141340 & -0.9743329\\\\\n",
       "\tx &  0.4723272 &  0.5165356\\\\\n",
       "\\end{tabular}\n"
      ],
      "text/markdown": [
       "\n",
       "| <!--/--> | 2.5 % | 97.5 % |\n",
       "|---|---|---|\n",
       "| (Intercept) | -1.0141340 | -0.9743329 |\n",
       "| x |  0.4723272 |  0.5165356 |\n",
       "\n"
      ],
      "text/plain": [
       "            2.5 %      97.5 %    \n",
       "(Intercept) -1.0141340 -0.9743329\n",
       "x            0.4723272  0.5165356"
      ]
     },
     "metadata": {},
     "output_type": "display_data"
    },
    {
     "data": {
      "text/html": [
       "<table>\n",
       "<thead><tr><th></th><th scope=col>2.5 %</th><th scope=col>97.5 %</th></tr></thead>\n",
       "<tbody>\n",
       "\t<tr><th scope=row>(Intercept)</th><td>-1.2067877</td><td>-0.8780435</td></tr>\n",
       "\t<tr><th scope=row>x</th><td> 0.4528277</td><td> 0.8179749</td></tr>\n",
       "</tbody>\n",
       "</table>\n"
      ],
      "text/latex": [
       "\\begin{tabular}{r|ll}\n",
       "  & 2.5 \\% & 97.5 \\%\\\\\n",
       "\\hline\n",
       "\t(Intercept) & -1.2067877 & -0.8780435\\\\\n",
       "\tx &  0.4528277 &  0.8179749\\\\\n",
       "\\end{tabular}\n"
      ],
      "text/markdown": [
       "\n",
       "| <!--/--> | 2.5 % | 97.5 % |\n",
       "|---|---|---|\n",
       "| (Intercept) | -1.2067877 | -0.8780435 |\n",
       "| x |  0.4528277 |  0.8179749 |\n",
       "\n"
      ],
      "text/plain": [
       "            2.5 %      97.5 %    \n",
       "(Intercept) -1.2067877 -0.8780435\n",
       "x            0.4528277  0.8179749"
      ]
     },
     "metadata": {},
     "output_type": "display_data"
    }
   ],
   "source": [
    "confint(lm)  #original\n",
    "confint(lm3) #less noisy\n",
    "confint(lm4) #noisier"
   ]
  },
  {
   "cell_type": "markdown",
   "metadata": {},
   "source": [
    "#### comment : original data를 기준으로 the less noisy data의 95% 신뢰구간은 더 좁고 the noisier data의 95% 신뢰구간은 더 넓은것을 확인할 수 있다."
   ]
  },
  {
   "cell_type": "markdown",
   "metadata": {},
   "source": [
    "### 14. This problem focuses on the collinearity problem.\n",
    "- collinearity : 다중공산성 (변수간 correlation 존재 -> 모델 해석 방해)"
   ]
  },
  {
   "cell_type": "markdown",
   "metadata": {},
   "source": [
    "(a) The last line corresponds to creating a linear model in which y is a function of x1 and x2. Write out the form of the linear model. What are the regression coefficients?"
   ]
  },
  {
   "cell_type": "code",
   "execution_count": 25,
   "metadata": {},
   "outputs": [],
   "source": [
    "set.seed (1)\n",
    "x1 <- runif (100) #uniform distribution 난수\n",
    "x2 <- 0.5 * x1 + rnorm (100) / 10\n",
    "y <- 2 + 2 * x1 + 0.3 * x2 + rnorm (100)"
   ]
  },
  {
   "cell_type": "code",
   "execution_count": 27,
   "metadata": {},
   "outputs": [],
   "source": [
    "# y = 2 + 2*x1 + 0.3*x2 + eps\n",
    "# beta0 = 2, beta1 = 2, beta2 = 0.3"
   ]
  },
  {
   "cell_type": "markdown",
   "metadata": {},
   "source": [
    "(b) What is the correlation between x1 and x2? Create a scatterplot displaying the relationship between the variables."
   ]
  },
  {
   "cell_type": "code",
   "execution_count": 28,
   "metadata": {},
   "outputs": [
    {
     "data": {
      "text/html": [
       "0.835121242463113"
      ],
      "text/latex": [
       "0.835121242463113"
      ],
      "text/markdown": [
       "0.835121242463113"
      ],
      "text/plain": [
       "[1] 0.8351212"
      ]
     },
     "metadata": {},
     "output_type": "display_data"
    },
    {
     "data": {
      "image/png": "[encoded data removed]",
      "text/plain": [
       "plot without title"
      ]
     },
     "metadata": {},
     "output_type": "display_data"
    }
   ],
   "source": [
    "cor(x1, x2)\n",
    "plot(x2~x1)"
   ]
  },
  {
   "cell_type": "markdown",
   "metadata": {},
   "source": [
    "note : x1과 x2는 강한 양의 선형상관관계를 갖고 있다 (cor=0.8) -> 다중공산성 위험"
   ]
  },
  {
   "cell_type": "markdown",
   "metadata": {},
   "source": [
    "(c) Using this data, fit a least squares regression to predict y using x1 and x2. Describe the results obtained. What are βˆ0, βˆ1, and βˆ2? How do these relate to the true β0, β1, and β2? Can you reject the null hypothesis H0 : β1 = 0? How about the null hypothesis H0 : β2 = 0?"
   ]
  },
  {
   "cell_type": "code",
   "execution_count": 30,
   "metadata": {},
   "outputs": [
    {
     "data": {
      "text/plain": [
       "\n",
       "Call:\n",
       "lm(formula = y ~ x1 + x2)\n",
       "\n",
       "Residuals:\n",
       "    Min      1Q  Median      3Q     Max \n",
       "-2.8311 -0.7273 -0.0537  0.6338  2.3359 \n",
       "\n",
       "Coefficients:\n",
       "            Estimate Std. Error t value Pr(>|t|)    \n",
       "(Intercept)   2.1305     0.2319   9.188 7.61e-15 ***\n",
       "x1            1.4396     0.7212   1.996   0.0487 *  \n",
       "x2            1.0097     1.1337   0.891   0.3754    \n",
       "---\n",
       "Signif. codes:  0 '***' 0.001 '**' 0.01 '*' 0.05 '.' 0.1 ' ' 1\n",
       "\n",
       "Residual standard error: 1.056 on 97 degrees of freedom\n",
       "Multiple R-squared:  0.2088,\tAdjusted R-squared:  0.1925 \n",
       "F-statistic:  12.8 on 2 and 97 DF,  p-value: 1.164e-05\n"
      ]
     },
     "metadata": {},
     "output_type": "display_data"
    }
   ],
   "source": [
    "lm = lm(y~x1+x2)\n",
    "summary(lm)"
   ]
  },
  {
   "cell_type": "markdown",
   "metadata": {},
   "source": [
    "#### answer : 추정된 회귀식 y = 2.1305 + 1.4396*x1 + 1.0097*x2로, 실제 true function의 intercept값은 유사하나 slope값들은 유사하지 않다. 이때, x1에 대한 p-value가 유의수준 0.05보다 낮아 귀무가설 H0 : β1 = 0을 채택하지 않는다. 또한 x2에 대한 p-value는 유의수준 0.05보다 크게 나와 귀무가설 H0 : β2 = 0을 채택하게 된다.\n",
    "(x1,x2에 따라서 Std.error가 증가하는것을 확인함) -> 모델이상"
   ]
  },
  {
   "cell_type": "markdown",
   "metadata": {},
   "source": [
    "(d) Now fit a least squares regression to predict y using only x1. Comment on your results. Can you reject the null hypothesis H0 : β1 = 0?"
   ]
  },
  {
   "cell_type": "code",
   "execution_count": 33,
   "metadata": {},
   "outputs": [
    {
     "data": {
      "text/plain": [
       "\n",
       "Call:\n",
       "lm(formula = y ~ x1)\n",
       "\n",
       "Residuals:\n",
       "     Min       1Q   Median       3Q      Max \n",
       "-2.89495 -0.66874 -0.07785  0.59221  2.45560 \n",
       "\n",
       "Coefficients:\n",
       "            Estimate Std. Error t value Pr(>|t|)    \n",
       "(Intercept)   2.1124     0.2307   9.155 8.27e-15 ***\n",
       "x1            1.9759     0.3963   4.986 2.66e-06 ***\n",
       "---\n",
       "Signif. codes:  0 '***' 0.001 '**' 0.01 '*' 0.05 '.' 0.1 ' ' 1\n",
       "\n",
       "Residual standard error: 1.055 on 98 degrees of freedom\n",
       "Multiple R-squared:  0.2024,\tAdjusted R-squared:  0.1942 \n",
       "F-statistic: 24.86 on 1 and 98 DF,  p-value: 2.661e-06\n"
      ]
     },
     "metadata": {},
     "output_type": "display_data"
    }
   ],
   "source": [
    "lm2 = lm(y~x1)\n",
    "summary(lm2)"
   ]
  },
  {
   "cell_type": "markdown",
   "metadata": {},
   "source": [
    "- RSE와 R2는 모델 y~x1+x2와 유사한 값이며 F통계량은 증가하였다\n",
    "- x1의 p-value는 유의수준 0.05보다 훨씬 작아, 귀무가설 H0 : β1 = 0 을 채택하지 않는다"
   ]
  },
  {
   "cell_type": "markdown",
   "metadata": {},
   "source": [
    "(e) Now fit a least squares regression to predict y using only x2. Comment on your results. Can you reject the null hypothesis H0 : β1 = 0?"
   ]
  },
  {
   "cell_type": "code",
   "execution_count": 34,
   "metadata": {},
   "outputs": [
    {
     "data": {
      "text/plain": [
       "\n",
       "Call:\n",
       "lm(formula = y ~ x2)\n",
       "\n",
       "Residuals:\n",
       "     Min       1Q   Median       3Q      Max \n",
       "-2.62687 -0.75156 -0.03598  0.72383  2.44890 \n",
       "\n",
       "Coefficients:\n",
       "            Estimate Std. Error t value Pr(>|t|)    \n",
       "(Intercept)   2.3899     0.1949   12.26  < 2e-16 ***\n",
       "x2            2.8996     0.6330    4.58 1.37e-05 ***\n",
       "---\n",
       "Signif. codes:  0 '***' 0.001 '**' 0.01 '*' 0.05 '.' 0.1 ' ' 1\n",
       "\n",
       "Residual standard error: 1.072 on 98 degrees of freedom\n",
       "Multiple R-squared:  0.1763,\tAdjusted R-squared:  0.1679 \n",
       "F-statistic: 20.98 on 1 and 98 DF,  p-value: 1.366e-05\n"
      ]
     },
     "metadata": {},
     "output_type": "display_data"
    }
   ],
   "source": [
    "lm3 = lm(y~x2)\n",
    "summary(lm3)"
   ]
  },
  {
   "cell_type": "markdown",
   "metadata": {},
   "source": [
    "- R2는 모델 y~x1+x2보다 낮은 값이며,RSE와 F통계량은 증가하였다\n",
    "- x2의 p-value는 유의수준 0.05보다 훨씬 작아, 귀무가설 H0 : β2 = 0 을 채택하지 않는다"
   ]
  },
  {
   "cell_type": "markdown",
   "metadata": {},
   "source": [
    "(f) Do the results obtained in (c)–(e) contradict each other? Explain your answer."
   ]
  },
  {
   "cell_type": "markdown",
   "metadata": {},
   "source": [
    "#### answer :\n",
    "*y~x1+x2*와 *y~x1*, *y~x2*의 추정값이 다르게 나온 이유는 x1과 x2가 강한 양의 상관관계를 띄어, 다중공산성이 발생되었기 때문이다.(이는, *y~x1+x2*에서 std.error가 x변수에 따라서 증가하는 현상을 띄고 있는것에서도 확인할 수 있다.) 따라서, 모델을 해석할때 다중공산성을 띄는 변수로 인해 결과변수y에 대해서 해석이 방해되는 문제가 발생한다."
   ]
  },
  {
   "cell_type": "markdown",
   "metadata": {},
   "source": [
    "(g) Now suppose we obtain one additional observation, which was\n",
    "unfortunately mismeasured."
   ]
  },
  {
   "cell_type": "code",
   "execution_count": 35,
   "metadata": {},
   "outputs": [],
   "source": [
    "x1 <- c(x1 , 0.1)\n",
    "x2 <- c(x2 , 0.8)\n",
    "y <- c(y, 6)"
   ]
  },
  {
   "cell_type": "markdown",
   "metadata": {},
   "source": [
    "Re-fit the linear models from (c) to (e) using this new data. What effect does this new observation have on the each of the models? In each model, is this observation an outlier? A high-leverage point? Both? Explain your answers."
   ]
  },
  {
   "cell_type": "code",
   "execution_count": 36,
   "metadata": {},
   "outputs": [],
   "source": [
    "lm_re = lm(y~x1+x2)\n",
    "lm2_re = lm(y~x1)\n",
    "lm3_re = lm(y~x2)"
   ]
  },
  {
   "cell_type": "code",
   "execution_count": 37,
   "metadata": {},
   "outputs": [
    {
     "data": {
      "image/png": "[encoded data removed]",
      "text/plain": [
       "plot without title"
      ]
     },
     "metadata": {},
     "output_type": "display_data"
    }
   ],
   "source": [
    "plot(x1,x2)\n",
    "text(x=0.1, y=0.8, labels=\"new-obs\", pos=4, cex=.7, col=\"blue\")"
   ]
  },
  {
   "cell_type": "markdown",
   "metadata": {},
   "source": [
    "우선, 새로운 데이터는 outlier로 관측된다"
   ]
  },
  {
   "cell_type": "code",
   "execution_count": 38,
   "metadata": {},
   "outputs": [
    {
     "data": {
      "image/png": "[encoded data removed]",
      "text/plain": [
       "Plot with title \"\""
      ]
     },
     "metadata": {},
     "output_type": "display_data"
    }
   ],
   "source": [
    "par(mfrow=c(2,2))\n",
    "plot(lm_re)"
   ]
  },
  {
   "cell_type": "markdown",
   "metadata": {},
   "source": [
    "새로운 데이터를 포함하여 y~x1+x2 모형을 적합시켰을때, outlier가 아닌 high leverage로 관측된다"
   ]
  },
  {
   "cell_type": "code",
   "execution_count": 40,
   "metadata": {},
   "outputs": [
    {
     "data": {
      "image/png": "[encoded data removed]",
      "text/plain": [
       "Plot with title \"\""
      ]
     },
     "metadata": {},
     "output_type": "display_data"
    }
   ],
   "source": [
    "par(mfrow=c(2,2))\n",
    "plot(lm2_re)"
   ]
  },
  {
   "cell_type": "markdown",
   "metadata": {},
   "source": [
    "새로운 데이터를 포함하여 y~x1 모형을 적합시켰을때, 진단 그래프들을 확인하면 residual 값이 2이상으로 관측되고 정규성 그래프에서도 혼자 선형밖에 존재하여 outlier로 관측된다"
   ]
  },
  {
   "cell_type": "code",
   "execution_count": 41,
   "metadata": {},
   "outputs": [
    {
     "data": {
      "image/png": "[encoded data removed]",
      "text/plain": [
       "Plot with title \"\""
      ]
     },
     "metadata": {},
     "output_type": "display_data"
    }
   ],
   "source": [
    "par(mfrow=c(2,2))\n",
    "plot(lm3_re)"
   ]
  },
  {
   "cell_type": "markdown",
   "metadata": {},
   "source": [
    "새로운 데이터를 포함하여 y~x2 모형을 적합시켰을때, outlier가 아닌 high leverage로 관측된다"
   ]
  }
 ],
 "metadata": {
  "kernelspec": {
   "display_name": "R",
   "language": "R",
   "name": "ir"
  },
  "language_info": {
   "codemirror_mode": "r",
   "file_extension": ".r",
   "mimetype": "text/x-r-source",
   "name": "R",
   "pygments_lexer": "r",
   "version": "3.6.1"
  }
 },
 "nbformat": 4,
 "nbformat_minor": 4
}
