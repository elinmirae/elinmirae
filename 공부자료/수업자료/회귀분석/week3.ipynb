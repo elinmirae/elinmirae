{
 "cells": [
  {
   "cell_type": "markdown",
   "metadata": {},
   "source": [
    "# Regression Diagnostics"
   ]
  },
  {
   "cell_type": "markdown",
   "metadata": {},
   "source": [
    "## 1. Loading data"
   ]
  },
  {
   "cell_type": "code",
   "execution_count": 1,
   "metadata": {},
   "outputs": [
    {
     "data": {
      "text/html": [
       "<table>\n",
       "<thead><tr><th scope=col>River</th><th scope=col>Agr</th><th scope=col>Forest</th><th scope=col>Rsdntial</th><th scope=col>ComIndl</th><th scope=col>Nitrogen</th></tr></thead>\n",
       "<tbody>\n",
       "\t<tr><td>Olean     </td><td>26        </td><td>63        </td><td> 1.2      </td><td>0.29      </td><td>1.10      </td></tr>\n",
       "\t<tr><td>Cassadaga </td><td>29        </td><td>57        </td><td> 0.7      </td><td>0.09      </td><td>1.01      </td></tr>\n",
       "\t<tr><td>Oatka     </td><td>54        </td><td>26        </td><td> 1.8      </td><td>0.58      </td><td>1.90      </td></tr>\n",
       "\t<tr><td>Neversink </td><td> 2        </td><td>84        </td><td> 1.9      </td><td>1.98      </td><td>1.00      </td></tr>\n",
       "\t<tr><td>Hackensack</td><td> 3        </td><td>27        </td><td>29.4      </td><td>3.11      </td><td>1.99      </td></tr>\n",
       "\t<tr><td>Wappinger </td><td>19        </td><td>61        </td><td> 3.4      </td><td>0.56      </td><td>1.42      </td></tr>\n",
       "</tbody>\n",
       "</table>\n"
      ],
      "text/latex": [
       "\\begin{tabular}{r|llllll}\n",
       " River & Agr & Forest & Rsdntial & ComIndl & Nitrogen\\\\\n",
       "\\hline\n",
       "\t Olean      & 26         & 63         &  1.2       & 0.29       & 1.10      \\\\\n",
       "\t Cassadaga  & 29         & 57         &  0.7       & 0.09       & 1.01      \\\\\n",
       "\t Oatka      & 54         & 26         &  1.8       & 0.58       & 1.90      \\\\\n",
       "\t Neversink  &  2         & 84         &  1.9       & 1.98       & 1.00      \\\\\n",
       "\t Hackensack &  3         & 27         & 29.4       & 3.11       & 1.99      \\\\\n",
       "\t Wappinger  & 19         & 61         &  3.4       & 0.56       & 1.42      \\\\\n",
       "\\end{tabular}\n"
      ],
      "text/markdown": [
       "\n",
       "| River | Agr | Forest | Rsdntial | ComIndl | Nitrogen |\n",
       "|---|---|---|---|---|---|\n",
       "| Olean      | 26         | 63         |  1.2       | 0.29       | 1.10       |\n",
       "| Cassadaga  | 29         | 57         |  0.7       | 0.09       | 1.01       |\n",
       "| Oatka      | 54         | 26         |  1.8       | 0.58       | 1.90       |\n",
       "| Neversink  |  2         | 84         |  1.9       | 1.98       | 1.00       |\n",
       "| Hackensack |  3         | 27         | 29.4       | 3.11       | 1.99       |\n",
       "| Wappinger  | 19         | 61         |  3.4       | 0.56       | 1.42       |\n",
       "\n"
      ],
      "text/plain": [
       "  River      Agr Forest Rsdntial ComIndl Nitrogen\n",
       "1 Olean      26  63      1.2     0.29    1.10    \n",
       "2 Cassadaga  29  57      0.7     0.09    1.01    \n",
       "3 Oatka      54  26      1.8     0.58    1.90    \n",
       "4 Neversink   2  84      1.9     1.98    1.00    \n",
       "5 Hackensack  3  27     29.4     3.11    1.99    \n",
       "6 Wappinger  19  61      3.4     0.56    1.42    "
      ]
     },
     "metadata": {},
     "output_type": "display_data"
    },
    {
     "data": {
      "text/html": [
       "<ol class=list-inline>\n",
       "\t<li>20</li>\n",
       "\t<li>6</li>\n",
       "</ol>\n"
      ],
      "text/latex": [
       "\\begin{enumerate*}\n",
       "\\item 20\n",
       "\\item 6\n",
       "\\end{enumerate*}\n"
      ],
      "text/markdown": [
       "1. 20\n",
       "2. 6\n",
       "\n",
       "\n"
      ],
      "text/plain": [
       "[1] 20  6"
      ]
     },
     "metadata": {},
     "output_type": "display_data"
    }
   ],
   "source": [
    "# Table 1.9 New Work Rivers Data\n",
    "\n",
    "dat <- read.csv(\"newwork_river.csv\",header=T)\n",
    "head(dat)\n",
    "dim(dat)"
   ]
  },
  {
   "cell_type": "code",
   "execution_count": 2,
   "metadata": {},
   "outputs": [
    {
     "data": {
      "text/html": [
       "<table>\n",
       "<thead><tr><th scope=col>River</th><th scope=col>X1</th><th scope=col>X2</th><th scope=col>X3</th><th scope=col>X4</th><th scope=col>Y</th></tr></thead>\n",
       "<tbody>\n",
       "\t<tr><td>Olean     </td><td>26        </td><td>63        </td><td> 1.2      </td><td>0.29      </td><td>1.10      </td></tr>\n",
       "\t<tr><td>Cassadaga </td><td>29        </td><td>57        </td><td> 0.7      </td><td>0.09      </td><td>1.01      </td></tr>\n",
       "\t<tr><td>Oatka     </td><td>54        </td><td>26        </td><td> 1.8      </td><td>0.58      </td><td>1.90      </td></tr>\n",
       "\t<tr><td>Neversink </td><td> 2        </td><td>84        </td><td> 1.9      </td><td>1.98      </td><td>1.00      </td></tr>\n",
       "\t<tr><td>Hackensack</td><td> 3        </td><td>27        </td><td>29.4      </td><td>3.11      </td><td>1.99      </td></tr>\n",
       "\t<tr><td>Wappinger </td><td>19        </td><td>61        </td><td> 3.4      </td><td>0.56      </td><td>1.42      </td></tr>\n",
       "</tbody>\n",
       "</table>\n"
      ],
      "text/latex": [
       "\\begin{tabular}{r|llllll}\n",
       " River & X1 & X2 & X3 & X4 & Y\\\\\n",
       "\\hline\n",
       "\t Olean      & 26         & 63         &  1.2       & 0.29       & 1.10      \\\\\n",
       "\t Cassadaga  & 29         & 57         &  0.7       & 0.09       & 1.01      \\\\\n",
       "\t Oatka      & 54         & 26         &  1.8       & 0.58       & 1.90      \\\\\n",
       "\t Neversink  &  2         & 84         &  1.9       & 1.98       & 1.00      \\\\\n",
       "\t Hackensack &  3         & 27         & 29.4       & 3.11       & 1.99      \\\\\n",
       "\t Wappinger  & 19         & 61         &  3.4       & 0.56       & 1.42      \\\\\n",
       "\\end{tabular}\n"
      ],
      "text/markdown": [
       "\n",
       "| River | X1 | X2 | X3 | X4 | Y |\n",
       "|---|---|---|---|---|---|\n",
       "| Olean      | 26         | 63         |  1.2       | 0.29       | 1.10       |\n",
       "| Cassadaga  | 29         | 57         |  0.7       | 0.09       | 1.01       |\n",
       "| Oatka      | 54         | 26         |  1.8       | 0.58       | 1.90       |\n",
       "| Neversink  |  2         | 84         |  1.9       | 1.98       | 1.00       |\n",
       "| Hackensack |  3         | 27         | 29.4       | 3.11       | 1.99       |\n",
       "| Wappinger  | 19         | 61         |  3.4       | 0.56       | 1.42       |\n",
       "\n"
      ],
      "text/plain": [
       "  River      X1 X2 X3   X4   Y   \n",
       "1 Olean      26 63  1.2 0.29 1.10\n",
       "2 Cassadaga  29 57  0.7 0.09 1.01\n",
       "3 Oatka      54 26  1.8 0.58 1.90\n",
       "4 Neversink   2 84  1.9 1.98 1.00\n",
       "5 Hackensack  3 27 29.4 3.11 1.99\n",
       "6 Wappinger  19 61  3.4 0.56 1.42"
      ]
     },
     "metadata": {},
     "output_type": "display_data"
    }
   ],
   "source": [
    "# changing colnames\n",
    "colnames(dat) <- c(\"River\", \"X1\", \"X2\", \"X3\", \"X4\", \"Y\")\n",
    "head(dat)"
   ]
  },
  {
   "cell_type": "code",
   "execution_count": 5,
   "metadata": {},
   "outputs": [
    {
     "data": {
      "text/html": [
       "<table>\n",
       "<thead><tr><th scope=col>Row</th><th scope=col>River</th><th scope=col>Y</th><th scope=col>X1</th><th scope=col>X2</th><th scope=col>X3</th><th scope=col>X4</th></tr></thead>\n",
       "<tbody>\n",
       "\t<tr><td>1         </td><td>Olean     </td><td>1.10      </td><td>26        </td><td>63        </td><td> 1.2      </td><td>0.29      </td></tr>\n",
       "\t<tr><td>2         </td><td>Cassadaga </td><td>1.01      </td><td>29        </td><td>57        </td><td> 0.7      </td><td>0.09      </td></tr>\n",
       "\t<tr><td>3         </td><td>Oatka     </td><td>1.90      </td><td>54        </td><td>26        </td><td> 1.8      </td><td>0.58      </td></tr>\n",
       "\t<tr><td>4         </td><td>Neversink </td><td>1.00      </td><td> 2        </td><td>84        </td><td> 1.9      </td><td>1.98      </td></tr>\n",
       "\t<tr><td>5         </td><td>Hackensack</td><td>1.99      </td><td> 3        </td><td>27        </td><td>29.4      </td><td>3.11      </td></tr>\n",
       "\t<tr><td>6         </td><td>Wappinger </td><td>1.42      </td><td>19        </td><td>61        </td><td> 3.4      </td><td>0.56      </td></tr>\n",
       "</tbody>\n",
       "</table>\n"
      ],
      "text/latex": [
       "\\begin{tabular}{r|lllllll}\n",
       " Row & River & Y & X1 & X2 & X3 & X4\\\\\n",
       "\\hline\n",
       "\t 1          & Olean      & 1.10       & 26         & 63         &  1.2       & 0.29      \\\\\n",
       "\t 2          & Cassadaga  & 1.01       & 29         & 57         &  0.7       & 0.09      \\\\\n",
       "\t 3          & Oatka      & 1.90       & 54         & 26         &  1.8       & 0.58      \\\\\n",
       "\t 4          & Neversink  & 1.00       &  2         & 84         &  1.9       & 1.98      \\\\\n",
       "\t 5          & Hackensack & 1.99       &  3         & 27         & 29.4       & 3.11      \\\\\n",
       "\t 6          & Wappinger  & 1.42       & 19         & 61         &  3.4       & 0.56      \\\\\n",
       "\\end{tabular}\n"
      ],
      "text/markdown": [
       "\n",
       "| Row | River | Y | X1 | X2 | X3 | X4 |\n",
       "|---|---|---|---|---|---|---|\n",
       "| 1          | Olean      | 1.10       | 26         | 63         |  1.2       | 0.29       |\n",
       "| 2          | Cassadaga  | 1.01       | 29         | 57         |  0.7       | 0.09       |\n",
       "| 3          | Oatka      | 1.90       | 54         | 26         |  1.8       | 0.58       |\n",
       "| 4          | Neversink  | 1.00       |  2         | 84         |  1.9       | 1.98       |\n",
       "| 5          | Hackensack | 1.99       |  3         | 27         | 29.4       | 3.11       |\n",
       "| 6          | Wappinger  | 1.42       | 19         | 61         |  3.4       | 0.56       |\n",
       "\n"
      ],
      "text/plain": [
       "  Row River      Y    X1 X2 X3   X4  \n",
       "1 1   Olean      1.10 26 63  1.2 0.29\n",
       "2 2   Cassadaga  1.01 29 57  0.7 0.09\n",
       "3 3   Oatka      1.90 54 26  1.8 0.58\n",
       "4 4   Neversink  1.00  2 84  1.9 1.98\n",
       "5 5   Hackensack 1.99  3 27 29.4 3.11\n",
       "6 6   Wappinger  1.42 19 61  3.4 0.56"
      ]
     },
     "metadata": {},
     "output_type": "display_data"
    },
    {
     "data": {
      "text/html": [
       "<table>\n",
       "<thead><tr><th></th><th scope=col>Row</th><th scope=col>River</th><th scope=col>Y</th><th scope=col>X1</th><th scope=col>X2</th><th scope=col>X3</th><th scope=col>X4</th></tr></thead>\n",
       "<tbody>\n",
       "\t<tr><th scope=row>15</th><td>15         </td><td>Ausable    </td><td>0.76       </td><td> 2         </td><td>89         </td><td>0.7        </td><td>0.35       </td></tr>\n",
       "\t<tr><th scope=row>16</th><td>16         </td><td>Black      </td><td>0.87       </td><td> 6         </td><td>82         </td><td>0.5        </td><td>0.15       </td></tr>\n",
       "\t<tr><th scope=row>17</th><td>17         </td><td>Schoharie  </td><td>0.80       </td><td>22         </td><td>70         </td><td>0.9        </td><td>0.22       </td></tr>\n",
       "\t<tr><th scope=row>18</th><td>18         </td><td>Raquette   </td><td>0.87       </td><td> 4         </td><td>75         </td><td>0.4        </td><td>0.18       </td></tr>\n",
       "\t<tr><th scope=row>19</th><td>19         </td><td>Oswegatchie</td><td>0.66       </td><td>21         </td><td>56         </td><td>0.5        </td><td>0.13       </td></tr>\n",
       "\t<tr><th scope=row>20</th><td>20         </td><td>Cohocton   </td><td>1.25       </td><td>40         </td><td>49         </td><td>1.1        </td><td>0.13       </td></tr>\n",
       "</tbody>\n",
       "</table>\n"
      ],
      "text/latex": [
       "\\begin{tabular}{r|lllllll}\n",
       "  & Row & River & Y & X1 & X2 & X3 & X4\\\\\n",
       "\\hline\n",
       "\t15 & 15          & Ausable     & 0.76        &  2          & 89          & 0.7         & 0.35       \\\\\n",
       "\t16 & 16          & Black       & 0.87        &  6          & 82          & 0.5         & 0.15       \\\\\n",
       "\t17 & 17          & Schoharie   & 0.80        & 22          & 70          & 0.9         & 0.22       \\\\\n",
       "\t18 & 18          & Raquette    & 0.87        &  4          & 75          & 0.4         & 0.18       \\\\\n",
       "\t19 & 19          & Oswegatchie & 0.66        & 21          & 56          & 0.5         & 0.13       \\\\\n",
       "\t20 & 20          & Cohocton    & 1.25        & 40          & 49          & 1.1         & 0.13       \\\\\n",
       "\\end{tabular}\n"
      ],
      "text/markdown": [
       "\n",
       "| <!--/--> | Row | River | Y | X1 | X2 | X3 | X4 |\n",
       "|---|---|---|---|---|---|---|---|\n",
       "| 15 | 15          | Ausable     | 0.76        |  2          | 89          | 0.7         | 0.35        |\n",
       "| 16 | 16          | Black       | 0.87        |  6          | 82          | 0.5         | 0.15        |\n",
       "| 17 | 17          | Schoharie   | 0.80        | 22          | 70          | 0.9         | 0.22        |\n",
       "| 18 | 18          | Raquette    | 0.87        |  4          | 75          | 0.4         | 0.18        |\n",
       "| 19 | 19          | Oswegatchie | 0.66        | 21          | 56          | 0.5         | 0.13        |\n",
       "| 20 | 20          | Cohocton    | 1.25        | 40          | 49          | 1.1         | 0.13        |\n",
       "\n"
      ],
      "text/plain": [
       "   Row River       Y    X1 X2 X3  X4  \n",
       "15 15  Ausable     0.76  2 89 0.7 0.35\n",
       "16 16  Black       0.87  6 82 0.5 0.15\n",
       "17 17  Schoharie   0.80 22 70 0.9 0.22\n",
       "18 18  Raquette    0.87  4 75 0.4 0.18\n",
       "19 19  Oswegatchie 0.66 21 56 0.5 0.13\n",
       "20 20  Cohocton    1.25 40 49 1.1 0.13"
      ]
     },
     "metadata": {},
     "output_type": "display_data"
    }
   ],
   "source": [
    "# redesign data-set\n",
    "re.dat <- cbind(1:20,dat[,c(1,6,2:5)])\n",
    "colnames(re.dat)[1] <- \"Row\"\n",
    "head(re.dat)\n",
    "tail(re.dat)"
   ]
  },
  {
   "cell_type": "markdown",
   "metadata": {},
   "source": [
    "## 2-1. Multiple Linear Regression (107page)"
   ]
  },
  {
   "cell_type": "markdown",
   "metadata": {},
   "source": [
    "Y = β0 + β1X1 + β2X2 + β3X3 + β4X4 + ε"
   ]
  },
  {
   "cell_type": "code",
   "execution_count": 7,
   "metadata": {},
   "outputs": [
    {
     "data": {
      "text/plain": [
       "\n",
       "Call:\n",
       "lm(formula = Y ~ X1 + X2 + X3 + X4)\n",
       "\n",
       "Residuals:\n",
       "     Min       1Q   Median       3Q      Max \n",
       "-0.49404 -0.13180  0.01951  0.08287  0.70480 \n",
       "\n",
       "Coefficients:\n",
       "             Estimate Std. Error t value Pr(>|t|)  \n",
       "(Intercept)  1.722214   1.234082   1.396   0.1832  \n",
       "X1           0.005809   0.015034   0.386   0.7046  \n",
       "X2          -0.012968   0.013931  -0.931   0.3667  \n",
       "X3          -0.007227   0.033830  -0.214   0.8337  \n",
       "X4           0.305028   0.163817   1.862   0.0823 .\n",
       "---\n",
       "Signif. codes:  0 '***' 0.001 '**' 0.01 '*' 0.05 '.' 0.1 ' ' 1\n",
       "\n",
       "Residual standard error: 0.2649 on 15 degrees of freedom\n",
       "Multiple R-squared:  0.7094,\tAdjusted R-squared:  0.6319 \n",
       "F-statistic: 9.154 on 4 and 15 DF,  p-value: 0.0005963\n"
      ]
     },
     "metadata": {},
     "output_type": "display_data"
    }
   ],
   "source": [
    "# linear model fit\n",
    "attach(re.dat)\n",
    "res_lm <- lm(Y ~ X1 + X2 + X3 + X4)\n",
    "summary(res_lm)"
   ]
  },
  {
   "cell_type": "code",
   "execution_count": 8,
   "metadata": {},
   "outputs": [
    {
     "data": {
      "text/html": [
       "<table>\n",
       "<thead><tr><th></th><th scope=col>Estimate</th><th scope=col>Std. Error</th><th scope=col>t value</th><th scope=col>Pr(&gt;|t|)</th></tr></thead>\n",
       "<tbody>\n",
       "\t<tr><th scope=row>(Intercept)</th><td> 1.722213529</td><td>1.23408166  </td><td> 1.3955426  </td><td>0.18316946  </td></tr>\n",
       "\t<tr><th scope=row>X1</th><td> 0.005809126</td><td>0.01503396  </td><td> 0.3864001  </td><td>0.70462624  </td></tr>\n",
       "\t<tr><th scope=row>X2</th><td>-0.012967887</td><td>0.01393148  </td><td>-0.9308336  </td><td>0.36667966  </td></tr>\n",
       "\t<tr><th scope=row>X3</th><td>-0.007226768</td><td>0.03383005  </td><td>-0.2136198  </td><td>0.83372002  </td></tr>\n",
       "\t<tr><th scope=row>X4</th><td> 0.305027765</td><td>0.16381667  </td><td> 1.8620069  </td><td>0.08230952  </td></tr>\n",
       "</tbody>\n",
       "</table>\n"
      ],
      "text/latex": [
       "\\begin{tabular}{r|llll}\n",
       "  & Estimate & Std. Error & t value & Pr(>\\textbar{}t\\textbar{})\\\\\n",
       "\\hline\n",
       "\t(Intercept) &  1.722213529 & 1.23408166   &  1.3955426   & 0.18316946  \\\\\n",
       "\tX1 &  0.005809126 & 0.01503396   &  0.3864001   & 0.70462624  \\\\\n",
       "\tX2 & -0.012967887 & 0.01393148   & -0.9308336   & 0.36667966  \\\\\n",
       "\tX3 & -0.007226768 & 0.03383005   & -0.2136198   & 0.83372002  \\\\\n",
       "\tX4 &  0.305027765 & 0.16381667   &  1.8620069   & 0.08230952  \\\\\n",
       "\\end{tabular}\n"
      ],
      "text/markdown": [
       "\n",
       "| <!--/--> | Estimate | Std. Error | t value | Pr(>|t|) |\n",
       "|---|---|---|---|---|\n",
       "| (Intercept) |  1.722213529 | 1.23408166   |  1.3955426   | 0.18316946   |\n",
       "| X1 |  0.005809126 | 0.01503396   |  0.3864001   | 0.70462624   |\n",
       "| X2 | -0.012967887 | 0.01393148   | -0.9308336   | 0.36667966   |\n",
       "| X3 | -0.007226768 | 0.03383005   | -0.2136198   | 0.83372002   |\n",
       "| X4 |  0.305027765 | 0.16381667   |  1.8620069   | 0.08230952   |\n",
       "\n"
      ],
      "text/plain": [
       "            Estimate     Std. Error t value    Pr(>|t|)  \n",
       "(Intercept)  1.722213529 1.23408166  1.3955426 0.18316946\n",
       "X1           0.005809126 0.01503396  0.3864001 0.70462624\n",
       "X2          -0.012967887 0.01393148 -0.9308336 0.36667966\n",
       "X3          -0.007226768 0.03383005 -0.2136198 0.83372002\n",
       "X4           0.305027765 0.16381667  1.8620069 0.08230952"
      ]
     },
     "metadata": {},
     "output_type": "display_data"
    }
   ],
   "source": [
    "summary(res_lm)$coefficient"
   ]
  },
  {
   "cell_type": "code",
   "execution_count": 10,
   "metadata": {},
   "outputs": [
    {
     "data": {
      "text/html": [
       "<dl class=dl-horizontal>\n",
       "\t<dt>(Intercept)</dt>\n",
       "\t\t<dd>1.4</dd>\n",
       "\t<dt>X1</dt>\n",
       "\t\t<dd>0.39</dd>\n",
       "\t<dt>X2</dt>\n",
       "\t\t<dd>-0.93</dd>\n",
       "\t<dt>X3</dt>\n",
       "\t\t<dd>-0.21</dd>\n",
       "\t<dt>X4</dt>\n",
       "\t\t<dd>1.86</dd>\n",
       "</dl>\n"
      ],
      "text/latex": [
       "\\begin{description*}\n",
       "\\item[(Intercept)] 1.4\n",
       "\\item[X1] 0.39\n",
       "\\item[X2] -0.93\n",
       "\\item[X3] -0.21\n",
       "\\item[X4] 1.86\n",
       "\\end{description*}\n"
      ],
      "text/markdown": [
       "(Intercept)\n",
       ":   1.4X1\n",
       ":   0.39X2\n",
       ":   -0.93X3\n",
       ":   -0.21X4\n",
       ":   1.86\n",
       "\n"
      ],
      "text/plain": [
       "(Intercept)          X1          X2          X3          X4 \n",
       "       1.40        0.39       -0.93       -0.21        1.86 "
      ]
     },
     "metadata": {},
     "output_type": "display_data"
    }
   ],
   "source": [
    "round(summary(res_lm)$coefficient[,3],2) # t-value"
   ]
  },
  {
   "cell_type": "code",
   "execution_count": 18,
   "metadata": {},
   "outputs": [],
   "source": [
    "# 1. observations deleted\n",
    "\n",
    "re.dat.del.4 <- re.dat[-4,]\n",
    "re.dat.del.5 <- re.dat[-5,]"
   ]
  },
  {
   "cell_type": "code",
   "execution_count": 20,
   "metadata": {},
   "outputs": [],
   "source": [
    "## 2.using filter func. in dplyr package\n",
    "\n",
    "library(dplyr)\n",
    "re.dat.del.4 <- re.dat %>% filter(Row != 4)\n",
    "re.dat.del.5 <- re.dat %>% filter(Row != 5)"
   ]
  },
  {
   "cell_type": "code",
   "execution_count": 21,
   "metadata": {},
   "outputs": [],
   "source": [
    "res_lm.del.4 <- lm(Y ~ X1 + X2 + X3 + X4, data = re.dat.del.4)\n",
    "res_lm.del.5 <- lm(Y ~ X1 + X2 + X3 + X4, data = re.dat.del.5)"
   ]
  },
  {
   "cell_type": "code",
   "execution_count": 22,
   "metadata": {},
   "outputs": [
    {
     "data": {
      "text/plain": [
       "\n",
       "Call:\n",
       "lm(formula = Y ~ X1 + X2 + X3 + X4, data = re.dat.del.4)\n",
       "\n",
       "Residuals:\n",
       "     Min       1Q   Median       3Q      Max \n",
       "-0.36421 -0.11154  0.00406  0.12059  0.26538 \n",
       "\n",
       "Coefficients:\n",
       "             Estimate Std. Error t value Pr(>|t|)    \n",
       "(Intercept)  1.099471   0.911636   1.206 0.247788    \n",
       "X1           0.010137   0.010984   0.923 0.371705    \n",
       "X2          -0.007589   0.010222  -0.742 0.470098    \n",
       "X3          -0.123793   0.039337  -3.147 0.007134 ** \n",
       "X4           1.528956   0.343719   4.448 0.000551 ***\n",
       "---\n",
       "Signif. codes:  0 '***' 0.001 '**' 0.01 '*' 0.05 '.' 0.1 ' ' 1\n",
       "\n",
       "Residual standard error: 0.1925 on 14 degrees of freedom\n",
       "Multiple R-squared:  0.8557,\tAdjusted R-squared:  0.8145 \n",
       "F-statistic: 20.76 on 4 and 14 DF,  p-value: 9.087e-06\n"
      ]
     },
     "metadata": {},
     "output_type": "display_data"
    }
   ],
   "source": [
    "summary(res_lm.del.4)"
   ]
  },
  {
   "cell_type": "code",
   "execution_count": 23,
   "metadata": {},
   "outputs": [
    {
     "data": {
      "text/html": [
       "<dl class=dl-horizontal>\n",
       "\t<dt>(Intercept)</dt>\n",
       "\t\t<dd>1.21</dd>\n",
       "\t<dt>X1</dt>\n",
       "\t\t<dd>0.92</dd>\n",
       "\t<dt>X2</dt>\n",
       "\t\t<dd>-0.74</dd>\n",
       "\t<dt>X3</dt>\n",
       "\t\t<dd>-3.15</dd>\n",
       "\t<dt>X4</dt>\n",
       "\t\t<dd>4.45</dd>\n",
       "</dl>\n"
      ],
      "text/latex": [
       "\\begin{description*}\n",
       "\\item[(Intercept)] 1.21\n",
       "\\item[X1] 0.92\n",
       "\\item[X2] -0.74\n",
       "\\item[X3] -3.15\n",
       "\\item[X4] 4.45\n",
       "\\end{description*}\n"
      ],
      "text/markdown": [
       "(Intercept)\n",
       ":   1.21X1\n",
       ":   0.92X2\n",
       ":   -0.74X3\n",
       ":   -3.15X4\n",
       ":   4.45\n",
       "\n"
      ],
      "text/plain": [
       "(Intercept)          X1          X2          X3          X4 \n",
       "       1.21        0.92       -0.74       -3.15        4.45 "
      ]
     },
     "metadata": {},
     "output_type": "display_data"
    }
   ],
   "source": [
    "round(summary(res_lm.del.4)$coefficient[,3],2)"
   ]
  },
  {
   "cell_type": "code",
   "execution_count": 24,
   "metadata": {},
   "outputs": [
    {
     "data": {
      "text/plain": [
       "\n",
       "Call:\n",
       "lm(formula = Y ~ X1 + X2 + X3 + X4, data = re.dat.del.5)\n",
       "\n",
       "Residuals:\n",
       "     Min       1Q   Median       3Q      Max \n",
       "-0.40124 -0.09184  0.02912  0.10840  0.22493 \n",
       "\n",
       "Coefficients:\n",
       "             Estimate Std. Error t value Pr(>|t|)   \n",
       "(Intercept)  1.626014   0.781091   2.082  0.05620 . \n",
       "X1           0.002352   0.009539   0.247  0.80881   \n",
       "X2          -0.012760   0.008815  -1.448  0.16976   \n",
       "X3           0.181161   0.044390   4.081  0.00112 **\n",
       "X4           0.075618   0.113957   0.664  0.51775   \n",
       "---\n",
       "Signif. codes:  0 '***' 0.001 '**' 0.01 '*' 0.05 '.' 0.1 ' ' 1\n",
       "\n",
       "Residual standard error: 0.1676 on 14 degrees of freedom\n",
       "Multiple R-squared:  0.864,\tAdjusted R-squared:  0.8252 \n",
       "F-statistic: 22.24 on 4 and 14 DF,  p-value: 6.055e-06\n"
      ]
     },
     "metadata": {},
     "output_type": "display_data"
    }
   ],
   "source": [
    "summary(res_lm.del.5)"
   ]
  },
  {
   "cell_type": "code",
   "execution_count": 25,
   "metadata": {},
   "outputs": [
    {
     "data": {
      "text/html": [
       "<dl class=dl-horizontal>\n",
       "\t<dt>(Intercept)</dt>\n",
       "\t\t<dd>2.08</dd>\n",
       "\t<dt>X1</dt>\n",
       "\t\t<dd>0.25</dd>\n",
       "\t<dt>X2</dt>\n",
       "\t\t<dd>-1.45</dd>\n",
       "\t<dt>X3</dt>\n",
       "\t\t<dd>4.08</dd>\n",
       "\t<dt>X4</dt>\n",
       "\t\t<dd>0.66</dd>\n",
       "</dl>\n"
      ],
      "text/latex": [
       "\\begin{description*}\n",
       "\\item[(Intercept)] 2.08\n",
       "\\item[X1] 0.25\n",
       "\\item[X2] -1.45\n",
       "\\item[X3] 4.08\n",
       "\\item[X4] 0.66\n",
       "\\end{description*}\n"
      ],
      "text/markdown": [
       "(Intercept)\n",
       ":   2.08X1\n",
       ":   0.25X2\n",
       ":   -1.45X3\n",
       ":   4.08X4\n",
       ":   0.66\n",
       "\n"
      ],
      "text/plain": [
       "(Intercept)          X1          X2          X3          X4 \n",
       "       2.08        0.25       -1.45        4.08        0.66 "
      ]
     },
     "metadata": {},
     "output_type": "display_data"
    }
   ],
   "source": [
    "round(summary(res_lm.del.5)$coefficient[,3],2)"
   ]
  },
  {
   "cell_type": "code",
   "execution_count": 27,
   "metadata": {},
   "outputs": [
    {
     "data": {
      "text/html": [
       "<table>\n",
       "<thead><tr><th></th><th scope=col>None</th><th scope=col>Neversink</th><th scope=col>Hackensack</th></tr></thead>\n",
       "<tbody>\n",
       "\t<tr><th scope=row>(Intercept)</th><td> 1.40</td><td> 1.21</td><td> 2.08</td></tr>\n",
       "\t<tr><th scope=row>X1</th><td> 0.39</td><td> 0.92</td><td> 0.25</td></tr>\n",
       "\t<tr><th scope=row>X2</th><td>-0.93</td><td>-0.74</td><td>-1.45</td></tr>\n",
       "\t<tr><th scope=row>X3</th><td>-0.21</td><td>-3.15</td><td> 4.08</td></tr>\n",
       "\t<tr><th scope=row>X4</th><td> 1.86</td><td> 4.45</td><td> 0.66</td></tr>\n",
       "</tbody>\n",
       "</table>\n"
      ],
      "text/latex": [
       "\\begin{tabular}{r|lll}\n",
       "  & None & Neversink & Hackensack\\\\\n",
       "\\hline\n",
       "\t(Intercept) &  1.40 &  1.21 &  2.08\\\\\n",
       "\tX1 &  0.39 &  0.92 &  0.25\\\\\n",
       "\tX2 & -0.93 & -0.74 & -1.45\\\\\n",
       "\tX3 & -0.21 & -3.15 &  4.08\\\\\n",
       "\tX4 &  1.86 &  4.45 &  0.66\\\\\n",
       "\\end{tabular}\n"
      ],
      "text/markdown": [
       "\n",
       "| <!--/--> | None | Neversink | Hackensack |\n",
       "|---|---|---|---|\n",
       "| (Intercept) |  1.40 |  1.21 |  2.08 |\n",
       "| X1 |  0.39 |  0.92 |  0.25 |\n",
       "| X2 | -0.93 | -0.74 | -1.45 |\n",
       "| X3 | -0.21 | -3.15 |  4.08 |\n",
       "| X4 |  1.86 |  4.45 |  0.66 |\n",
       "\n"
      ],
      "text/plain": [
       "            None  Neversink Hackensack\n",
       "(Intercept)  1.40  1.21      2.08     \n",
       "X1           0.39  0.92      0.25     \n",
       "X2          -0.93 -0.74     -1.45     \n",
       "X3          -0.21 -3.15      4.08     \n",
       "X4           1.86  4.45      0.66     "
      ]
     },
     "metadata": {},
     "output_type": "display_data"
    }
   ],
   "source": [
    "# Table 4.2 New York Rivers Data: The t-tests for the individual coefficients(107 page)\n",
    "\n",
    "table4.2 <- data.frame(None = round(summary(res_lm)$coefficient[,3],2),\n",
    "    Neversink = round(summary(res_lm.del.4)$coefficient[,3],2),\n",
    "    Hackensack = round(summary(res_lm.del.5)$coefficient[,3],2))\n",
    "\n",
    "table4.2"
   ]
  },
  {
   "cell_type": "markdown",
   "metadata": {},
   "source": [
    "t-value 비교를 통해서 모델 선택? -> res_lm.del.4 모델 단순회귀 "
   ]
  },
  {
   "cell_type": "markdown",
   "metadata": {},
   "source": [
    "## 2-2. Multiple Linear Regression (109-111 pages)"
   ]
  },
  {
   "cell_type": "markdown",
   "metadata": {},
   "source": [
    "Y = β0 + β4X4 + ε"
   ]
  },
  {
   "cell_type": "markdown",
   "metadata": {},
   "source": [
    "### Scatter plot of Y vs. X4 (3가지)"
   ]
  },
  {
   "cell_type": "code",
   "execution_count": 28,
   "metadata": {},
   "outputs": [
    {
     "data": {
      "image/png": "[encoded data removed]",
      "text/plain": [
       "plot without title"
      ]
     },
     "metadata": {},
     "output_type": "display_data"
    }
   ],
   "source": [
    "# plot size\n",
    "options(repr.plot.width = 4, repr.plot.height = 4)\n",
    "\n",
    "# scatter plot\n",
    "plot(X4, Y, pch = 19)\n",
    "grid()\n",
    "\n",
    "## add fitted line\n",
    "reg1 <- lm(Y ~ X4)\n",
    "abline(reg1, col = \"blue\")"
   ]
  },
  {
   "cell_type": "markdown",
   "metadata": {},
   "source": [
    "x4의 scatter plot과 선형회귀를 그려봄"
   ]
  },
  {
   "cell_type": "code",
   "execution_count": 30,
   "metadata": {},
   "outputs": [
    {
     "data": {
      "image/png": "[encoded data removed]",
      "text/plain": [
       "plot without title"
      ]
     },
     "metadata": {},
     "output_type": "display_data"
    }
   ],
   "source": [
    "library(ggplot2)\n",
    "ggplot(re.dat, aes(x = X4, y = Y)) + geom_point() +\n",
    "    geom_smooth(method = lm, se = F)"
   ]
  },
  {
   "cell_type": "code",
   "execution_count": 34,
   "metadata": {},
   "outputs": [
    {
     "name": "stdout",
     "output_type": "stream",
     "text": [
      "package 'ggrepel' successfully unpacked and MD5 sums checked\n",
      "\n",
      "The downloaded binary packages are in\n",
      "\tC:\\Users\\kmr14\\AppData\\Local\\Temp\\RtmpeelC4B\\downloaded_packages\n"
     ]
    },
    {
     "name": "stderr",
     "output_type": "stream",
     "text": [
      "Warning message:\n",
      "\"package 'ggrepel' was built under R version 3.6.3\""
     ]
    },
    {
     "data": {
      "image/png": "[encoded data removed]",
      "text/plain": [
       "plot without title"
      ]
     },
     "metadata": {},
     "output_type": "display_data"
    }
   ],
   "source": [
    "# Install ggrepel package if needed\n",
    "# install.packages(\"devtools\")\n",
    "# devtools::install_github(\"slowkow/ggrepel\")\n",
    "install.packages(\"ggrepel\")\n",
    "library(ggrepel)\n",
    "\n",
    "ggplot(re.dat, aes(x = X4, y = Y)) + geom_point() +\n",
    "    geom_smooth(method = lm, se = F) +\n",
    "    geom_text_repel(data=filter(re.dat, Row >=3 & Row <=8), aes(label=Row))"
   ]
  },
  {
   "cell_type": "code",
   "execution_count": 35,
   "metadata": {},
   "outputs": [
    {
     "data": {
      "text/html": [
       "<dl class=dl-horizontal>\n",
       "\t<dt>1</dt>\n",
       "\t\t<dd>1.09</dd>\n",
       "\t<dt>2</dt>\n",
       "\t\t<dd>1.03</dd>\n",
       "\t<dt>3</dt>\n",
       "\t\t<dd>1.18</dd>\n",
       "\t<dt>4</dt>\n",
       "\t\t<dd>1.61</dd>\n",
       "\t<dt>5</dt>\n",
       "\t\t<dd>1.96</dd>\n",
       "\t<dt>6</dt>\n",
       "\t\t<dd>1.17</dd>\n",
       "\t<dt>7</dt>\n",
       "\t\t<dd>1.34</dd>\n",
       "\t<dt>8</dt>\n",
       "\t\t<dd>1.07</dd>\n",
       "\t<dt>9</dt>\n",
       "\t\t<dd>1.04</dd>\n",
       "\t<dt>10</dt>\n",
       "\t\t<dd>1.07</dd>\n",
       "\t<dt>11</dt>\n",
       "\t\t<dd>1.05</dd>\n",
       "\t<dt>12</dt>\n",
       "\t\t<dd>1.05</dd>\n",
       "\t<dt>13</dt>\n",
       "\t\t<dd>1.04</dd>\n",
       "\t<dt>14</dt>\n",
       "\t\t<dd>1.11</dd>\n",
       "\t<dt>15</dt>\n",
       "\t\t<dd>1.11</dd>\n",
       "\t<dt>16</dt>\n",
       "\t\t<dd>1.04</dd>\n",
       "\t<dt>17</dt>\n",
       "\t\t<dd>1.07</dd>\n",
       "\t<dt>18</dt>\n",
       "\t\t<dd>1.05</dd>\n",
       "\t<dt>19</dt>\n",
       "\t\t<dd>1.04</dd>\n",
       "\t<dt>20</dt>\n",
       "\t\t<dd>1.04</dd>\n",
       "</dl>\n"
      ],
      "text/latex": [
       "\\begin{description*}\n",
       "\\item[1] 1.09\n",
       "\\item[2] 1.03\n",
       "\\item[3] 1.18\n",
       "\\item[4] 1.61\n",
       "\\item[5] 1.96\n",
       "\\item[6] 1.17\n",
       "\\item[7] 1.34\n",
       "\\item[8] 1.07\n",
       "\\item[9] 1.04\n",
       "\\item[10] 1.07\n",
       "\\item[11] 1.05\n",
       "\\item[12] 1.05\n",
       "\\item[13] 1.04\n",
       "\\item[14] 1.11\n",
       "\\item[15] 1.11\n",
       "\\item[16] 1.04\n",
       "\\item[17] 1.07\n",
       "\\item[18] 1.05\n",
       "\\item[19] 1.04\n",
       "\\item[20] 1.04\n",
       "\\end{description*}\n"
      ],
      "text/markdown": [
       "1\n",
       ":   1.092\n",
       ":   1.033\n",
       ":   1.184\n",
       ":   1.615\n",
       ":   1.966\n",
       ":   1.177\n",
       ":   1.348\n",
       ":   1.079\n",
       ":   1.0410\n",
       ":   1.0711\n",
       ":   1.0512\n",
       ":   1.0513\n",
       ":   1.0414\n",
       ":   1.1115\n",
       ":   1.1116\n",
       ":   1.0417\n",
       ":   1.0718\n",
       ":   1.0519\n",
       ":   1.0420\n",
       ":   1.04\n",
       "\n"
      ],
      "text/plain": [
       "   1    2    3    4    5    6    7    8    9   10   11   12   13   14   15   16 \n",
       "1.09 1.03 1.18 1.61 1.96 1.17 1.34 1.07 1.04 1.07 1.05 1.05 1.04 1.11 1.11 1.04 \n",
       "  17   18   19   20 \n",
       "1.07 1.05 1.04 1.04 "
      ]
     },
     "metadata": {},
     "output_type": "display_data"
    }
   ],
   "source": [
    "#Predict y\n",
    "round(fitted(reg1),2)"
   ]
  },
  {
   "cell_type": "code",
   "execution_count": 36,
   "metadata": {},
   "outputs": [
    {
     "data": {
      "text/html": [
       "<dl class=dl-horizontal>\n",
       "\t<dt>1</dt>\n",
       "\t\t<dd>0.01</dd>\n",
       "\t<dt>2</dt>\n",
       "\t\t<dd>-0.02</dd>\n",
       "\t<dt>3</dt>\n",
       "\t\t<dd>0.72</dd>\n",
       "\t<dt>4</dt>\n",
       "\t\t<dd>-0.61</dd>\n",
       "\t<dt>5</dt>\n",
       "\t\t<dd>0.03</dd>\n",
       "\t<dt>6</dt>\n",
       "\t\t<dd>0.25</dd>\n",
       "\t<dt>7</dt>\n",
       "\t\t<dd>0.7</dd>\n",
       "\t<dt>8</dt>\n",
       "\t\t<dd>0.58</dd>\n",
       "\t<dt>9</dt>\n",
       "\t\t<dd>-0.03</dd>\n",
       "\t<dt>10</dt>\n",
       "\t\t<dd>0.14</dd>\n",
       "\t<dt>11</dt>\n",
       "\t\t<dd>0.28</dd>\n",
       "\t<dt>12</dt>\n",
       "\t\t<dd>-0.3</dd>\n",
       "\t<dt>13</dt>\n",
       "\t\t<dd>-0.31</dd>\n",
       "\t<dt>14</dt>\n",
       "\t\t<dd>-0.31</dd>\n",
       "\t<dt>15</dt>\n",
       "\t\t<dd>-0.35</dd>\n",
       "\t<dt>16</dt>\n",
       "\t\t<dd>-0.17</dd>\n",
       "\t<dt>17</dt>\n",
       "\t\t<dd>-0.27</dd>\n",
       "\t<dt>18</dt>\n",
       "\t\t<dd>-0.18</dd>\n",
       "\t<dt>19</dt>\n",
       "\t\t<dd>-0.38</dd>\n",
       "\t<dt>20</dt>\n",
       "\t\t<dd>0.21</dd>\n",
       "</dl>\n"
      ],
      "text/latex": [
       "\\begin{description*}\n",
       "\\item[1] 0.01\n",
       "\\item[2] -0.02\n",
       "\\item[3] 0.72\n",
       "\\item[4] -0.61\n",
       "\\item[5] 0.03\n",
       "\\item[6] 0.25\n",
       "\\item[7] 0.7\n",
       "\\item[8] 0.58\n",
       "\\item[9] -0.03\n",
       "\\item[10] 0.14\n",
       "\\item[11] 0.28\n",
       "\\item[12] -0.3\n",
       "\\item[13] -0.31\n",
       "\\item[14] -0.31\n",
       "\\item[15] -0.35\n",
       "\\item[16] -0.17\n",
       "\\item[17] -0.27\n",
       "\\item[18] -0.18\n",
       "\\item[19] -0.38\n",
       "\\item[20] 0.21\n",
       "\\end{description*}\n"
      ],
      "text/markdown": [
       "1\n",
       ":   0.012\n",
       ":   -0.023\n",
       ":   0.724\n",
       ":   -0.615\n",
       ":   0.036\n",
       ":   0.257\n",
       ":   0.78\n",
       ":   0.589\n",
       ":   -0.0310\n",
       ":   0.1411\n",
       ":   0.2812\n",
       ":   -0.313\n",
       ":   -0.3114\n",
       ":   -0.3115\n",
       ":   -0.3516\n",
       ":   -0.1717\n",
       ":   -0.2718\n",
       ":   -0.1819\n",
       ":   -0.3820\n",
       ":   0.21\n",
       "\n"
      ],
      "text/plain": [
       "    1     2     3     4     5     6     7     8     9    10    11    12    13 \n",
       " 0.01 -0.02  0.72 -0.61  0.03  0.25  0.70  0.58 -0.03  0.14  0.28 -0.30 -0.31 \n",
       "   14    15    16    17    18    19    20 \n",
       "-0.31 -0.35 -0.17 -0.27 -0.18 -0.38  0.21 "
      ]
     },
     "metadata": {},
     "output_type": "display_data"
    }
   ],
   "source": [
    "#Residual\n",
    "round(residuals(reg1),2)"
   ]
  },
  {
   "cell_type": "code",
   "execution_count": 37,
   "metadata": {},
   "outputs": [
    {
     "data": {
      "text/html": [
       "<dl class=dl-horizontal>\n",
       "\t<dt>1</dt>\n",
       "\t\t<dd>0.03</dd>\n",
       "\t<dt>2</dt>\n",
       "\t\t<dd>-0.05</dd>\n",
       "\t<dt>3</dt>\n",
       "\t\t<dd>1.95</dd>\n",
       "\t<dt>4</dt>\n",
       "\t\t<dd>-1.85</dd>\n",
       "\t<dt>5</dt>\n",
       "\t\t<dd>0.16</dd>\n",
       "\t<dt>6</dt>\n",
       "\t\t<dd>0.67</dd>\n",
       "\t<dt>7</dt>\n",
       "\t\t<dd>1.92</dd>\n",
       "\t<dt>8</dt>\n",
       "\t\t<dd>1.57</dd>\n",
       "\t<dt>9</dt>\n",
       "\t\t<dd>-0.1</dd>\n",
       "\t<dt>10</dt>\n",
       "\t\t<dd>0.38</dd>\n",
       "\t<dt>11</dt>\n",
       "\t\t<dd>0.75</dd>\n",
       "\t<dt>12</dt>\n",
       "\t\t<dd>-0.81</dd>\n",
       "\t<dt>13</dt>\n",
       "\t\t<dd>-0.83</dd>\n",
       "\t<dt>14</dt>\n",
       "\t\t<dd>-0.83</dd>\n",
       "\t<dt>15</dt>\n",
       "\t\t<dd>-0.94</dd>\n",
       "\t<dt>16</dt>\n",
       "\t\t<dd>-0.48</dd>\n",
       "\t<dt>17</dt>\n",
       "\t\t<dd>-0.72</dd>\n",
       "\t<dt>18</dt>\n",
       "\t\t<dd>-0.5</dd>\n",
       "\t<dt>19</dt>\n",
       "\t\t<dd>-1.03</dd>\n",
       "\t<dt>20</dt>\n",
       "\t\t<dd>0.57</dd>\n",
       "</dl>\n"
      ],
      "text/latex": [
       "\\begin{description*}\n",
       "\\item[1] 0.03\n",
       "\\item[2] -0.05\n",
       "\\item[3] 1.95\n",
       "\\item[4] -1.85\n",
       "\\item[5] 0.16\n",
       "\\item[6] 0.67\n",
       "\\item[7] 1.92\n",
       "\\item[8] 1.57\n",
       "\\item[9] -0.1\n",
       "\\item[10] 0.38\n",
       "\\item[11] 0.75\n",
       "\\item[12] -0.81\n",
       "\\item[13] -0.83\n",
       "\\item[14] -0.83\n",
       "\\item[15] -0.94\n",
       "\\item[16] -0.48\n",
       "\\item[17] -0.72\n",
       "\\item[18] -0.5\n",
       "\\item[19] -1.03\n",
       "\\item[20] 0.57\n",
       "\\end{description*}\n"
      ],
      "text/markdown": [
       "1\n",
       ":   0.032\n",
       ":   -0.053\n",
       ":   1.954\n",
       ":   -1.855\n",
       ":   0.166\n",
       ":   0.677\n",
       ":   1.928\n",
       ":   1.579\n",
       ":   -0.110\n",
       ":   0.3811\n",
       ":   0.7512\n",
       ":   -0.8113\n",
       ":   -0.8314\n",
       ":   -0.8315\n",
       ":   -0.9416\n",
       ":   -0.4817\n",
       ":   -0.7218\n",
       ":   -0.519\n",
       ":   -1.0320\n",
       ":   0.57\n",
       "\n"
      ],
      "text/plain": [
       "    1     2     3     4     5     6     7     8     9    10    11    12    13 \n",
       " 0.03 -0.05  1.95 -1.85  0.16  0.67  1.92  1.57 -0.10  0.38  0.75 -0.81 -0.83 \n",
       "   14    15    16    17    18    19    20 \n",
       "-0.83 -0.94 -0.48 -0.72 -0.50 -1.03  0.57 "
      ]
     },
     "metadata": {},
     "output_type": "display_data"
    }
   ],
   "source": [
    "#Standardized Residuals\n",
    "round(rstandard(reg1),2)"
   ]
  },
  {
   "cell_type": "code",
   "execution_count": 38,
   "metadata": {},
   "outputs": [
    {
     "data": {
      "text/html": [
       "<dl class=dl-horizontal>\n",
       "\t<dt>1</dt>\n",
       "\t\t<dd>0.05</dd>\n",
       "\t<dt>2</dt>\n",
       "\t\t<dd>0.07</dd>\n",
       "\t<dt>3</dt>\n",
       "\t\t<dd>0.05</dd>\n",
       "\t<dt>4</dt>\n",
       "\t\t<dd>0.25</dd>\n",
       "\t<dt>5</dt>\n",
       "\t\t<dd>0.67</dd>\n",
       "\t<dt>6</dt>\n",
       "\t\t<dd>0.05</dd>\n",
       "\t<dt>7</dt>\n",
       "\t\t<dd>0.08</dd>\n",
       "\t<dt>8</dt>\n",
       "\t\t<dd>0.06</dd>\n",
       "\t<dt>9</dt>\n",
       "\t\t<dd>0.06</dd>\n",
       "\t<dt>10</dt>\n",
       "\t\t<dd>0.06</dd>\n",
       "\t<dt>11</dt>\n",
       "\t\t<dd>0.06</dd>\n",
       "\t<dt>12</dt>\n",
       "\t\t<dd>0.06</dd>\n",
       "\t<dt>13</dt>\n",
       "\t\t<dd>0.06</dd>\n",
       "\t<dt>14</dt>\n",
       "\t\t<dd>0.05</dd>\n",
       "\t<dt>15</dt>\n",
       "\t\t<dd>0.05</dd>\n",
       "\t<dt>16</dt>\n",
       "\t\t<dd>0.06</dd>\n",
       "\t<dt>17</dt>\n",
       "\t\t<dd>0.06</dd>\n",
       "\t<dt>18</dt>\n",
       "\t\t<dd>0.06</dd>\n",
       "\t<dt>19</dt>\n",
       "\t\t<dd>0.06</dd>\n",
       "\t<dt>20</dt>\n",
       "\t\t<dd>0.06</dd>\n",
       "</dl>\n"
      ],
      "text/latex": [
       "\\begin{description*}\n",
       "\\item[1] 0.05\n",
       "\\item[2] 0.07\n",
       "\\item[3] 0.05\n",
       "\\item[4] 0.25\n",
       "\\item[5] 0.67\n",
       "\\item[6] 0.05\n",
       "\\item[7] 0.08\n",
       "\\item[8] 0.06\n",
       "\\item[9] 0.06\n",
       "\\item[10] 0.06\n",
       "\\item[11] 0.06\n",
       "\\item[12] 0.06\n",
       "\\item[13] 0.06\n",
       "\\item[14] 0.05\n",
       "\\item[15] 0.05\n",
       "\\item[16] 0.06\n",
       "\\item[17] 0.06\n",
       "\\item[18] 0.06\n",
       "\\item[19] 0.06\n",
       "\\item[20] 0.06\n",
       "\\end{description*}\n"
      ],
      "text/markdown": [
       "1\n",
       ":   0.052\n",
       ":   0.073\n",
       ":   0.054\n",
       ":   0.255\n",
       ":   0.676\n",
       ":   0.057\n",
       ":   0.088\n",
       ":   0.069\n",
       ":   0.0610\n",
       ":   0.0611\n",
       ":   0.0612\n",
       ":   0.0613\n",
       ":   0.0614\n",
       ":   0.0515\n",
       ":   0.0516\n",
       ":   0.0617\n",
       ":   0.0618\n",
       ":   0.0619\n",
       ":   0.0620\n",
       ":   0.06\n",
       "\n"
      ],
      "text/plain": [
       "   1    2    3    4    5    6    7    8    9   10   11   12   13   14   15   16 \n",
       "0.05 0.07 0.05 0.25 0.67 0.05 0.08 0.06 0.06 0.06 0.06 0.06 0.06 0.05 0.05 0.06 \n",
       "  17   18   19   20 \n",
       "0.06 0.06 0.06 0.06 "
      ]
     },
     "metadata": {},
     "output_type": "display_data"
    }
   ],
   "source": [
    "#Leverage Values\n",
    "round(hatvalues(reg1),2)"
   ]
  },
  {
   "cell_type": "markdown",
   "metadata": {},
   "source": [
    "- An outlier is a data point whose response y does not follow the general trend of the rest of the data.\n",
    "- A data point has high leverage if it has \"extreme\" predictor x values. With a single predictor, an extreme x value is simply one that is particularly high or low. With multiple predictors, extreme x values may be particularly high or low for one or more predictors, or may be \"unusual\" combinations of predictor values (e.g., with two predictors that are positively correlated, an unusual combination of predictor values might be a high value of one predictor paired with a low value of the other predictor)."
   ]
  },
  {
   "cell_type": "code",
   "execution_count": 39,
   "metadata": {},
   "outputs": [
    {
     "data": {
      "text/html": [
       "<table>\n",
       "<thead><tr><th scope=col>row</th><th scope=col>r_i</th><th scope=col>p_ii</th></tr></thead>\n",
       "<tbody>\n",
       "\t<tr><td> 1   </td><td> 0.03</td><td>0.05 </td></tr>\n",
       "\t<tr><td> 2   </td><td>-0.05</td><td>0.07 </td></tr>\n",
       "\t<tr><td> 3   </td><td> 1.95</td><td>0.05 </td></tr>\n",
       "\t<tr><td> 4   </td><td>-1.85</td><td>0.25 </td></tr>\n",
       "\t<tr><td> 5   </td><td> 0.16</td><td>0.67 </td></tr>\n",
       "\t<tr><td> 6   </td><td> 0.67</td><td>0.05 </td></tr>\n",
       "\t<tr><td> 7   </td><td> 1.92</td><td>0.08 </td></tr>\n",
       "\t<tr><td> 8   </td><td> 1.57</td><td>0.06 </td></tr>\n",
       "\t<tr><td> 9   </td><td>-0.10</td><td>0.06 </td></tr>\n",
       "\t<tr><td>10   </td><td> 0.38</td><td>0.06 </td></tr>\n",
       "\t<tr><td>11   </td><td> 0.75</td><td>0.06 </td></tr>\n",
       "\t<tr><td>12   </td><td>-0.81</td><td>0.06 </td></tr>\n",
       "\t<tr><td>13   </td><td>-0.83</td><td>0.06 </td></tr>\n",
       "\t<tr><td>14   </td><td>-0.83</td><td>0.05 </td></tr>\n",
       "\t<tr><td>15   </td><td>-0.94</td><td>0.05 </td></tr>\n",
       "\t<tr><td>16   </td><td>-0.48</td><td>0.06 </td></tr>\n",
       "\t<tr><td>17   </td><td>-0.72</td><td>0.06 </td></tr>\n",
       "\t<tr><td>18   </td><td>-0.50</td><td>0.06 </td></tr>\n",
       "\t<tr><td>19   </td><td>-1.03</td><td>0.06 </td></tr>\n",
       "\t<tr><td>20   </td><td> 0.57</td><td>0.06 </td></tr>\n",
       "</tbody>\n",
       "</table>\n"
      ],
      "text/latex": [
       "\\begin{tabular}{r|lll}\n",
       " row & r\\_i & p\\_ii\\\\\n",
       "\\hline\n",
       "\t  1    &  0.03 & 0.05 \\\\\n",
       "\t  2    & -0.05 & 0.07 \\\\\n",
       "\t  3    &  1.95 & 0.05 \\\\\n",
       "\t  4    & -1.85 & 0.25 \\\\\n",
       "\t  5    &  0.16 & 0.67 \\\\\n",
       "\t  6    &  0.67 & 0.05 \\\\\n",
       "\t  7    &  1.92 & 0.08 \\\\\n",
       "\t  8    &  1.57 & 0.06 \\\\\n",
       "\t  9    & -0.10 & 0.06 \\\\\n",
       "\t 10    &  0.38 & 0.06 \\\\\n",
       "\t 11    &  0.75 & 0.06 \\\\\n",
       "\t 12    & -0.81 & 0.06 \\\\\n",
       "\t 13    & -0.83 & 0.06 \\\\\n",
       "\t 14    & -0.83 & 0.05 \\\\\n",
       "\t 15    & -0.94 & 0.05 \\\\\n",
       "\t 16    & -0.48 & 0.06 \\\\\n",
       "\t 17    & -0.72 & 0.06 \\\\\n",
       "\t 18    & -0.50 & 0.06 \\\\\n",
       "\t 19    & -1.03 & 0.06 \\\\\n",
       "\t 20    &  0.57 & 0.06 \\\\\n",
       "\\end{tabular}\n"
      ],
      "text/markdown": [
       "\n",
       "| row | r_i | p_ii |\n",
       "|---|---|---|\n",
       "|  1    |  0.03 | 0.05  |\n",
       "|  2    | -0.05 | 0.07  |\n",
       "|  3    |  1.95 | 0.05  |\n",
       "|  4    | -1.85 | 0.25  |\n",
       "|  5    |  0.16 | 0.67  |\n",
       "|  6    |  0.67 | 0.05  |\n",
       "|  7    |  1.92 | 0.08  |\n",
       "|  8    |  1.57 | 0.06  |\n",
       "|  9    | -0.10 | 0.06  |\n",
       "| 10    |  0.38 | 0.06  |\n",
       "| 11    |  0.75 | 0.06  |\n",
       "| 12    | -0.81 | 0.06  |\n",
       "| 13    | -0.83 | 0.06  |\n",
       "| 14    | -0.83 | 0.05  |\n",
       "| 15    | -0.94 | 0.05  |\n",
       "| 16    | -0.48 | 0.06  |\n",
       "| 17    | -0.72 | 0.06  |\n",
       "| 18    | -0.50 | 0.06  |\n",
       "| 19    | -1.03 | 0.06  |\n",
       "| 20    |  0.57 | 0.06  |\n",
       "\n"
      ],
      "text/plain": [
       "   row r_i   p_ii\n",
       "1   1   0.03 0.05\n",
       "2   2  -0.05 0.07\n",
       "3   3   1.95 0.05\n",
       "4   4  -1.85 0.25\n",
       "5   5   0.16 0.67\n",
       "6   6   0.67 0.05\n",
       "7   7   1.92 0.08\n",
       "8   8   1.57 0.06\n",
       "9   9  -0.10 0.06\n",
       "10 10   0.38 0.06\n",
       "11 11   0.75 0.06\n",
       "12 12  -0.81 0.06\n",
       "13 13  -0.83 0.06\n",
       "14 14  -0.83 0.05\n",
       "15 15  -0.94 0.05\n",
       "16 16  -0.48 0.06\n",
       "17 17  -0.72 0.06\n",
       "18 18  -0.50 0.06\n",
       "19 19  -1.03 0.06\n",
       "20 20   0.57 0.06"
      ]
     },
     "metadata": {},
     "output_type": "display_data"
    }
   ],
   "source": [
    "# Table 4.3 New York Rivers Data (110 page)\n",
    "\n",
    "table4.3 <- data.frame(row = Row,\n",
    "    r_i = round(rstandard(reg1),2),\n",
    "    p_ii = round(hatvalues(reg1),2))\n",
    "\n",
    "table4.3"
   ]
  },
  {
   "cell_type": "markdown",
   "metadata": {},
   "source": [
    "### Figure 4.6 Index plots of the standardized residuals and the leverage values (111 page)"
   ]
  },
  {
   "cell_type": "code",
   "execution_count": 40,
   "metadata": {},
   "outputs": [],
   "source": [
    "res.dat <- cbind(re.dat, rstandard(reg1), hatvalues(reg1))\n",
    "colnames(res.dat )[c(8,9)] <- c(\"r_i\",\"p_ii\")"
   ]
  },
  {
   "cell_type": "code",
   "execution_count": 41,
   "metadata": {},
   "outputs": [],
   "source": [
    "p1 <- ggplot(res.dat, aes(x = Row, y = r_i)) + geom_point()\n",
    "p2 <- ggplot(res.dat, aes(x = Row, y = p_ii)) + geom_point()"
   ]
  },
  {
   "cell_type": "code",
   "execution_count": 42,
   "metadata": {},
   "outputs": [
    {
     "data": {
      "image/png": "[encoded data removed]",
      "text/plain": [
       "plot without title"
      ]
     },
     "metadata": {},
     "output_type": "display_data"
    }
   ],
   "source": [
    "p1"
   ]
  },
  {
   "cell_type": "code",
   "execution_count": 43,
   "metadata": {},
   "outputs": [
    {
     "data": {
      "image/png": "[encoded data removed]",
      "text/plain": [
       "plot without title"
      ]
     },
     "metadata": {},
     "output_type": "display_data"
    }
   ],
   "source": [
    "p2"
   ]
  },
  {
   "cell_type": "code",
   "execution_count": 47,
   "metadata": {},
   "outputs": [
    {
     "name": "stderr",
     "output_type": "stream",
     "text": [
      "Warning message:\n",
      "\"package 'gridExtra' is in use and will not be installed\""
     ]
    },
    {
     "data": {
      "image/png": "[encoded data removed]",
      "text/plain": [
       "plot without title"
      ]
     },
     "metadata": {},
     "output_type": "display_data"
    }
   ],
   "source": [
    "install.packages(\"gridExtra\")\n",
    "library(gridExtra)\n",
    "\n",
    "# plot size\n",
    "options(repr.plot.width = 6, repr.plot.height = 3)\n",
    "grid.arrange(p1, p2, nrow = 1)"
   ]
  },
  {
   "cell_type": "code",
   "execution_count": 49,
   "metadata": {},
   "outputs": [
    {
     "data": {
      "text/html": [
       "<dl class=dl-horizontal>\n",
       "\t<dt>1</dt>\n",
       "\t\t<dd>0</dd>\n",
       "\t<dt>2</dt>\n",
       "\t\t<dd>0</dd>\n",
       "\t<dt>3</dt>\n",
       "\t\t<dd>0.1</dd>\n",
       "\t<dt>4</dt>\n",
       "\t\t<dd>0.56</dd>\n",
       "\t<dt>5</dt>\n",
       "\t\t<dd>0.02</dd>\n",
       "\t<dt>6</dt>\n",
       "\t\t<dd>0.01</dd>\n",
       "\t<dt>7</dt>\n",
       "\t\t<dd>0.17</dd>\n",
       "\t<dt>8</dt>\n",
       "\t\t<dd>0.07</dd>\n",
       "\t<dt>9</dt>\n",
       "\t\t<dd>0</dd>\n",
       "\t<dt>10</dt>\n",
       "\t\t<dd>0</dd>\n",
       "\t<dt>11</dt>\n",
       "\t\t<dd>0.02</dd>\n",
       "\t<dt>12</dt>\n",
       "\t\t<dd>0.02</dd>\n",
       "\t<dt>13</dt>\n",
       "\t\t<dd>0.02</dd>\n",
       "\t<dt>14</dt>\n",
       "\t\t<dd>0.02</dd>\n",
       "\t<dt>15</dt>\n",
       "\t\t<dd>0.02</dd>\n",
       "\t<dt>16</dt>\n",
       "\t\t<dd>0.01</dd>\n",
       "\t<dt>17</dt>\n",
       "\t\t<dd>0.02</dd>\n",
       "\t<dt>18</dt>\n",
       "\t\t<dd>0.01</dd>\n",
       "\t<dt>19</dt>\n",
       "\t\t<dd>0.04</dd>\n",
       "\t<dt>20</dt>\n",
       "\t\t<dd>0.01</dd>\n",
       "</dl>\n"
      ],
      "text/latex": [
       "\\begin{description*}\n",
       "\\item[1] 0\n",
       "\\item[2] 0\n",
       "\\item[3] 0.1\n",
       "\\item[4] 0.56\n",
       "\\item[5] 0.02\n",
       "\\item[6] 0.01\n",
       "\\item[7] 0.17\n",
       "\\item[8] 0.07\n",
       "\\item[9] 0\n",
       "\\item[10] 0\n",
       "\\item[11] 0.02\n",
       "\\item[12] 0.02\n",
       "\\item[13] 0.02\n",
       "\\item[14] 0.02\n",
       "\\item[15] 0.02\n",
       "\\item[16] 0.01\n",
       "\\item[17] 0.02\n",
       "\\item[18] 0.01\n",
       "\\item[19] 0.04\n",
       "\\item[20] 0.01\n",
       "\\end{description*}\n"
      ],
      "text/markdown": [
       "1\n",
       ":   02\n",
       ":   03\n",
       ":   0.14\n",
       ":   0.565\n",
       ":   0.026\n",
       ":   0.017\n",
       ":   0.178\n",
       ":   0.079\n",
       ":   010\n",
       ":   011\n",
       ":   0.0212\n",
       ":   0.0213\n",
       ":   0.0214\n",
       ":   0.0215\n",
       ":   0.0216\n",
       ":   0.0117\n",
       ":   0.0218\n",
       ":   0.0119\n",
       ":   0.0420\n",
       ":   0.01\n",
       "\n"
      ],
      "text/plain": [
       "   1    2    3    4    5    6    7    8    9   10   11   12   13   14   15   16 \n",
       "0.00 0.00 0.10 0.56 0.02 0.01 0.17 0.07 0.00 0.00 0.02 0.02 0.02 0.02 0.02 0.01 \n",
       "  17   18   19   20 \n",
       "0.02 0.01 0.04 0.01 "
      ]
     },
     "metadata": {},
     "output_type": "display_data"
    }
   ],
   "source": [
    "# Cook’s distance: C\n",
    "round(cooks.distance(reg1),2)"
   ]
  },
  {
   "cell_type": "code",
   "execution_count": 50,
   "metadata": {},
   "outputs": [
    {
     "data": {
      "text/html": [
       "<dl class=dl-horizontal>\n",
       "\t<dt>1</dt>\n",
       "\t\t<dd>0.01</dd>\n",
       "\t<dt>2</dt>\n",
       "\t\t<dd>-0.01</dd>\n",
       "\t<dt>3</dt>\n",
       "\t\t<dd>0.49</dd>\n",
       "\t<dt>4</dt>\n",
       "\t\t<dd>-1.14</dd>\n",
       "\t<dt>5</dt>\n",
       "\t\t<dd>0.22</dd>\n",
       "\t<dt>6</dt>\n",
       "\t\t<dd>0.15</dd>\n",
       "\t<dt>7</dt>\n",
       "\t\t<dd>0.63</dd>\n",
       "\t<dt>8</dt>\n",
       "\t\t<dd>0.4</dd>\n",
       "\t<dt>9</dt>\n",
       "\t\t<dd>-0.02</dd>\n",
       "\t<dt>10</dt>\n",
       "\t\t<dd>0.09</dd>\n",
       "\t<dt>11</dt>\n",
       "\t\t<dd>0.19</dd>\n",
       "\t<dt>12</dt>\n",
       "\t\t<dd>-0.21</dd>\n",
       "\t<dt>13</dt>\n",
       "\t\t<dd>-0.22</dd>\n",
       "\t<dt>14</dt>\n",
       "\t\t<dd>-0.19</dd>\n",
       "\t<dt>15</dt>\n",
       "\t\t<dd>-0.22</dd>\n",
       "\t<dt>16</dt>\n",
       "\t\t<dd>-0.12</dd>\n",
       "\t<dt>17</dt>\n",
       "\t\t<dd>-0.18</dd>\n",
       "\t<dt>18</dt>\n",
       "\t\t<dd>-0.12</dd>\n",
       "\t<dt>19</dt>\n",
       "\t\t<dd>-0.27</dd>\n",
       "\t<dt>20</dt>\n",
       "\t\t<dd>0.15</dd>\n",
       "</dl>\n"
      ],
      "text/latex": [
       "\\begin{description*}\n",
       "\\item[1] 0.01\n",
       "\\item[2] -0.01\n",
       "\\item[3] 0.49\n",
       "\\item[4] -1.14\n",
       "\\item[5] 0.22\n",
       "\\item[6] 0.15\n",
       "\\item[7] 0.63\n",
       "\\item[8] 0.4\n",
       "\\item[9] -0.02\n",
       "\\item[10] 0.09\n",
       "\\item[11] 0.19\n",
       "\\item[12] -0.21\n",
       "\\item[13] -0.22\n",
       "\\item[14] -0.19\n",
       "\\item[15] -0.22\n",
       "\\item[16] -0.12\n",
       "\\item[17] -0.18\n",
       "\\item[18] -0.12\n",
       "\\item[19] -0.27\n",
       "\\item[20] 0.15\n",
       "\\end{description*}\n"
      ],
      "text/markdown": [
       "1\n",
       ":   0.012\n",
       ":   -0.013\n",
       ":   0.494\n",
       ":   -1.145\n",
       ":   0.226\n",
       ":   0.157\n",
       ":   0.638\n",
       ":   0.49\n",
       ":   -0.0210\n",
       ":   0.0911\n",
       ":   0.1912\n",
       ":   -0.2113\n",
       ":   -0.2214\n",
       ":   -0.1915\n",
       ":   -0.2216\n",
       ":   -0.1217\n",
       ":   -0.1818\n",
       ":   -0.1219\n",
       ":   -0.2720\n",
       ":   0.15\n",
       "\n"
      ],
      "text/plain": [
       "    1     2     3     4     5     6     7     8     9    10    11    12    13 \n",
       " 0.01 -0.01  0.49 -1.14  0.22  0.15  0.63  0.40 -0.02  0.09  0.19 -0.21 -0.22 \n",
       "   14    15    16    17    18    19    20 \n",
       "-0.19 -0.22 -0.12 -0.18 -0.12 -0.27  0.15 "
      ]
     },
     "metadata": {},
     "output_type": "display_data"
    }
   ],
   "source": [
    "# Welsch and Kuh Measures: DFITS\n",
    "round(dffits(reg1),2)"
   ]
  },
  {
   "cell_type": "code",
   "execution_count": 53,
   "metadata": {},
   "outputs": [
    {
     "name": "stderr",
     "output_type": "stream",
     "text": [
      "Warning message:\n",
      "\"package 'olsrr' is in use and will not be installed\""
     ]
    },
    {
     "data": {
      "text/html": [
       "<dl class=dl-horizontal>\n",
       "\t<dt>1</dt>\n",
       "\t\t<dd>0.06</dd>\n",
       "\t<dt>2</dt>\n",
       "\t\t<dd>0.07</dd>\n",
       "\t<dt>3</dt>\n",
       "\t\t<dd>0.58</dd>\n",
       "\t<dt>4</dt>\n",
       "\t\t<dd>0.77</dd>\n",
       "\t<dt>5</dt>\n",
       "\t\t<dd>2.04</dd>\n",
       "\t<dt>6</dt>\n",
       "\t\t<dd>0.1</dd>\n",
       "\t<dt>7</dt>\n",
       "\t\t<dd>0.6</dd>\n",
       "\t<dt>8</dt>\n",
       "\t\t<dd>0.37</dd>\n",
       "\t<dt>9</dt>\n",
       "\t\t<dd>0.07</dd>\n",
       "\t<dt>10</dt>\n",
       "\t\t<dd>0.08</dd>\n",
       "\t<dt>11</dt>\n",
       "\t\t<dd>0.13</dd>\n",
       "\t<dt>12</dt>\n",
       "\t\t<dd>0.14</dd>\n",
       "\t<dt>13</dt>\n",
       "\t\t<dd>0.15</dd>\n",
       "\t<dt>14</dt>\n",
       "\t\t<dd>0.13</dd>\n",
       "\t<dt>15</dt>\n",
       "\t\t<dd>0.16</dd>\n",
       "\t<dt>16</dt>\n",
       "\t\t<dd>0.09</dd>\n",
       "\t<dt>17</dt>\n",
       "\t\t<dd>0.12</dd>\n",
       "\t<dt>18</dt>\n",
       "\t\t<dd>0.09</dd>\n",
       "\t<dt>19</dt>\n",
       "\t\t<dd>0.19</dd>\n",
       "\t<dt>20</dt>\n",
       "\t\t<dd>0.11</dd>\n",
       "</dl>\n"
      ],
      "text/latex": [
       "\\begin{description*}\n",
       "\\item[1] 0.06\n",
       "\\item[2] 0.07\n",
       "\\item[3] 0.58\n",
       "\\item[4] 0.77\n",
       "\\item[5] 2.04\n",
       "\\item[6] 0.1\n",
       "\\item[7] 0.6\n",
       "\\item[8] 0.37\n",
       "\\item[9] 0.07\n",
       "\\item[10] 0.08\n",
       "\\item[11] 0.13\n",
       "\\item[12] 0.14\n",
       "\\item[13] 0.15\n",
       "\\item[14] 0.13\n",
       "\\item[15] 0.16\n",
       "\\item[16] 0.09\n",
       "\\item[17] 0.12\n",
       "\\item[18] 0.09\n",
       "\\item[19] 0.19\n",
       "\\item[20] 0.11\n",
       "\\end{description*}\n"
      ],
      "text/markdown": [
       "1\n",
       ":   0.062\n",
       ":   0.073\n",
       ":   0.584\n",
       ":   0.775\n",
       ":   2.046\n",
       ":   0.17\n",
       ":   0.68\n",
       ":   0.379\n",
       ":   0.0710\n",
       ":   0.0811\n",
       ":   0.1312\n",
       ":   0.1413\n",
       ":   0.1514\n",
       ":   0.1315\n",
       ":   0.1616\n",
       ":   0.0917\n",
       ":   0.1218\n",
       ":   0.0919\n",
       ":   0.1920\n",
       ":   0.11\n",
       "\n"
      ],
      "text/plain": [
       "   1    2    3    4    5    6    7    8    9   10   11   12   13   14   15   16 \n",
       "0.06 0.07 0.58 0.77 2.04 0.10 0.60 0.37 0.07 0.08 0.13 0.14 0.15 0.13 0.16 0.09 \n",
       "  17   18   19   20 \n",
       "0.12 0.09 0.19 0.11 "
      ]
     },
     "metadata": {},
     "output_type": "display_data"
    }
   ],
   "source": [
    "#Hadi’s Influence Measures: H\n",
    "## https://olsrr.rsquaredacademy.com/articles/influence_measures.html\n",
    "install.packages(\"olsrr\")\n",
    "library(olsrr)\n",
    "round(ols_hadi(reg1)$hadi,2)"
   ]
  },
  {
   "cell_type": "code",
   "execution_count": 54,
   "metadata": {},
   "outputs": [
    {
     "data": {
      "text/html": [
       "<table>\n",
       "<thead><tr><th scope=col>row</th><th scope=col>C_i</th><th scope=col>DFITs_i</th><th scope=col>H_i</th></tr></thead>\n",
       "<tbody>\n",
       "\t<tr><td> 1   </td><td>0.00 </td><td> 0.01</td><td>0.06 </td></tr>\n",
       "\t<tr><td> 2   </td><td>0.00 </td><td>-0.01</td><td>0.07 </td></tr>\n",
       "\t<tr><td> 3   </td><td>0.10 </td><td> 0.49</td><td>0.58 </td></tr>\n",
       "\t<tr><td> 4   </td><td>0.56 </td><td>-1.14</td><td>0.77 </td></tr>\n",
       "\t<tr><td> 5   </td><td>0.02 </td><td> 0.22</td><td>2.04 </td></tr>\n",
       "\t<tr><td> 6   </td><td>0.01 </td><td> 0.15</td><td>0.10 </td></tr>\n",
       "\t<tr><td> 7   </td><td>0.17 </td><td> 0.63</td><td>0.60 </td></tr>\n",
       "\t<tr><td> 8   </td><td>0.07 </td><td> 0.40</td><td>0.37 </td></tr>\n",
       "\t<tr><td> 9   </td><td>0.00 </td><td>-0.02</td><td>0.07 </td></tr>\n",
       "\t<tr><td>10   </td><td>0.00 </td><td> 0.09</td><td>0.08 </td></tr>\n",
       "\t<tr><td>11   </td><td>0.02 </td><td> 0.19</td><td>0.13 </td></tr>\n",
       "\t<tr><td>12   </td><td>0.02 </td><td>-0.21</td><td>0.14 </td></tr>\n",
       "\t<tr><td>13   </td><td>0.02 </td><td>-0.22</td><td>0.15 </td></tr>\n",
       "\t<tr><td>14   </td><td>0.02 </td><td>-0.19</td><td>0.13 </td></tr>\n",
       "\t<tr><td>15   </td><td>0.02 </td><td>-0.22</td><td>0.16 </td></tr>\n",
       "\t<tr><td>16   </td><td>0.01 </td><td>-0.12</td><td>0.09 </td></tr>\n",
       "\t<tr><td>17   </td><td>0.02 </td><td>-0.18</td><td>0.12 </td></tr>\n",
       "\t<tr><td>18   </td><td>0.01 </td><td>-0.12</td><td>0.09 </td></tr>\n",
       "\t<tr><td>19   </td><td>0.04 </td><td>-0.27</td><td>0.19 </td></tr>\n",
       "\t<tr><td>20   </td><td>0.01 </td><td> 0.15</td><td>0.11 </td></tr>\n",
       "</tbody>\n",
       "</table>\n"
      ],
      "text/latex": [
       "\\begin{tabular}{r|llll}\n",
       " row & C\\_i & DFITs\\_i & H\\_i\\\\\n",
       "\\hline\n",
       "\t  1    & 0.00  &  0.01 & 0.06 \\\\\n",
       "\t  2    & 0.00  & -0.01 & 0.07 \\\\\n",
       "\t  3    & 0.10  &  0.49 & 0.58 \\\\\n",
       "\t  4    & 0.56  & -1.14 & 0.77 \\\\\n",
       "\t  5    & 0.02  &  0.22 & 2.04 \\\\\n",
       "\t  6    & 0.01  &  0.15 & 0.10 \\\\\n",
       "\t  7    & 0.17  &  0.63 & 0.60 \\\\\n",
       "\t  8    & 0.07  &  0.40 & 0.37 \\\\\n",
       "\t  9    & 0.00  & -0.02 & 0.07 \\\\\n",
       "\t 10    & 0.00  &  0.09 & 0.08 \\\\\n",
       "\t 11    & 0.02  &  0.19 & 0.13 \\\\\n",
       "\t 12    & 0.02  & -0.21 & 0.14 \\\\\n",
       "\t 13    & 0.02  & -0.22 & 0.15 \\\\\n",
       "\t 14    & 0.02  & -0.19 & 0.13 \\\\\n",
       "\t 15    & 0.02  & -0.22 & 0.16 \\\\\n",
       "\t 16    & 0.01  & -0.12 & 0.09 \\\\\n",
       "\t 17    & 0.02  & -0.18 & 0.12 \\\\\n",
       "\t 18    & 0.01  & -0.12 & 0.09 \\\\\n",
       "\t 19    & 0.04  & -0.27 & 0.19 \\\\\n",
       "\t 20    & 0.01  &  0.15 & 0.11 \\\\\n",
       "\\end{tabular}\n"
      ],
      "text/markdown": [
       "\n",
       "| row | C_i | DFITs_i | H_i |\n",
       "|---|---|---|---|\n",
       "|  1    | 0.00  |  0.01 | 0.06  |\n",
       "|  2    | 0.00  | -0.01 | 0.07  |\n",
       "|  3    | 0.10  |  0.49 | 0.58  |\n",
       "|  4    | 0.56  | -1.14 | 0.77  |\n",
       "|  5    | 0.02  |  0.22 | 2.04  |\n",
       "|  6    | 0.01  |  0.15 | 0.10  |\n",
       "|  7    | 0.17  |  0.63 | 0.60  |\n",
       "|  8    | 0.07  |  0.40 | 0.37  |\n",
       "|  9    | 0.00  | -0.02 | 0.07  |\n",
       "| 10    | 0.00  |  0.09 | 0.08  |\n",
       "| 11    | 0.02  |  0.19 | 0.13  |\n",
       "| 12    | 0.02  | -0.21 | 0.14  |\n",
       "| 13    | 0.02  | -0.22 | 0.15  |\n",
       "| 14    | 0.02  | -0.19 | 0.13  |\n",
       "| 15    | 0.02  | -0.22 | 0.16  |\n",
       "| 16    | 0.01  | -0.12 | 0.09  |\n",
       "| 17    | 0.02  | -0.18 | 0.12  |\n",
       "| 18    | 0.01  | -0.12 | 0.09  |\n",
       "| 19    | 0.04  | -0.27 | 0.19  |\n",
       "| 20    | 0.01  |  0.15 | 0.11  |\n",
       "\n"
      ],
      "text/plain": [
       "   row C_i  DFITs_i H_i \n",
       "1   1  0.00  0.01   0.06\n",
       "2   2  0.00 -0.01   0.07\n",
       "3   3  0.10  0.49   0.58\n",
       "4   4  0.56 -1.14   0.77\n",
       "5   5  0.02  0.22   2.04\n",
       "6   6  0.01  0.15   0.10\n",
       "7   7  0.17  0.63   0.60\n",
       "8   8  0.07  0.40   0.37\n",
       "9   9  0.00 -0.02   0.07\n",
       "10 10  0.00  0.09   0.08\n",
       "11 11  0.02  0.19   0.13\n",
       "12 12  0.02 -0.21   0.14\n",
       "13 13  0.02 -0.22   0.15\n",
       "14 14  0.02 -0.19   0.13\n",
       "15 15  0.02 -0.22   0.16\n",
       "16 16  0.01 -0.12   0.09\n",
       "17 17  0.02 -0.18   0.12\n",
       "18 18  0.01 -0.12   0.09\n",
       "19 19  0.04 -0.27   0.19\n",
       "20 20  0.01  0.15   0.11"
      ]
     },
     "metadata": {},
     "output_type": "display_data"
    }
   ],
   "source": [
    "# Table 4.4 New York Rivers Data (114 page)\n",
    "\n",
    "table4.4 <- data.frame(row = Row,\n",
    "    C_i = round(cooks.distance(reg1),2),\n",
    "    DFITs_i = round(dffits(reg1),2),\n",
    "    H_i = round(ols_hadi(reg1)$hadi,2))\n",
    "\n",
    "table4.4"
   ]
  },
  {
   "cell_type": "markdown",
   "metadata": {},
   "source": [
    "### Figure 4.7 Index plots of influence measures (114 page)"
   ]
  },
  {
   "cell_type": "code",
   "execution_count": 55,
   "metadata": {},
   "outputs": [
    {
     "data": {
      "image/png": "[encoded data removed]",
      "text/plain": [
       "plot without title"
      ]
     },
     "metadata": {},
     "output_type": "display_data"
    }
   ],
   "source": [
    "res.influence.dat <- cbind(re.dat, cooks.distance(reg1), dffits(reg1),ols_hadi(reg1)$hadi)\n",
    "colnames(res.influence.dat)[c(8,9,10)] <- c(\"C_i\", \"DFITS_i\", \"H_i\")\n",
    "\n",
    "p1 <- ggplot(res.influence.dat, aes(x = Row, y = C_i)) + geom_point()\n",
    "p2 <- ggplot(res.influence.dat, aes(x = Row, y = DFITS_i)) + geom_point()\n",
    "p3 <- ggplot(res.influence.dat, aes(x = Row, y = H_i)) + geom_point()\n",
    "\n",
    "options(repr.plot.width = 9, repr.plot.height = 3)\n",
    "grid.arrange(p1, p2, p3, nrow = 1)"
   ]
  },
  {
   "cell_type": "code",
   "execution_count": 56,
   "metadata": {},
   "outputs": [
    {
     "data": {
      "image/png": "[encoded data removed]",
      "text/plain": [
       "plot without title"
      ]
     },
     "metadata": {},
     "output_type": "display_data"
    }
   ],
   "source": [
    "# Cook's Distance plot by using olss package\n",
    "\n",
    "# plot size\n",
    "options(repr.plot.width = 6, repr.plot.height = 3)\n",
    "\n",
    "ols_plot_cooksd_chart(reg1)"
   ]
  },
  {
   "cell_type": "code",
   "execution_count": 57,
   "metadata": {},
   "outputs": [
    {
     "data": {
      "image/png": "[encoded data removed]",
      "text/plain": [
       "plot without title"
      ]
     },
     "metadata": {},
     "output_type": "display_data"
    }
   ],
   "source": [
    "# Welsch and Kuh measure plot by using olss package\n",
    "ols_plot_dffits(reg1)"
   ]
  },
  {
   "cell_type": "code",
   "execution_count": 58,
   "metadata": {},
   "outputs": [
    {
     "data": {
      "image/png": "[encoded data removed]",
      "text/plain": [
       "plot without title"
      ]
     },
     "metadata": {},
     "output_type": "display_data"
    }
   ],
   "source": [
    "# Hadi's measure plot by using olss package\n",
    "ols_plot_hadi(reg1)"
   ]
  }
 ],
 "metadata": {
  "kernelspec": {
   "display_name": "R",
   "language": "R",
   "name": "ir"
  },
  "language_info": {
   "codemirror_mode": "r",
   "file_extension": ".r",
   "mimetype": "text/x-r-source",
   "name": "R",
   "pygments_lexer": "r",
   "version": "3.6.1"
  }
 },
 "nbformat": 4,
 "nbformat_minor": 4
}
