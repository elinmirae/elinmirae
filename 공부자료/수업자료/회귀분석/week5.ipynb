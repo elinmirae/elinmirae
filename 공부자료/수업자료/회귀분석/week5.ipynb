{
 "cells": [
  {
   "cell_type": "markdown",
   "metadata": {},
   "source": [
    "# Transformation of Variables"
   ]
  },
  {
   "cell_type": "markdown",
   "metadata": {},
   "source": [
    " ### Example: Bacteria Deaths due to X-Ray radiation data"
   ]
  },
  {
   "cell_type": "markdown",
   "metadata": {},
   "source": [
    "### 1-1.  Loading data-set"
   ]
  },
  {
   "cell_type": "code",
   "execution_count": 2,
   "metadata": {},
   "outputs": [
    {
     "data": {
      "text/html": [
       "<table>\n",
       "<thead><tr><th scope=col>t</th><th scope=col>N_t</th></tr></thead>\n",
       "<tbody>\n",
       "\t<tr><td>1  </td><td>355</td></tr>\n",
       "\t<tr><td>2  </td><td>211</td></tr>\n",
       "\t<tr><td>3  </td><td>197</td></tr>\n",
       "\t<tr><td>4  </td><td>166</td></tr>\n",
       "\t<tr><td>5  </td><td>142</td></tr>\n",
       "\t<tr><td>6  </td><td>106</td></tr>\n",
       "</tbody>\n",
       "</table>\n"
      ],
      "text/latex": [
       "\\begin{tabular}{r|ll}\n",
       " t & N\\_t\\\\\n",
       "\\hline\n",
       "\t 1   & 355\\\\\n",
       "\t 2   & 211\\\\\n",
       "\t 3   & 197\\\\\n",
       "\t 4   & 166\\\\\n",
       "\t 5   & 142\\\\\n",
       "\t 6   & 106\\\\\n",
       "\\end{tabular}\n"
      ],
      "text/markdown": [
       "\n",
       "| t | N_t |\n",
       "|---|---|\n",
       "| 1   | 355 |\n",
       "| 2   | 211 |\n",
       "| 3   | 197 |\n",
       "| 4   | 166 |\n",
       "| 5   | 142 |\n",
       "| 6   | 106 |\n",
       "\n"
      ],
      "text/plain": [
       "  t N_t\n",
       "1 1 355\n",
       "2 2 211\n",
       "3 3 197\n",
       "4 4 166\n",
       "5 5 142\n",
       "6 6 106"
      ]
     },
     "metadata": {},
     "output_type": "display_data"
    },
    {
     "data": {
      "text/html": [
       "<table>\n",
       "<thead><tr><th></th><th scope=col>t</th><th scope=col>N_t</th></tr></thead>\n",
       "<tbody>\n",
       "\t<tr><th scope=row>10</th><td>10</td><td>38</td></tr>\n",
       "\t<tr><th scope=row>11</th><td>11</td><td>36</td></tr>\n",
       "\t<tr><th scope=row>12</th><td>12</td><td>32</td></tr>\n",
       "\t<tr><th scope=row>13</th><td>13</td><td>21</td></tr>\n",
       "\t<tr><th scope=row>14</th><td>14</td><td>19</td></tr>\n",
       "\t<tr><th scope=row>15</th><td>15</td><td>15</td></tr>\n",
       "</tbody>\n",
       "</table>\n"
      ],
      "text/latex": [
       "\\begin{tabular}{r|ll}\n",
       "  & t & N\\_t\\\\\n",
       "\\hline\n",
       "\t10 & 10 & 38\\\\\n",
       "\t11 & 11 & 36\\\\\n",
       "\t12 & 12 & 32\\\\\n",
       "\t13 & 13 & 21\\\\\n",
       "\t14 & 14 & 19\\\\\n",
       "\t15 & 15 & 15\\\\\n",
       "\\end{tabular}\n"
      ],
      "text/markdown": [
       "\n",
       "| <!--/--> | t | N_t |\n",
       "|---|---|---|\n",
       "| 10 | 10 | 38 |\n",
       "| 11 | 11 | 36 |\n",
       "| 12 | 12 | 32 |\n",
       "| 13 | 13 | 21 |\n",
       "| 14 | 14 | 19 |\n",
       "| 15 | 15 | 15 |\n",
       "\n"
      ],
      "text/plain": [
       "   t  N_t\n",
       "10 10 38 \n",
       "11 11 36 \n",
       "12 12 32 \n",
       "13 13 21 \n",
       "14 14 19 \n",
       "15 15 15 "
      ]
     },
     "metadata": {},
     "output_type": "display_data"
    },
    {
     "data": {
      "text/html": [
       "<ol class=list-inline>\n",
       "\t<li>15</li>\n",
       "\t<li>2</li>\n",
       "</ol>\n"
      ],
      "text/latex": [
       "\\begin{enumerate*}\n",
       "\\item 15\n",
       "\\item 2\n",
       "\\end{enumerate*}\n"
      ],
      "text/markdown": [
       "1. 15\n",
       "2. 2\n",
       "\n",
       "\n"
      ],
      "text/plain": [
       "[1] 15  2"
      ]
     },
     "metadata": {},
     "output_type": "display_data"
    }
   ],
   "source": [
    "# Table 6.2 Number of surviving Bacteria Data\n",
    "\n",
    "dat <- read.table(\"bacteria.txt\",header=T)\n",
    "head(dat)\n",
    "tail(dat)\n",
    "dim(dat)"
   ]
  },
  {
   "cell_type": "markdown",
   "metadata": {},
   "source": [
    "### 1-2. Multiple Linear Regression (168 page)"
   ]
  },
  {
   "cell_type": "markdown",
   "metadata": {},
   "source": [
    "nt = β0 + β1t + εt (6.7)"
   ]
  },
  {
   "cell_type": "code",
   "execution_count": 3,
   "metadata": {},
   "outputs": [
    {
     "data": {
      "text/plain": [
       "\n",
       "Call:\n",
       "lm(formula = N_t ~ t)\n",
       "\n",
       "Residuals:\n",
       "    Min      1Q  Median      3Q     Max \n",
       "-43.867 -23.599  -9.652  10.223 114.883 \n",
       "\n",
       "Coefficients:\n",
       "            Estimate Std. Error t value Pr(>|t|)    \n",
       "(Intercept)   259.58      22.73  11.420 3.78e-08 ***\n",
       "t             -19.46       2.50  -7.786 3.01e-06 ***\n",
       "---\n",
       "Signif. codes:  0 '***' 0.001 '**' 0.01 '*' 0.05 '.' 0.1 ' ' 1\n",
       "\n",
       "Residual standard error: 41.83 on 13 degrees of freedom\n",
       "Multiple R-squared:  0.8234,\tAdjusted R-squared:  0.8098 \n",
       "F-statistic: 60.62 on 1 and 13 DF,  p-value: 3.006e-06\n"
      ]
     },
     "metadata": {},
     "output_type": "display_data"
    }
   ],
   "source": [
    "# linear model fit\n",
    "attach(dat)\n",
    "res_lm <- lm(N_t ~ t)\n",
    "summary(res_lm)"
   ]
  },
  {
   "cell_type": "markdown",
   "metadata": {},
   "source": [
    "Figure 6.5 Plot of nt against time t"
   ]
  },
  {
   "cell_type": "markdown",
   "metadata": {},
   "source": [
    "Figure 6.6 Plot of the standardized residuals from (6.7) against time t (169 page)"
   ]
  },
  {
   "cell_type": "code",
   "execution_count": 4,
   "metadata": {},
   "outputs": [
    {
     "name": "stderr",
     "output_type": "stream",
     "text": [
      "Registered S3 methods overwritten by 'ggplot2':\n",
      "  method         from \n",
      "  [.quosures     rlang\n",
      "  c.quosures     rlang\n",
      "  print.quosures rlang\n"
     ]
    },
    {
     "data": {
      "image/png": "[encoded data removed]",
      "text/plain": [
       "plot without title"
      ]
     },
     "metadata": {},
     "output_type": "display_data"
    },
    {
     "data": {
      "image/png": "[encoded data removed]",
      "text/plain": [
       "plot without title"
      ]
     },
     "metadata": {},
     "output_type": "display_data"
    }
   ],
   "source": [
    "# plot size\n",
    "options(repr.plot.width = 6, repr.plot.height = 3)\n",
    "\n",
    "library(ggplot2)\n",
    "ggplot(dat, aes(x = t, y = N_t)) + geom_point()\n",
    "\n",
    "# residual plot\n",
    "res.dat <- cbind(dat, rstandard(res_lm))\n",
    "colnames(res.dat)[c(3)] <- \"r_i\"\n",
    "\n",
    "ggplot(res.dat, aes(x = t, y = r_i)) + geom_point()"
   ]
  },
  {
   "cell_type": "markdown",
   "metadata": {},
   "source": [
    "### 1-3. Logarithmic Transformation"
   ]
  },
  {
   "cell_type": "markdown",
   "metadata": {},
   "source": [
    "ln(nt) = β0 + β1t + εt"
   ]
  },
  {
   "cell_type": "code",
   "execution_count": 5,
   "metadata": {},
   "outputs": [
    {
     "data": {
      "text/plain": [
       "\n",
       "Call:\n",
       "lm(formula = log(N_t) ~ t)\n",
       "\n",
       "Residuals:\n",
       "     Min       1Q   Median       3Q      Max \n",
       "-0.18445 -0.06189  0.01253  0.05201  0.20021 \n",
       "\n",
       "Coefficients:\n",
       "             Estimate Std. Error t value Pr(>|t|)    \n",
       "(Intercept)  5.973160   0.059778   99.92  < 2e-16 ***\n",
       "t           -0.218425   0.006575  -33.22 5.86e-14 ***\n",
       "---\n",
       "Signif. codes:  0 '***' 0.001 '**' 0.01 '*' 0.05 '.' 0.1 ' ' 1\n",
       "\n",
       "Residual standard error: 0.11 on 13 degrees of freedom\n",
       "Multiple R-squared:  0.9884,\tAdjusted R-squared:  0.9875 \n",
       "F-statistic:  1104 on 1 and 13 DF,  p-value: 5.86e-14\n"
      ]
     },
     "metadata": {},
     "output_type": "display_data"
    }
   ],
   "source": [
    "# linear model fit\n",
    "res_ln_lm <- lm(log(N_t) ~ t)\n",
    "summary(res_ln_lm)"
   ]
  },
  {
   "cell_type": "markdown",
   "metadata": {},
   "source": [
    "Figure 6.8 Plot of the standardized residuals against time t after transformation (171\n",
    "page)"
   ]
  },
  {
   "cell_type": "code",
   "execution_count": 6,
   "metadata": {},
   "outputs": [
    {
     "data": {
      "image/png": "[encoded data removed]",
      "text/plain": [
       "plot without title"
      ]
     },
     "metadata": {},
     "output_type": "display_data"
    }
   ],
   "source": [
    "# residual plot\n",
    "res.dat_ln <- cbind(dat, rstandard(res_ln_lm))\n",
    "colnames(res.dat_ln)[c(3)] <- \"r_i\"\n",
    "\n",
    "ggplot(res.dat_ln, aes(x = t, y = r_i)) + geom_point()"
   ]
  },
  {
   "cell_type": "markdown",
   "metadata": {},
   "source": [
    "### Example: Injury Incidents in Airlines data"
   ]
  },
  {
   "cell_type": "markdown",
   "metadata": {},
   "source": [
    "### 2-1. Loading data-set"
   ]
  },
  {
   "cell_type": "code",
   "execution_count": 8,
   "metadata": {},
   "outputs": [
    {
     "data": {
      "text/html": [
       "<table>\n",
       "<thead><tr><th scope=col>Y</th><th scope=col>N</th></tr></thead>\n",
       "<tbody>\n",
       "\t<tr><td>11    </td><td>0.0950</td></tr>\n",
       "\t<tr><td> 7    </td><td>0.1920</td></tr>\n",
       "\t<tr><td> 7    </td><td>0.0750</td></tr>\n",
       "\t<tr><td>19    </td><td>0.2078</td></tr>\n",
       "\t<tr><td> 9    </td><td>0.1382</td></tr>\n",
       "\t<tr><td> 4    </td><td>0.0540</td></tr>\n",
       "</tbody>\n",
       "</table>\n"
      ],
      "text/latex": [
       "\\begin{tabular}{r|ll}\n",
       " Y & N\\\\\n",
       "\\hline\n",
       "\t 11     & 0.0950\\\\\n",
       "\t  7     & 0.1920\\\\\n",
       "\t  7     & 0.0750\\\\\n",
       "\t 19     & 0.2078\\\\\n",
       "\t  9     & 0.1382\\\\\n",
       "\t  4     & 0.0540\\\\\n",
       "\\end{tabular}\n"
      ],
      "text/markdown": [
       "\n",
       "| Y | N |\n",
       "|---|---|\n",
       "| 11     | 0.0950 |\n",
       "|  7     | 0.1920 |\n",
       "|  7     | 0.0750 |\n",
       "| 19     | 0.2078 |\n",
       "|  9     | 0.1382 |\n",
       "|  4     | 0.0540 |\n",
       "\n"
      ],
      "text/plain": [
       "  Y  N     \n",
       "1 11 0.0950\n",
       "2  7 0.1920\n",
       "3  7 0.0750\n",
       "4 19 0.2078\n",
       "5  9 0.1382\n",
       "6  4 0.0540"
      ]
     },
     "metadata": {},
     "output_type": "display_data"
    },
    {
     "data": {
      "text/html": [
       "<table>\n",
       "<thead><tr><th></th><th scope=col>Y</th><th scope=col>N</th></tr></thead>\n",
       "<tbody>\n",
       "\t<tr><th scope=row>4</th><td>19    </td><td>0.2078</td></tr>\n",
       "\t<tr><th scope=row>5</th><td> 9    </td><td>0.1382</td></tr>\n",
       "\t<tr><th scope=row>6</th><td> 4    </td><td>0.0540</td></tr>\n",
       "\t<tr><th scope=row>7</th><td> 3    </td><td>0.1292</td></tr>\n",
       "\t<tr><th scope=row>8</th><td> 1    </td><td>0.0503</td></tr>\n",
       "\t<tr><th scope=row>9</th><td> 3    </td><td>0.0629</td></tr>\n",
       "</tbody>\n",
       "</table>\n"
      ],
      "text/latex": [
       "\\begin{tabular}{r|ll}\n",
       "  & Y & N\\\\\n",
       "\\hline\n",
       "\t4 & 19     & 0.2078\\\\\n",
       "\t5 &  9     & 0.1382\\\\\n",
       "\t6 &  4     & 0.0540\\\\\n",
       "\t7 &  3     & 0.1292\\\\\n",
       "\t8 &  1     & 0.0503\\\\\n",
       "\t9 &  3     & 0.0629\\\\\n",
       "\\end{tabular}\n"
      ],
      "text/markdown": [
       "\n",
       "| <!--/--> | Y | N |\n",
       "|---|---|---|\n",
       "| 4 | 19     | 0.2078 |\n",
       "| 5 |  9     | 0.1382 |\n",
       "| 6 |  4     | 0.0540 |\n",
       "| 7 |  3     | 0.1292 |\n",
       "| 8 |  1     | 0.0503 |\n",
       "| 9 |  3     | 0.0629 |\n",
       "\n"
      ],
      "text/plain": [
       "  Y  N     \n",
       "4 19 0.2078\n",
       "5  9 0.1382\n",
       "6  4 0.0540\n",
       "7  3 0.1292\n",
       "8  1 0.0503\n",
       "9  3 0.0629"
      ]
     },
     "metadata": {},
     "output_type": "display_data"
    },
    {
     "data": {
      "text/html": [
       "<ol class=list-inline>\n",
       "\t<li>9</li>\n",
       "\t<li>2</li>\n",
       "</ol>\n"
      ],
      "text/latex": [
       "\\begin{enumerate*}\n",
       "\\item 9\n",
       "\\item 2\n",
       "\\end{enumerate*}\n"
      ],
      "text/markdown": [
       "1. 9\n",
       "2. 2\n",
       "\n",
       "\n"
      ],
      "text/plain": [
       "[1] 9 2"
      ]
     },
     "metadata": {},
     "output_type": "display_data"
    }
   ],
   "source": [
    "# Table 6.6 Number of Injury Incidents Y and Proportion of Total Flights N\n",
    "\n",
    "dat <- read.table(\"airlines.txt\",header=T)\n",
    "head(dat)\n",
    "tail(dat)\n",
    "dim(dat)"
   ]
  },
  {
   "cell_type": "markdown",
   "metadata": {},
   "source": [
    "Figure 6.10 Plot of Y against N (174 page)"
   ]
  },
  {
   "cell_type": "code",
   "execution_count": 9,
   "metadata": {},
   "outputs": [
    {
     "data": {
      "image/png": "[encoded data removed]",
      "text/plain": [
       "plot without title"
      ]
     },
     "metadata": {},
     "output_type": "display_data"
    }
   ],
   "source": [
    "# plot size\n",
    "options(repr.plot.width = 3, repr.plot.height = 3)\n",
    "\n",
    "ggplot(dat, aes(x = N, y = Y)) + geom_point()"
   ]
  },
  {
   "cell_type": "markdown",
   "metadata": {},
   "source": [
    "### Multiple Linear Regression (173 page)"
   ]
  },
  {
   "cell_type": "markdown",
   "metadata": {},
   "source": [
    "yi = β0 + β1ni + εi"
   ]
  },
  {
   "cell_type": "code",
   "execution_count": 10,
   "metadata": {},
   "outputs": [
    {
     "data": {
      "text/plain": [
       "\n",
       "Call:\n",
       "lm(formula = Y ~ N)\n",
       "\n",
       "Residuals:\n",
       "    Min      1Q  Median      3Q     Max \n",
       "-5.3351 -2.1281  0.1605  2.2670  5.6382 \n",
       "\n",
       "Coefficients:\n",
       "            Estimate Std. Error t value Pr(>|t|)  \n",
       "(Intercept)  -0.1402     3.1412  -0.045   0.9657  \n",
       "N            64.9755    25.1959   2.579   0.0365 *\n",
       "---\n",
       "Signif. codes:  0 '***' 0.001 '**' 0.01 '*' 0.05 '.' 0.1 ' ' 1\n",
       "\n",
       "Residual standard error: 4.201 on 7 degrees of freedom\n",
       "Multiple R-squared:  0.4872,\tAdjusted R-squared:  0.4139 \n",
       "F-statistic:  6.65 on 1 and 7 DF,  p-value: 0.03654\n"
      ]
     },
     "metadata": {},
     "output_type": "display_data"
    }
   ],
   "source": [
    "# linear model fit\n",
    "attach(dat)\n",
    "res_lm <- lm(Y ~ N)\n",
    "summary(res_lm)"
   ]
  },
  {
   "cell_type": "code",
   "execution_count": 11,
   "metadata": {},
   "outputs": [
    {
     "data": {
      "text/html": [
       "<table>\n",
       "<thead><tr><th></th><th scope=col>Estimate</th><th scope=col>Std. Error</th><th scope=col>t value</th><th scope=col>Pr(&gt;|t|)</th></tr></thead>\n",
       "<tbody>\n",
       "\t<tr><th scope=row>(Intercept)</th><td>-0.1401521</td><td> 3.141233 </td><td>-0.0446169</td><td>0.96565877</td></tr>\n",
       "\t<tr><th scope=row>N</th><td>64.9754768</td><td>25.195869 </td><td> 2.5788147</td><td>0.03653538</td></tr>\n",
       "</tbody>\n",
       "</table>\n"
      ],
      "text/latex": [
       "\\begin{tabular}{r|llll}\n",
       "  & Estimate & Std. Error & t value & Pr(>\\textbar{}t\\textbar{})\\\\\n",
       "\\hline\n",
       "\t(Intercept) & -0.1401521 &  3.141233  & -0.0446169 & 0.96565877\\\\\n",
       "\tN & 64.9754768 & 25.195869  &  2.5788147 & 0.03653538\\\\\n",
       "\\end{tabular}\n"
      ],
      "text/markdown": [
       "\n",
       "| <!--/--> | Estimate | Std. Error | t value | Pr(>|t|) |\n",
       "|---|---|---|---|---|\n",
       "| (Intercept) | -0.1401521 |  3.141233  | -0.0446169 | 0.96565877 |\n",
       "| N | 64.9754768 | 25.195869  |  2.5788147 | 0.03653538 |\n",
       "\n"
      ],
      "text/plain": [
       "            Estimate   Std. Error t value    Pr(>|t|)  \n",
       "(Intercept) -0.1401521  3.141233  -0.0446169 0.96565877\n",
       "N           64.9754768 25.195869   2.5788147 0.03653538"
      ]
     },
     "metadata": {},
     "output_type": "display_data"
    }
   ],
   "source": [
    "# Table 6.7 Estimated Regression coefficients (174 page)\n",
    "summary(res_lm)$coefficient"
   ]
  },
  {
   "cell_type": "code",
   "execution_count": 12,
   "metadata": {},
   "outputs": [
    {
     "name": "stdout",
     "output_type": "stream",
     "text": [
      "R2= 0.487 , sigma= 4.201 , df= 7"
     ]
    }
   ],
   "source": [
    "cat(\"R2=\", round(summary(res_lm)$r.squared, 3),\n",
    "    \", sigma=\" , round(summary(res_lm)$sigma,3),\n",
    "    \", df=\" , summary(res_lm)$df[2])"
   ]
  },
  {
   "cell_type": "markdown",
   "metadata": {},
   "source": [
    "√yi = β′0 + β′1ni + εi (6.8)"
   ]
  },
  {
   "cell_type": "code",
   "execution_count": 13,
   "metadata": {},
   "outputs": [
    {
     "data": {
      "text/plain": [
       "\n",
       "Call:\n",
       "lm(formula = sqrt(Y) ~ N)\n",
       "\n",
       "Residuals:\n",
       "    Min      1Q  Median      3Q     Max \n",
       "-0.9690 -0.7655  0.1906  0.5874  1.0211 \n",
       "\n",
       "Coefficients:\n",
       "            Estimate Std. Error t value Pr(>|t|)  \n",
       "(Intercept)   1.1692     0.5783   2.022   0.0829 .\n",
       "N            11.8564     4.6382   2.556   0.0378 *\n",
       "---\n",
       "Signif. codes:  0 '***' 0.001 '**' 0.01 '*' 0.05 '.' 0.1 ' ' 1\n",
       "\n",
       "Residual standard error: 0.7733 on 7 degrees of freedom\n",
       "Multiple R-squared:  0.4828,\tAdjusted R-squared:  0.4089 \n",
       "F-statistic: 6.535 on 1 and 7 DF,  p-value: 0.03776\n"
      ]
     },
     "metadata": {},
     "output_type": "display_data"
    }
   ],
   "source": [
    "res_root_lm <- lm(sqrt(Y) ~ N)\n",
    "summary(res_root_lm)"
   ]
  },
  {
   "cell_type": "markdown",
   "metadata": {},
   "source": [
    "Figure 6.12 Plot of the standardized residuals from the gression of root(y_i) on n_i\n",
    "(175 page)"
   ]
  },
  {
   "cell_type": "code",
   "execution_count": 15,
   "metadata": {},
   "outputs": [
    {
     "data": {
      "image/png": "[encoded data removed]",
      "text/plain": [
       "plot without title"
      ]
     },
     "metadata": {},
     "output_type": "display_data"
    }
   ],
   "source": [
    "# plot size\n",
    "options(repr.plot.width = 6, repr.plot.height = 3)\n",
    "\n",
    "# residual plot\n",
    "res.dat_root <- cbind(dat, rstandard(res_root_lm))\n",
    "colnames(res.dat_root)[c(3)] <- \"r_i\"\n",
    "\n",
    "ggplot(res.dat_root, aes(x = N, y = r_i)) + geom_point()"
   ]
  },
  {
   "cell_type": "markdown",
   "metadata": {},
   "source": [
    "### Example: Industrial Establishments data"
   ]
  },
  {
   "cell_type": "markdown",
   "metadata": {},
   "source": [
    "### 3-1. Loading data-set"
   ]
  },
  {
   "cell_type": "code",
   "execution_count": 16,
   "metadata": {},
   "outputs": [
    {
     "data": {
      "text/html": [
       "<table>\n",
       "<thead><tr><th scope=col>X</th><th scope=col>Y</th></tr></thead>\n",
       "<tbody>\n",
       "\t<tr><td>294</td><td>30 </td></tr>\n",
       "\t<tr><td>247</td><td>32 </td></tr>\n",
       "\t<tr><td>267</td><td>37 </td></tr>\n",
       "\t<tr><td>358</td><td>44 </td></tr>\n",
       "\t<tr><td>423</td><td>47 </td></tr>\n",
       "\t<tr><td>311</td><td>49 </td></tr>\n",
       "</tbody>\n",
       "</table>\n"
      ],
      "text/latex": [
       "\\begin{tabular}{r|ll}\n",
       " X & Y\\\\\n",
       "\\hline\n",
       "\t 294 & 30 \\\\\n",
       "\t 247 & 32 \\\\\n",
       "\t 267 & 37 \\\\\n",
       "\t 358 & 44 \\\\\n",
       "\t 423 & 47 \\\\\n",
       "\t 311 & 49 \\\\\n",
       "\\end{tabular}\n"
      ],
      "text/markdown": [
       "\n",
       "| X | Y |\n",
       "|---|---|\n",
       "| 294 | 30  |\n",
       "| 247 | 32  |\n",
       "| 267 | 37  |\n",
       "| 358 | 44  |\n",
       "| 423 | 47  |\n",
       "| 311 | 49  |\n",
       "\n"
      ],
      "text/plain": [
       "  X   Y \n",
       "1 294 30\n",
       "2 247 32\n",
       "3 267 37\n",
       "4 358 44\n",
       "5 423 47\n",
       "6 311 49"
      ]
     },
     "metadata": {},
     "output_type": "display_data"
    },
    {
     "data": {
      "text/html": [
       "<table>\n",
       "<thead><tr><th></th><th scope=col>X</th><th scope=col>Y</th></tr></thead>\n",
       "<tbody>\n",
       "\t<tr><th scope=row>22</th><td>1025</td><td>160 </td></tr>\n",
       "\t<tr><th scope=row>23</th><td>1021</td><td> 97 </td></tr>\n",
       "\t<tr><th scope=row>24</th><td>1200</td><td>180 </td></tr>\n",
       "\t<tr><th scope=row>25</th><td>1250</td><td>112 </td></tr>\n",
       "\t<tr><th scope=row>26</th><td>1500</td><td>210 </td></tr>\n",
       "\t<tr><th scope=row>27</th><td>1650</td><td>135 </td></tr>\n",
       "</tbody>\n",
       "</table>\n"
      ],
      "text/latex": [
       "\\begin{tabular}{r|ll}\n",
       "  & X & Y\\\\\n",
       "\\hline\n",
       "\t22 & 1025 & 160 \\\\\n",
       "\t23 & 1021 &  97 \\\\\n",
       "\t24 & 1200 & 180 \\\\\n",
       "\t25 & 1250 & 112 \\\\\n",
       "\t26 & 1500 & 210 \\\\\n",
       "\t27 & 1650 & 135 \\\\\n",
       "\\end{tabular}\n"
      ],
      "text/markdown": [
       "\n",
       "| <!--/--> | X | Y |\n",
       "|---|---|---|\n",
       "| 22 | 1025 | 160  |\n",
       "| 23 | 1021 |  97  |\n",
       "| 24 | 1200 | 180  |\n",
       "| 25 | 1250 | 112  |\n",
       "| 26 | 1500 | 210  |\n",
       "| 27 | 1650 | 135  |\n",
       "\n"
      ],
      "text/plain": [
       "   X    Y  \n",
       "22 1025 160\n",
       "23 1021  97\n",
       "24 1200 180\n",
       "25 1250 112\n",
       "26 1500 210\n",
       "27 1650 135"
      ]
     },
     "metadata": {},
     "output_type": "display_data"
    },
    {
     "data": {
      "text/html": [
       "<ol class=list-inline>\n",
       "\t<li>27</li>\n",
       "\t<li>2</li>\n",
       "</ol>\n"
      ],
      "text/latex": [
       "\\begin{enumerate*}\n",
       "\\item 27\n",
       "\\item 2\n",
       "\\end{enumerate*}\n"
      ],
      "text/markdown": [
       "1. 27\n",
       "2. 2\n",
       "\n",
       "\n"
      ],
      "text/plain": [
       "[1] 27  2"
      ]
     },
     "metadata": {},
     "output_type": "display_data"
    }
   ],
   "source": [
    "# Table 6.9 Number of Supervised Workers and Supervisors in 27 Industrial Establishments\n",
    "dat <- read.table(\"industry.txt\",header=T)\n",
    "head(dat)\n",
    "tail(dat)\n",
    "dim(dat)"
   ]
  },
  {
   "cell_type": "markdown",
   "metadata": {},
   "source": [
    "Figure 6.13 Numer of supervisors (Y ) versus number supervised (X) (177 page)"
   ]
  },
  {
   "cell_type": "code",
   "execution_count": 17,
   "metadata": {},
   "outputs": [
    {
     "data": {
      "image/png": "[encoded data removed]",
      "text/plain": [
       "plot without title"
      ]
     },
     "metadata": {},
     "output_type": "display_data"
    }
   ],
   "source": [
    "# plot size\n",
    "options(repr.plot.width = 3, repr.plot.height = 3)\n",
    "\n",
    "ggplot(dat, aes(x = X, y = Y)) + geom_point()"
   ]
  },
  {
   "cell_type": "markdown",
   "metadata": {},
   "source": [
    "### 3-2. Multiple Linear Regression (176 page)"
   ]
  },
  {
   "cell_type": "markdown",
   "metadata": {},
   "source": [
    "yi = β0 + β1xi + εi (6.9)"
   ]
  },
  {
   "cell_type": "code",
   "execution_count": 18,
   "metadata": {},
   "outputs": [
    {
     "name": "stderr",
     "output_type": "stream",
     "text": [
      "The following object is masked from dat (pos = 3):\n",
      "\n",
      "    Y\n",
      "\n"
     ]
    },
    {
     "data": {
      "text/plain": [
       "\n",
       "Call:\n",
       "lm(formula = Y ~ X)\n",
       "\n",
       "Residuals:\n",
       "    Min      1Q  Median      3Q     Max \n",
       "-53.294  -9.298  -5.579  14.394  39.119 \n",
       "\n",
       "Coefficients:\n",
       "            Estimate Std. Error t value Pr(>|t|)    \n",
       "(Intercept) 14.44806    9.56201   1.511    0.143    \n",
       "X            0.10536    0.01133   9.303 1.35e-09 ***\n",
       "---\n",
       "Signif. codes:  0 '***' 0.001 '**' 0.01 '*' 0.05 '.' 0.1 ' ' 1\n",
       "\n",
       "Residual standard error: 21.73 on 25 degrees of freedom\n",
       "Multiple R-squared:  0.7759,\tAdjusted R-squared:  0.7669 \n",
       "F-statistic: 86.54 on 1 and 25 DF,  p-value: 1.35e-09\n"
      ]
     },
     "metadata": {},
     "output_type": "display_data"
    }
   ],
   "source": [
    "# linear model fit\n",
    "attach(dat)\n",
    "res_lm <- lm(Y ~ X)\n",
    "summary(res_lm)"
   ]
  },
  {
   "cell_type": "markdown",
   "metadata": {},
   "source": [
    "Figure 6.14 (177 page)"
   ]
  },
  {
   "cell_type": "code",
   "execution_count": 19,
   "metadata": {},
   "outputs": [
    {
     "data": {
      "image/png": "[encoded data removed]",
      "text/plain": [
       "plot without title"
      ]
     },
     "metadata": {},
     "output_type": "display_data"
    }
   ],
   "source": [
    "# plot size\n",
    "options(repr.plot.width = 6, repr.plot.height = 3)\n",
    "\n",
    "# residual plot\n",
    "res.dat <- cbind(dat, rstandard(res_lm))\n",
    "colnames(res.dat)[c(3)] <- \"r_i\"\n",
    "\n",
    "ggplot(res.dat, aes(x = X, y = r_i)) + geom_point()"
   ]
  },
  {
   "cell_type": "markdown",
   "metadata": {},
   "source": [
    "### 3-3. Removerl of Heteroscedasticity"
   ]
  },
  {
   "cell_type": "code",
   "execution_count": 20,
   "metadata": {},
   "outputs": [],
   "source": [
    "dat$Y_new <- dat$Y / dat$X\n",
    "dat$X_new <- 1 / dat$X"
   ]
  },
  {
   "cell_type": "code",
   "execution_count": 21,
   "metadata": {},
   "outputs": [
    {
     "data": {
      "text/plain": [
       "\n",
       "Call:\n",
       "lm(formula = Y_new ~ X_new, data = dat)\n",
       "\n",
       "Residuals:\n",
       "      Min        1Q    Median        3Q       Max \n",
       "-0.041477 -0.013852 -0.004998  0.024671  0.035427 \n",
       "\n",
       "Coefficients:\n",
       "            Estimate Std. Error t value Pr(>|t|)    \n",
       "(Intercept) 0.120990   0.008999  13.445 6.04e-13 ***\n",
       "X_new       3.803296   4.569745   0.832    0.413    \n",
       "---\n",
       "Signif. codes:  0 '***' 0.001 '**' 0.01 '*' 0.05 '.' 0.1 ' ' 1\n",
       "\n",
       "Residual standard error: 0.02266 on 25 degrees of freedom\n",
       "Multiple R-squared:  0.02696,\tAdjusted R-squared:  -0.01196 \n",
       "F-statistic: 0.6927 on 1 and 25 DF,  p-value: 0.4131\n"
      ]
     },
     "metadata": {},
     "output_type": "display_data"
    }
   ],
   "source": [
    "# linear model fit\n",
    "res_lm_new <- lm(Y_new ~ X_new,data=dat)\n",
    "summary(res_lm_new)"
   ]
  },
  {
   "cell_type": "markdown",
   "metadata": {},
   "source": [
    "### 3-4.  Logarithmic transformation of data (180 page)"
   ]
  },
  {
   "cell_type": "markdown",
   "metadata": {},
   "source": [
    "ln(yi) = β0 + β1xi + εi (6.16)"
   ]
  },
  {
   "cell_type": "code",
   "execution_count": 22,
   "metadata": {},
   "outputs": [
    {
     "data": {
      "text/plain": [
       "\n",
       "Call:\n",
       "lm(formula = log(Y) ~ X, data = dat)\n",
       "\n",
       "Residuals:\n",
       "     Min       1Q   Median       3Q      Max \n",
       "-0.59648 -0.16578  0.00244  0.17481  0.34964 \n",
       "\n",
       "Coefficients:\n",
       "             Estimate Std. Error t value Pr(>|t|)    \n",
       "(Intercept) 3.5150232  0.1110670  31.648  < 2e-16 ***\n",
       "X           0.0012041  0.0001316   9.153 1.85e-09 ***\n",
       "---\n",
       "Signif. codes:  0 '***' 0.001 '**' 0.01 '*' 0.05 '.' 0.1 ' ' 1\n",
       "\n",
       "Residual standard error: 0.2524 on 25 degrees of freedom\n",
       "Multiple R-squared:  0.7702,\tAdjusted R-squared:  0.761 \n",
       "F-statistic: 83.77 on 1 and 25 DF,  p-value: 1.855e-09\n"
      ]
     },
     "metadata": {},
     "output_type": "display_data"
    }
   ],
   "source": [
    "# linear model fit\n",
    "res_ln_lm <- lm(log(Y) ~ X, data=dat)\n",
    "summary(res_ln_lm)"
   ]
  },
  {
   "cell_type": "markdown",
   "metadata": {},
   "source": [
    "Figure 6.17 (181 page)"
   ]
  },
  {
   "cell_type": "code",
   "execution_count": 23,
   "metadata": {},
   "outputs": [
    {
     "data": {
      "image/png": "[encoded data removed]",
      "text/plain": [
       "plot without title"
      ]
     },
     "metadata": {},
     "output_type": "display_data"
    }
   ],
   "source": [
    "# plot size\n",
    "options(repr.plot.width = 6, repr.plot.height = 3)\n",
    "\n",
    "# residual plot\n",
    "res.dat <- cbind(dat, rstandard(res_ln_lm))\n",
    "colnames(res.dat)[c(5)] <- \"r_i\"\n",
    "\n",
    "ggplot(res.dat, aes(x = X, y = r_i)) + geom_point()"
   ]
  },
  {
   "cell_type": "markdown",
   "metadata": {},
   "source": [
    "ln(yi) = β0 + β1xi + β2x^2i + εi (6.17)"
   ]
  },
  {
   "cell_type": "code",
   "execution_count": 24,
   "metadata": {},
   "outputs": [
    {
     "data": {
      "text/plain": [
       "\n",
       "Call:\n",
       "lm(formula = log(Y) ~ X + X2, data = dat)\n",
       "\n",
       "Residuals:\n",
       "     Min       1Q   Median       3Q      Max \n",
       "-0.30589 -0.11705 -0.02707  0.17593  0.30657 \n",
       "\n",
       "Coefficients:\n",
       "              Estimate Std. Error t value Pr(>|t|)    \n",
       "(Intercept)  2.852e+00  1.566e-01  18.205 1.50e-15 ***\n",
       "X            3.113e-03  3.989e-04   7.803 4.90e-08 ***\n",
       "X2          -1.102e-06  2.238e-07  -4.925 5.03e-05 ***\n",
       "---\n",
       "Signif. codes:  0 '***' 0.001 '**' 0.01 '*' 0.05 '.' 0.1 ' ' 1\n",
       "\n",
       "Residual standard error: 0.1817 on 24 degrees of freedom\n",
       "Multiple R-squared:  0.8857,\tAdjusted R-squared:  0.8762 \n",
       "F-statistic: 92.98 on 2 and 24 DF,  p-value: 4.976e-12\n"
      ]
     },
     "metadata": {},
     "output_type": "display_data"
    }
   ],
   "source": [
    "# linear model fit\n",
    "dat$X2 <- dat$X^2\n",
    "\n",
    "res_ln_lm_2 <- lm(log(Y) ~ X + X2, data=dat)\n",
    "summary(res_ln_lm_2)"
   ]
  },
  {
   "cell_type": "markdown",
   "metadata": {},
   "source": [
    "Figure 6.18 (182 page)"
   ]
  },
  {
   "cell_type": "code",
   "execution_count": 25,
   "metadata": {},
   "outputs": [
    {
     "data": {
      "image/png": "[encoded data removed]",
      "text/plain": [
       "plot without title"
      ]
     },
     "metadata": {},
     "output_type": "display_data"
    }
   ],
   "source": [
    "# plot size\n",
    "options(repr.plot.width = 6, repr.plot.height = 3)\n",
    "\n",
    "# residual plot\n",
    "res.dat <- cbind(dat, rstandard(res_ln_lm_2), predict(res_ln_lm_2))\n",
    "colnames(res.dat)[c(6,7)] <- c(\"r_i\", \"Predicted\")\n",
    "\n",
    "ggplot(res.dat, aes(x = Predicted, y = r_i)) + geom_point()"
   ]
  },
  {
   "cell_type": "markdown",
   "metadata": {},
   "source": [
    "Figure 6.19 (182 page)"
   ]
  },
  {
   "cell_type": "code",
   "execution_count": 26,
   "metadata": {},
   "outputs": [
    {
     "data": {
      "image/png": "[encoded data removed]",
      "text/plain": [
       "plot without title"
      ]
     },
     "metadata": {},
     "output_type": "display_data"
    }
   ],
   "source": [
    "# residual plot\n",
    "ggplot(res.dat, aes(x = X, y = r_i)) + geom_point()"
   ]
  },
  {
   "cell_type": "markdown",
   "metadata": {},
   "source": [
    "Figure 6.20 (183 page)"
   ]
  },
  {
   "cell_type": "code",
   "execution_count": 27,
   "metadata": {},
   "outputs": [
    {
     "data": {
      "image/png": "[encoded data removed]",
      "text/plain": [
       "plot without title"
      ]
     },
     "metadata": {},
     "output_type": "display_data"
    }
   ],
   "source": [
    "#residual plot\n",
    "ggplot(res.dat, aes(x = X2, y = r_i)) + geom_point()"
   ]
  }
 ],
 "metadata": {
  "kernelspec": {
   "display_name": "R",
   "language": "R",
   "name": "ir"
  },
  "language_info": {
   "codemirror_mode": "r",
   "file_extension": ".r",
   "mimetype": "text/x-r-source",
   "name": "R",
   "pygments_lexer": "r",
   "version": "3.6.1"
  }
 },
 "nbformat": 4,
 "nbformat_minor": 4
}
