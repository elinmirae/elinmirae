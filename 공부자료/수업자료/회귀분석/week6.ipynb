{
 "cells": [
  {
   "cell_type": "markdown",
   "metadata": {},
   "source": [
    "# Weighted Least Squares"
   ]
  },
  {
   "cell_type": "markdown",
   "metadata": {},
   "source": [
    "## Example: Education Expenditure Data"
   ]
  },
  {
   "cell_type": "markdown",
   "metadata": {},
   "source": [
    "### 1.  Loading data-set"
   ]
  },
  {
   "cell_type": "code",
   "execution_count": 2,
   "metadata": {},
   "outputs": [
    {
     "data": {
      "text/html": [
       "<table>\n",
       "<thead><tr><th scope=col>State</th><th scope=col>Y</th><th scope=col>X1</th><th scope=col>X2</th><th scope=col>X3</th><th scope=col>Region</th></tr></thead>\n",
       "<tbody>\n",
       "\t<tr><td>ME  </td><td>235 </td><td>3944</td><td>325 </td><td>508 </td><td>1   </td></tr>\n",
       "\t<tr><td>NH  </td><td>231 </td><td>4578</td><td>323 </td><td>564 </td><td>1   </td></tr>\n",
       "\t<tr><td>VT  </td><td>270 </td><td>4011</td><td>328 </td><td>322 </td><td>1   </td></tr>\n",
       "\t<tr><td>MA  </td><td>261 </td><td>5233</td><td>305 </td><td>846 </td><td>1   </td></tr>\n",
       "\t<tr><td>RI  </td><td>300 </td><td>4780</td><td>303 </td><td>871 </td><td>1   </td></tr>\n",
       "\t<tr><td>CT  </td><td>317 </td><td>5889</td><td>307 </td><td>774 </td><td>1   </td></tr>\n",
       "</tbody>\n",
       "</table>\n"
      ],
      "text/latex": [
       "\\begin{tabular}{r|llllll}\n",
       " State & Y & X1 & X2 & X3 & Region\\\\\n",
       "\\hline\n",
       "\t ME   & 235  & 3944 & 325  & 508  & 1   \\\\\n",
       "\t NH   & 231  & 4578 & 323  & 564  & 1   \\\\\n",
       "\t VT   & 270  & 4011 & 328  & 322  & 1   \\\\\n",
       "\t MA   & 261  & 5233 & 305  & 846  & 1   \\\\\n",
       "\t RI   & 300  & 4780 & 303  & 871  & 1   \\\\\n",
       "\t CT   & 317  & 5889 & 307  & 774  & 1   \\\\\n",
       "\\end{tabular}\n"
      ],
      "text/markdown": [
       "\n",
       "| State | Y | X1 | X2 | X3 | Region |\n",
       "|---|---|---|---|---|---|\n",
       "| ME   | 235  | 3944 | 325  | 508  | 1    |\n",
       "| NH   | 231  | 4578 | 323  | 564  | 1    |\n",
       "| VT   | 270  | 4011 | 328  | 322  | 1    |\n",
       "| MA   | 261  | 5233 | 305  | 846  | 1    |\n",
       "| RI   | 300  | 4780 | 303  | 871  | 1    |\n",
       "| CT   | 317  | 5889 | 307  | 774  | 1    |\n",
       "\n"
      ],
      "text/plain": [
       "  State Y   X1   X2  X3  Region\n",
       "1 ME    235 3944 325 508 1     \n",
       "2 NH    231 4578 323 564 1     \n",
       "3 VT    270 4011 328 322 1     \n",
       "4 MA    261 5233 305 846 1     \n",
       "5 RI    300 4780 303 871 1     \n",
       "6 CT    317 5889 307 774 1     "
      ]
     },
     "metadata": {},
     "output_type": "display_data"
    },
    {
     "data": {
      "text/html": [
       "<table>\n",
       "<thead><tr><th></th><th scope=col>State</th><th scope=col>Y</th><th scope=col>X1</th><th scope=col>X2</th><th scope=col>X3</th><th scope=col>Region</th></tr></thead>\n",
       "<tbody>\n",
       "\t<tr><th scope=row>45</th><td>NV  </td><td>291 </td><td>5560</td><td>330 </td><td>809 </td><td>4   </td></tr>\n",
       "\t<tr><th scope=row>46</th><td>WA  </td><td>312 </td><td>4989</td><td>313 </td><td>726 </td><td>4   </td></tr>\n",
       "\t<tr><th scope=row>47</th><td>OR  </td><td>316 </td><td>4697</td><td>305 </td><td>671 </td><td>4   </td></tr>\n",
       "\t<tr><th scope=row>48</th><td>CA  </td><td>332 </td><td>5438</td><td>307 </td><td>909 </td><td>4   </td></tr>\n",
       "\t<tr><th scope=row>49</th><td>AK  </td><td>546 </td><td>5613</td><td>386 </td><td>484 </td><td>4   </td></tr>\n",
       "\t<tr><th scope=row>50</th><td>HI  </td><td>311 </td><td>5309</td><td>333 </td><td>831 </td><td>4   </td></tr>\n",
       "</tbody>\n",
       "</table>\n"
      ],
      "text/latex": [
       "\\begin{tabular}{r|llllll}\n",
       "  & State & Y & X1 & X2 & X3 & Region\\\\\n",
       "\\hline\n",
       "\t45 & NV   & 291  & 5560 & 330  & 809  & 4   \\\\\n",
       "\t46 & WA   & 312  & 4989 & 313  & 726  & 4   \\\\\n",
       "\t47 & OR   & 316  & 4697 & 305  & 671  & 4   \\\\\n",
       "\t48 & CA   & 332  & 5438 & 307  & 909  & 4   \\\\\n",
       "\t49 & AK   & 546  & 5613 & 386  & 484  & 4   \\\\\n",
       "\t50 & HI   & 311  & 5309 & 333  & 831  & 4   \\\\\n",
       "\\end{tabular}\n"
      ],
      "text/markdown": [
       "\n",
       "| <!--/--> | State | Y | X1 | X2 | X3 | Region |\n",
       "|---|---|---|---|---|---|---|\n",
       "| 45 | NV   | 291  | 5560 | 330  | 809  | 4    |\n",
       "| 46 | WA   | 312  | 4989 | 313  | 726  | 4    |\n",
       "| 47 | OR   | 316  | 4697 | 305  | 671  | 4    |\n",
       "| 48 | CA   | 332  | 5438 | 307  | 909  | 4    |\n",
       "| 49 | AK   | 546  | 5613 | 386  | 484  | 4    |\n",
       "| 50 | HI   | 311  | 5309 | 333  | 831  | 4    |\n",
       "\n"
      ],
      "text/plain": [
       "   State Y   X1   X2  X3  Region\n",
       "45 NV    291 5560 330 809 4     \n",
       "46 WA    312 4989 313 726 4     \n",
       "47 OR    316 4697 305 671 4     \n",
       "48 CA    332 5438 307 909 4     \n",
       "49 AK    546 5613 386 484 4     \n",
       "50 HI    311 5309 333 831 4     "
      ]
     },
     "metadata": {},
     "output_type": "display_data"
    },
    {
     "data": {
      "text/html": [
       "<ol class=list-inline>\n",
       "\t<li>50</li>\n",
       "\t<li>6</li>\n",
       "</ol>\n"
      ],
      "text/latex": [
       "\\begin{enumerate*}\n",
       "\\item 50\n",
       "\\item 6\n",
       "\\end{enumerate*}\n"
      ],
      "text/markdown": [
       "1. 50\n",
       "2. 6\n",
       "\n",
       "\n"
      ],
      "text/plain": [
       "[1] 50  6"
      ]
     },
     "metadata": {},
     "output_type": "display_data"
    }
   ],
   "source": [
    "# Table 7.2 Education Expenditure Data\n",
    "\n",
    "dat <- read.table(\"education_expenditure.txt\",header=T)\n",
    "head(dat)\n",
    "tail(dat)\n",
    "dim(dat)"
   ]
  },
  {
   "cell_type": "markdown",
   "metadata": {},
   "source": [
    "### 2. Multiple Linear Regression (197 page)"
   ]
  },
  {
   "cell_type": "markdown",
   "metadata": {},
   "source": [
    "Y = β0 + β1X1 + β1X2 + β1X3 + ε (7.8)\n",
    "-> 일반선형회귀분석"
   ]
  },
  {
   "cell_type": "code",
   "execution_count": 3,
   "metadata": {},
   "outputs": [
    {
     "data": {
      "text/plain": [
       "\n",
       "Call:\n",
       "lm(formula = Y ~ X1 + X2 + X3)\n",
       "\n",
       "Residuals:\n",
       "    Min      1Q  Median      3Q     Max \n",
       "-84.878 -26.878  -3.827  22.246  99.243 \n",
       "\n",
       "Coefficients:\n",
       "              Estimate Std. Error t value Pr(>|t|)    \n",
       "(Intercept) -5.566e+02  1.232e+02  -4.518 4.34e-05 ***\n",
       "X1           7.239e-02  1.160e-02   6.239 1.27e-07 ***\n",
       "X2           1.552e+00  3.147e-01   4.932 1.10e-05 ***\n",
       "X3          -4.269e-03  5.139e-02  -0.083    0.934    \n",
       "---\n",
       "Signif. codes:  0 '***' 0.001 '**' 0.01 '*' 0.05 '.' 0.1 ' ' 1\n",
       "\n",
       "Residual standard error: 40.47 on 46 degrees of freedom\n",
       "Multiple R-squared:  0.5913,\tAdjusted R-squared:  0.5647 \n",
       "F-statistic: 22.19 on 3 and 46 DF,  p-value: 4.945e-09\n"
      ]
     },
     "metadata": {},
     "output_type": "display_data"
    }
   ],
   "source": [
    "# linear model fit\n",
    "attach(dat)\n",
    "res_lm <- lm(Y ~ X1 + X2 + X3)\n",
    "summary(res_lm)"
   ]
  },
  {
   "cell_type": "code",
   "execution_count": 4,
   "metadata": {},
   "outputs": [
    {
     "data": {
      "text/html": [
       "<table>\n",
       "<thead><tr><th></th><th scope=col>Estimate</th><th scope=col>Std. Error</th><th scope=col>t value</th><th scope=col>Pr(&gt;|t|)</th></tr></thead>\n",
       "<tbody>\n",
       "\t<tr><th scope=row>(Intercept)</th><td>-556.568</td><td>123.195 </td><td>-4.518  </td><td>0.000   </td></tr>\n",
       "\t<tr><th scope=row>X1</th><td>   0.072</td><td>  0.012 </td><td> 6.239  </td><td>0.000   </td></tr>\n",
       "\t<tr><th scope=row>X2</th><td>   1.552</td><td>  0.315 </td><td> 4.932  </td><td>0.000   </td></tr>\n",
       "\t<tr><th scope=row>X3</th><td>  -0.004</td><td>  0.051 </td><td>-0.083  </td><td>0.934   </td></tr>\n",
       "</tbody>\n",
       "</table>\n"
      ],
      "text/latex": [
       "\\begin{tabular}{r|llll}\n",
       "  & Estimate & Std. Error & t value & Pr(>\\textbar{}t\\textbar{})\\\\\n",
       "\\hline\n",
       "\t(Intercept) & -556.568 & 123.195  & -4.518   & 0.000   \\\\\n",
       "\tX1 &    0.072 &   0.012  &  6.239   & 0.000   \\\\\n",
       "\tX2 &    1.552 &   0.315  &  4.932   & 0.000   \\\\\n",
       "\tX3 &   -0.004 &   0.051  & -0.083   & 0.934   \\\\\n",
       "\\end{tabular}\n"
      ],
      "text/markdown": [
       "\n",
       "| <!--/--> | Estimate | Std. Error | t value | Pr(>|t|) |\n",
       "|---|---|---|---|---|\n",
       "| (Intercept) | -556.568 | 123.195  | -4.518   | 0.000    |\n",
       "| X1 |    0.072 |   0.012  |  6.239   | 0.000    |\n",
       "| X2 |    1.552 |   0.315  |  4.932   | 0.000    |\n",
       "| X3 |   -0.004 |   0.051  | -0.083   | 0.934    |\n",
       "\n"
      ],
      "text/plain": [
       "            Estimate Std. Error t value Pr(>|t|)\n",
       "(Intercept) -556.568 123.195    -4.518  0.000   \n",
       "X1             0.072   0.012     6.239  0.000   \n",
       "X2             1.552   0.315     4.932  0.000   \n",
       "X3            -0.004   0.051    -0.083  0.934   "
      ]
     },
     "metadata": {},
     "output_type": "display_data"
    }
   ],
   "source": [
    "# Table 7.4 Regression Results: State Expenditures on Education $(n=50)$\n",
    "round(summary(res_lm)$coefficient,3)"
   ]
  },
  {
   "cell_type": "code",
   "execution_count": 5,
   "metadata": {},
   "outputs": [
    {
     "name": "stderr",
     "output_type": "stream",
     "text": [
      "Registered S3 methods overwritten by 'ggplot2':\n",
      "  method         from \n",
      "  [.quosures     rlang\n",
      "  c.quosures     rlang\n",
      "  print.quosures rlang\n",
      "\n",
      "Attaching package: 'dplyr'\n",
      "\n",
      "The following objects are masked from 'package:stats':\n",
      "\n",
      "    filter, lag\n",
      "\n",
      "The following objects are masked from 'package:base':\n",
      "\n",
      "    intersect, setdiff, setequal, union\n",
      "\n",
      "Warning message:\n",
      "\"package 'ggrepel' was built under R version 3.6.3\""
     ]
    },
    {
     "data": {
      "image/png": "[encoded data removed]",
      "text/plain": [
       "plot without title"
      ]
     },
     "metadata": {},
     "output_type": "display_data"
    },
    {
     "data": {
      "image/png": "[encoded data removed]",
      "text/plain": [
       "plot without title"
      ]
     },
     "metadata": {},
     "output_type": "display_data"
    }
   ],
   "source": [
    "# Figure 7.3 Plot of standardized residuals versus fitted values (201 page)\n",
    "library(ggplot2)\n",
    "\n",
    "# plot size\n",
    "options(repr.plot.width = 6, repr.plot.height = 3)\n",
    "\n",
    "# residual plot\n",
    "res.dat <- cbind(dat, rstandard(res_lm), predict(res_lm))\n",
    "colnames(res.dat)[c(7,8)] <- c(\"r_i\", \"Predicted\")\n",
    "\n",
    "# add annotation: \"AK\"\n",
    "library(dplyr)\n",
    "sub.res.dat <- res.dat %>% filter(res.dat$State == \"AK\")\n",
    "\n",
    "# type 1\n",
    "ggplot(res.dat, aes(x = Predicted, y = r_i)) + geom_point() +\n",
    "geom_text(aes(label= State), data=sub.res.dat)\n",
    "\n",
    "# type 2\n",
    "library(ggrepel)\n",
    "ggplot(res.dat, aes(x = Predicted, y = r_i)) + geom_point() +\n",
    "ggrepel::geom_label_repel(aes(label = State), data = sub.res.dat)"
   ]
  },
  {
   "cell_type": "markdown",
   "metadata": {},
   "source": [
    "Figure 7.4 Plot of standardized residuals versus Regions (201 page)"
   ]
  },
  {
   "cell_type": "code",
   "execution_count": 6,
   "metadata": {},
   "outputs": [
    {
     "data": {
      "image/png": "[encoded data removed]",
      "text/plain": [
       "plot without title"
      ]
     },
     "metadata": {},
     "output_type": "display_data"
    }
   ],
   "source": [
    "ggplot(res.dat, aes(x = Region, y = r_i)) + geom_point()"
   ]
  },
  {
   "cell_type": "markdown",
   "metadata": {},
   "source": [
    "Figure 7.5 Plot of standardized residuals versus each of the predictor variable X1 (201 page)"
   ]
  },
  {
   "cell_type": "code",
   "execution_count": 10,
   "metadata": {},
   "outputs": [
    {
     "data": {
      "image/png": "[encoded data removed]",
      "text/plain": [
       "plot without title"
      ]
     },
     "metadata": {},
     "output_type": "display_data"
    },
    {
     "data": {
      "image/png": "[encoded data removed]",
      "text/plain": [
       "plot without title"
      ]
     },
     "metadata": {},
     "output_type": "display_data"
    },
    {
     "data": {
      "image/png": "[encoded data removed]",
      "text/plain": [
       "plot without title"
      ]
     },
     "metadata": {},
     "output_type": "display_data"
    }
   ],
   "source": [
    "g1 <- ggplot(res.dat, aes(x = X1, y = r_i)) + geom_point()\n",
    "g2 <- ggplot(res.dat, aes(x = X2, y = r_i)) + geom_point()\n",
    "g3 <- ggplot(res.dat, aes(x = X3, y = r_i)) + geom_point()\n",
    "\n",
    "g1\n",
    "g2\n",
    "g3"
   ]
  },
  {
   "cell_type": "markdown",
   "metadata": {},
   "source": [
    "Multiple Linear Regression, Alaska Omitted (203 page)"
   ]
  },
  {
   "cell_type": "code",
   "execution_count": 11,
   "metadata": {},
   "outputs": [
    {
     "data": {
      "text/html": [
       "<ol class=list-inline>\n",
       "\t<li>49</li>\n",
       "\t<li>6</li>\n",
       "</ol>\n"
      ],
      "text/latex": [
       "\\begin{enumerate*}\n",
       "\\item 49\n",
       "\\item 6\n",
       "\\end{enumerate*}\n"
      ],
      "text/markdown": [
       "1. 49\n",
       "2. 6\n",
       "\n",
       "\n"
      ],
      "text/plain": [
       "[1] 49  6"
      ]
     },
     "metadata": {},
     "output_type": "display_data"
    }
   ],
   "source": [
    "sub.dat <- dat %>% filter(dat$State != \"AK\")\n",
    "dim(sub.dat)"
   ]
  },
  {
   "cell_type": "code",
   "execution_count": 12,
   "metadata": {},
   "outputs": [
    {
     "name": "stderr",
     "output_type": "stream",
     "text": [
      "The following objects are masked from dat:\n",
      "\n",
      "    Region, State, X1, X2, X3, Y\n",
      "\n"
     ]
    },
    {
     "data": {
      "text/plain": [
       "\n",
       "Call:\n",
       "lm(formula = Y ~ X1 + X2 + X3)\n",
       "\n",
       "Residuals:\n",
       "    Min      1Q  Median      3Q     Max \n",
       "-81.128 -22.154  -7.542  22.542  80.890 \n",
       "\n",
       "Coefficients:\n",
       "              Estimate Std. Error t value Pr(>|t|)    \n",
       "(Intercept) -277.57731  132.42286  -2.096 0.041724 *  \n",
       "X1             0.04829    0.01215   3.976 0.000252 ***\n",
       "X2             0.88693    0.33114   2.678 0.010291 *  \n",
       "X3             0.06679    0.04934   1.354 0.182591    \n",
       "---\n",
       "Signif. codes:  0 '***' 0.001 '**' 0.01 '*' 0.05 '.' 0.1 ' ' 1\n",
       "\n",
       "Residual standard error: 35.81 on 45 degrees of freedom\n",
       "Multiple R-squared:  0.4967,\tAdjusted R-squared:  0.4631 \n",
       "F-statistic:  14.8 on 3 and 45 DF,  p-value: 7.653e-07\n"
      ]
     },
     "metadata": {},
     "output_type": "display_data"
    }
   ],
   "source": [
    " # linear model fit\n",
    "attach(sub.dat)\n",
    "sub.res_lm <- lm(Y ~ X1 + X2 + X3)\n",
    "summary(sub.res_lm)"
   ]
  },
  {
   "cell_type": "code",
   "execution_count": 13,
   "metadata": {},
   "outputs": [
    {
     "data": {
      "text/html": [
       "<table>\n",
       "<thead><tr><th></th><th scope=col>Estimate</th><th scope=col>Std. Error</th><th scope=col>t value</th><th scope=col>Pr(&gt;|t|)</th></tr></thead>\n",
       "<tbody>\n",
       "\t<tr><th scope=row>(Intercept)</th><td>-277.577</td><td>132.423 </td><td>-2.096  </td><td>0.042   </td></tr>\n",
       "\t<tr><th scope=row>X1</th><td>   0.048</td><td>  0.012 </td><td> 3.976  </td><td>0.000   </td></tr>\n",
       "\t<tr><th scope=row>X2</th><td>   0.887</td><td>  0.331 </td><td> 2.678  </td><td>0.010   </td></tr>\n",
       "\t<tr><th scope=row>X3</th><td>   0.067</td><td>  0.049 </td><td> 1.354  </td><td>0.183   </td></tr>\n",
       "</tbody>\n",
       "</table>\n"
      ],
      "text/latex": [
       "\\begin{tabular}{r|llll}\n",
       "  & Estimate & Std. Error & t value & Pr(>\\textbar{}t\\textbar{})\\\\\n",
       "\\hline\n",
       "\t(Intercept) & -277.577 & 132.423  & -2.096   & 0.042   \\\\\n",
       "\tX1 &    0.048 &   0.012  &  3.976   & 0.000   \\\\\n",
       "\tX2 &    0.887 &   0.331  &  2.678   & 0.010   \\\\\n",
       "\tX3 &    0.067 &   0.049  &  1.354   & 0.183   \\\\\n",
       "\\end{tabular}\n"
      ],
      "text/markdown": [
       "\n",
       "| <!--/--> | Estimate | Std. Error | t value | Pr(>|t|) |\n",
       "|---|---|---|---|---|\n",
       "| (Intercept) | -277.577 | 132.423  | -2.096   | 0.042    |\n",
       "| X1 |    0.048 |   0.012  |  3.976   | 0.000    |\n",
       "| X2 |    0.887 |   0.331  |  2.678   | 0.010    |\n",
       "| X3 |    0.067 |   0.049  |  1.354   | 0.183    |\n",
       "\n"
      ],
      "text/plain": [
       "            Estimate Std. Error t value Pr(>|t|)\n",
       "(Intercept) -277.577 132.423    -2.096  0.042   \n",
       "X1             0.048   0.012     3.976  0.000   \n",
       "X2             0.887   0.331     2.678  0.010   \n",
       "X3             0.067   0.049     1.354  0.183   "
      ]
     },
     "metadata": {},
     "output_type": "display_data"
    }
   ],
   "source": [
    "# Table 7.5 Regression Results: State Expenditures on Education $(n=49)$, Alaska Omitted\n",
    "\n",
    "round(summary(sub.res_lm)$coefficient,3)"
   ]
  },
  {
   "cell_type": "markdown",
   "metadata": {},
   "source": [
    "Figure 7.8 Plot of standardized residuals versus fitted values (excluding Alaska) (203 page)"
   ]
  },
  {
   "cell_type": "code",
   "execution_count": 14,
   "metadata": {},
   "outputs": [
    {
     "data": {
      "image/png": "[encoded data removed]",
      "text/plain": [
       "plot without title"
      ]
     },
     "metadata": {},
     "output_type": "display_data"
    }
   ],
   "source": [
    "# residual plot\n",
    "sub.res.dat <- cbind(sub.dat, rstandard(sub.res_lm), predict(sub.res_lm))\n",
    "colnames(sub.res.dat)[c(7,8)] <- c(\"r_i\", \"Predicted\")\n",
    "\n",
    "ggplot(sub.res.dat, aes(x = Predicted, y = r_i)) + geom_point()"
   ]
  },
  {
   "cell_type": "markdown",
   "metadata": {},
   "source": [
    "Figure 7.9 Plot of standardized residuals versus Regions (excluding Alaska) (203 page)"
   ]
  },
  {
   "cell_type": "code",
   "execution_count": 15,
   "metadata": {},
   "outputs": [
    {
     "data": {
      "image/png": "[encoded data removed]",
      "text/plain": [
       "plot without title"
      ]
     },
     "metadata": {},
     "output_type": "display_data"
    }
   ],
   "source": [
    "ggplot(sub.res.dat, aes(x = Region, y = r_i)) + geom_point()"
   ]
  },
  {
   "cell_type": "markdown",
   "metadata": {},
   "source": [
    "Table 7.6 Weights cj for weighted Least squares (204 page)"
   ]
  },
  {
   "cell_type": "code",
   "execution_count": 17,
   "metadata": {},
   "outputs": [],
   "source": [
    "# add residuals\n",
    "sub.res.dat <- cbind(sub.res.dat, summary(sub.res_lm)$residual)\n",
    "colnames(sub.res.dat)[c(9)] <- c(\"residual\")"
   ]
  },
  {
   "cell_type": "code",
   "execution_count": 18,
   "metadata": {},
   "outputs": [
    {
     "data": {
      "text/html": [
       "<table>\n",
       "<thead><tr><th scope=col>State</th><th scope=col>Y</th><th scope=col>X1</th><th scope=col>X2</th><th scope=col>X3</th><th scope=col>Region</th><th scope=col>r_i</th><th scope=col>Predicted</th><th scope=col>residual</th></tr></thead>\n",
       "<tbody>\n",
       "\t<tr><td>ME          </td><td>235         </td><td>3944        </td><td>325         </td><td>508         </td><td>1           </td><td>-0.002112462</td><td>235.0735    </td><td> -0.07353745</td></tr>\n",
       "\t<tr><td>NH          </td><td>231         </td><td>4578        </td><td>323         </td><td>564         </td><td>1           </td><td>-1.041857222</td><td>267.6580    </td><td>-36.65799804</td></tr>\n",
       "\t<tr><td>VT          </td><td>270         </td><td>4011        </td><td>328         </td><td>322         </td><td>1           </td><td> 1.255256208</td><td>228.5467    </td><td> 41.45328444</td></tr>\n",
       "\t<tr><td>MA          </td><td>261         </td><td>5233        </td><td>305         </td><td>846         </td><td>1           </td><td>-1.192622352</td><td>302.1607    </td><td>-41.16069577</td></tr>\n",
       "\t<tr><td>RI          </td><td>300         </td><td>4780        </td><td>303         </td><td>871         </td><td>1           </td><td> 0.594918815</td><td>280.1797    </td><td> 19.82025291</td></tr>\n",
       "\t<tr><td>CT          </td><td>317         </td><td>5889        </td><td>307         </td><td>774         </td><td>1           </td><td>-0.408731307</td><td>330.8060    </td><td>-13.80598235</td></tr>\n",
       "</tbody>\n",
       "</table>\n"
      ],
      "text/latex": [
       "\\begin{tabular}{r|lllllllll}\n",
       " State & Y & X1 & X2 & X3 & Region & r\\_i & Predicted & residual\\\\\n",
       "\\hline\n",
       "\t ME           & 235          & 3944         & 325          & 508          & 1            & -0.002112462 & 235.0735     &  -0.07353745\\\\\n",
       "\t NH           & 231          & 4578         & 323          & 564          & 1            & -1.041857222 & 267.6580     & -36.65799804\\\\\n",
       "\t VT           & 270          & 4011         & 328          & 322          & 1            &  1.255256208 & 228.5467     &  41.45328444\\\\\n",
       "\t MA           & 261          & 5233         & 305          & 846          & 1            & -1.192622352 & 302.1607     & -41.16069577\\\\\n",
       "\t RI           & 300          & 4780         & 303          & 871          & 1            &  0.594918815 & 280.1797     &  19.82025291\\\\\n",
       "\t CT           & 317          & 5889         & 307          & 774          & 1            & -0.408731307 & 330.8060     & -13.80598235\\\\\n",
       "\\end{tabular}\n"
      ],
      "text/markdown": [
       "\n",
       "| State | Y | X1 | X2 | X3 | Region | r_i | Predicted | residual |\n",
       "|---|---|---|---|---|---|---|---|---|\n",
       "| ME           | 235          | 3944         | 325          | 508          | 1            | -0.002112462 | 235.0735     |  -0.07353745 |\n",
       "| NH           | 231          | 4578         | 323          | 564          | 1            | -1.041857222 | 267.6580     | -36.65799804 |\n",
       "| VT           | 270          | 4011         | 328          | 322          | 1            |  1.255256208 | 228.5467     |  41.45328444 |\n",
       "| MA           | 261          | 5233         | 305          | 846          | 1            | -1.192622352 | 302.1607     | -41.16069577 |\n",
       "| RI           | 300          | 4780         | 303          | 871          | 1            |  0.594918815 | 280.1797     |  19.82025291 |\n",
       "| CT           | 317          | 5889         | 307          | 774          | 1            | -0.408731307 | 330.8060     | -13.80598235 |\n",
       "\n"
      ],
      "text/plain": [
       "  State Y   X1   X2  X3  Region r_i          Predicted residual    \n",
       "1 ME    235 3944 325 508 1      -0.002112462 235.0735   -0.07353745\n",
       "2 NH    231 4578 323 564 1      -1.041857222 267.6580  -36.65799804\n",
       "3 VT    270 4011 328 322 1       1.255256208 228.5467   41.45328444\n",
       "4 MA    261 5233 305 846 1      -1.192622352 302.1607  -41.16069577\n",
       "5 RI    300 4780 303 871 1       0.594918815 280.1797   19.82025291\n",
       "6 CT    317 5889 307 774 1      -0.408731307 330.8060  -13.80598235"
      ]
     },
     "metadata": {},
     "output_type": "display_data"
    }
   ],
   "source": [
    "head(sub.res.dat)"
   ]
  },
  {
   "cell_type": "code",
   "execution_count": 19,
   "metadata": {},
   "outputs": [
    {
     "data": {
      "text/html": [
       "<ol class=list-inline>\n",
       "\t<li>9</li>\n",
       "\t<li>12</li>\n",
       "\t<li>16</li>\n",
       "\t<li>12</li>\n",
       "</ol>\n"
      ],
      "text/latex": [
       "\\begin{enumerate*}\n",
       "\\item 9\n",
       "\\item 12\n",
       "\\item 16\n",
       "\\item 12\n",
       "\\end{enumerate*}\n"
      ],
      "text/markdown": [
       "1. 9\n",
       "2. 12\n",
       "3. 16\n",
       "4. 12\n",
       "\n",
       "\n"
      ],
      "text/plain": [
       "[1]  9 12 16 12"
      ]
     },
     "metadata": {},
     "output_type": "display_data"
    }
   ],
   "source": [
    "# n_j by regions\n",
    "sub.n <- as.numeric(table(sub.res.dat$Region))\n",
    "sub.n"
   ]
  },
  {
   "cell_type": "code",
   "execution_count": 20,
   "metadata": {},
   "outputs": [
    {
     "data": {
      "text/html": [
       "1632.5"
      ],
      "text/latex": [
       "1632.5"
      ],
      "text/markdown": [
       "1632.5"
      ],
      "text/plain": [
       "[1] 1632.5"
      ]
     },
     "metadata": {},
     "output_type": "display_data"
    },
    {
     "data": {
      "text/html": [
       "2658.52"
      ],
      "text/latex": [
       "2658.52"
      ],
      "text/markdown": [
       "2658.52"
      ],
      "text/plain": [
       "[1] 2658.52"
      ]
     },
     "metadata": {},
     "output_type": "display_data"
    },
    {
     "data": {
      "text/html": [
       "266.06"
      ],
      "text/latex": [
       "266.06"
      ],
      "text/markdown": [
       "266.06"
      ],
      "text/plain": [
       "[1] 266.06"
      ]
     },
     "metadata": {},
     "output_type": "display_data"
    },
    {
     "data": {
      "text/html": [
       "1036.83"
      ],
      "text/latex": [
       "1036.83"
      ],
      "text/markdown": [
       "1036.83"
      ],
      "text/plain": [
       "[1] 1036.83"
      ]
     },
     "metadata": {},
     "output_type": "display_data"
    }
   ],
   "source": [
    "# sigma^2 by regions\n",
    "sigma2_R1 <- sum((sub.res.dat[which(sub.res.dat$Region==1),\"residual\"])^2)/(sub.n[1]-1)\n",
    "sigma2_R2 <- sum((sub.res.dat[which(sub.res.dat$Region==2),\"residual\"])^2)/(sub.n[2]-1)\n",
    "sigma2_R3 <- sum((sub.res.dat[which(sub.res.dat$Region==3),\"residual\"])^2)/(sub.n[3]-1)\n",
    "sigma2_R4 <- sum((sub.res.dat[which(sub.res.dat$Region==4),\"residual\"])^2)/(sub.n[4]-1)\n",
    "\n",
    "round(sigma2_R1,2)\n",
    "round(sigma2_R2,2)\n",
    "round(sigma2_R3,2)\n",
    "round(sigma2_R4,2)"
   ]
  },
  {
   "cell_type": "code",
   "execution_count": 21,
   "metadata": {},
   "outputs": [
    {
     "data": {
      "text/html": [
       "1.177"
      ],
      "text/latex": [
       "1.177"
      ],
      "text/markdown": [
       "1.177"
      ],
      "text/plain": [
       "[1] 1.177"
      ]
     },
     "metadata": {},
     "output_type": "display_data"
    },
    {
     "data": {
      "text/html": [
       "1.503"
      ],
      "text/latex": [
       "1.503"
      ],
      "text/markdown": [
       "1.503"
      ],
      "text/plain": [
       "[1] 1.503"
      ]
     },
     "metadata": {},
     "output_type": "display_data"
    },
    {
     "data": {
      "text/html": [
       "0.475"
      ],
      "text/latex": [
       "0.475"
      ],
      "text/markdown": [
       "0.475"
      ],
      "text/plain": [
       "[1] 0.475"
      ]
     },
     "metadata": {},
     "output_type": "display_data"
    },
    {
     "data": {
      "text/html": [
       "0.938"
      ],
      "text/latex": [
       "0.938"
      ],
      "text/markdown": [
       "0.938"
      ],
      "text/plain": [
       "[1] 0.938"
      ]
     },
     "metadata": {},
     "output_type": "display_data"
    }
   ],
   "source": [
    "c_1 <- sqrt(sigma2_R1/(sum(sub.res.dat[,\"residual\"]^2)/length(sub.res.dat[,\"residual\"])))\n",
    "c_2 <- sqrt(sigma2_R2/(sum(sub.res.dat[,\"residual\"]^2)/length(sub.res.dat[,\"residual\"])))\n",
    "c_3 <- sqrt(sigma2_R3/(sum(sub.res.dat[,\"residual\"]^2)/length(sub.res.dat[,\"residual\"])))\n",
    "c_4 <- sqrt(sigma2_R4/(sum(sub.res.dat[,\"residual\"]^2)/length(sub.res.dat[,\"residual\"])))\n",
    "\n",
    "round(c_1,3)\n",
    "round(c_2,3)\n",
    "round(c_3,3)\n",
    "round(c_4,3)"
   ]
  },
  {
   "cell_type": "code",
   "execution_count": 22,
   "metadata": {},
   "outputs": [
    {
     "data": {
      "text/html": [
       "<table>\n",
       "<thead><tr><th scope=col>State</th><th scope=col>Y</th><th scope=col>X1</th><th scope=col>X2</th><th scope=col>X3</th><th scope=col>Region</th><th scope=col>r_i</th><th scope=col>Predicted</th><th scope=col>residual</th></tr></thead>\n",
       "<tbody>\n",
       "\t<tr><td>ME          </td><td>235         </td><td>3944        </td><td>325         </td><td>508         </td><td>1           </td><td>-0.002112462</td><td>235.0735    </td><td> -0.07353745</td></tr>\n",
       "\t<tr><td>NH          </td><td>231         </td><td>4578        </td><td>323         </td><td>564         </td><td>1           </td><td>-1.041857222</td><td>267.6580    </td><td>-36.65799804</td></tr>\n",
       "\t<tr><td>VT          </td><td>270         </td><td>4011        </td><td>328         </td><td>322         </td><td>1           </td><td> 1.255256208</td><td>228.5467    </td><td> 41.45328444</td></tr>\n",
       "\t<tr><td>MA          </td><td>261         </td><td>5233        </td><td>305         </td><td>846         </td><td>1           </td><td>-1.192622352</td><td>302.1607    </td><td>-41.16069577</td></tr>\n",
       "\t<tr><td>RI          </td><td>300         </td><td>4780        </td><td>303         </td><td>871         </td><td>1           </td><td> 0.594918815</td><td>280.1797    </td><td> 19.82025291</td></tr>\n",
       "\t<tr><td>CT          </td><td>317         </td><td>5889        </td><td>307         </td><td>774         </td><td>1           </td><td>-0.408731307</td><td>330.8060    </td><td>-13.80598235</td></tr>\n",
       "</tbody>\n",
       "</table>\n"
      ],
      "text/latex": [
       "\\begin{tabular}{r|lllllllll}\n",
       " State & Y & X1 & X2 & X3 & Region & r\\_i & Predicted & residual\\\\\n",
       "\\hline\n",
       "\t ME           & 235          & 3944         & 325          & 508          & 1            & -0.002112462 & 235.0735     &  -0.07353745\\\\\n",
       "\t NH           & 231          & 4578         & 323          & 564          & 1            & -1.041857222 & 267.6580     & -36.65799804\\\\\n",
       "\t VT           & 270          & 4011         & 328          & 322          & 1            &  1.255256208 & 228.5467     &  41.45328444\\\\\n",
       "\t MA           & 261          & 5233         & 305          & 846          & 1            & -1.192622352 & 302.1607     & -41.16069577\\\\\n",
       "\t RI           & 300          & 4780         & 303          & 871          & 1            &  0.594918815 & 280.1797     &  19.82025291\\\\\n",
       "\t CT           & 317          & 5889         & 307          & 774          & 1            & -0.408731307 & 330.8060     & -13.80598235\\\\\n",
       "\\end{tabular}\n"
      ],
      "text/markdown": [
       "\n",
       "| State | Y | X1 | X2 | X3 | Region | r_i | Predicted | residual |\n",
       "|---|---|---|---|---|---|---|---|---|\n",
       "| ME           | 235          | 3944         | 325          | 508          | 1            | -0.002112462 | 235.0735     |  -0.07353745 |\n",
       "| NH           | 231          | 4578         | 323          | 564          | 1            | -1.041857222 | 267.6580     | -36.65799804 |\n",
       "| VT           | 270          | 4011         | 328          | 322          | 1            |  1.255256208 | 228.5467     |  41.45328444 |\n",
       "| MA           | 261          | 5233         | 305          | 846          | 1            | -1.192622352 | 302.1607     | -41.16069577 |\n",
       "| RI           | 300          | 4780         | 303          | 871          | 1            |  0.594918815 | 280.1797     |  19.82025291 |\n",
       "| CT           | 317          | 5889         | 307          | 774          | 1            | -0.408731307 | 330.8060     | -13.80598235 |\n",
       "\n"
      ],
      "text/plain": [
       "  State Y   X1   X2  X3  Region r_i          Predicted residual    \n",
       "1 ME    235 3944 325 508 1      -0.002112462 235.0735   -0.07353745\n",
       "2 NH    231 4578 323 564 1      -1.041857222 267.6580  -36.65799804\n",
       "3 VT    270 4011 328 322 1       1.255256208 228.5467   41.45328444\n",
       "4 MA    261 5233 305 846 1      -1.192622352 302.1607  -41.16069577\n",
       "5 RI    300 4780 303 871 1       0.594918815 280.1797   19.82025291\n",
       "6 CT    317 5889 307 774 1      -0.408731307 330.8060  -13.80598235"
      ]
     },
     "metadata": {},
     "output_type": "display_data"
    }
   ],
   "source": [
    "head(sub.res.dat)"
   ]
  },
  {
   "cell_type": "code",
   "execution_count": 23,
   "metadata": {},
   "outputs": [],
   "source": [
    "sub.res.dat$wts <- NA"
   ]
  },
  {
   "cell_type": "code",
   "execution_count": 24,
   "metadata": {},
   "outputs": [],
   "source": [
    "sub.res.dat[which(sub.res.dat$Region==1), \"wts\"] = c_1\n",
    "sub.res.dat[which(sub.res.dat$Region==2), \"wts\"] = c_2\n",
    "sub.res.dat[which(sub.res.dat$Region==3), \"wts\"] = c_3\n",
    "sub.res.dat[which(sub.res.dat$Region==4), \"wts\"] = c_4"
   ]
  },
  {
   "cell_type": "code",
   "execution_count": 25,
   "metadata": {},
   "outputs": [
    {
     "data": {
      "text/html": [
       "<table>\n",
       "<thead><tr><th scope=col>State</th><th scope=col>Y</th><th scope=col>X1</th><th scope=col>X2</th><th scope=col>X3</th><th scope=col>Region</th><th scope=col>r_i</th><th scope=col>Predicted</th><th scope=col>residual</th><th scope=col>wts</th></tr></thead>\n",
       "<tbody>\n",
       "\t<tr><td>ME          </td><td>235         </td><td>3944        </td><td>325         </td><td>508         </td><td>1           </td><td>-0.002112462</td><td>235.0735    </td><td> -0.07353745</td><td>1.177438    </td></tr>\n",
       "\t<tr><td>NH          </td><td>231         </td><td>4578        </td><td>323         </td><td>564         </td><td>1           </td><td>-1.041857222</td><td>267.6580    </td><td>-36.65799804</td><td>1.177438    </td></tr>\n",
       "\t<tr><td>VT          </td><td>270         </td><td>4011        </td><td>328         </td><td>322         </td><td>1           </td><td> 1.255256208</td><td>228.5467    </td><td> 41.45328444</td><td>1.177438    </td></tr>\n",
       "\t<tr><td>MA          </td><td>261         </td><td>5233        </td><td>305         </td><td>846         </td><td>1           </td><td>-1.192622352</td><td>302.1607    </td><td>-41.16069577</td><td>1.177438    </td></tr>\n",
       "\t<tr><td>RI          </td><td>300         </td><td>4780        </td><td>303         </td><td>871         </td><td>1           </td><td> 0.594918815</td><td>280.1797    </td><td> 19.82025291</td><td>1.177438    </td></tr>\n",
       "\t<tr><td>CT          </td><td>317         </td><td>5889        </td><td>307         </td><td>774         </td><td>1           </td><td>-0.408731307</td><td>330.8060    </td><td>-13.80598235</td><td>1.177438    </td></tr>\n",
       "</tbody>\n",
       "</table>\n"
      ],
      "text/latex": [
       "\\begin{tabular}{r|llllllllll}\n",
       " State & Y & X1 & X2 & X3 & Region & r\\_i & Predicted & residual & wts\\\\\n",
       "\\hline\n",
       "\t ME           & 235          & 3944         & 325          & 508          & 1            & -0.002112462 & 235.0735     &  -0.07353745 & 1.177438    \\\\\n",
       "\t NH           & 231          & 4578         & 323          & 564          & 1            & -1.041857222 & 267.6580     & -36.65799804 & 1.177438    \\\\\n",
       "\t VT           & 270          & 4011         & 328          & 322          & 1            &  1.255256208 & 228.5467     &  41.45328444 & 1.177438    \\\\\n",
       "\t MA           & 261          & 5233         & 305          & 846          & 1            & -1.192622352 & 302.1607     & -41.16069577 & 1.177438    \\\\\n",
       "\t RI           & 300          & 4780         & 303          & 871          & 1            &  0.594918815 & 280.1797     &  19.82025291 & 1.177438    \\\\\n",
       "\t CT           & 317          & 5889         & 307          & 774          & 1            & -0.408731307 & 330.8060     & -13.80598235 & 1.177438    \\\\\n",
       "\\end{tabular}\n"
      ],
      "text/markdown": [
       "\n",
       "| State | Y | X1 | X2 | X3 | Region | r_i | Predicted | residual | wts |\n",
       "|---|---|---|---|---|---|---|---|---|---|\n",
       "| ME           | 235          | 3944         | 325          | 508          | 1            | -0.002112462 | 235.0735     |  -0.07353745 | 1.177438     |\n",
       "| NH           | 231          | 4578         | 323          | 564          | 1            | -1.041857222 | 267.6580     | -36.65799804 | 1.177438     |\n",
       "| VT           | 270          | 4011         | 328          | 322          | 1            |  1.255256208 | 228.5467     |  41.45328444 | 1.177438     |\n",
       "| MA           | 261          | 5233         | 305          | 846          | 1            | -1.192622352 | 302.1607     | -41.16069577 | 1.177438     |\n",
       "| RI           | 300          | 4780         | 303          | 871          | 1            |  0.594918815 | 280.1797     |  19.82025291 | 1.177438     |\n",
       "| CT           | 317          | 5889         | 307          | 774          | 1            | -0.408731307 | 330.8060     | -13.80598235 | 1.177438     |\n",
       "\n"
      ],
      "text/plain": [
       "  State Y   X1   X2  X3  Region r_i          Predicted residual     wts     \n",
       "1 ME    235 3944 325 508 1      -0.002112462 235.0735   -0.07353745 1.177438\n",
       "2 NH    231 4578 323 564 1      -1.041857222 267.6580  -36.65799804 1.177438\n",
       "3 VT    270 4011 328 322 1       1.255256208 228.5467   41.45328444 1.177438\n",
       "4 MA    261 5233 305 846 1      -1.192622352 302.1607  -41.16069577 1.177438\n",
       "5 RI    300 4780 303 871 1       0.594918815 280.1797   19.82025291 1.177438\n",
       "6 CT    317 5889 307 774 1      -0.408731307 330.8060  -13.80598235 1.177438"
      ]
     },
     "metadata": {},
     "output_type": "display_data"
    }
   ],
   "source": [
    "head(sub.res.dat)"
   ]
  },
  {
   "cell_type": "code",
   "execution_count": 26,
   "metadata": {},
   "outputs": [
    {
     "data": {
      "text/html": [
       "<table>\n",
       "<thead><tr><th></th><th scope=col>State</th><th scope=col>Y</th><th scope=col>X1</th><th scope=col>X2</th><th scope=col>X3</th><th scope=col>Region</th><th scope=col>r_i</th><th scope=col>Predicted</th><th scope=col>residual</th><th scope=col>wts</th></tr></thead>\n",
       "<tbody>\n",
       "\t<tr><th scope=row>44</th><td>UT        </td><td>315       </td><td>4005      </td><td>378       </td><td>804       </td><td>4         </td><td> 0.3410517</td><td>304.7970  </td><td> 10.20302 </td><td>0.9383478 </td></tr>\n",
       "\t<tr><th scope=row>45</th><td>NV        </td><td>291       </td><td>5560      </td><td>330       </td><td>809       </td><td>4         </td><td>-1.3627132</td><td>337.6545  </td><td>-46.65453 </td><td>0.9383478 </td></tr>\n",
       "\t<tr><th scope=row>46</th><td>WA        </td><td>312       </td><td>4989      </td><td>313       </td><td>726       </td><td>4         </td><td> 0.6396516</td><td>289.4575  </td><td> 22.54246 </td><td>0.9383478 </td></tr>\n",
       "\t<tr><th scope=row>47</th><td>OR        </td><td>316       </td><td>4697      </td><td>305       </td><td>671       </td><td>4         </td><td> 1.4743146</td><td>264.5869  </td><td> 51.41309 </td><td>0.9383478 </td></tr>\n",
       "\t<tr><th scope=row>48</th><td>CA        </td><td>332       </td><td>5438      </td><td>307       </td><td>909       </td><td>4         </td><td> 0.4086428</td><td>318.0426  </td><td> 13.95743 </td><td>0.9383478 </td></tr>\n",
       "\t<tr><th scope=row>49</th><td>HI        </td><td>311       </td><td>5309      </td><td>333       </td><td>831       </td><td>4         </td><td>-0.5409239</td><td>329.6631  </td><td>-18.66311 </td><td>0.9383478 </td></tr>\n",
       "</tbody>\n",
       "</table>\n"
      ],
      "text/latex": [
       "\\begin{tabular}{r|llllllllll}\n",
       "  & State & Y & X1 & X2 & X3 & Region & r\\_i & Predicted & residual & wts\\\\\n",
       "\\hline\n",
       "\t44 & UT         & 315        & 4005       & 378        & 804        & 4          &  0.3410517 & 304.7970   &  10.20302  & 0.9383478 \\\\\n",
       "\t45 & NV         & 291        & 5560       & 330        & 809        & 4          & -1.3627132 & 337.6545   & -46.65453  & 0.9383478 \\\\\n",
       "\t46 & WA         & 312        & 4989       & 313        & 726        & 4          &  0.6396516 & 289.4575   &  22.54246  & 0.9383478 \\\\\n",
       "\t47 & OR         & 316        & 4697       & 305        & 671        & 4          &  1.4743146 & 264.5869   &  51.41309  & 0.9383478 \\\\\n",
       "\t48 & CA         & 332        & 5438       & 307        & 909        & 4          &  0.4086428 & 318.0426   &  13.95743  & 0.9383478 \\\\\n",
       "\t49 & HI         & 311        & 5309       & 333        & 831        & 4          & -0.5409239 & 329.6631   & -18.66311  & 0.9383478 \\\\\n",
       "\\end{tabular}\n"
      ],
      "text/markdown": [
       "\n",
       "| <!--/--> | State | Y | X1 | X2 | X3 | Region | r_i | Predicted | residual | wts |\n",
       "|---|---|---|---|---|---|---|---|---|---|---|\n",
       "| 44 | UT         | 315        | 4005       | 378        | 804        | 4          |  0.3410517 | 304.7970   |  10.20302  | 0.9383478  |\n",
       "| 45 | NV         | 291        | 5560       | 330        | 809        | 4          | -1.3627132 | 337.6545   | -46.65453  | 0.9383478  |\n",
       "| 46 | WA         | 312        | 4989       | 313        | 726        | 4          |  0.6396516 | 289.4575   |  22.54246  | 0.9383478  |\n",
       "| 47 | OR         | 316        | 4697       | 305        | 671        | 4          |  1.4743146 | 264.5869   |  51.41309  | 0.9383478  |\n",
       "| 48 | CA         | 332        | 5438       | 307        | 909        | 4          |  0.4086428 | 318.0426   |  13.95743  | 0.9383478  |\n",
       "| 49 | HI         | 311        | 5309       | 333        | 831        | 4          | -0.5409239 | 329.6631   | -18.66311  | 0.9383478  |\n",
       "\n"
      ],
      "text/plain": [
       "   State Y   X1   X2  X3  Region r_i        Predicted residual  wts      \n",
       "44 UT    315 4005 378 804 4       0.3410517 304.7970   10.20302 0.9383478\n",
       "45 NV    291 5560 330 809 4      -1.3627132 337.6545  -46.65453 0.9383478\n",
       "46 WA    312 4989 313 726 4       0.6396516 289.4575   22.54246 0.9383478\n",
       "47 OR    316 4697 305 671 4       1.4743146 264.5869   51.41309 0.9383478\n",
       "48 CA    332 5438 307 909 4       0.4086428 318.0426   13.95743 0.9383478\n",
       "49 HI    311 5309 333 831 4      -0.5409239 329.6631  -18.66311 0.9383478"
      ]
     },
     "metadata": {},
     "output_type": "display_data"
    }
   ],
   "source": [
    "tail(sub.res.dat)"
   ]
  },
  {
   "cell_type": "code",
   "execution_count": 27,
   "metadata": {},
   "outputs": [
    {
     "data": {
      "text/plain": [
       "\n",
       "Call:\n",
       "lm(formula = Y ~ X1 + X2 + X3, data = sub.res.dat, weights = 1/(wts)^2)\n",
       "\n",
       "Weighted Residuals:\n",
       "    Min      1Q  Median      3Q     Max \n",
       "-55.498 -23.383  -2.447  26.233  61.651 \n",
       "\n",
       "Coefficients:\n",
       "              Estimate Std. Error t value Pr(>|t|)    \n",
       "(Intercept) -3.160e+02  7.742e+01  -4.082 0.000181 ***\n",
       "X1           6.246e-02  7.803e-03   8.005 3.39e-10 ***\n",
       "X2           8.740e-01  1.984e-01   4.405 6.46e-05 ***\n",
       "X3           2.892e-02  3.399e-02   0.851 0.399351    \n",
       "---\n",
       "Signif. codes:  0 '***' 0.001 '**' 0.01 '*' 0.05 '.' 0.1 ' ' 1\n",
       "\n",
       "Residual standard error: 32.33 on 45 degrees of freedom\n",
       "Multiple R-squared:  0.7605,\tAdjusted R-squared:  0.7445 \n",
       "F-statistic: 47.62 on 3 and 45 DF,  p-value: 5.189e-14\n"
      ]
     },
     "metadata": {},
     "output_type": "display_data"
    }
   ],
   "source": [
    "# Weighted Least Squares\n",
    "sub.res_lm_wls <- lm(Y ~ X1 + X2 + X3, weights=1/(wts)^2, data = sub.res.dat)\n",
    "summary(sub.res_lm_wls)"
   ]
  },
  {
   "cell_type": "code",
   "execution_count": 28,
   "metadata": {},
   "outputs": [
    {
     "data": {
      "text/html": [
       "<table>\n",
       "<thead><tr><th></th><th scope=col>Estimate</th><th scope=col>Std. Error</th><th scope=col>t value</th><th scope=col>Pr(&gt;|t|)</th></tr></thead>\n",
       "<tbody>\n",
       "\t<tr><th scope=row>(Intercept)</th><td>-277.577</td><td>132.423 </td><td>-2.096  </td><td>0.042   </td></tr>\n",
       "\t<tr><th scope=row>X1</th><td>   0.048</td><td>  0.012 </td><td> 3.976  </td><td>0.000   </td></tr>\n",
       "\t<tr><th scope=row>X2</th><td>   0.887</td><td>  0.331 </td><td> 2.678  </td><td>0.010   </td></tr>\n",
       "\t<tr><th scope=row>X3</th><td>   0.067</td><td>  0.049 </td><td> 1.354  </td><td>0.183   </td></tr>\n",
       "</tbody>\n",
       "</table>\n"
      ],
      "text/latex": [
       "\\begin{tabular}{r|llll}\n",
       "  & Estimate & Std. Error & t value & Pr(>\\textbar{}t\\textbar{})\\\\\n",
       "\\hline\n",
       "\t(Intercept) & -277.577 & 132.423  & -2.096   & 0.042   \\\\\n",
       "\tX1 &    0.048 &   0.012  &  3.976   & 0.000   \\\\\n",
       "\tX2 &    0.887 &   0.331  &  2.678   & 0.010   \\\\\n",
       "\tX3 &    0.067 &   0.049  &  1.354   & 0.183   \\\\\n",
       "\\end{tabular}\n"
      ],
      "text/markdown": [
       "\n",
       "| <!--/--> | Estimate | Std. Error | t value | Pr(>|t|) |\n",
       "|---|---|---|---|---|\n",
       "| (Intercept) | -277.577 | 132.423  | -2.096   | 0.042    |\n",
       "| X1 |    0.048 |   0.012  |  3.976   | 0.000    |\n",
       "| X2 |    0.887 |   0.331  |  2.678   | 0.010    |\n",
       "| X3 |    0.067 |   0.049  |  1.354   | 0.183    |\n",
       "\n"
      ],
      "text/plain": [
       "            Estimate Std. Error t value Pr(>|t|)\n",
       "(Intercept) -277.577 132.423    -2.096  0.042   \n",
       "X1             0.048   0.012     3.976  0.000   \n",
       "X2             0.887   0.331     2.678  0.010   \n",
       "X3             0.067   0.049     1.354  0.183   "
      ]
     },
     "metadata": {},
     "output_type": "display_data"
    },
    {
     "data": {
      "text/html": [
       "<table>\n",
       "<thead><tr><th></th><th scope=col>Estimate</th><th scope=col>Std. Error</th><th scope=col>t value</th><th scope=col>Pr(&gt;|t|)</th></tr></thead>\n",
       "<tbody>\n",
       "\t<tr><th scope=row>(Intercept)</th><td>-316.024</td><td>77.419  </td><td>-4.082  </td><td>0.000   </td></tr>\n",
       "\t<tr><th scope=row>X1</th><td>   0.062</td><td> 0.008  </td><td> 8.005  </td><td>0.000   </td></tr>\n",
       "\t<tr><th scope=row>X2</th><td>   0.874</td><td> 0.198  </td><td> 4.405  </td><td>0.000   </td></tr>\n",
       "\t<tr><th scope=row>X3</th><td>   0.029</td><td> 0.034  </td><td> 0.851  </td><td>0.399   </td></tr>\n",
       "</tbody>\n",
       "</table>\n"
      ],
      "text/latex": [
       "\\begin{tabular}{r|llll}\n",
       "  & Estimate & Std. Error & t value & Pr(>\\textbar{}t\\textbar{})\\\\\n",
       "\\hline\n",
       "\t(Intercept) & -316.024 & 77.419   & -4.082   & 0.000   \\\\\n",
       "\tX1 &    0.062 &  0.008   &  8.005   & 0.000   \\\\\n",
       "\tX2 &    0.874 &  0.198   &  4.405   & 0.000   \\\\\n",
       "\tX3 &    0.029 &  0.034   &  0.851   & 0.399   \\\\\n",
       "\\end{tabular}\n"
      ],
      "text/markdown": [
       "\n",
       "| <!--/--> | Estimate | Std. Error | t value | Pr(>|t|) |\n",
       "|---|---|---|---|---|\n",
       "| (Intercept) | -316.024 | 77.419   | -4.082   | 0.000    |\n",
       "| X1 |    0.062 |  0.008   |  8.005   | 0.000    |\n",
       "| X2 |    0.874 |  0.198   |  4.405   | 0.000    |\n",
       "| X3 |    0.029 |  0.034   |  0.851   | 0.399    |\n",
       "\n"
      ],
      "text/plain": [
       "            Estimate Std. Error t value Pr(>|t|)\n",
       "(Intercept) -316.024 77.419     -4.082  0.000   \n",
       "X1             0.062  0.008      8.005  0.000   \n",
       "X2             0.874  0.198      4.405  0.000   \n",
       "X3             0.029  0.034      0.851  0.399   "
      ]
     },
     "metadata": {},
     "output_type": "display_data"
    }
   ],
   "source": [
    "# Table 7.7 WLS coefficients for Education Data (n=49), Alaska Omitted\n",
    "round(summary(sub.res_lm)$coefficients,3)\n",
    "round(summary(sub.res_lm_wls)$coefficients,3)"
   ]
  },
  {
   "cell_type": "markdown",
   "metadata": {},
   "source": [
    "Figure 7.10 Standardized residuals versus fitted values for WLS solution (205 page)"
   ]
  },
  {
   "cell_type": "code",
   "execution_count": 29,
   "metadata": {},
   "outputs": [
    {
     "data": {
      "text/html": [
       "<table>\n",
       "<thead><tr><th scope=col>State</th><th scope=col>Y</th><th scope=col>X1</th><th scope=col>X2</th><th scope=col>X3</th><th scope=col>Region</th><th scope=col>r_i</th><th scope=col>Predicted</th><th scope=col>residual</th><th scope=col>wts</th></tr></thead>\n",
       "<tbody>\n",
       "\t<tr><td>ME          </td><td>235         </td><td>3944        </td><td>325         </td><td>508         </td><td>1           </td><td>-0.002112462</td><td>235.0735    </td><td> -0.07353745</td><td>1.177438    </td></tr>\n",
       "\t<tr><td>NH          </td><td>231         </td><td>4578        </td><td>323         </td><td>564         </td><td>1           </td><td>-1.041857222</td><td>267.6580    </td><td>-36.65799804</td><td>1.177438    </td></tr>\n",
       "\t<tr><td>VT          </td><td>270         </td><td>4011        </td><td>328         </td><td>322         </td><td>1           </td><td> 1.255256208</td><td>228.5467    </td><td> 41.45328444</td><td>1.177438    </td></tr>\n",
       "\t<tr><td>MA          </td><td>261         </td><td>5233        </td><td>305         </td><td>846         </td><td>1           </td><td>-1.192622352</td><td>302.1607    </td><td>-41.16069577</td><td>1.177438    </td></tr>\n",
       "\t<tr><td>RI          </td><td>300         </td><td>4780        </td><td>303         </td><td>871         </td><td>1           </td><td> 0.594918815</td><td>280.1797    </td><td> 19.82025291</td><td>1.177438    </td></tr>\n",
       "\t<tr><td>CT          </td><td>317         </td><td>5889        </td><td>307         </td><td>774         </td><td>1           </td><td>-0.408731307</td><td>330.8060    </td><td>-13.80598235</td><td>1.177438    </td></tr>\n",
       "</tbody>\n",
       "</table>\n"
      ],
      "text/latex": [
       "\\begin{tabular}{r|llllllllll}\n",
       " State & Y & X1 & X2 & X3 & Region & r\\_i & Predicted & residual & wts\\\\\n",
       "\\hline\n",
       "\t ME           & 235          & 3944         & 325          & 508          & 1            & -0.002112462 & 235.0735     &  -0.07353745 & 1.177438    \\\\\n",
       "\t NH           & 231          & 4578         & 323          & 564          & 1            & -1.041857222 & 267.6580     & -36.65799804 & 1.177438    \\\\\n",
       "\t VT           & 270          & 4011         & 328          & 322          & 1            &  1.255256208 & 228.5467     &  41.45328444 & 1.177438    \\\\\n",
       "\t MA           & 261          & 5233         & 305          & 846          & 1            & -1.192622352 & 302.1607     & -41.16069577 & 1.177438    \\\\\n",
       "\t RI           & 300          & 4780         & 303          & 871          & 1            &  0.594918815 & 280.1797     &  19.82025291 & 1.177438    \\\\\n",
       "\t CT           & 317          & 5889         & 307          & 774          & 1            & -0.408731307 & 330.8060     & -13.80598235 & 1.177438    \\\\\n",
       "\\end{tabular}\n"
      ],
      "text/markdown": [
       "\n",
       "| State | Y | X1 | X2 | X3 | Region | r_i | Predicted | residual | wts |\n",
       "|---|---|---|---|---|---|---|---|---|---|\n",
       "| ME           | 235          | 3944         | 325          | 508          | 1            | -0.002112462 | 235.0735     |  -0.07353745 | 1.177438     |\n",
       "| NH           | 231          | 4578         | 323          | 564          | 1            | -1.041857222 | 267.6580     | -36.65799804 | 1.177438     |\n",
       "| VT           | 270          | 4011         | 328          | 322          | 1            |  1.255256208 | 228.5467     |  41.45328444 | 1.177438     |\n",
       "| MA           | 261          | 5233         | 305          | 846          | 1            | -1.192622352 | 302.1607     | -41.16069577 | 1.177438     |\n",
       "| RI           | 300          | 4780         | 303          | 871          | 1            |  0.594918815 | 280.1797     |  19.82025291 | 1.177438     |\n",
       "| CT           | 317          | 5889         | 307          | 774          | 1            | -0.408731307 | 330.8060     | -13.80598235 | 1.177438     |\n",
       "\n"
      ],
      "text/plain": [
       "  State Y   X1   X2  X3  Region r_i          Predicted residual     wts     \n",
       "1 ME    235 3944 325 508 1      -0.002112462 235.0735   -0.07353745 1.177438\n",
       "2 NH    231 4578 323 564 1      -1.041857222 267.6580  -36.65799804 1.177438\n",
       "3 VT    270 4011 328 322 1       1.255256208 228.5467   41.45328444 1.177438\n",
       "4 MA    261 5233 305 846 1      -1.192622352 302.1607  -41.16069577 1.177438\n",
       "5 RI    300 4780 303 871 1       0.594918815 280.1797   19.82025291 1.177438\n",
       "6 CT    317 5889 307 774 1      -0.408731307 330.8060  -13.80598235 1.177438"
      ]
     },
     "metadata": {},
     "output_type": "display_data"
    }
   ],
   "source": [
    "head(sub.res.dat)"
   ]
  },
  {
   "cell_type": "code",
   "execution_count": 30,
   "metadata": {},
   "outputs": [
    {
     "data": {
      "image/png": "[encoded data removed]",
      "text/plain": [
       "plot without title"
      ]
     },
     "metadata": {},
     "output_type": "display_data"
    }
   ],
   "source": [
    "# residual plot\n",
    "sub.res.dat$r_i <- rstandard(sub.res_lm_wls)\n",
    "sub.res.dat$Predicted <- predict(sub.res_lm_wls)\n",
    "\n",
    "ggplot(sub.res.dat, aes(x = Predicted, y = r_i)) + geom_point()"
   ]
  },
  {
   "cell_type": "markdown",
   "metadata": {},
   "source": [
    "Figure 7.11 Standardized residuals by geographic region for WLS solution (205 page)"
   ]
  },
  {
   "cell_type": "code",
   "execution_count": 31,
   "metadata": {},
   "outputs": [
    {
     "data": {
      "image/png": "[encoded data removed]",
      "text/plain": [
       "plot without title"
      ]
     },
     "metadata": {},
     "output_type": "display_data"
    }
   ],
   "source": [
    "ggplot(sub.res.dat, aes(x = Region, y = r_i)) + geom_point()"
   ]
  }
 ],
 "metadata": {
  "kernelspec": {
   "display_name": "R",
   "language": "R",
   "name": "ir"
  },
  "language_info": {
   "codemirror_mode": "r",
   "file_extension": ".r",
   "mimetype": "text/x-r-source",
   "name": "R",
   "pygments_lexer": "r",
   "version": "3.6.1"
  }
 },
 "nbformat": 4,
 "nbformat_minor": 4
}
