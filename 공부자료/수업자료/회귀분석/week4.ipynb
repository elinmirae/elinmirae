{
 "cells": [
  {
   "cell_type": "markdown",
   "metadata": {},
   "source": [
    "# 1.  Salary Survey data"
   ]
  },
  {
   "cell_type": "markdown",
   "metadata": {},
   "source": [
    "## 1-1. Loading data"
   ]
  },
  {
   "cell_type": "code",
   "execution_count": 1,
   "metadata": {},
   "outputs": [
    {
     "data": {
      "text/html": [
       "<table>\n",
       "<thead><tr><th scope=col>S</th><th scope=col>X</th><th scope=col>E</th><th scope=col>M</th></tr></thead>\n",
       "<tbody>\n",
       "\t<tr><td>13876</td><td>1    </td><td>1    </td><td>1    </td></tr>\n",
       "\t<tr><td>11608</td><td>1    </td><td>3    </td><td>0    </td></tr>\n",
       "\t<tr><td>18701</td><td>1    </td><td>3    </td><td>1    </td></tr>\n",
       "\t<tr><td>11283</td><td>1    </td><td>2    </td><td>0    </td></tr>\n",
       "\t<tr><td>11767</td><td>1    </td><td>3    </td><td>0    </td></tr>\n",
       "\t<tr><td>20872</td><td>2    </td><td>2    </td><td>1    </td></tr>\n",
       "</tbody>\n",
       "</table>\n"
      ],
      "text/latex": [
       "\\begin{tabular}{r|llll}\n",
       " S & X & E & M\\\\\n",
       "\\hline\n",
       "\t 13876 & 1     & 1     & 1    \\\\\n",
       "\t 11608 & 1     & 3     & 0    \\\\\n",
       "\t 18701 & 1     & 3     & 1    \\\\\n",
       "\t 11283 & 1     & 2     & 0    \\\\\n",
       "\t 11767 & 1     & 3     & 0    \\\\\n",
       "\t 20872 & 2     & 2     & 1    \\\\\n",
       "\\end{tabular}\n"
      ],
      "text/markdown": [
       "\n",
       "| S | X | E | M |\n",
       "|---|---|---|---|\n",
       "| 13876 | 1     | 1     | 1     |\n",
       "| 11608 | 1     | 3     | 0     |\n",
       "| 18701 | 1     | 3     | 1     |\n",
       "| 11283 | 1     | 2     | 0     |\n",
       "| 11767 | 1     | 3     | 0     |\n",
       "| 20872 | 2     | 2     | 1     |\n",
       "\n"
      ],
      "text/plain": [
       "  S     X E M\n",
       "1 13876 1 1 1\n",
       "2 11608 1 3 0\n",
       "3 18701 1 3 1\n",
       "4 11283 1 2 0\n",
       "5 11767 1 3 0\n",
       "6 20872 2 2 1"
      ]
     },
     "metadata": {},
     "output_type": "display_data"
    },
    {
     "data": {
      "text/html": [
       "<table>\n",
       "<thead><tr><th></th><th scope=col>S</th><th scope=col>X</th><th scope=col>E</th><th scope=col>M</th></tr></thead>\n",
       "<tbody>\n",
       "\t<tr><th scope=row>41</th><td>25685</td><td>15   </td><td>3    </td><td>1    </td></tr>\n",
       "\t<tr><th scope=row>42</th><td>27837</td><td>16   </td><td>2    </td><td>1    </td></tr>\n",
       "\t<tr><th scope=row>43</th><td>18838</td><td>16   </td><td>2    </td><td>0    </td></tr>\n",
       "\t<tr><th scope=row>44</th><td>17483</td><td>16   </td><td>1    </td><td>0    </td></tr>\n",
       "\t<tr><th scope=row>45</th><td>19207</td><td>17   </td><td>2    </td><td>0    </td></tr>\n",
       "\t<tr><th scope=row>46</th><td>19346</td><td>20   </td><td>1    </td><td>0    </td></tr>\n",
       "</tbody>\n",
       "</table>\n"
      ],
      "text/latex": [
       "\\begin{tabular}{r|llll}\n",
       "  & S & X & E & M\\\\\n",
       "\\hline\n",
       "\t41 & 25685 & 15    & 3     & 1    \\\\\n",
       "\t42 & 27837 & 16    & 2     & 1    \\\\\n",
       "\t43 & 18838 & 16    & 2     & 0    \\\\\n",
       "\t44 & 17483 & 16    & 1     & 0    \\\\\n",
       "\t45 & 19207 & 17    & 2     & 0    \\\\\n",
       "\t46 & 19346 & 20    & 1     & 0    \\\\\n",
       "\\end{tabular}\n"
      ],
      "text/markdown": [
       "\n",
       "| <!--/--> | S | X | E | M |\n",
       "|---|---|---|---|---|\n",
       "| 41 | 25685 | 15    | 3     | 1     |\n",
       "| 42 | 27837 | 16    | 2     | 1     |\n",
       "| 43 | 18838 | 16    | 2     | 0     |\n",
       "| 44 | 17483 | 16    | 1     | 0     |\n",
       "| 45 | 19207 | 17    | 2     | 0     |\n",
       "| 46 | 19346 | 20    | 1     | 0     |\n",
       "\n"
      ],
      "text/plain": [
       "   S     X  E M\n",
       "41 25685 15 3 1\n",
       "42 27837 16 2 1\n",
       "43 18838 16 2 0\n",
       "44 17483 16 1 0\n",
       "45 19207 17 2 0\n",
       "46 19346 20 1 0"
      ]
     },
     "metadata": {},
     "output_type": "display_data"
    },
    {
     "data": {
      "text/html": [
       "<ol class=list-inline>\n",
       "\t<li>46</li>\n",
       "\t<li>4</li>\n",
       "</ol>\n"
      ],
      "text/latex": [
       "\\begin{enumerate*}\n",
       "\\item 46\n",
       "\\item 4\n",
       "\\end{enumerate*}\n"
      ],
      "text/markdown": [
       "1. 46\n",
       "2. 4\n",
       "\n",
       "\n"
      ],
      "text/plain": [
       "[1] 46  4"
      ]
     },
     "metadata": {},
     "output_type": "display_data"
    }
   ],
   "source": [
    "# Table 5.1 Salary Survey Data\n",
    "\n",
    "dat <- read.table(\"salary_survey.txt\",header=T)\n",
    "head(dat)\n",
    "tail(dat)\n",
    "dim(dat)"
   ]
  },
  {
   "cell_type": "code",
   "execution_count": 2,
   "metadata": {},
   "outputs": [],
   "source": [
    "# Generating indicator variables, E1 and E2\n",
    "dat$E1 = 0\n",
    "dat$E2 = 0\n",
    "\n",
    "dat$E1[which(dat$E==1)] = 1\n",
    "dat$E2[which(dat$E==2)] = 1"
   ]
  },
  {
   "cell_type": "code",
   "execution_count": 3,
   "metadata": {},
   "outputs": [
    {
     "data": {
      "text/html": [
       "<table>\n",
       "<thead><tr><th scope=col>S</th><th scope=col>X</th><th scope=col>E</th><th scope=col>M</th><th scope=col>E1</th><th scope=col>E2</th></tr></thead>\n",
       "<tbody>\n",
       "\t<tr><td>13876</td><td>1    </td><td>1    </td><td>1    </td><td>1    </td><td>0    </td></tr>\n",
       "\t<tr><td>11608</td><td>1    </td><td>3    </td><td>0    </td><td>0    </td><td>0    </td></tr>\n",
       "\t<tr><td>18701</td><td>1    </td><td>3    </td><td>1    </td><td>0    </td><td>0    </td></tr>\n",
       "\t<tr><td>11283</td><td>1    </td><td>2    </td><td>0    </td><td>0    </td><td>1    </td></tr>\n",
       "\t<tr><td>11767</td><td>1    </td><td>3    </td><td>0    </td><td>0    </td><td>0    </td></tr>\n",
       "\t<tr><td>20872</td><td>2    </td><td>2    </td><td>1    </td><td>0    </td><td>1    </td></tr>\n",
       "</tbody>\n",
       "</table>\n"
      ],
      "text/latex": [
       "\\begin{tabular}{r|llllll}\n",
       " S & X & E & M & E1 & E2\\\\\n",
       "\\hline\n",
       "\t 13876 & 1     & 1     & 1     & 1     & 0    \\\\\n",
       "\t 11608 & 1     & 3     & 0     & 0     & 0    \\\\\n",
       "\t 18701 & 1     & 3     & 1     & 0     & 0    \\\\\n",
       "\t 11283 & 1     & 2     & 0     & 0     & 1    \\\\\n",
       "\t 11767 & 1     & 3     & 0     & 0     & 0    \\\\\n",
       "\t 20872 & 2     & 2     & 1     & 0     & 1    \\\\\n",
       "\\end{tabular}\n"
      ],
      "text/markdown": [
       "\n",
       "| S | X | E | M | E1 | E2 |\n",
       "|---|---|---|---|---|---|\n",
       "| 13876 | 1     | 1     | 1     | 1     | 0     |\n",
       "| 11608 | 1     | 3     | 0     | 0     | 0     |\n",
       "| 18701 | 1     | 3     | 1     | 0     | 0     |\n",
       "| 11283 | 1     | 2     | 0     | 0     | 1     |\n",
       "| 11767 | 1     | 3     | 0     | 0     | 0     |\n",
       "| 20872 | 2     | 2     | 1     | 0     | 1     |\n",
       "\n"
      ],
      "text/plain": [
       "  S     X E M E1 E2\n",
       "1 13876 1 1 1 1  0 \n",
       "2 11608 1 3 0 0  0 \n",
       "3 18701 1 3 1 0  0 \n",
       "4 11283 1 2 0 0  1 \n",
       "5 11767 1 3 0 0  0 \n",
       "6 20872 2 2 1 0  1 "
      ]
     },
     "metadata": {},
     "output_type": "display_data"
    }
   ],
   "source": [
    "head(dat)"
   ]
  },
  {
   "cell_type": "markdown",
   "metadata": {},
   "source": [
    "## 1-2.  Multiple Linear Regression (132 page)"
   ]
  },
  {
   "cell_type": "markdown",
   "metadata": {},
   "source": [
    "S = β0 + β1X + γ1E1 + γ2E2 + δ1M + ε (5.1)"
   ]
  },
  {
   "cell_type": "code",
   "execution_count": 4,
   "metadata": {},
   "outputs": [
    {
     "data": {
      "text/plain": [
       "\n",
       "Call:\n",
       "lm(formula = S ~ X + E1 + E2 + M)\n",
       "\n",
       "Residuals:\n",
       "     Min       1Q   Median       3Q      Max \n",
       "-1884.60  -653.60    22.23   844.85  1716.47 \n",
       "\n",
       "Coefficients:\n",
       "            Estimate Std. Error t value Pr(>|t|)    \n",
       "(Intercept) 11031.81     383.22  28.787  < 2e-16 ***\n",
       "X             546.18      30.52  17.896  < 2e-16 ***\n",
       "E1          -2996.21     411.75  -7.277 6.72e-09 ***\n",
       "E2            147.82     387.66   0.381    0.705    \n",
       "M            6883.53     313.92  21.928  < 2e-16 ***\n",
       "---\n",
       "Signif. codes:  0 '***' 0.001 '**' 0.01 '*' 0.05 '.' 0.1 ' ' 1\n",
       "\n",
       "Residual standard error: 1027 on 41 degrees of freedom\n",
       "Multiple R-squared:  0.9568,\tAdjusted R-squared:  0.9525 \n",
       "F-statistic: 226.8 on 4 and 41 DF,  p-value: < 2.2e-16\n"
      ]
     },
     "metadata": {},
     "output_type": "display_data"
    }
   ],
   "source": [
    "# linear model fit\n",
    "attach(dat)\n",
    "res_lm <- lm(S ~ X + E1 + E2 + M)\n",
    "summary(res_lm)"
   ]
  },
  {
   "cell_type": "code",
   "execution_count": 5,
   "metadata": {},
   "outputs": [
    {
     "data": {
      "text/html": [
       "<table>\n",
       "<thead><tr><th></th><th scope=col>Estimate</th><th scope=col>Std. Error</th><th scope=col>t value</th><th scope=col>Pr(&gt;|t|)</th></tr></thead>\n",
       "<tbody>\n",
       "\t<tr><th scope=row>(Intercept)</th><td>11031.8079  </td><td>383.21713   </td><td>28.787356   </td><td>8.086512e-29</td></tr>\n",
       "\t<tr><th scope=row>X</th><td>  546.1840  </td><td> 30.51919   </td><td>17.896411   </td><td>5.546313e-21</td></tr>\n",
       "\t<tr><th scope=row>E1</th><td>-2996.2103  </td><td>411.75271   </td><td>-7.276723   </td><td>6.722373e-09</td></tr>\n",
       "\t<tr><th scope=row>E2</th><td>  147.8249  </td><td>387.65932   </td><td> 0.381327   </td><td>7.049297e-01</td></tr>\n",
       "\t<tr><th scope=row>M</th><td> 6883.5310  </td><td>313.91898   </td><td>21.927731   </td><td>2.901444e-24</td></tr>\n",
       "</tbody>\n",
       "</table>\n"
      ],
      "text/latex": [
       "\\begin{tabular}{r|llll}\n",
       "  & Estimate & Std. Error & t value & Pr(>\\textbar{}t\\textbar{})\\\\\n",
       "\\hline\n",
       "\t(Intercept) & 11031.8079   & 383.21713    & 28.787356    & 8.086512e-29\\\\\n",
       "\tX &   546.1840   &  30.51919    & 17.896411    & 5.546313e-21\\\\\n",
       "\tE1 & -2996.2103   & 411.75271    & -7.276723    & 6.722373e-09\\\\\n",
       "\tE2 &   147.8249   & 387.65932    &  0.381327    & 7.049297e-01\\\\\n",
       "\tM &  6883.5310   & 313.91898    & 21.927731    & 2.901444e-24\\\\\n",
       "\\end{tabular}\n"
      ],
      "text/markdown": [
       "\n",
       "| <!--/--> | Estimate | Std. Error | t value | Pr(>|t|) |\n",
       "|---|---|---|---|---|\n",
       "| (Intercept) | 11031.8079   | 383.21713    | 28.787356    | 8.086512e-29 |\n",
       "| X |   546.1840   |  30.51919    | 17.896411    | 5.546313e-21 |\n",
       "| E1 | -2996.2103   | 411.75271    | -7.276723    | 6.722373e-09 |\n",
       "| E2 |   147.8249   | 387.65932    |  0.381327    | 7.049297e-01 |\n",
       "| M |  6883.5310   | 313.91898    | 21.927731    | 2.901444e-24 |\n",
       "\n"
      ],
      "text/plain": [
       "            Estimate   Std. Error t value   Pr(>|t|)    \n",
       "(Intercept) 11031.8079 383.21713  28.787356 8.086512e-29\n",
       "X             546.1840  30.51919  17.896411 5.546313e-21\n",
       "E1          -2996.2103 411.75271  -7.276723 6.722373e-09\n",
       "E2            147.8249 387.65932   0.381327 7.049297e-01\n",
       "M            6883.5310 313.91898  21.927731 2.901444e-24"
      ]
     },
     "metadata": {},
     "output_type": "display_data"
    }
   ],
   "source": [
    "# Table 5.3 Regression Analysis of Salary Survey Data (132 page)\n",
    "summary(res_lm)$coefficient"
   ]
  },
  {
   "cell_type": "code",
   "execution_count": 6,
   "metadata": {},
   "outputs": [
    {
     "name": "stdout",
     "output_type": "stream",
     "text": [
      "R2= 0.957 , R2_adj= 0.953 , sigma= 1027.437 , df= 41"
     ]
    }
   ],
   "source": [
    "cat(\"R2=\", round(summary(res_lm)$r.squared, 3),\n",
    "    \", R2_adj=\" , round(summary(res_lm)$adj.r.squared, 3),\n",
    "    \", sigma=\" , round(summary(res_lm)$sigma,3),\n",
    "    \", df=\" , summary(res_lm)$df[2])"
   ]
  },
  {
   "cell_type": "markdown",
   "metadata": {},
   "source": [
    "Figure 5.1 Standardized residuals versus years of experience (134 page)"
   ]
  },
  {
   "cell_type": "code",
   "execution_count": 7,
   "metadata": {},
   "outputs": [
    {
     "name": "stderr",
     "output_type": "stream",
     "text": [
      "Registered S3 methods overwritten by 'ggplot2':\n",
      "  method         from \n",
      "  [.quosures     rlang\n",
      "  c.quosures     rlang\n",
      "  print.quosures rlang\n"
     ]
    },
    {
     "data": {
      "image/png": "[encoded data removed]",
      "text/plain": [
       "plot without title"
      ]
     },
     "metadata": {},
     "output_type": "display_data"
    }
   ],
   "source": [
    "# plot size\n",
    "options(repr.plot.width = 4, repr.plot.height = 4)\n",
    "\n",
    "# residual plot\n",
    "res.dat <- cbind(dat, rstandard(res_lm))\n",
    "colnames(res.dat)[c(7)] <- \"r_i\"\n",
    "\n",
    "library(ggplot2)\n",
    "p1 <- ggplot(res.dat, aes(x = X, y = r_i)) + geom_point()\n",
    "p1"
   ]
  },
  {
   "cell_type": "markdown",
   "metadata": {},
   "source": [
    "Figure 5.2 Standardized residuals versus education-management categorical variable\n",
    "(134 page)"
   ]
  },
  {
   "cell_type": "code",
   "execution_count": 8,
   "metadata": {},
   "outputs": [],
   "source": [
    "res.dat$Category = 0\n",
    "res.dat$Category[which(res.dat$E==1 & res.dat$M==0)]=1\n",
    "res.dat$Category[which(res.dat$E==1 & res.dat$M==1)]=2\n",
    "res.dat$Category[which(res.dat$E==2 & res.dat$M==0)]=3\n",
    "res.dat$Category[which(res.dat$E==2 & res.dat$M==1)]=4\n",
    "res.dat$Category[which(res.dat$E==3 & res.dat$M==0)]=5\n",
    "res.dat$Category[which(res.dat$E==3 & res.dat$M==1)]=6"
   ]
  },
  {
   "cell_type": "code",
   "execution_count": 9,
   "metadata": {},
   "outputs": [
    {
     "data": {
      "image/png": "[encoded data removed]",
      "text/plain": [
       "plot without title"
      ]
     },
     "metadata": {},
     "output_type": "display_data"
    }
   ],
   "source": [
    "p2 <- ggplot(res.dat, aes(x = Category, y = r_i)) + geom_point()\n",
    "p2"
   ]
  },
  {
   "cell_type": "markdown",
   "metadata": {},
   "source": [
    "## 1-3.  Interaction Varibles (132 page)"
   ]
  },
  {
   "cell_type": "markdown",
   "metadata": {},
   "source": [
    "S = β0 + β1X + γ1E1 + γ2E2 + δ1M + α1(E1 · M) + α2(E2 · M) + ε (5.2)"
   ]
  },
  {
   "cell_type": "code",
   "execution_count": 10,
   "metadata": {},
   "outputs": [
    {
     "data": {
      "text/plain": [
       "\n",
       "Call:\n",
       "lm(formula = S ~ X + E1 + E2 + M + E1 * M + E2 * M)\n",
       "\n",
       "Residuals:\n",
       "    Min      1Q  Median      3Q     Max \n",
       "-928.13  -46.21   24.33   65.88  204.89 \n",
       "\n",
       "Coefficients:\n",
       "             Estimate Std. Error t value Pr(>|t|)    \n",
       "(Intercept) 11203.434     79.065 141.698  < 2e-16 ***\n",
       "X             496.987      5.566  89.283  < 2e-16 ***\n",
       "E1          -1730.748    105.334 -16.431  < 2e-16 ***\n",
       "E2           -349.078     97.568  -3.578 0.000945 ***\n",
       "M            7047.412    102.589  68.695  < 2e-16 ***\n",
       "E1:M        -3066.035    149.330 -20.532  < 2e-16 ***\n",
       "E2:M         1836.488    131.167  14.001  < 2e-16 ***\n",
       "---\n",
       "Signif. codes:  0 '***' 0.001 '**' 0.01 '*' 0.05 '.' 0.1 ' ' 1\n",
       "\n",
       "Residual standard error: 173.8 on 39 degrees of freedom\n",
       "Multiple R-squared:  0.9988,\tAdjusted R-squared:  0.9986 \n",
       "F-statistic:  5517 on 6 and 39 DF,  p-value: < 2.2e-16\n"
      ]
     },
     "metadata": {},
     "output_type": "display_data"
    }
   ],
   "source": [
    "# expanded model fit\n",
    "res_lm_exp <- lm(S ~ X + E1 + E2 + M + E1*M + E2*M)\n",
    "summary(res_lm_exp)"
   ]
  },
  {
   "cell_type": "code",
   "execution_count": 11,
   "metadata": {},
   "outputs": [
    {
     "data": {
      "text/html": [
       "<table>\n",
       "<thead><tr><th></th><th scope=col>Estimate</th><th scope=col>Std. Error</th><th scope=col>t value</th><th scope=col>Pr(&gt;|t|)</th></tr></thead>\n",
       "<tbody>\n",
       "\t<tr><th scope=row>(Intercept)</th><td>11203.4338  </td><td> 79.065447  </td><td>141.698228  </td><td>1.622328e-54</td></tr>\n",
       "\t<tr><th scope=row>X</th><td>  496.9870  </td><td>  5.566415  </td><td> 89.283136  </td><td>1.021062e-46</td></tr>\n",
       "\t<tr><th scope=row>E1</th><td>-1730.7483  </td><td>105.333886  </td><td>-16.431069  </td><td>4.013497e-19</td></tr>\n",
       "\t<tr><th scope=row>E2</th><td> -349.0777  </td><td> 97.567899  </td><td> -3.577792  </td><td>9.451149e-04</td></tr>\n",
       "\t<tr><th scope=row>M</th><td> 7047.4120  </td><td>102.589193  </td><td> 68.695462  </td><td>2.637477e-42</td></tr>\n",
       "\t<tr><th scope=row>E1:M</th><td>-3066.0351  </td><td>149.330440  </td><td>-20.531883  </td><td>1.635213e-22</td></tr>\n",
       "\t<tr><th scope=row>E2:M</th><td> 1836.4879  </td><td>131.167360  </td><td> 14.001105  </td><td>8.506725e-17</td></tr>\n",
       "</tbody>\n",
       "</table>\n"
      ],
      "text/latex": [
       "\\begin{tabular}{r|llll}\n",
       "  & Estimate & Std. Error & t value & Pr(>\\textbar{}t\\textbar{})\\\\\n",
       "\\hline\n",
       "\t(Intercept) & 11203.4338   &  79.065447   & 141.698228   & 1.622328e-54\\\\\n",
       "\tX &   496.9870   &   5.566415   &  89.283136   & 1.021062e-46\\\\\n",
       "\tE1 & -1730.7483   & 105.333886   & -16.431069   & 4.013497e-19\\\\\n",
       "\tE2 &  -349.0777   &  97.567899   &  -3.577792   & 9.451149e-04\\\\\n",
       "\tM &  7047.4120   & 102.589193   &  68.695462   & 2.637477e-42\\\\\n",
       "\tE1:M & -3066.0351   & 149.330440   & -20.531883   & 1.635213e-22\\\\\n",
       "\tE2:M &  1836.4879   & 131.167360   &  14.001105   & 8.506725e-17\\\\\n",
       "\\end{tabular}\n"
      ],
      "text/markdown": [
       "\n",
       "| <!--/--> | Estimate | Std. Error | t value | Pr(>|t|) |\n",
       "|---|---|---|---|---|\n",
       "| (Intercept) | 11203.4338   |  79.065447   | 141.698228   | 1.622328e-54 |\n",
       "| X |   496.9870   |   5.566415   |  89.283136   | 1.021062e-46 |\n",
       "| E1 | -1730.7483   | 105.333886   | -16.431069   | 4.013497e-19 |\n",
       "| E2 |  -349.0777   |  97.567899   |  -3.577792   | 9.451149e-04 |\n",
       "| M |  7047.4120   | 102.589193   |  68.695462   | 2.637477e-42 |\n",
       "| E1:M | -3066.0351   | 149.330440   | -20.531883   | 1.635213e-22 |\n",
       "| E2:M |  1836.4879   | 131.167360   |  14.001105   | 8.506725e-17 |\n",
       "\n"
      ],
      "text/plain": [
       "            Estimate   Std. Error t value    Pr(>|t|)    \n",
       "(Intercept) 11203.4338  79.065447 141.698228 1.622328e-54\n",
       "X             496.9870   5.566415  89.283136 1.021062e-46\n",
       "E1          -1730.7483 105.333886 -16.431069 4.013497e-19\n",
       "E2           -349.0777  97.567899  -3.577792 9.451149e-04\n",
       "M            7047.4120 102.589193  68.695462 2.637477e-42\n",
       "E1:M        -3066.0351 149.330440 -20.531883 1.635213e-22\n",
       "E2:M         1836.4879 131.167360  14.001105 8.506725e-17"
      ]
     },
     "metadata": {},
     "output_type": "display_data"
    }
   ],
   "source": [
    "# Table 5.4 Regression Analysis of Salary Survey Data: Expanded Model (135 page)\n",
    "summary(res_lm_exp)$coefficients"
   ]
  },
  {
   "cell_type": "code",
   "execution_count": 12,
   "metadata": {},
   "outputs": [
    {
     "name": "stdout",
     "output_type": "stream",
     "text": [
      "R2= 0.999 , R2_adj= 0.999 , sigma= 173.809 , df= 39"
     ]
    }
   ],
   "source": [
    "cat(\"R2=\", round(summary(res_lm_exp)$r.squared, 3),\n",
    "    \", R2_adj=\" , round(summary(res_lm_exp)$adj.r.squared, 3),\n",
    "    \", sigma=\" , round(summary(res_lm_exp)$sigma,3),\n",
    "    \", df=\" , summary(res_lm_exp)$df[2])"
   ]
  },
  {
   "cell_type": "code",
   "execution_count": 13,
   "metadata": {},
   "outputs": [],
   "source": [
    "# observation 33 Deleted\n",
    "sub.dat <- dat[-33,]"
   ]
  },
  {
   "cell_type": "code",
   "execution_count": 14,
   "metadata": {},
   "outputs": [
    {
     "data": {
      "text/plain": [
       "\n",
       "Call:\n",
       "lm(formula = S ~ X + E1 + E2 + M + E1 * M + E2 * M, data = sub.dat)\n",
       "\n",
       "Residuals:\n",
       "     Min       1Q   Median       3Q      Max \n",
       "-112.884  -43.636   -5.036   46.622  128.480 \n",
       "\n",
       "Coefficients:\n",
       "             Estimate Std. Error t value Pr(>|t|)    \n",
       "(Intercept) 11199.714     30.533 366.802  < 2e-16 ***\n",
       "X             498.418      2.152 231.640  < 2e-16 ***\n",
       "E1          -1741.336     40.683 -42.803  < 2e-16 ***\n",
       "E2           -357.042     37.681  -9.475 1.49e-11 ***\n",
       "M            7040.580     39.619 177.707  < 2e-16 ***\n",
       "E1:M        -3051.763     57.674 -52.914  < 2e-16 ***\n",
       "E2:M         1997.531     51.785  38.574  < 2e-16 ***\n",
       "---\n",
       "Signif. codes:  0 '***' 0.001 '**' 0.01 '*' 0.05 '.' 0.1 ' ' 1\n",
       "\n",
       "Residual standard error: 67.12 on 38 degrees of freedom\n",
       "Multiple R-squared:  0.9998,\tAdjusted R-squared:  0.9998 \n",
       "F-statistic: 3.543e+04 on 6 and 38 DF,  p-value: < 2.2e-16\n"
      ]
     },
     "metadata": {},
     "output_type": "display_data"
    }
   ],
   "source": [
    "# expanded model fit, observation 33 deleted\n",
    "sub_res_lm_exp <- lm(S ~ X + E1 + E2 + M + E1*M + E2*M, data= sub.dat)\n",
    "summary(sub_res_lm_exp)"
   ]
  },
  {
   "cell_type": "code",
   "execution_count": 15,
   "metadata": {},
   "outputs": [
    {
     "data": {
      "text/html": [
       "<table>\n",
       "<thead><tr><th></th><th scope=col>Estimate</th><th scope=col>Std. Error</th><th scope=col>t value</th><th scope=col>Pr(&gt;|t|)</th></tr></thead>\n",
       "<tbody>\n",
       "\t<tr><th scope=row>(Intercept)</th><td>11199.7138  </td><td>30.533380   </td><td>366.802294  </td><td>4.724873e-69</td></tr>\n",
       "\t<tr><th scope=row>X</th><td>  498.4178  </td><td> 2.151688   </td><td>231.640356  </td><td>1.804860e-61</td></tr>\n",
       "\t<tr><th scope=row>E1</th><td>-1741.3359  </td><td>40.682501   </td><td>-42.803070  </td><td>9.201707e-34</td></tr>\n",
       "\t<tr><th scope=row>E2</th><td> -357.0423  </td><td>37.681145   </td><td> -9.475356  </td><td>1.493778e-11</td></tr>\n",
       "\t<tr><th scope=row>M</th><td> 7040.5801  </td><td>39.619066   </td><td>177.706870  </td><td>4.232962e-57</td></tr>\n",
       "\t<tr><th scope=row>E1:M</th><td>-3051.7633  </td><td>57.674199   </td><td>-52.913839  </td><td>3.318865e-37</td></tr>\n",
       "\t<tr><th scope=row>E2:M</th><td> 1997.5306  </td><td>51.784982   </td><td> 38.573550  </td><td>4.397259e-32</td></tr>\n",
       "</tbody>\n",
       "</table>\n"
      ],
      "text/latex": [
       "\\begin{tabular}{r|llll}\n",
       "  & Estimate & Std. Error & t value & Pr(>\\textbar{}t\\textbar{})\\\\\n",
       "\\hline\n",
       "\t(Intercept) & 11199.7138   & 30.533380    & 366.802294   & 4.724873e-69\\\\\n",
       "\tX &   498.4178   &  2.151688    & 231.640356   & 1.804860e-61\\\\\n",
       "\tE1 & -1741.3359   & 40.682501    & -42.803070   & 9.201707e-34\\\\\n",
       "\tE2 &  -357.0423   & 37.681145    &  -9.475356   & 1.493778e-11\\\\\n",
       "\tM &  7040.5801   & 39.619066    & 177.706870   & 4.232962e-57\\\\\n",
       "\tE1:M & -3051.7633   & 57.674199    & -52.913839   & 3.318865e-37\\\\\n",
       "\tE2:M &  1997.5306   & 51.784982    &  38.573550   & 4.397259e-32\\\\\n",
       "\\end{tabular}\n"
      ],
      "text/markdown": [
       "\n",
       "| <!--/--> | Estimate | Std. Error | t value | Pr(>|t|) |\n",
       "|---|---|---|---|---|\n",
       "| (Intercept) | 11199.7138   | 30.533380    | 366.802294   | 4.724873e-69 |\n",
       "| X |   498.4178   |  2.151688    | 231.640356   | 1.804860e-61 |\n",
       "| E1 | -1741.3359   | 40.682501    | -42.803070   | 9.201707e-34 |\n",
       "| E2 |  -357.0423   | 37.681145    |  -9.475356   | 1.493778e-11 |\n",
       "| M |  7040.5801   | 39.619066    | 177.706870   | 4.232962e-57 |\n",
       "| E1:M | -3051.7633   | 57.674199    | -52.913839   | 3.318865e-37 |\n",
       "| E2:M |  1997.5306   | 51.784982    |  38.573550   | 4.397259e-32 |\n",
       "\n"
      ],
      "text/plain": [
       "            Estimate   Std. Error t value    Pr(>|t|)    \n",
       "(Intercept) 11199.7138 30.533380  366.802294 4.724873e-69\n",
       "X             498.4178  2.151688  231.640356 1.804860e-61\n",
       "E1          -1741.3359 40.682501  -42.803070 9.201707e-34\n",
       "E2           -357.0423 37.681145   -9.475356 1.493778e-11\n",
       "M            7040.5801 39.619066  177.706870 4.232962e-57\n",
       "E1:M        -3051.7633 57.674199  -52.913839 3.318865e-37\n",
       "E2:M         1997.5306 51.784982   38.573550 4.397259e-32"
      ]
     },
     "metadata": {},
     "output_type": "display_data"
    }
   ],
   "source": [
    "# Table 5.5 Regression Analysis of Salary Survey Data: Expanded Model,Observation 33 deleted. (135 page)\n",
    "summary(sub_res_lm_exp)$coefficients"
   ]
  },
  {
   "cell_type": "code",
   "execution_count": 16,
   "metadata": {},
   "outputs": [
    {
     "name": "stdout",
     "output_type": "stream",
     "text": [
      "R2= 1 , R2_adj= 1 , sigma= 67.119 , df= 38"
     ]
    }
   ],
   "source": [
    "cat(\"R2=\", round(summary(sub_res_lm_exp)$r.squared, 3),\n",
    "    \", R2_adj=\" , round(summary(sub_res_lm_exp)$adj.r.squared, 3),\n",
    "    \", sigma=\" , round(summary(sub_res_lm_exp)$sigma,3),\n",
    "    \", df=\" , summary(sub_res_lm_exp)$df[2])"
   ]
  },
  {
   "cell_type": "markdown",
   "metadata": {},
   "source": [
    "Figure 5.3 Standardized residuals versus years of experience: Expanded model (136\n",
    "page)"
   ]
  },
  {
   "cell_type": "code",
   "execution_count": 17,
   "metadata": {},
   "outputs": [
    {
     "data": {
      "image/png": "[encoded data removed]",
      "text/plain": [
       "plot without title"
      ]
     },
     "metadata": {},
     "output_type": "display_data"
    }
   ],
   "source": [
    "# residual plot\n",
    "res.dat_exp <- cbind(dat, rstandard(res_lm_exp))\n",
    "colnames(res.dat_exp)[c(7)] <- \"r_i\"\n",
    "\n",
    "ggplot(res.dat_exp, aes(x = X, y = r_i)) + geom_point()"
   ]
  },
  {
   "cell_type": "markdown",
   "metadata": {},
   "source": [
    "Figure 5.4 Standardized residuals versus years of experience: Expanded model, observation 33 deleted (136 page)"
   ]
  },
  {
   "cell_type": "code",
   "execution_count": 18,
   "metadata": {},
   "outputs": [
    {
     "data": {
      "image/png": "[encoded data removed]",
      "text/plain": [
       "plot without title"
      ]
     },
     "metadata": {},
     "output_type": "display_data"
    }
   ],
   "source": [
    "# residual plot\n",
    "res.sub_dat_exp <- cbind(sub.dat, rstandard(sub_res_lm_exp))\n",
    "colnames(res.sub_dat_exp)[c(7)] <- \"r_i\"\n",
    "\n",
    "ggplot(res.sub_dat_exp, aes(x = X, y = r_i)) + geom_point()"
   ]
  },
  {
   "cell_type": "markdown",
   "metadata": {},
   "source": [
    "Figure 5.5 Standardized residuals versus education-management categorical variable:\n",
    "Expanded model, observation 33 deleted. (136 page)"
   ]
  },
  {
   "cell_type": "code",
   "execution_count": 19,
   "metadata": {},
   "outputs": [],
   "source": [
    "res.sub_dat_exp$Category = 0\n",
    "res.sub_dat_exp$Category[which(res.sub_dat_exp$E==1 & res.sub_dat_exp$M==0)]=1\n",
    "res.sub_dat_exp$Category[which(res.sub_dat_exp$E==1 & res.sub_dat_exp$M==1)]=2\n",
    "res.sub_dat_exp$Category[which(res.sub_dat_exp$E==2 & res.sub_dat_exp$M==0)]=3\n",
    "res.sub_dat_exp$Category[which(res.sub_dat_exp$E==2 & res.sub_dat_exp$M==1)]=4\n",
    "res.sub_dat_exp$Category[which(res.sub_dat_exp$E==3 & res.sub_dat_exp$M==0)]=5\n",
    "res.sub_dat_exp$Category[which(res.sub_dat_exp$E==3 & res.sub_dat_exp$M==1)]=6"
   ]
  },
  {
   "cell_type": "code",
   "execution_count": 20,
   "metadata": {},
   "outputs": [
    {
     "data": {
      "image/png": "[encoded data removed]",
      "text/plain": [
       "plot without title"
      ]
     },
     "metadata": {},
     "output_type": "display_data"
    }
   ],
   "source": [
    " ggplot(res.sub_dat_exp, aes(x = Category, y = r_i)) + geom_point()"
   ]
  },
  {
   "cell_type": "markdown",
   "metadata": {},
   "source": [
    "# 2.  Pre-employment Testing Program data"
   ]
  },
  {
   "cell_type": "markdown",
   "metadata": {},
   "source": [
    "## 2-1. Loading data"
   ]
  },
  {
   "cell_type": "code",
   "execution_count": 21,
   "metadata": {},
   "outputs": [
    {
     "data": {
      "text/html": [
       "<table>\n",
       "<thead><tr><th scope=col>TEST</th><th scope=col>RACE</th><th scope=col>JPERF</th></tr></thead>\n",
       "<tbody>\n",
       "\t<tr><td>0.28</td><td>1   </td><td>1.83</td></tr>\n",
       "\t<tr><td>0.97</td><td>1   </td><td>4.59</td></tr>\n",
       "\t<tr><td>1.25</td><td>1   </td><td>2.97</td></tr>\n",
       "\t<tr><td>2.46</td><td>1   </td><td>8.14</td></tr>\n",
       "\t<tr><td>2.51</td><td>1   </td><td>8.00</td></tr>\n",
       "\t<tr><td>1.17</td><td>1   </td><td>3.30</td></tr>\n",
       "</tbody>\n",
       "</table>\n"
      ],
      "text/latex": [
       "\\begin{tabular}{r|lll}\n",
       " TEST & RACE & JPERF\\\\\n",
       "\\hline\n",
       "\t 0.28 & 1    & 1.83\\\\\n",
       "\t 0.97 & 1    & 4.59\\\\\n",
       "\t 1.25 & 1    & 2.97\\\\\n",
       "\t 2.46 & 1    & 8.14\\\\\n",
       "\t 2.51 & 1    & 8.00\\\\\n",
       "\t 1.17 & 1    & 3.30\\\\\n",
       "\\end{tabular}\n"
      ],
      "text/markdown": [
       "\n",
       "| TEST | RACE | JPERF |\n",
       "|---|---|---|\n",
       "| 0.28 | 1    | 1.83 |\n",
       "| 0.97 | 1    | 4.59 |\n",
       "| 1.25 | 1    | 2.97 |\n",
       "| 2.46 | 1    | 8.14 |\n",
       "| 2.51 | 1    | 8.00 |\n",
       "| 1.17 | 1    | 3.30 |\n",
       "\n"
      ],
      "text/plain": [
       "  TEST RACE JPERF\n",
       "1 0.28 1    1.83 \n",
       "2 0.97 1    4.59 \n",
       "3 1.25 1    2.97 \n",
       "4 2.46 1    8.14 \n",
       "5 2.51 1    8.00 \n",
       "6 1.17 1    3.30 "
      ]
     },
     "metadata": {},
     "output_type": "display_data"
    },
    {
     "data": {
      "text/html": [
       "<table>\n",
       "<thead><tr><th></th><th scope=col>TEST</th><th scope=col>RACE</th><th scope=col>JPERF</th></tr></thead>\n",
       "<tbody>\n",
       "\t<tr><th scope=row>15</th><td>2.09</td><td>0   </td><td>6.56</td></tr>\n",
       "\t<tr><th scope=row>16</th><td>1.50</td><td>0   </td><td>3.00</td></tr>\n",
       "\t<tr><th scope=row>17</th><td>1.25</td><td>0   </td><td>5.85</td></tr>\n",
       "\t<tr><th scope=row>18</th><td>0.72</td><td>0   </td><td>1.90</td></tr>\n",
       "\t<tr><th scope=row>19</th><td>0.42</td><td>0   </td><td>3.85</td></tr>\n",
       "\t<tr><th scope=row>20</th><td>1.53</td><td>0   </td><td>2.95</td></tr>\n",
       "</tbody>\n",
       "</table>\n"
      ],
      "text/latex": [
       "\\begin{tabular}{r|lll}\n",
       "  & TEST & RACE & JPERF\\\\\n",
       "\\hline\n",
       "\t15 & 2.09 & 0    & 6.56\\\\\n",
       "\t16 & 1.50 & 0    & 3.00\\\\\n",
       "\t17 & 1.25 & 0    & 5.85\\\\\n",
       "\t18 & 0.72 & 0    & 1.90\\\\\n",
       "\t19 & 0.42 & 0    & 3.85\\\\\n",
       "\t20 & 1.53 & 0    & 2.95\\\\\n",
       "\\end{tabular}\n"
      ],
      "text/markdown": [
       "\n",
       "| <!--/--> | TEST | RACE | JPERF |\n",
       "|---|---|---|---|\n",
       "| 15 | 2.09 | 0    | 6.56 |\n",
       "| 16 | 1.50 | 0    | 3.00 |\n",
       "| 17 | 1.25 | 0    | 5.85 |\n",
       "| 18 | 0.72 | 0    | 1.90 |\n",
       "| 19 | 0.42 | 0    | 3.85 |\n",
       "| 20 | 1.53 | 0    | 2.95 |\n",
       "\n"
      ],
      "text/plain": [
       "   TEST RACE JPERF\n",
       "15 2.09 0    6.56 \n",
       "16 1.50 0    3.00 \n",
       "17 1.25 0    5.85 \n",
       "18 0.72 0    1.90 \n",
       "19 0.42 0    3.85 \n",
       "20 1.53 0    2.95 "
      ]
     },
     "metadata": {},
     "output_type": "display_data"
    },
    {
     "data": {
      "text/html": [
       "<ol class=list-inline>\n",
       "\t<li>20</li>\n",
       "\t<li>3</li>\n",
       "</ol>\n"
      ],
      "text/latex": [
       "\\begin{enumerate*}\n",
       "\\item 20\n",
       "\\item 3\n",
       "\\end{enumerate*}\n"
      ],
      "text/markdown": [
       "1. 20\n",
       "2. 3\n",
       "\n",
       "\n"
      ],
      "text/plain": [
       "[1] 20  3"
      ]
     },
     "metadata": {},
     "output_type": "display_data"
    }
   ],
   "source": [
    "# Table 5.7 Data on Preemployment Testing Program\n",
    "\n",
    "dat_emp <- read.table(\"preemployment_test_program.txt\",header=T)\n",
    "head(dat_emp)\n",
    "tail(dat_emp)\n",
    "dim(dat_emp)"
   ]
  },
  {
   "cell_type": "markdown",
   "metadata": {},
   "source": [
    "## 2-2. Two Models"
   ]
  },
  {
   "cell_type": "markdown",
   "metadata": {},
   "source": [
    "Model 1: yij = β0 + β1xij + εij Model 3: yij = β0 + β1xij + δ(zij · xij ) + εij (5.4)"
   ]
  },
  {
   "cell_type": "code",
   "execution_count": 22,
   "metadata": {},
   "outputs": [
    {
     "data": {
      "text/html": [
       "<table>\n",
       "<thead><tr><th></th><th scope=col>Estimate</th><th scope=col>Std. Error</th><th scope=col>t value</th><th scope=col>Pr(&gt;|t|)</th></tr></thead>\n",
       "<tbody>\n",
       "\t<tr><th scope=row>(Intercept)</th><td>1.034973    </td><td>0.8680312   </td><td>1.192323    </td><td>0.2486169239</td></tr>\n",
       "\t<tr><th scope=row>TEST</th><td>2.360535    </td><td>0.5380699   </td><td>4.387041    </td><td>0.0003555104</td></tr>\n",
       "</tbody>\n",
       "</table>\n"
      ],
      "text/latex": [
       "\\begin{tabular}{r|llll}\n",
       "  & Estimate & Std. Error & t value & Pr(>\\textbar{}t\\textbar{})\\\\\n",
       "\\hline\n",
       "\t(Intercept) & 1.034973     & 0.8680312    & 1.192323     & 0.2486169239\\\\\n",
       "\tTEST & 2.360535     & 0.5380699    & 4.387041     & 0.0003555104\\\\\n",
       "\\end{tabular}\n"
      ],
      "text/markdown": [
       "\n",
       "| <!--/--> | Estimate | Std. Error | t value | Pr(>|t|) |\n",
       "|---|---|---|---|---|\n",
       "| (Intercept) | 1.034973     | 0.8680312    | 1.192323     | 0.2486169239 |\n",
       "| TEST | 2.360535     | 0.5380699    | 4.387041     | 0.0003555104 |\n",
       "\n"
      ],
      "text/plain": [
       "            Estimate Std. Error t value  Pr(>|t|)    \n",
       "(Intercept) 1.034973 0.8680312  1.192323 0.2486169239\n",
       "TEST        2.360535 0.5380699  4.387041 0.0003555104"
      ]
     },
     "metadata": {},
     "output_type": "display_data"
    },
    {
     "name": "stdout",
     "output_type": "stream",
     "text": [
      "R2= 0.517 , R2_adj= 0.49 , sigma= 1.591 , df= 18"
     ]
    }
   ],
   "source": [
    "# Model1 fit\n",
    "res_m1 <- lm(JPERF ~ TEST, data = dat_emp)\n",
    "\n",
    "# Table 5.8 Regression Results, Preemployment Testing Data: Model 1\n",
    "summary(res_m1)$coefficients\n",
    "\n",
    "cat(\"R2=\", round(summary(res_m1)$r.squared, 3),\n",
    "    \", R2_adj=\" , round(summary(res_m1)$adj.r.squared, 3),\n",
    "    \", sigma=\" , round(summary(res_m1)$sigma,3),\n",
    "    \", df=\" , summary(res_m1)$df[2])"
   ]
  },
  {
   "cell_type": "code",
   "execution_count": 23,
   "metadata": {},
   "outputs": [
    {
     "data": {
      "text/html": [
       "<table>\n",
       "<thead><tr><th></th><th scope=col>Estimate</th><th scope=col>Std. Error</th><th scope=col>t value</th><th scope=col>Pr(&gt;|t|)</th></tr></thead>\n",
       "<tbody>\n",
       "\t<tr><th scope=row>(Intercept)</th><td> 2.010282 </td><td>1.050112  </td><td> 1.914350 </td><td>0.07363289</td></tr>\n",
       "\t<tr><th scope=row>TEST</th><td> 1.313402 </td><td>0.670371  </td><td> 1.959217 </td><td>0.06774914</td></tr>\n",
       "\t<tr><th scope=row>RACE</th><td>-1.913167 </td><td>1.540325  </td><td>-1.242054 </td><td>0.23211490</td></tr>\n",
       "\t<tr><th scope=row>TEST:RACE</th><td> 1.997546 </td><td>0.954443  </td><td> 2.092892 </td><td>0.05265012</td></tr>\n",
       "</tbody>\n",
       "</table>\n"
      ],
      "text/latex": [
       "\\begin{tabular}{r|llll}\n",
       "  & Estimate & Std. Error & t value & Pr(>\\textbar{}t\\textbar{})\\\\\n",
       "\\hline\n",
       "\t(Intercept) &  2.010282  & 1.050112   &  1.914350  & 0.07363289\\\\\n",
       "\tTEST &  1.313402  & 0.670371   &  1.959217  & 0.06774914\\\\\n",
       "\tRACE & -1.913167  & 1.540325   & -1.242054  & 0.23211490\\\\\n",
       "\tTEST:RACE &  1.997546  & 0.954443   &  2.092892  & 0.05265012\\\\\n",
       "\\end{tabular}\n"
      ],
      "text/markdown": [
       "\n",
       "| <!--/--> | Estimate | Std. Error | t value | Pr(>|t|) |\n",
       "|---|---|---|---|---|\n",
       "| (Intercept) |  2.010282  | 1.050112   |  1.914350  | 0.07363289 |\n",
       "| TEST |  1.313402  | 0.670371   |  1.959217  | 0.06774914 |\n",
       "| RACE | -1.913167  | 1.540325   | -1.242054  | 0.23211490 |\n",
       "| TEST:RACE |  1.997546  | 0.954443   |  2.092892  | 0.05265012 |\n",
       "\n"
      ],
      "text/plain": [
       "            Estimate  Std. Error t value   Pr(>|t|)  \n",
       "(Intercept)  2.010282 1.050112    1.914350 0.07363289\n",
       "TEST         1.313402 0.670371    1.959217 0.06774914\n",
       "RACE        -1.913167 1.540325   -1.242054 0.23211490\n",
       "TEST:RACE    1.997546 0.954443    2.092892 0.05265012"
      ]
     },
     "metadata": {},
     "output_type": "display_data"
    },
    {
     "name": "stdout",
     "output_type": "stream",
     "text": [
      "R2= 0.664 , R2_adj= 0.601 , sigma= 1.407 , df= 16"
     ]
    }
   ],
   "source": [
    "# Model3 fit\n",
    "res_m3 <- lm(JPERF ~ TEST + RACE + RACE*TEST, data = dat_emp)\n",
    "\n",
    "# Table 5.9 Regression Results, Preemployment Testing Data: Model 3\n",
    "summary(res_m3)$coefficients\n",
    "\n",
    "cat(\"R2=\", round(summary(res_m3)$r.squared, 3),\n",
    "    \", R2_adj=\" , round(summary(res_m3)$adj.r.squared, 3),\n",
    "    \", sigma=\" , round(summary(res_m3)$sigma,3),\n",
    "    \", df=\" , summary(res_m3)$df[2])"
   ]
  },
  {
   "cell_type": "code",
   "execution_count": 24,
   "metadata": {},
   "outputs": [
    {
     "data": {
      "text/html": [
       "<table>\n",
       "<thead><tr><th scope=col>Res.Df</th><th scope=col>RSS</th><th scope=col>Df</th><th scope=col>Sum of Sq</th><th scope=col>F</th><th scope=col>Pr(&gt;F)</th></tr></thead>\n",
       "<tbody>\n",
       "\t<tr><td>18        </td><td>45.56830  </td><td>NA        </td><td>      NA  </td><td>      NA  </td><td>        NA</td></tr>\n",
       "\t<tr><td>16        </td><td>31.65547  </td><td> 2        </td><td>13.91282  </td><td>3.516061  </td><td>0.05423606</td></tr>\n",
       "</tbody>\n",
       "</table>\n"
      ],
      "text/latex": [
       "\\begin{tabular}{r|llllll}\n",
       " Res.Df & RSS & Df & Sum of Sq & F & Pr(>F)\\\\\n",
       "\\hline\n",
       "\t 18         & 45.56830   & NA         &       NA   &       NA   &         NA\\\\\n",
       "\t 16         & 31.65547   &  2         & 13.91282   & 3.516061   & 0.05423606\\\\\n",
       "\\end{tabular}\n"
      ],
      "text/markdown": [
       "\n",
       "| Res.Df | RSS | Df | Sum of Sq | F | Pr(>F) |\n",
       "|---|---|---|---|---|---|\n",
       "| 18         | 45.56830   | NA         |       NA   |       NA   |         NA |\n",
       "| 16         | 31.65547   |  2         | 13.91282   | 3.516061   | 0.05423606 |\n",
       "\n"
      ],
      "text/plain": [
       "  Res.Df RSS      Df Sum of Sq F        Pr(>F)    \n",
       "1 18     45.56830 NA       NA        NA         NA\n",
       "2 16     31.65547  2 13.91282  3.516061 0.05423606"
      ]
     },
     "metadata": {},
     "output_type": "display_data"
    }
   ],
   "source": [
    "# F-ratio\n",
    "anova(res_m1, res_m3)"
   ]
  },
  {
   "cell_type": "markdown",
   "metadata": {},
   "source": [
    "- Y1 = 0.10 + 3.31X1"
   ]
  },
  {
   "cell_type": "code",
   "execution_count": 25,
   "metadata": {},
   "outputs": [
    {
     "name": "stdout",
     "output_type": "stream",
     "text": [
      "Y_1 =  0.1 + 3.31 X_1"
     ]
    }
   ],
   "source": [
    "cat(\"Y_1 = \", round(sum(res_m3$coefficients[c(1,3)]),2) ,\n",
    "\"+\", round(sum(res_m3$coefficients[c(2,4)]),2),\"X_1\")"
   ]
  },
  {
   "cell_type": "markdown",
   "metadata": {},
   "source": [
    "- Y2 = 2.01 + 1.32X2"
   ]
  },
  {
   "cell_type": "code",
   "execution_count": 26,
   "metadata": {},
   "outputs": [
    {
     "name": "stdout",
     "output_type": "stream",
     "text": [
      "Y_2 =  2.01 + 1.31 X_2"
     ]
    }
   ],
   "source": [
    "cat(\"Y_2 = \", round(sum(res_m3$coefficients[c(1)]),2) ,\n",
    "\"+\", round(sum(res_m3$coefficients[c(2)]),2),\"X_2\")"
   ]
  },
  {
   "cell_type": "markdown",
   "metadata": {},
   "source": [
    "Figure 5.7 Standardized residuals versus test score: Model 1 (142 page)"
   ]
  },
  {
   "cell_type": "code",
   "execution_count": 27,
   "metadata": {},
   "outputs": [
    {
     "data": {
      "image/png": "[encoded data removed]",
      "text/plain": [
       "plot without title"
      ]
     },
     "metadata": {},
     "output_type": "display_data"
    }
   ],
   "source": [
    "# residual plot\n",
    "res.dat_emp <- cbind(dat_emp, rstandard(res_m1))\n",
    "colnames(res.dat_emp)[c(4)] <- \"r_i\"\n",
    "\n",
    "ggplot(res.dat_emp, aes(x = TEST, y = r_i)) + geom_point()"
   ]
  },
  {
   "cell_type": "markdown",
   "metadata": {},
   "source": [
    "Figure 5.8 Standardized residuals versus test score: Model 3 (142 page)"
   ]
  },
  {
   "cell_type": "code",
   "execution_count": 28,
   "metadata": {},
   "outputs": [
    {
     "data": {
      "image/png": "[encoded data removed]",
      "text/plain": [
       "plot without title"
      ]
     },
     "metadata": {},
     "output_type": "display_data"
    }
   ],
   "source": [
    "# residual plot\n",
    "res.dat_emp <- cbind(dat_emp, rstandard(res_m3))\n",
    "colnames(res.dat_emp)[c(4)] <- \"r_i\"\n",
    "\n",
    "ggplot(res.dat_emp, aes(x = TEST, y = r_i)) + geom_point()"
   ]
  },
  {
   "cell_type": "markdown",
   "metadata": {},
   "source": [
    "Figure 5.9 Standardized residuals versus RACE: Model 1 (143 page)"
   ]
  },
  {
   "cell_type": "code",
   "execution_count": 29,
   "metadata": {},
   "outputs": [
    {
     "data": {
      "image/png": "[encoded data removed]",
      "text/plain": [
       "plot without title"
      ]
     },
     "metadata": {},
     "output_type": "display_data"
    }
   ],
   "source": [
    "# residual plot\n",
    "res.dat_emp <- cbind(dat_emp, rstandard(res_m1))\n",
    "colnames(res.dat_emp)[c(4)] <- \"r_i\"\n",
    "\n",
    "ggplot(res.dat_emp, aes(x = RACE, y = r_i)) + geom_point()"
   ]
  },
  {
   "cell_type": "code",
   "execution_count": 30,
   "metadata": {},
   "outputs": [],
   "source": [
    "dat_emp_minority <- dat_emp[which(dat_emp$RACE==1),]\n",
    "dat_emp_white <- dat_emp[which(dat_emp$RACE==0),]"
   ]
  },
  {
   "cell_type": "code",
   "execution_count": 31,
   "metadata": {},
   "outputs": [],
   "source": [
    "res_m1_minority <- lm(JPERF ~ TEST, data = dat_emp_minority)\n",
    "res_m1_white <- lm(JPERF ~ TEST, data = dat_emp_white)"
   ]
  },
  {
   "cell_type": "code",
   "execution_count": 32,
   "metadata": {},
   "outputs": [
    {
     "name": "stdout",
     "output_type": "stream",
     "text": [
      "Sample = Minority ,\t beta_0= 0.1 , beta_1= 3.31 , t_1= 5.31 , R2= 0.78 , sigma= 1.29 , df= 8 \n",
      "Sample = White ,\t beta_0= 2.01 , beta_1= 1.31 , t_1= 1.82 , R2= 0.29 , sigma= 1.51 , df= 8"
     ]
    }
   ],
   "source": [
    "# Table 5.10 Separate Regression Results (143 page)\n",
    "cat(\"Sample = Minority\",\n",
    "    \",\\t beta_0=\", round(summary(res_m1_minority)$coefficients[1,1],2),\n",
    "    \", beta_1=\", round(summary(res_m1_minority)$coefficients[2,1],2),\n",
    "    \", t_1=\", round(summary(res_m1_minority)$coefficients[2,3],2),\n",
    "    \", R2=\", round(summary(res_m1_minority)$r.squared,2),\n",
    "    \", sigma=\", round(summary(res_m1_minority)$sigma,2),\n",
    "    \", df=\", summary(res_m1_minority)$df[2],\"\\n\")\n",
    "\n",
    "cat(\"Sample = White\",\n",
    "    \",\\t beta_0=\", round(summary(res_m1_white)$coefficients[1,1],2),\n",
    "    \", beta_1=\", round(summary(res_m1_white)$coefficients[2,1],2),\n",
    "    \", t_1=\", round(summary(res_m1_white)$coefficients[2,3],2),\n",
    "    \", R2=\", round(summary(res_m1_white)$r.squared,2),\n",
    "    \", sigma=\", round(summary(res_m1_white)$sigma,2),\n",
    "    \", df=\", summary(res_m1_white)$df[2])"
   ]
  },
  {
   "cell_type": "markdown",
   "metadata": {},
   "source": [
    "Figure 5.10 Standardized residuals versus TEST: Model 1, minority only (144 page)"
   ]
  },
  {
   "cell_type": "code",
   "execution_count": 33,
   "metadata": {},
   "outputs": [
    {
     "data": {
      "image/png": "[encoded data removed]",
      "text/plain": [
       "plot without title"
      ]
     },
     "metadata": {},
     "output_type": "display_data"
    }
   ],
   "source": [
    " # residual plot\n",
    "res.dat_emp_minority <- cbind(dat_emp_minority, rstandard(res_m1_minority))\n",
    "colnames(res.dat_emp_minority)[c(4)] <- \"r_i\"\n",
    "\n",
    "ggplot(res.dat_emp_minority, aes(x = TEST, y = r_i)) + geom_point()"
   ]
  },
  {
   "cell_type": "markdown",
   "metadata": {},
   "source": [
    "Figure 5.11 Standardized residuals versus TEST: Model 1, white only (144 page)"
   ]
  },
  {
   "cell_type": "code",
   "execution_count": 34,
   "metadata": {},
   "outputs": [
    {
     "data": {
      "image/png": "[encoded data removed]",
      "text/plain": [
       "plot without title"
      ]
     },
     "metadata": {},
     "output_type": "display_data"
    }
   ],
   "source": [
    " # residual plot\n",
    "res.dat_emp_white <- cbind(dat_emp_white, rstandard(res_m1_white))\n",
    "colnames(res.dat_emp_white)[c(4)] <- \"r_i\"\n",
    "\n",
    "ggplot(res.dat_emp_white, aes(x = TEST, y = r_i)) + geom_point()"
   ]
  }
 ],
 "metadata": {
  "kernelspec": {
   "display_name": "R",
   "language": "R",
   "name": "ir"
  },
  "language_info": {
   "codemirror_mode": "r",
   "file_extension": ".r",
   "mimetype": "text/x-r-source",
   "name": "R",
   "pygments_lexer": "r",
   "version": "3.6.1"
  }
 },
 "nbformat": 4,
 "nbformat_minor": 4
}
