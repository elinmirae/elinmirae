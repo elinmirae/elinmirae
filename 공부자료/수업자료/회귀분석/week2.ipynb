{
 "cells": [
  {
   "cell_type": "markdown",
   "metadata": {},
   "source": [
    "# Multiple Linear regression"
   ]
  },
  {
   "cell_type": "markdown",
   "metadata": {},
   "source": [
    "## 1. Loading data"
   ]
  },
  {
   "cell_type": "code",
   "execution_count": 1,
   "metadata": {},
   "outputs": [
    {
     "data": {
      "text/html": [
       "<table>\n",
       "<thead><tr><th scope=col>Observation</th><th scope=col>Delivery_Time_y</th><th scope=col>NumberofCases_x1</th><th scope=col>Distance_x2_.ft.</th></tr></thead>\n",
       "<tbody>\n",
       "\t<tr><td>1    </td><td>16.68</td><td>7    </td><td>560  </td></tr>\n",
       "\t<tr><td>2    </td><td>11.50</td><td>3    </td><td>220  </td></tr>\n",
       "\t<tr><td>3    </td><td>12.03</td><td>3    </td><td>340  </td></tr>\n",
       "\t<tr><td>4    </td><td>14.88</td><td>4    </td><td> 80  </td></tr>\n",
       "\t<tr><td>5    </td><td>13.75</td><td>6    </td><td>150  </td></tr>\n",
       "\t<tr><td>6    </td><td>18.11</td><td>7    </td><td>330  </td></tr>\n",
       "</tbody>\n",
       "</table>\n"
      ],
      "text/latex": [
       "\\begin{tabular}{r|llll}\n",
       " Observation & Delivery\\_Time\\_y & NumberofCases\\_x1 & Distance\\_x2\\_.ft.\\\\\n",
       "\\hline\n",
       "\t 1     & 16.68 & 7     & 560  \\\\\n",
       "\t 2     & 11.50 & 3     & 220  \\\\\n",
       "\t 3     & 12.03 & 3     & 340  \\\\\n",
       "\t 4     & 14.88 & 4     &  80  \\\\\n",
       "\t 5     & 13.75 & 6     & 150  \\\\\n",
       "\t 6     & 18.11 & 7     & 330  \\\\\n",
       "\\end{tabular}\n"
      ],
      "text/markdown": [
       "\n",
       "| Observation | Delivery_Time_y | NumberofCases_x1 | Distance_x2_.ft. |\n",
       "|---|---|---|---|\n",
       "| 1     | 16.68 | 7     | 560   |\n",
       "| 2     | 11.50 | 3     | 220   |\n",
       "| 3     | 12.03 | 3     | 340   |\n",
       "| 4     | 14.88 | 4     |  80   |\n",
       "| 5     | 13.75 | 6     | 150   |\n",
       "| 6     | 18.11 | 7     | 330   |\n",
       "\n"
      ],
      "text/plain": [
       "  Observation Delivery_Time_y NumberofCases_x1 Distance_x2_.ft.\n",
       "1 1           16.68           7                560             \n",
       "2 2           11.50           3                220             \n",
       "3 3           12.03           3                340             \n",
       "4 4           14.88           4                 80             \n",
       "5 5           13.75           6                150             \n",
       "6 6           18.11           7                330             "
      ]
     },
     "metadata": {},
     "output_type": "display_data"
    },
    {
     "data": {
      "text/html": [
       "<ol class=list-inline>\n",
       "\t<li>25</li>\n",
       "\t<li>4</li>\n",
       "</ol>\n"
      ],
      "text/latex": [
       "\\begin{enumerate*}\n",
       "\\item 25\n",
       "\\item 4\n",
       "\\end{enumerate*}\n"
      ],
      "text/markdown": [
       "1. 25\n",
       "2. 4\n",
       "\n",
       "\n"
      ],
      "text/plain": [
       "[1] 25  4"
      ]
     },
     "metadata": {},
     "output_type": "display_data"
    }
   ],
   "source": [
    "dat <- read.table(\"delivery_time.txt\",header=T)\n",
    "head(dat)\n",
    "dim(dat)"
   ]
  },
  {
   "cell_type": "markdown",
   "metadata": {},
   "source": [
    "## 2. Scatterplot diagram"
   ]
  },
  {
   "cell_type": "code",
   "execution_count": 4,
   "metadata": {},
   "outputs": [
    {
     "data": {
      "image/png": "[encoded data removed]",
      "text/plain": [
       "plot without title"
      ]
     },
     "metadata": {},
     "output_type": "display_data"
    }
   ],
   "source": [
    "# plot size\n",
    "options(repr.plot.width = 4, repr.plot.height = 4)\n",
    "\n",
    "# scatter plot\n",
    "pairs(dat[,2:4], pch = 19, cex = 0.5, cex.labels = 1)"
   ]
  },
  {
   "cell_type": "markdown",
   "metadata": {},
   "source": [
    "## 3. Linear regression model"
   ]
  },
  {
   "cell_type": "code",
   "execution_count": 3,
   "metadata": {},
   "outputs": [
    {
     "data": {
      "text/plain": [
       "\n",
       "Call:\n",
       "lm(formula = d_time ~ n_case + dista)\n",
       "\n",
       "Coefficients:\n",
       "(Intercept)       n_case        dista  \n",
       "    2.34123      1.61591      0.01438  \n"
      ]
     },
     "metadata": {},
     "output_type": "display_data"
    }
   ],
   "source": [
    "nl <- colnames(dat)\n",
    "colnames(dat) <- c(\"obs\", \"d_time\", \"n_case\", \"dista\")\n",
    "attach(dat)\n",
    "\n",
    "# linear model fit\n",
    "res_lm <- lm(d_time ~ n_case + dista)\n",
    "res_lm"
   ]
  },
  {
   "cell_type": "code",
   "execution_count": 5,
   "metadata": {},
   "outputs": [
    {
     "data": {
      "text/plain": [
       "\n",
       "Call:\n",
       "lm(formula = d_time ~ n_case + dista)\n",
       "\n",
       "Residuals:\n",
       "    Min      1Q  Median      3Q     Max \n",
       "-5.7880 -0.6629  0.4364  1.1566  7.4197 \n",
       "\n",
       "Coefficients:\n",
       "            Estimate Std. Error t value Pr(>|t|)    \n",
       "(Intercept) 2.341231   1.096730   2.135 0.044170 *  \n",
       "n_case      1.615907   0.170735   9.464 3.25e-09 ***\n",
       "dista       0.014385   0.003613   3.981 0.000631 ***\n",
       "---\n",
       "Signif. codes:  0 '***' 0.001 '**' 0.01 '*' 0.05 '.' 0.1 ' ' 1\n",
       "\n",
       "Residual standard error: 3.259 on 22 degrees of freedom\n",
       "Multiple R-squared:  0.9596,\tAdjusted R-squared:  0.9559 \n",
       "F-statistic: 261.2 on 2 and 22 DF,  p-value: 4.687e-16\n"
      ]
     },
     "metadata": {},
     "output_type": "display_data"
    }
   ],
   "source": [
    "# summary of fitted model\n",
    "summary(res_lm)"
   ]
  },
  {
   "cell_type": "code",
   "execution_count": 6,
   "metadata": {},
   "outputs": [
    {
     "data": {
      "text/html": [
       "<table>\n",
       "<thead><tr><th></th><th scope=col>Estimate</th><th scope=col>Std. Error</th><th scope=col>t value</th><th scope=col>Pr(&gt;|t|)</th></tr></thead>\n",
       "<tbody>\n",
       "\t<tr><th scope=row>(Intercept)</th><td>2.34123115  </td><td>1.096730168 </td><td>2.134738    </td><td>4.417012e-02</td></tr>\n",
       "\t<tr><th scope=row>n_case</th><td>1.61590721  </td><td>0.170734918 </td><td>9.464421    </td><td>3.254932e-09</td></tr>\n",
       "\t<tr><th scope=row>dista</th><td>0.01438483  </td><td>0.003613086 </td><td>3.981313    </td><td>6.312469e-04</td></tr>\n",
       "</tbody>\n",
       "</table>\n"
      ],
      "text/latex": [
       "\\begin{tabular}{r|llll}\n",
       "  & Estimate & Std. Error & t value & Pr(>\\textbar{}t\\textbar{})\\\\\n",
       "\\hline\n",
       "\t(Intercept) & 2.34123115   & 1.096730168  & 2.134738     & 4.417012e-02\\\\\n",
       "\tn\\_case & 1.61590721   & 0.170734918  & 9.464421     & 3.254932e-09\\\\\n",
       "\tdista & 0.01438483   & 0.003613086  & 3.981313     & 6.312469e-04\\\\\n",
       "\\end{tabular}\n"
      ],
      "text/markdown": [
       "\n",
       "| <!--/--> | Estimate | Std. Error | t value | Pr(>|t|) |\n",
       "|---|---|---|---|---|\n",
       "| (Intercept) | 2.34123115   | 1.096730168  | 2.134738     | 4.417012e-02 |\n",
       "| n_case | 1.61590721   | 0.170734918  | 9.464421     | 3.254932e-09 |\n",
       "| dista | 0.01438483   | 0.003613086  | 3.981313     | 6.312469e-04 |\n",
       "\n"
      ],
      "text/plain": [
       "            Estimate   Std. Error  t value  Pr(>|t|)    \n",
       "(Intercept) 2.34123115 1.096730168 2.134738 4.417012e-02\n",
       "n_case      1.61590721 0.170734918 9.464421 3.254932e-09\n",
       "dista       0.01438483 0.003613086 3.981313 6.312469e-04"
      ]
     },
     "metadata": {},
     "output_type": "display_data"
    }
   ],
   "source": [
    "summary(res_lm)$coefficients"
   ]
  },
  {
   "cell_type": "code",
   "execution_count": 7,
   "metadata": {},
   "outputs": [
    {
     "data": {
      "text/html": [
       "<table>\n",
       "<thead><tr><th></th><th scope=col>Df</th><th scope=col>Sum Sq</th><th scope=col>Mean Sq</th><th scope=col>F value</th><th scope=col>Pr(&gt;F)</th></tr></thead>\n",
       "<tbody>\n",
       "\t<tr><th scope=row>n_case</th><td> 1          </td><td>5382.4088   </td><td>5382.40880  </td><td>506.61936   </td><td>1.112549e-16</td></tr>\n",
       "\t<tr><th scope=row>dista</th><td> 1          </td><td> 168.4021   </td><td> 168.40213  </td><td> 15.85085   </td><td>6.312469e-04</td></tr>\n",
       "\t<tr><th scope=row>Residuals</th><td>22          </td><td> 233.7317   </td><td>  10.62417  </td><td>       NA   </td><td>          NA</td></tr>\n",
       "</tbody>\n",
       "</table>\n"
      ],
      "text/latex": [
       "\\begin{tabular}{r|lllll}\n",
       "  & Df & Sum Sq & Mean Sq & F value & Pr(>F)\\\\\n",
       "\\hline\n",
       "\tn\\_case &  1           & 5382.4088    & 5382.40880   & 506.61936    & 1.112549e-16\\\\\n",
       "\tdista &  1           &  168.4021    &  168.40213   &  15.85085    & 6.312469e-04\\\\\n",
       "\tResiduals & 22           &  233.7317    &   10.62417   &        NA    &           NA\\\\\n",
       "\\end{tabular}\n"
      ],
      "text/markdown": [
       "\n",
       "| <!--/--> | Df | Sum Sq | Mean Sq | F value | Pr(>F) |\n",
       "|---|---|---|---|---|---|\n",
       "| n_case |  1           | 5382.4088    | 5382.40880   | 506.61936    | 1.112549e-16 |\n",
       "| dista |  1           |  168.4021    |  168.40213   |  15.85085    | 6.312469e-04 |\n",
       "| Residuals | 22           |  233.7317    |   10.62417   |        NA    |           NA |\n",
       "\n"
      ],
      "text/plain": [
       "          Df Sum Sq    Mean Sq    F value   Pr(>F)      \n",
       "n_case     1 5382.4088 5382.40880 506.61936 1.112549e-16\n",
       "dista      1  168.4021  168.40213  15.85085 6.312469e-04\n",
       "Residuals 22  233.7317   10.62417        NA           NA"
      ]
     },
     "metadata": {},
     "output_type": "display_data"
    }
   ],
   "source": [
    "# anova table\n",
    "anova(res_lm)"
   ]
  },
  {
   "cell_type": "code",
   "execution_count": 8,
   "metadata": {},
   "outputs": [
    {
     "data": {
      "text/html": [
       "<table>\n",
       "<thead><tr><th></th><th scope=col>Df</th><th scope=col>Sum Sq</th><th scope=col>Mean Sq</th><th scope=col>F value</th><th scope=col>Pr(&gt;F)</th></tr></thead>\n",
       "<tbody>\n",
       "\t<tr><th scope=row>Regression</th><td> 2          </td><td>5550.8109   </td><td>2775.40546  </td><td>261.2351    </td><td>4.687422e-16</td></tr>\n",
       "\t<tr><th scope=row>Residuals</th><td>22          </td><td> 233.7317   </td><td>  10.62417  </td><td>      NA    </td><td>          NA</td></tr>\n",
       "</tbody>\n",
       "</table>\n"
      ],
      "text/latex": [
       "\\begin{tabular}{r|lllll}\n",
       "  & Df & Sum Sq & Mean Sq & F value & Pr(>F)\\\\\n",
       "\\hline\n",
       "\tRegression &  2           & 5550.8109    & 2775.40546   & 261.2351     & 4.687422e-16\\\\\n",
       "\tResiduals & 22           &  233.7317    &   10.62417   &       NA     &           NA\\\\\n",
       "\\end{tabular}\n"
      ],
      "text/markdown": [
       "\n",
       "| <!--/--> | Df | Sum Sq | Mean Sq | F value | Pr(>F) |\n",
       "|---|---|---|---|---|---|\n",
       "| Regression |  2           | 5550.8109    | 2775.40546   | 261.2351     | 4.687422e-16 |\n",
       "| Residuals | 22           |  233.7317    |   10.62417   |       NA     |           NA |\n",
       "\n"
      ],
      "text/plain": [
       "           Df Sum Sq    Mean Sq    F value  Pr(>F)      \n",
       "Regression  2 5550.8109 2775.40546 261.2351 4.687422e-16\n",
       "Residuals  22  233.7317   10.62417       NA           NA"
      ]
     },
     "metadata": {},
     "output_type": "display_data"
    }
   ],
   "source": [
    "# modification of default anova table of R\n",
    "anova2 <- function(x){\n",
    "fit <- anova(x)\n",
    "nrows <- nrow(fit)\n",
    "fit[1,1:2] <- apply(fit[1:(nrows-1), 1:2], 2, sum)\n",
    "fit <- fit[-(2:(nrows-1)), ]\n",
    "fit[1,3] <- fit[1,2]/fit[1,1]\n",
    "fit[1,4] <- fit[1,3]/fit[2,3]\n",
    "rownames(fit)[1] <- \"Regression\"\n",
    "fit[1,5] <- pf(fit[1,4], fit[1,1], fit[2,1], lower.tail=FALSE)\n",
    "return(fit)\n",
    "}\n",
    "\n",
    "# modified anova table\n",
    "anova2(res_lm)"
   ]
  },
  {
   "cell_type": "code",
   "execution_count": 9,
   "metadata": {},
   "outputs": [
    {
     "data": {
      "text/html": [
       "<table>\n",
       "<thead><tr><th scope=col>y</th><th scope=col>y_hat</th><th scope=col>residual</th></tr></thead>\n",
       "<tbody>\n",
       "\t<tr><td>16.68</td><td>21.71</td><td>-5.03</td></tr>\n",
       "\t<tr><td>11.50</td><td>10.35</td><td> 1.15</td></tr>\n",
       "\t<tr><td>12.03</td><td>12.08</td><td>-0.05</td></tr>\n",
       "\t<tr><td>14.88</td><td> 9.96</td><td> 4.92</td></tr>\n",
       "\t<tr><td>13.75</td><td>14.19</td><td>-0.44</td></tr>\n",
       "\t<tr><td>18.11</td><td>18.40</td><td>-0.29</td></tr>\n",
       "</tbody>\n",
       "</table>\n"
      ],
      "text/latex": [
       "\\begin{tabular}{r|lll}\n",
       " y & y\\_hat & residual\\\\\n",
       "\\hline\n",
       "\t 16.68 & 21.71 & -5.03\\\\\n",
       "\t 11.50 & 10.35 &  1.15\\\\\n",
       "\t 12.03 & 12.08 & -0.05\\\\\n",
       "\t 14.88 &  9.96 &  4.92\\\\\n",
       "\t 13.75 & 14.19 & -0.44\\\\\n",
       "\t 18.11 & 18.40 & -0.29\\\\\n",
       "\\end{tabular}\n"
      ],
      "text/markdown": [
       "\n",
       "| y | y_hat | residual |\n",
       "|---|---|---|\n",
       "| 16.68 | 21.71 | -5.03 |\n",
       "| 11.50 | 10.35 |  1.15 |\n",
       "| 12.03 | 12.08 | -0.05 |\n",
       "| 14.88 |  9.96 |  4.92 |\n",
       "| 13.75 | 14.19 | -0.44 |\n",
       "| 18.11 | 18.40 | -0.29 |\n",
       "\n"
      ],
      "text/plain": [
       "  y     y_hat residual\n",
       "1 16.68 21.71 -5.03   \n",
       "2 11.50 10.35  1.15   \n",
       "3 12.03 12.08 -0.05   \n",
       "4 14.88  9.96  4.92   \n",
       "5 13.75 14.19 -0.44   \n",
       "6 18.11 18.40 -0.29   "
      ]
     },
     "metadata": {},
     "output_type": "display_data"
    }
   ],
   "source": [
    "# residuals\n",
    "res_tab <- cbind(d_time, fitted(res_lm), residuals(res_lm))\n",
    "colnames(res_tab) <- c(\"y\", \"y_hat\", \"residual\")\n",
    "head(round(res_tab, digits=2))"
   ]
  },
  {
   "cell_type": "code",
   "execution_count": 10,
   "metadata": {},
   "outputs": [
    {
     "data": {
      "text/html": [
       "<table>\n",
       "<thead><tr><th></th><th scope=col>Df</th><th scope=col>Sum Sq</th><th scope=col>Mean Sq</th><th scope=col>F value</th><th scope=col>Pr(&gt;F)</th></tr></thead>\n",
       "<tbody>\n",
       "\t<tr><th scope=row>Regression</th><td> 2          </td><td>5550.8109   </td><td>2775.40546  </td><td>261.2351    </td><td>4.687422e-16</td></tr>\n",
       "\t<tr><th scope=row>Residuals</th><td>22          </td><td> 233.7317   </td><td>  10.62417  </td><td>      NA    </td><td>          NA</td></tr>\n",
       "</tbody>\n",
       "</table>\n"
      ],
      "text/latex": [
       "\\begin{tabular}{r|lllll}\n",
       "  & Df & Sum Sq & Mean Sq & F value & Pr(>F)\\\\\n",
       "\\hline\n",
       "\tRegression &  2           & 5550.8109    & 2775.40546   & 261.2351     & 4.687422e-16\\\\\n",
       "\tResiduals & 22           &  233.7317    &   10.62417   &       NA     &           NA\\\\\n",
       "\\end{tabular}\n"
      ],
      "text/markdown": [
       "\n",
       "| <!--/--> | Df | Sum Sq | Mean Sq | F value | Pr(>F) |\n",
       "|---|---|---|---|---|---|\n",
       "| Regression |  2           | 5550.8109    | 2775.40546   | 261.2351     | 4.687422e-16 |\n",
       "| Residuals | 22           |  233.7317    |   10.62417   |       NA     |           NA |\n",
       "\n"
      ],
      "text/plain": [
       "           Df Sum Sq    Mean Sq    F value  Pr(>F)      \n",
       "Regression  2 5550.8109 2775.40546 261.2351 4.687422e-16\n",
       "Residuals  22  233.7317   10.62417       NA           NA"
      ]
     },
     "metadata": {},
     "output_type": "display_data"
    }
   ],
   "source": [
    "anova2(res_lm)"
   ]
  },
  {
   "cell_type": "code",
   "execution_count": 13,
   "metadata": {},
   "outputs": [
    {
     "data": {
      "text/html": [
       "10.6241671554797"
      ],
      "text/latex": [
       "10.6241671554797"
      ],
      "text/markdown": [
       "10.6241671554797"
      ],
      "text/plain": [
       "[1] 10.62417"
      ]
     },
     "metadata": {},
     "output_type": "display_data"
    }
   ],
   "source": [
    "summary(res_lm)$sigma^2"
   ]
  },
  {
   "cell_type": "code",
   "execution_count": 14,
   "metadata": {},
   "outputs": [
    {
     "name": "stdout",
     "output_type": "stream",
     "text": [
      "SSR: 5550.811 \n",
      "SSE: 233.7317 \n",
      "SST: 5784.543 \n",
      "F-value: 261.2351 \n",
      "Pr(>F): 4.687422e-16 \n"
     ]
    }
   ],
   "source": [
    "# sum of square total (SST)\n",
    "sst <- sum((d_time-mean(d_time))^2)\n",
    "\n",
    "# sum of square error (SSE)\n",
    "sse <- deviance(res_lm)\n",
    "cat(\"SSR:\" , round(sst-sse,4), \"\\n\")\n",
    "cat(\"SSE:\" , round(sse,4), \"\\n\")\n",
    "cat(\"SST:\" , round(sst,4), \"\\n\")\n",
    "\n",
    "# degree of freedom (df)\n",
    "df.r <- df.residual(res_lm) #n-p-1\n",
    "\n",
    "#F-statistics\n",
    "p <- 2\n",
    "f_stat <- ((sst-sse)/p)/(sse/df.r)\n",
    "res_pval <- pf(f_stat, p, df.residual(res_lm), lower.tail=FALSE)\n",
    "cat(\"F-value:\" , round(f_stat,4), \"\\n\")\n",
    "cat(\"Pr(>F):\" , res_pval, \"\\n\")"
   ]
  },
  {
   "cell_type": "markdown",
   "metadata": {},
   "source": [
    "## 4. Confidence interval of coefficients"
   ]
  },
  {
   "cell_type": "code",
   "execution_count": 15,
   "metadata": {},
   "outputs": [
    {
     "data": {
      "text/html": [
       "<table>\n",
       "<thead><tr><th></th><th scope=col>Estimate</th><th scope=col>Std. Error</th><th scope=col>t value</th><th scope=col>Pr(&gt;|t|)</th></tr></thead>\n",
       "<tbody>\n",
       "\t<tr><th scope=row>(Intercept)</th><td>2.34123115  </td><td>1.096730168 </td><td>2.134738    </td><td>4.417012e-02</td></tr>\n",
       "\t<tr><th scope=row>n_case</th><td>1.61590721  </td><td>0.170734918 </td><td>9.464421    </td><td>3.254932e-09</td></tr>\n",
       "\t<tr><th scope=row>dista</th><td>0.01438483  </td><td>0.003613086 </td><td>3.981313    </td><td>6.312469e-04</td></tr>\n",
       "</tbody>\n",
       "</table>\n"
      ],
      "text/latex": [
       "\\begin{tabular}{r|llll}\n",
       "  & Estimate & Std. Error & t value & Pr(>\\textbar{}t\\textbar{})\\\\\n",
       "\\hline\n",
       "\t(Intercept) & 2.34123115   & 1.096730168  & 2.134738     & 4.417012e-02\\\\\n",
       "\tn\\_case & 1.61590721   & 0.170734918  & 9.464421     & 3.254932e-09\\\\\n",
       "\tdista & 0.01438483   & 0.003613086  & 3.981313     & 6.312469e-04\\\\\n",
       "\\end{tabular}\n"
      ],
      "text/markdown": [
       "\n",
       "| <!--/--> | Estimate | Std. Error | t value | Pr(>|t|) |\n",
       "|---|---|---|---|---|\n",
       "| (Intercept) | 2.34123115   | 1.096730168  | 2.134738     | 4.417012e-02 |\n",
       "| n_case | 1.61590721   | 0.170734918  | 9.464421     | 3.254932e-09 |\n",
       "| dista | 0.01438483   | 0.003613086  | 3.981313     | 6.312469e-04 |\n",
       "\n"
      ],
      "text/plain": [
       "            Estimate   Std. Error  t value  Pr(>|t|)    \n",
       "(Intercept) 2.34123115 1.096730168 2.134738 4.417012e-02\n",
       "n_case      1.61590721 0.170734918 9.464421 3.254932e-09\n",
       "dista       0.01438483 0.003613086 3.981313 6.312469e-04"
      ]
     },
     "metadata": {},
     "output_type": "display_data"
    }
   ],
   "source": [
    "summary(res_lm)$coef"
   ]
  },
  {
   "cell_type": "code",
   "execution_count": 16,
   "metadata": {},
   "outputs": [
    {
     "data": {
      "text/html": [
       "<ol class=list-inline>\n",
       "\t<li>1.26182466183531</li>\n",
       "\t<li>1.9699897593832</li>\n",
       "</ol>\n"
      ],
      "text/latex": [
       "\\begin{enumerate*}\n",
       "\\item 1.26182466183531\n",
       "\\item 1.9699897593832\n",
       "\\end{enumerate*}\n"
      ],
      "text/markdown": [
       "1. 1.26182466183531\n",
       "2. 1.9699897593832\n",
       "\n",
       "\n"
      ],
      "text/plain": [
       "[1] 1.261825 1.969990"
      ]
     },
     "metadata": {},
     "output_type": "display_data"
    }
   ],
   "source": [
    " # C.I. of beta1(n_case)\n",
    "sfit <- summary(res_lm)\n",
    "t.025 <- qt(0.975, df.residual(res_lm))\n",
    "c(sfit$coef[2,1] - t.025*sfit$coef[2,2], sfit$coef[2,1] + t.025*sfit$coef[2,2])"
   ]
  },
  {
   "cell_type": "code",
   "execution_count": 19,
   "metadata": {},
   "outputs": [
    {
     "data": {
      "text/html": [
       "<table>\n",
       "<thead><tr><th></th><th scope=col>2.5 %</th><th scope=col>97.5 %</th></tr></thead>\n",
       "<tbody>\n",
       "\t<tr><th scope=row>(Intercept)</th><td>0.066751987</td><td>4.61571030 </td></tr>\n",
       "\t<tr><th scope=row>n_case</th><td>1.261824662</td><td>1.96998976 </td></tr>\n",
       "\t<tr><th scope=row>dista</th><td>0.006891745</td><td>0.02187791 </td></tr>\n",
       "</tbody>\n",
       "</table>\n"
      ],
      "text/latex": [
       "\\begin{tabular}{r|ll}\n",
       "  & 2.5 \\% & 97.5 \\%\\\\\n",
       "\\hline\n",
       "\t(Intercept) & 0.066751987 & 4.61571030 \\\\\n",
       "\tn\\_case & 1.261824662 & 1.96998976 \\\\\n",
       "\tdista & 0.006891745 & 0.02187791 \\\\\n",
       "\\end{tabular}\n"
      ],
      "text/markdown": [
       "\n",
       "| <!--/--> | 2.5 % | 97.5 % |\n",
       "|---|---|---|\n",
       "| (Intercept) | 0.066751987 | 4.61571030  |\n",
       "| n_case | 1.261824662 | 1.96998976  |\n",
       "| dista | 0.006891745 | 0.02187791  |\n",
       "\n"
      ],
      "text/plain": [
       "            2.5 %       97.5 %    \n",
       "(Intercept) 0.066751987 4.61571030\n",
       "n_case      1.261824662 1.96998976\n",
       "dista       0.006891745 0.02187791"
      ]
     },
     "metadata": {},
     "output_type": "display_data"
    }
   ],
   "source": [
    "# using confint function\n",
    "confint(res_lm)"
   ]
  },
  {
   "cell_type": "code",
   "execution_count": 18,
   "metadata": {},
   "outputs": [
    {
     "data": {
      "text/html": [
       "<table>\n",
       "<thead><tr><th></th><th scope=col>2.5 %</th><th scope=col>97.5 %</th></tr></thead>\n",
       "<tbody>\n",
       "\t<tr><th scope=row>n_case</th><td>1.261825</td><td>1.96999 </td></tr>\n",
       "</tbody>\n",
       "</table>\n"
      ],
      "text/latex": [
       "\\begin{tabular}{r|ll}\n",
       "  & 2.5 \\% & 97.5 \\%\\\\\n",
       "\\hline\n",
       "\tn\\_case & 1.261825 & 1.96999 \\\\\n",
       "\\end{tabular}\n"
      ],
      "text/markdown": [
       "\n",
       "| <!--/--> | 2.5 % | 97.5 % |\n",
       "|---|---|---|\n",
       "| n_case | 1.261825 | 1.96999  |\n",
       "\n"
      ],
      "text/plain": [
       "       2.5 %    97.5 % \n",
       "n_case 1.261825 1.96999"
      ]
     },
     "metadata": {},
     "output_type": "display_data"
    }
   ],
   "source": [
    "confint(res_lm, parm='n_case', level = 0.95)"
   ]
  },
  {
   "cell_type": "markdown",
   "metadata": {},
   "source": [
    "- C.I. on the mean response at a particular point x0"
   ]
  },
  {
   "cell_type": "code",
   "execution_count": 20,
   "metadata": {},
   "outputs": [
    {
     "name": "stdout",
     "output_type": "stream",
     "text": [
      "C.I. on the mean response at the point x_0=(1,8,275) \n",
      " ( 17.654 ,  20.795 )\n"
     ]
    }
   ],
   "source": [
    "x0 <- c(1, 8, 275)\n",
    "y0 <- sum(x0*coef(res_lm))\n",
    "t.025 <- qt(0.975, df.residual(res_lm))\n",
    "x <- model.matrix(res_lm)\n",
    "xtxi <- solve(t(x) %*% x)\n",
    "bm <- sqrt(x0 %*% xtxi %*% x0) *t.025 * summary(res_lm)$sigma\n",
    "cat(\"C.I. on the mean response at the point x_0=(1,8,275) \\n (\",\n",
    "    round(y0-bm,3), \", \", round(y0+bm,3), \")\\n\")"
   ]
  },
  {
   "cell_type": "markdown",
   "metadata": {},
   "source": [
    "## 5. Partial F test"
   ]
  },
  {
   "cell_type": "markdown",
   "metadata": {},
   "source": [
    "Investigate the contribution of the distance (x2) to the model\n",
    "    - H0 : coefficient of ‘dist’ $ = 0$\n",
    "    - H0 : β2 = 0"
   ]
  },
  {
   "cell_type": "code",
   "execution_count": 22,
   "metadata": {},
   "outputs": [
    {
     "name": "stdout",
     "output_type": "stream",
     "text": [
      "F_0: 15.851 \n",
      "Pr(>F): 0.001 \n"
     ]
    }
   ],
   "source": [
    "res_reduce <- lm(d_time ~ n_case)\n",
    "\n",
    "#SSE of Reduced Model\n",
    "sse1 <- deviance(res_reduce)\n",
    "\n",
    "f_stat_reduce <- (deviance(res_reduce)-deviance(res_lm))/ (deviance(res_lm)/df.residual(res_lm))\n",
    "\n",
    "res_pf <- pf(f_stat_reduce, 1, df.residual(res_lm), lower.tail=FALSE)\n",
    "\n",
    "cat(\"F_0:\", round(f_stat_reduce,3), \"\\n\")\n",
    "cat(\"Pr(>F):\" , round(res_pf,3), \"\\n\")"
   ]
  }
 ],
 "metadata": {
  "kernelspec": {
   "display_name": "R",
   "language": "R",
   "name": "ir"
  },
  "language_info": {
   "codemirror_mode": "r",
   "file_extension": ".r",
   "mimetype": "text/x-r-source",
   "name": "R",
   "pygments_lexer": "r",
   "version": "3.6.1"
  }
 },
 "nbformat": 4,
 "nbformat_minor": 4
}
